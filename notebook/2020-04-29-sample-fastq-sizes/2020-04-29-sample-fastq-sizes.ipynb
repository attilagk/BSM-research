{
 "cells": [
  {
   "cell_type": "markdown",
   "metadata": {},
   "source": [
    "The coverage is estimated for each sample in the new GENEWIZ samples (project 30-317737003) and compared to that for previous samples."
   ]
  },
  {
   "cell_type": "code",
   "execution_count": 1,
   "metadata": {},
   "outputs": [],
   "source": [
    "%load_ext autoreload\n",
    "%autoreload 2\n",
    "%reload_ext autoreload\n",
    "import subprocess\n",
    "import pandas as pd\n",
    "import numpy as np\n",
    "import io\n",
    "import re\n",
    "import matplotlib.pyplot as plt\n",
    "from sklearn import linear_model, neighbors"
   ]
  },
  {
   "cell_type": "markdown",
   "metadata": {},
   "source": [
    "## Preparation\n",
    "\n",
    "Running `notebook/2020-04-29-sample-fastq-sizes/runme.sh` on Ada and invoking the `nreads_from_idxstatslist()` function in the `get_nreads.py` module produced the following tables:"
   ]
  },
  {
   "cell_type": "code",
   "execution_count": 2,
   "metadata": {},
   "outputs": [
    {
     "name": "stdout",
     "output_type": "stream",
     "text": [
      "\u001b[0m\u001b[00;38;5;244m/home/attila/projects/bsm/results/2020-04-29-sample-fastq-sizes/fastq-nblocks.tsv\u001b[0m\u001b[K\r\n",
      "\u001b[00;38;5;244m/home/attila/projects/bsm/results/2020-04-29-sample-fastq-sizes/nreads-genewiz.tsv\u001b[0m\u001b[K\r\n",
      "\u001b[00;38;5;244m/home/attila/projects/bsm/results/2020-04-29-sample-fastq-sizes/nreads.tsv\u001b[0m\r\n"
     ]
    }
   ],
   "source": [
    "ls ~/projects/bsm/results/2020-04-29-sample-fastq-sizes/*.tsv"
   ]
  },
  {
   "cell_type": "markdown",
   "metadata": {},
   "source": [
    "Get the length of the reference genome"
   ]
  },
  {
   "cell_type": "code",
   "execution_count": 3,
   "metadata": {},
   "outputs": [
    {
     "name": "stdout",
     "output_type": "stream",
     "text": [
      "3.137454505 Gb\n"
     ]
    }
   ],
   "source": [
    "fai = pd.read_csv('/big/data/refgenome/GRCh37/dna/hs37d5.fa.fai', header=None, sep='\\t')\n",
    "hg_len_bp = fai.sum()[1]\n",
    "print(hg_len_bp / 10**9, 'Gb')"
   ]
  },
  {
   "cell_type": "markdown",
   "metadata": {},
   "source": [
    "The number of reads for the whole genome was obtained by summing over the number of mapped and unmapped reads for each contig, which in turn was obtained with `samtools idxstats` (see `get_nreads.py`).  The number of reads gave an estimate of coverage using the length of the human genome and the lenght of each read (151)."
   ]
  },
  {
   "cell_type": "code",
   "execution_count": 4,
   "metadata": {},
   "outputs": [
    {
     "data": {
      "text/html": [
       "<div>\n",
       "<style scoped>\n",
       "    .dataframe tbody tr th:only-of-type {\n",
       "        vertical-align: middle;\n",
       "    }\n",
       "\n",
       "    .dataframe tbody tr th {\n",
       "        vertical-align: top;\n",
       "    }\n",
       "\n",
       "    .dataframe thead th {\n",
       "        text-align: right;\n",
       "    }\n",
       "</style>\n",
       "<table border=\"1\" class=\"dataframe\">\n",
       "  <thead>\n",
       "    <tr style=\"text-align: right;\">\n",
       "      <th></th>\n",
       "      <th>nreads</th>\n",
       "      <th>path</th>\n",
       "      <th>coverage</th>\n",
       "    </tr>\n",
       "    <tr>\n",
       "      <th>sample</th>\n",
       "      <th></th>\n",
       "      <th></th>\n",
       "      <th></th>\n",
       "    </tr>\n",
       "  </thead>\n",
       "  <tbody>\n",
       "    <tr>\n",
       "      <th>PITT_091_NeuN_mn</th>\n",
       "      <td>1040763710</td>\n",
       "      <td>/projects/bsm/alignments/PITT_091/PITT_091_Neu...</td>\n",
       "      <td>50.090071</td>\n",
       "    </tr>\n",
       "    <tr>\n",
       "      <th>PITT_091_NeuN_pl</th>\n",
       "      <td>3091314178</td>\n",
       "      <td>/projects/bsm/alignments/PITT_091/PITT_091_Neu...</td>\n",
       "      <td>148.779350</td>\n",
       "    </tr>\n",
       "    <tr>\n",
       "      <th>PITT_101_NeuN_pl</th>\n",
       "      <td>3503572864</td>\n",
       "      <td>/projects/bsm/alignments/PITT_101/PITT_101_Neu...</td>\n",
       "      <td>168.620613</td>\n",
       "    </tr>\n",
       "    <tr>\n",
       "      <th>PITT_118_NeuN_mn</th>\n",
       "      <td>929306289</td>\n",
       "      <td>/projects/bsm/alignments/PITT_118/PITT_118_Neu...</td>\n",
       "      <td>44.725828</td>\n",
       "    </tr>\n",
       "    <tr>\n",
       "      <th>PITT_118_NeuN_pl</th>\n",
       "      <td>4221676035</td>\n",
       "      <td>/projects/bsm/alignments/PITT_118/PITT_118_Neu...</td>\n",
       "      <td>203.181618</td>\n",
       "    </tr>\n",
       "  </tbody>\n",
       "</table>\n",
       "</div>"
      ],
      "text/plain": [
       "                      nreads  \\\n",
       "sample                         \n",
       "PITT_091_NeuN_mn  1040763710   \n",
       "PITT_091_NeuN_pl  3091314178   \n",
       "PITT_101_NeuN_pl  3503572864   \n",
       "PITT_118_NeuN_mn   929306289   \n",
       "PITT_118_NeuN_pl  4221676035   \n",
       "\n",
       "                                                               path  \\\n",
       "sample                                                                \n",
       "PITT_091_NeuN_mn  /projects/bsm/alignments/PITT_091/PITT_091_Neu...   \n",
       "PITT_091_NeuN_pl  /projects/bsm/alignments/PITT_091/PITT_091_Neu...   \n",
       "PITT_101_NeuN_pl  /projects/bsm/alignments/PITT_101/PITT_101_Neu...   \n",
       "PITT_118_NeuN_mn  /projects/bsm/alignments/PITT_118/PITT_118_Neu...   \n",
       "PITT_118_NeuN_pl  /projects/bsm/alignments/PITT_118/PITT_118_Neu...   \n",
       "\n",
       "                    coverage  \n",
       "sample                        \n",
       "PITT_091_NeuN_mn   50.090071  \n",
       "PITT_091_NeuN_pl  148.779350  \n",
       "PITT_101_NeuN_pl  168.620613  \n",
       "PITT_118_NeuN_mn   44.725828  \n",
       "PITT_118_NeuN_pl  203.181618  "
      ]
     },
     "execution_count": 4,
     "metadata": {},
     "output_type": "execute_result"
    }
   ],
   "source": [
    "nreads = pd.read_csv('/home/attila/projects/bsm/results/2020-04-29-sample-fastq-sizes/nreads.tsv', sep='\\t', index_col='sample')\n",
    "nreads['coverage'] = nreads['nreads'] * 151 / hg_len_bp\n",
    "nreads.tail()"
   ]
  },
  {
   "cell_type": "markdown",
   "metadata": {},
   "source": [
    "Likewise we have the number of reads from the new GENEWIZ data"
   ]
  },
  {
   "cell_type": "code",
   "execution_count": 5,
   "metadata": {},
   "outputs": [
    {
     "data": {
      "text/html": [
       "<div>\n",
       "<style scoped>\n",
       "    .dataframe tbody tr th:only-of-type {\n",
       "        vertical-align: middle;\n",
       "    }\n",
       "\n",
       "    .dataframe tbody tr th {\n",
       "        vertical-align: top;\n",
       "    }\n",
       "\n",
       "    .dataframe thead th {\n",
       "        text-align: right;\n",
       "    }\n",
       "</style>\n",
       "<table border=\"1\" class=\"dataframe\">\n",
       "  <thead>\n",
       "    <tr style=\"text-align: right;\">\n",
       "      <th></th>\n",
       "      <th>nreads</th>\n",
       "      <th>path</th>\n",
       "      <th>coverage</th>\n",
       "    </tr>\n",
       "    <tr>\n",
       "      <th>sample</th>\n",
       "      <th></th>\n",
       "      <th></th>\n",
       "      <th></th>\n",
       "    </tr>\n",
       "  </thead>\n",
       "  <tbody>\n",
       "    <tr>\n",
       "      <th>MSSM_222_NeuN_pl</th>\n",
       "      <td>914638385</td>\n",
       "      <td>/home/attila/projects/bsm/results/2020-04-29-s...</td>\n",
       "      <td>44.019888</td>\n",
       "    </tr>\n",
       "    <tr>\n",
       "      <th>MSSM_370_NeuN_pl</th>\n",
       "      <td>1319744493</td>\n",
       "      <td>/home/attila/projects/bsm/results/2020-04-29-s...</td>\n",
       "      <td>63.516911</td>\n",
       "    </tr>\n",
       "    <tr>\n",
       "      <th>MSSM_364_NeuN_pl</th>\n",
       "      <td>1263470967</td>\n",
       "      <td>/home/attila/projects/bsm/results/2020-04-29-s...</td>\n",
       "      <td>60.808568</td>\n",
       "    </tr>\n",
       "    <tr>\n",
       "      <th>MSSM_321_NeuN_pl</th>\n",
       "      <td>1437017192</td>\n",
       "      <td>/home/attila/projects/bsm/results/2020-04-29-s...</td>\n",
       "      <td>69.161033</td>\n",
       "    </tr>\n",
       "    <tr>\n",
       "      <th>PITT_117_NeuN_pl</th>\n",
       "      <td>1107187714</td>\n",
       "      <td>/home/attila/projects/bsm/results/2020-04-29-s...</td>\n",
       "      <td>53.286938</td>\n",
       "    </tr>\n",
       "    <tr>\n",
       "      <th>MSSM_269_NeuN_pl</th>\n",
       "      <td>1245266049</td>\n",
       "      <td>/home/attila/projects/bsm/results/2020-04-29-s...</td>\n",
       "      <td>59.932398</td>\n",
       "    </tr>\n",
       "    <tr>\n",
       "      <th>MSSM_027_NeuN_pl</th>\n",
       "      <td>1350034836</td>\n",
       "      <td>/home/attila/projects/bsm/results/2020-04-29-s...</td>\n",
       "      <td>64.974730</td>\n",
       "    </tr>\n",
       "    <tr>\n",
       "      <th>MSSM_213_NeuN_pl</th>\n",
       "      <td>1194579509</td>\n",
       "      <td>/home/attila/projects/bsm/results/2020-04-29-s...</td>\n",
       "      <td>57.492947</td>\n",
       "    </tr>\n",
       "    <tr>\n",
       "      <th>PITT_071_NeuN_pl</th>\n",
       "      <td>1130946579</td>\n",
       "      <td>/home/attila/projects/bsm/results/2020-04-29-s...</td>\n",
       "      <td>54.430409</td>\n",
       "    </tr>\n",
       "  </tbody>\n",
       "</table>\n",
       "</div>"
      ],
      "text/plain": [
       "                      nreads  \\\n",
       "sample                         \n",
       "MSSM_222_NeuN_pl   914638385   \n",
       "MSSM_370_NeuN_pl  1319744493   \n",
       "MSSM_364_NeuN_pl  1263470967   \n",
       "MSSM_321_NeuN_pl  1437017192   \n",
       "PITT_117_NeuN_pl  1107187714   \n",
       "MSSM_269_NeuN_pl  1245266049   \n",
       "MSSM_027_NeuN_pl  1350034836   \n",
       "MSSM_213_NeuN_pl  1194579509   \n",
       "PITT_071_NeuN_pl  1130946579   \n",
       "\n",
       "                                                               path   coverage  \n",
       "sample                                                                          \n",
       "MSSM_222_NeuN_pl  /home/attila/projects/bsm/results/2020-04-29-s...  44.019888  \n",
       "MSSM_370_NeuN_pl  /home/attila/projects/bsm/results/2020-04-29-s...  63.516911  \n",
       "MSSM_364_NeuN_pl  /home/attila/projects/bsm/results/2020-04-29-s...  60.808568  \n",
       "MSSM_321_NeuN_pl  /home/attila/projects/bsm/results/2020-04-29-s...  69.161033  \n",
       "PITT_117_NeuN_pl  /home/attila/projects/bsm/results/2020-04-29-s...  53.286938  \n",
       "MSSM_269_NeuN_pl  /home/attila/projects/bsm/results/2020-04-29-s...  59.932398  \n",
       "MSSM_027_NeuN_pl  /home/attila/projects/bsm/results/2020-04-29-s...  64.974730  \n",
       "MSSM_213_NeuN_pl  /home/attila/projects/bsm/results/2020-04-29-s...  57.492947  \n",
       "PITT_071_NeuN_pl  /home/attila/projects/bsm/results/2020-04-29-s...  54.430409  "
      ]
     },
     "execution_count": 5,
     "metadata": {},
     "output_type": "execute_result"
    }
   ],
   "source": [
    "nreads_genewiz = pd.read_csv('/home/attila/projects/bsm/results/2020-04-29-sample-fastq-sizes/nreads-genewiz.tsv', sep='\\t', index_col='sample')\n",
    "nreads_genewiz['coverage'] = nreads_genewiz['nreads'] * 151 / hg_len_bp\n",
    "nreads_genewiz"
   ]
  },
  {
   "cell_type": "code",
   "execution_count": 6,
   "metadata": {},
   "outputs": [
    {
     "data": {
      "text/html": [
       "<div>\n",
       "<style scoped>\n",
       "    .dataframe tbody tr th:only-of-type {\n",
       "        vertical-align: middle;\n",
       "    }\n",
       "\n",
       "    .dataframe tbody tr th {\n",
       "        vertical-align: top;\n",
       "    }\n",
       "\n",
       "    .dataframe thead th {\n",
       "        text-align: right;\n",
       "    }\n",
       "</style>\n",
       "<table border=\"1\" class=\"dataframe\">\n",
       "  <thead>\n",
       "    <tr style=\"text-align: right;\">\n",
       "      <th></th>\n",
       "      <th>sample</th>\n",
       "      <th>nblocks, kB</th>\n",
       "      <th>file path</th>\n",
       "      <th>fq.gz size, GiB</th>\n",
       "    </tr>\n",
       "  </thead>\n",
       "  <tbody>\n",
       "    <tr>\n",
       "      <th>0</th>\n",
       "      <td>PITT_091_NeuN_pl</td>\n",
       "      <td>9021632</td>\n",
       "      <td>/projects/bsm/reads/PITT091_NeuN_pl/PITT091_Ne...</td>\n",
       "      <td>8.603699</td>\n",
       "    </tr>\n",
       "    <tr>\n",
       "      <th>1</th>\n",
       "      <td>PITT_091_NeuN_pl</td>\n",
       "      <td>8035760</td>\n",
       "      <td>/projects/bsm/reads/PITT091_NeuN_pl/PITT091_Ne...</td>\n",
       "      <td>7.663498</td>\n",
       "    </tr>\n",
       "    <tr>\n",
       "      <th>2</th>\n",
       "      <td>PITT_091_NeuN_pl</td>\n",
       "      <td>7769508</td>\n",
       "      <td>/projects/bsm/reads/PITT091_NeuN_pl/PITT091_Ne...</td>\n",
       "      <td>7.409580</td>\n",
       "    </tr>\n",
       "    <tr>\n",
       "      <th>3</th>\n",
       "      <td>PITT_091_NeuN_pl</td>\n",
       "      <td>8768292</td>\n",
       "      <td>/projects/bsm/reads/PITT091_NeuN_pl/PITT091_Ne...</td>\n",
       "      <td>8.362095</td>\n",
       "    </tr>\n",
       "    <tr>\n",
       "      <th>4</th>\n",
       "      <td>PITT_091_NeuN_pl</td>\n",
       "      <td>7779932</td>\n",
       "      <td>/projects/bsm/reads/PITT091_NeuN_pl/PITT091_Ne...</td>\n",
       "      <td>7.419521</td>\n",
       "    </tr>\n",
       "    <tr>\n",
       "      <th>...</th>\n",
       "      <td>...</td>\n",
       "      <td>...</td>\n",
       "      <td>...</td>\n",
       "      <td>...</td>\n",
       "    </tr>\n",
       "    <tr>\n",
       "      <th>2159</th>\n",
       "      <td>MSSM_109_NeuN_pl_</td>\n",
       "      <td>4391232</td>\n",
       "      <td>/projects/bsm/reads/MSSM109_NeuN_pl1/MSSM109_N...</td>\n",
       "      <td>4.187805</td>\n",
       "    </tr>\n",
       "    <tr>\n",
       "      <th>2160</th>\n",
       "      <td>MSSM_109_NeuN_pl_</td>\n",
       "      <td>4934676</td>\n",
       "      <td>/projects/bsm/reads/MSSM109_NeuN_pl1/MSSM109_N...</td>\n",
       "      <td>4.706074</td>\n",
       "    </tr>\n",
       "    <tr>\n",
       "      <th>2161</th>\n",
       "      <td>MSSM_109_NeuN_pl_</td>\n",
       "      <td>4306656</td>\n",
       "      <td>/projects/bsm/reads/MSSM109_NeuN_pl1/MSSM109_N...</td>\n",
       "      <td>4.107147</td>\n",
       "    </tr>\n",
       "    <tr>\n",
       "      <th>2162</th>\n",
       "      <td>MSSM_109_NeuN_pl_</td>\n",
       "      <td>4960984</td>\n",
       "      <td>/projects/bsm/reads/MSSM109_NeuN_pl1/MSSM109_N...</td>\n",
       "      <td>4.731163</td>\n",
       "    </tr>\n",
       "    <tr>\n",
       "      <th>2163</th>\n",
       "      <td>MSSM_109_NeuN_pl_</td>\n",
       "      <td>4142680</td>\n",
       "      <td>/projects/bsm/reads/MSSM109_NeuN_pl1/MSSM109_N...</td>\n",
       "      <td>3.950768</td>\n",
       "    </tr>\n",
       "  </tbody>\n",
       "</table>\n",
       "<p>2164 rows × 4 columns</p>\n",
       "</div>"
      ],
      "text/plain": [
       "                 sample  nblocks, kB  \\\n",
       "0      PITT_091_NeuN_pl      9021632   \n",
       "1      PITT_091_NeuN_pl      8035760   \n",
       "2      PITT_091_NeuN_pl      7769508   \n",
       "3      PITT_091_NeuN_pl      8768292   \n",
       "4      PITT_091_NeuN_pl      7779932   \n",
       "...                 ...          ...   \n",
       "2159  MSSM_109_NeuN_pl_      4391232   \n",
       "2160  MSSM_109_NeuN_pl_      4934676   \n",
       "2161  MSSM_109_NeuN_pl_      4306656   \n",
       "2162  MSSM_109_NeuN_pl_      4960984   \n",
       "2163  MSSM_109_NeuN_pl_      4142680   \n",
       "\n",
       "                                              file path  fq.gz size, GiB  \n",
       "0     /projects/bsm/reads/PITT091_NeuN_pl/PITT091_Ne...         8.603699  \n",
       "1     /projects/bsm/reads/PITT091_NeuN_pl/PITT091_Ne...         7.663498  \n",
       "2     /projects/bsm/reads/PITT091_NeuN_pl/PITT091_Ne...         7.409580  \n",
       "3     /projects/bsm/reads/PITT091_NeuN_pl/PITT091_Ne...         8.362095  \n",
       "4     /projects/bsm/reads/PITT091_NeuN_pl/PITT091_Ne...         7.419521  \n",
       "...                                                 ...              ...  \n",
       "2159  /projects/bsm/reads/MSSM109_NeuN_pl1/MSSM109_N...         4.187805  \n",
       "2160  /projects/bsm/reads/MSSM109_NeuN_pl1/MSSM109_N...         4.706074  \n",
       "2161  /projects/bsm/reads/MSSM109_NeuN_pl1/MSSM109_N...         4.107147  \n",
       "2162  /projects/bsm/reads/MSSM109_NeuN_pl1/MSSM109_N...         4.731163  \n",
       "2163  /projects/bsm/reads/MSSM109_NeuN_pl1/MSSM109_N...         3.950768  \n",
       "\n",
       "[2164 rows x 4 columns]"
      ]
     },
     "execution_count": 6,
     "metadata": {},
     "output_type": "execute_result"
    }
   ],
   "source": [
    "nblocks = pd.read_csv('/home/attila/projects/bsm/results/2020-04-29-sample-fastq-sizes/fastq-nblocks.tsv', sep='\\t')\n",
    "nblocks['fq.gz size, GiB'] = nblocks['nblocks, kB'] * 2 ** -20\n",
    "def fix_samplen(sname):\n",
    "    newname = re.sub('(MSSM|PITT)', '\\\\1_', sname)\n",
    "    newname = re.sub('(pl|mn)1', '\\\\1_', newname)\n",
    "    return(newname)\n",
    "nblocks['sample'] = [fix_samplen(s) for s in nblocks['sample']]\n",
    "nblocks"
   ]
  },
  {
   "cell_type": "markdown",
   "metadata": {},
   "source": [
    "Now get samples present in both data frame and filter data frames for those samples.  Then sort according to `nreads`."
   ]
  },
  {
   "cell_type": "code",
   "execution_count": 7,
   "metadata": {
    "scrolled": true
   },
   "outputs": [
    {
     "name": "stdout",
     "output_type": "stream",
     "text": [
      "                      nreads    coverage  fq.gz size, GiB\n",
      "sample                                                   \n",
      "MSSM_373_NeuN_pl  5126657796  246.736750       418.182316\n",
      "PITT_118_NeuN_pl  4221676035  203.181618       348.390968\n",
      "MSSM_215_NeuN_pl  3992458107  192.149774       323.420944\n",
      "MSSM_183_NeuN_pl  3733596080  179.691214       307.038284\n",
      "MSSM_369_NeuN_pl  3348853213  161.174237       272.427040 \n",
      "\n",
      "                      nreads   coverage  fq.gz size, GiB\n",
      "sample                                                 \n",
      "MSSM_118_muscle   802078851  38.602602        67.163513\n",
      "MSSM_183_muscle   794585616  38.241966        66.080299\n",
      "MSSM_179_NeuN_mn  767418276  36.934451        63.949398\n",
      "PITT_010_NeuN_mn  735747926  35.410214        61.114750\n",
      "MSSM_179_muscle   656607857  31.601346        66.167599\n"
     ]
    }
   ],
   "source": [
    "fsize = nblocks.groupby('sample').sum()\n",
    "samples = set(fsize.index).intersection(nreads.index)\n",
    "nreads = nreads.loc[samples, :].sort_values('nreads', ascending=False)\n",
    "fsize = fsize.loc[nreads.index, :]\n",
    "old = pd.concat([nreads, fsize], axis=1)[['nreads', 'coverage', 'fq.gz size, GiB']]\n",
    "print(old.head(), '\\n' * 2, old.tail())"
   ]
  },
  {
   "cell_type": "code",
   "execution_count": 8,
   "metadata": {},
   "outputs": [
    {
     "name": "stdout",
     "output_type": "stream",
     "text": [
      "                  fq.gz size, bytes  fq.gz size, GiB   coverage\n",
      "#sample_id                                                     \n",
      "MSSM_352_NeuN_pl       472215207021       439.784682        NaN\n",
      "MSSM_142_NeuN_pl       274505510006       255.653178        NaN\n",
      "MSSM_321_NeuN_pl       110337685870       102.759978  69.161033\n",
      "MSSM_027_NeuN_pl       100598304107        93.689472  64.974730\n",
      "MSSM_370_NeuN_pl       100423722761        93.526880  63.516911 \n",
      "\n",
      "                   fq.gz size, bytes  fq.gz size, GiB  coverage\n",
      "#sample_id                                                    \n",
      "MSSM_224_NeuN_pl        61855268203        57.607208       NaN\n",
      "MSSM_192_NeuN_pl        61805789251        57.561127       NaN\n",
      "PITT_072_NeuN_pl        57480350142        53.532748       NaN\n",
      "MSSM_405_NeuN_pl        42141068816        39.246929       NaN\n",
      "MSSM_265_NeuN_pl        36041341017        33.566115       NaN\n"
     ]
    }
   ],
   "source": [
    "slist = pd.read_csv('/home/attila/projects/bsm/results/2020-04-07-GENEWIZ-samples/sample_list.tsv', sep='\\t', index_col='file_name')\n",
    "p1 = subprocess.run(['aws', 's3', 'ls', 's3://chesslab-bsmn/GENEWIZ/30-317737003/'], capture_output=True)\n",
    "p2 = subprocess.run(['tr', '--squeeze', '\" \"', ','], input=p1.stdout, capture_output=True)\n",
    "newdata = pd.read_csv(io.StringIO(p2.stdout.decode('utf-8')), names=['date', 'time', 'fq.gz size, bytes', 'filename'], index_col='filename')\n",
    "newdata['fq.gz size, GiB'] = newdata['fq.gz size, bytes'] / 2 ** 30\n",
    "newdata = pd.concat([slist, newdata], axis=1)\n",
    "new = newdata.groupby('#sample_id').sum().sort_values('fq.gz size, GiB', ascending=False)\n",
    "new['coverage'] = np.nan\n",
    "new.loc[nreads_genewiz.index, 'coverage'] = nreads_genewiz['coverage']\n",
    "print(new.head(), '\\n' * 2, new.tail())"
   ]
  },
  {
   "cell_type": "markdown",
   "metadata": {},
   "source": [
    "## Analysis\n",
    "### Exploration\n",
    "Plot **coverage** agains Gzipped fastq size (**fq.gz size, GiB**) for each sample.  Use both linear and log scale."
   ]
  },
  {
   "cell_type": "code",
   "execution_count": 9,
   "metadata": {
    "scrolled": true
   },
   "outputs": [
    {
     "data": {
      "image/png": "[encoded data removed]",
      "text/plain": [
       "<Figure size 864x432 with 2 Axes>"
      ]
     },
     "metadata": {
      "needs_background": "light"
     },
     "output_type": "display_data"
    }
   ],
   "source": [
    "def myscatter(ax, scale='linear'):\n",
    "    ax.scatter(old['fq.gz size, GiB'], old['coverage'], c='r', label='old data')\n",
    "    ax.scatter(new['fq.gz size, GiB'], new['coverage'], c='b', label='new data')\n",
    "    ax.set_xlabel('fq.gz size, GiB', fontsize='large')\n",
    "    ax.set_ylabel('coverage', fontsize='large')\n",
    "    ax.grid(b=True, which='both')\n",
    "    #ax.grid(b=True, which='minor', linestyle=':')\n",
    "    plt.xscale(scale)\n",
    "    plt.yscale(scale)\n",
    "    ax.set_title(scale + ' scale')\n",
    "    ax.legend()\n",
    "\n",
    "fig, ax = plt.subplots(1, 2, figsize=(12, 6))\n",
    "myscatter(ax[0], 'linear')\n",
    "myscatter(ax[1], 'log')"
   ]
  },
  {
   "cell_type": "markdown",
   "metadata": {},
   "source": [
    "The graph reveals a linear relationship for most samples, while some samples seem to be outliers.\n",
    "\n",
    "### Fitting linear model\n",
    "\n",
    "Fit linear model and evaluate squared error for each point of the training data"
   ]
  },
  {
   "cell_type": "code",
   "execution_count": 10,
   "metadata": {},
   "outputs": [
    {
     "name": "stdout",
     "output_type": "stream",
     "text": [
      "[1.26093374e-07 7.90619742e-07 9.94602314e-07 1.69313303e-06\n",
      " 1.85058241e-06 5.02388283e-06 5.36767657e-06 8.16902998e-06\n",
      " 3.16486223e-05 3.31797621e-05 4.13241789e-05 6.66770227e-05\n",
      " 7.65513964e-05 7.72874834e-05 1.21850898e-04 1.40918810e-04\n",
      " 3.97182839e-04 9.10314118e-04 1.58731062e-03 1.72051032e-03\n",
      " 1.75796529e-03 1.88622189e-03 1.91679166e-03 2.47085521e-03\n",
      " 2.79254691e-03 6.89254472e-03 2.46388185e-02]\n"
     ]
    }
   ],
   "source": [
    "X = np.log10(np.array(old['fq.gz size, GiB']))[:, np.newaxis]\n",
    "y = np.log10(np.array(old['coverage']))[:, np.newaxis]\n",
    "lm = linear_model.LinearRegression().fit(X, y)\n",
    "y_hat = lm.predict(X)\n",
    "X_fig = np.linspace(1.5, 2.7, 2)[:, np.newaxis]\n",
    "y_fig = lm.predict(X_fig)\n",
    "X_new = np.log10(np.array(new['fq.gz size, GiB']))[:, np.newaxis]\n",
    "y_new_pred = lm.predict(X_new)\n",
    "y_new = np.log10(np.array(new['coverage']))[:, np.newaxis]\n",
    "y_new_nona = np.log10(np.array(new['coverage'].dropna()))[:, np.newaxis]\n",
    "sq_error = (y_hat[:, 0] - y[:, 0]) ** 2\n",
    "sq_error_sorted = sq_error.copy()\n",
    "sq_error_sorted.sort()\n",
    "print(sq_error_sorted)"
   ]
  },
  {
   "cell_type": "markdown",
   "metadata": {},
   "source": [
    "Plot results:"
   ]
  },
  {
   "cell_type": "code",
   "execution_count": 11,
   "metadata": {},
   "outputs": [
    {
     "data": {
      "image/png": "[encoded data removed]",
      "text/plain": [
       "<Figure size 1152x576 with 2 Axes>"
      ]
     },
     "metadata": {
      "needs_background": "light"
     },
     "output_type": "display_data"
    }
   ],
   "source": [
    "fig, axes = plt.subplots(1, 2, figsize=(16, 8), sharey=True)\n",
    "ax = axes[0]\n",
    "ax.scatter(X[:, 0], y[:, 0], c='pink', edgecolor='red', marker='o', label='old data (training)')\n",
    "#ax.scatter(X[:, 0], y[:, 0], s=5*sq_error/np.median(sq_error), c='pink', edgecolor='red', marker='o', label='old data (training)')\n",
    "ax.scatter(X_new[:, 0], y_new[:, 0], marker='o', c='lightblue', edgecolor='blue', label='new data')\n",
    "ax.plot(X_fig[:, 0], y_fig[:, 0], label='linear model', c='g')\n",
    "ax.scatter(X_new[:, 0], y_new_pred[:, 0], marker='+', c='b', s=100, label='new data (predicted)')\n",
    "ax.legend(fontsize='large')\n",
    "ax.set_title('Linear model and squared error\\nmarker size$\\propto$sq error')\n",
    "ax.set_xlabel('$\\log_{10} \\mathrm{filesize}$', fontsize='large')\n",
    "ax.set_ylabel('$\\log_{10} \\mathrm{coverage}$', fontsize='large')\n",
    "ax.grid(b=True, which='both')\n",
    "for sqe, s, xx, yy in zip(sq_error, old.index, X[:, 0], y[:, 0]):\n",
    "    if sqe > 1.7e-3:\n",
    "        ax.text(xx, yy, s, horizontalalignment='left', verticalalignment='center', fontsize='small')\n",
    "ax = axes[1]\n",
    "ax.grid(b=True, which='both', axis='y')\n",
    "bp = ax.boxplot((y, y_new_nona, y_new_pred), labels=['old data', 'new data', 'new data (predicted)'])"
   ]
  },
  {
   "cell_type": "code",
   "execution_count": 12,
   "metadata": {},
   "outputs": [
    {
     "data": {
      "text/plain": [
       "(0, 260)"
      ]
     },
     "execution_count": 12,
     "metadata": {},
     "output_type": "execute_result"
    },
    {
     "data": {
      "image/png": "[encoded data removed]",
      "text/plain": [
       "<Figure size 576x576 with 2 Axes>"
      ]
     },
     "metadata": {
      "needs_background": "light"
     },
     "output_type": "display_data"
    }
   ],
   "source": [
    "new['predicted coverage'] = 10 ** y_new_pred[:, 0]\n",
    "X_old = np.array(old['coverage'])[:, np.newaxis]\n",
    "X_new = np.array(new['predicted coverage'])[:, np.newaxis]\n",
    "X_fig = np.linspace(0, 300, 200)[:, np.newaxis]\n",
    "bw = 20\n",
    "fig, ax = plt.subplots(2, 1, sharex=True, sharey=True, figsize=(8, 8))\n",
    "def plotter(ax, X, title):\n",
    "    kde = neighbors.KernelDensity(bandwidth=bw, kernel='epanechnikov').fit(X)\n",
    "    logpdf = kde.score_samples(X_fig)\n",
    "    ax.axhline()\n",
    "    ax.fill(X_fig[:, 0], np.exp(logpdf), label=title)\n",
    "    ax.scatter(X[:, 0], -5e-3 + 4e-3 * np.random.random(X.shape[0]), marker='+', color='k')\n",
    "    ax.set_ylabel('density', fontsize='large')\n",
    "    ax.set_title(title)\n",
    "    ax.axhline()\n",
    "\n",
    "plotter(ax[0], X_old, 'old data')\n",
    "plotter(ax[1], X_new, 'new data (predicted)')\n",
    "ax[1].set_xlabel('coverage', fontsize='large')\n",
    "ax[1].set_xlim([0, 260])"
   ]
  },
  {
   "cell_type": "code",
   "execution_count": 13,
   "metadata": {},
   "outputs": [
    {
     "name": "stdout",
     "output_type": "stream",
     "text": [
      "{\n",
      "  \"shell_port\": 49987,\n",
      "  \"iopub_port\": 59629,\n",
      "  \"stdin_port\": 32803,\n",
      "  \"control_port\": 49311,\n",
      "  \"hb_port\": 50029,\n",
      "  \"ip\": \"127.0.0.1\",\n",
      "  \"key\": \"ab9fd2ac-ae1d7e95a8ecb443a0131a5b\",\n",
      "  \"transport\": \"tcp\",\n",
      "  \"signature_scheme\": \"hmac-sha256\",\n",
      "  \"kernel_name\": \"\"\n",
      "}\n",
      "\n",
      "Paste the above JSON into a file, and connect with:\n",
      "    $> jupyter <app> --existing <file>\n",
      "or, if you are local, you can connect with just:\n",
      "    $> jupyter <app> --existing kernel-aa4eca4c-d493-42f8-8966-7b0aedb7f402.json\n",
      "or even just:\n",
      "    $> jupyter <app> --existing\n",
      "if this is the most recent Jupyter kernel you have started.\n"
     ]
    }
   ],
   "source": [
    "%connect_info"
   ]
  },
  {
   "cell_type": "code",
   "execution_count": null,
   "metadata": {},
   "outputs": [],
   "source": []
  }
 ],
 "metadata": {
  "kernelspec": {
   "display_name": "Python 3",
   "language": "python",
   "name": "python3"
  },
  "language_info": {
   "codemirror_mode": {
    "name": "ipython",
    "version": 3
   },
   "file_extension": ".py",
   "mimetype": "text/x-python",
   "name": "python",
   "nbconvert_exporter": "python",
   "pygments_lexer": "ipython3",
   "version": "3.7.6"
  }
 },
 "nbformat": 4,
 "nbformat_minor": 4
}
