{
 "cells": [
  {
   "cell_type": "markdown",
   "metadata": {},
   "source": [
    "Kenneth Daily's email of 3/4/2020 says: \"The NIMH Data Archive has provided 200TB of space for the consortium to use as 'scratch' space for data generation and processing. We have been notified that the current usage exceeds the 200TB limit by approximately 60TB. Hence, files from this storage location need to be removed.\"  Here I compare files/samples on the scratch space to those on NDA."
   ]
  },
  {
   "cell_type": "code",
   "execution_count": 1,
   "metadata": {},
   "outputs": [
    {
     "name": "stdout",
     "output_type": "stream",
     "text": [
      "{\n",
      "  \"shell_port\": 53533,\n",
      "  \"iopub_port\": 39541,\n",
      "  \"stdin_port\": 46451,\n",
      "  \"control_port\": 43651,\n",
      "  \"hb_port\": 39279,\n",
      "  \"ip\": \"127.0.0.1\",\n",
      "  \"key\": \"a1b5a67b-cdc8b9f2fe04b3cf462bf285\",\n",
      "  \"transport\": \"tcp\",\n",
      "  \"signature_scheme\": \"hmac-sha256\",\n",
      "  \"kernel_name\": \"\"\n",
      "}\n",
      "\n",
      "Paste the above JSON into a file, and connect with:\n",
      "    $> jupyter <app> --existing <file>\n",
      "or, if you are local, you can connect with just:\n",
      "    $> jupyter <app> --existing kernel-4d68fc8e-1e5f-4a14-8eb9-b759774265cd.json\n",
      "or even just:\n",
      "    $> jupyter <app> --existing\n",
      "if this is the most recent Jupyter kernel you have started.\n"
     ]
    }
   ],
   "source": [
    "%connect_info"
   ]
  },
  {
   "cell_type": "code",
   "execution_count": null,
   "metadata": {},
   "outputs": [],
   "source": []
  }
 ],
 "metadata": {
  "kernelspec": {
   "display_name": "Python 3",
   "language": "python",
   "name": "python3"
  },
  "language_info": {
   "codemirror_mode": {
    "name": "ipython",
    "version": 3
   },
   "file_extension": ".py",
   "mimetype": "text/x-python",
   "name": "python",
   "nbconvert_exporter": "python",
   "pygments_lexer": "ipython3",
   "version": "3.7.4"
  }
 },
 "nbformat": 4,
 "nbformat_minor": 2
}
