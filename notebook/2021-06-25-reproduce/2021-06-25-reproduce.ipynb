{
 "cells": [
  {
   "cell_type": "markdown",
   "id": "fancy-daisy",
   "metadata": {},
   "source": [
    "Checking some basic routines for Eduardo"
   ]
  },
  {
   "cell_type": "code",
   "execution_count": 3,
   "id": "directed-adaptation",
   "metadata": {},
   "outputs": [
    {
     "name": "stdout",
     "output_type": "stream",
     "text": [
      "The autoreload extension is already loaded. To reload it, use:\n",
      "  %reload_ext autoreload\n"
     ]
    }
   ],
   "source": [
    "%load_ext autoreload\n",
    "%autoreload 2\n",
    "%reload_ext autoreload\n",
    "import pandas as pd\n",
    "from bsmcalls import SNPnexus\n",
    "from bsmcalls import operations\n",
    "import bsmutils\n",
    "import genome\n",
    "import os\n",
    "#os.environ[\"PYTHONPATH\"] = \"/mnt/c/Users/emaur/Dropbox (MIT)/Walsh Lab/SCZ_SNV/bsm/\"\n",
    "os.chdir(bsmutils.get_bsmdir())"
   ]
  },
  {
   "cell_type": "code",
   "execution_count": 4,
   "id": "clean-january",
   "metadata": {},
   "outputs": [],
   "source": [
    "data = SNPnexus.load_data('results/2020-09-07-annotations/annotated-calls.p')\n",
    "sczgwasloci = genome.read_scz_gwas()\n",
    "data = genome.annotate_with_gwas_loci(data, gwas=sczgwasloci, modify_return_data=True)\n",
    "clozukpath = 'resources/CLOZUK/supp-table-4.csv'\n",
    "gwasgenes = operations.get_geneset(df=pd.read_csv(clozukpath, skiprows=7), col='Gene(s) tagged')"
   ]
  },
  {
   "cell_type": "code",
   "execution_count": 20,
   "id": "veterinary-stephen",
   "metadata": {},
   "outputs": [
    {
     "data": {
      "text/plain": [
       "\"{'TCF20', 'SHISA8', 'GOLGA2P7', 'ZSWIM6', 'LOC101929829', 'WBP2NL', 'PPP2R3A', 'NDUFA6', 'SIPA1', 'LOC100505474', 'C16orf86', 'MARS2', 'MAPK3', 'LOC103171574', 'DPYD-AS1', 'IGSF9B', 'MIR5088', 'GOLGA6L4', 'MPPED2', 'PPAPDC1B', 'GRIN2A', 'C14orf2', 'KDM4A', 'SHMT2', 'HS3ST5', 'NUTF2', 'TM6SF2', 'MIR6889', 'C10orf32', 'MIR33A', 'U80770', 'EP300-AS1', 'GOLGA6L9', 'ARL14EP', 'ABCB9', 'MEF2C-AS1', 'CPT1C', 'CPEB1', 'GABBR2', 'C11orf31', 'STAR', 'ATG13', 'SEMA6D', 'SLC7A6', 'CKAP5', 'SERPINC1', 'NCK1-AS1', 'LOC101927839', 'PPP2R2A', 'SATB2', 'FTCDNL1', 'NCK1', 'LUZP2', 'NAGA', 'RWDD2A', 'CCDC175', 'SUGP1', 'PGM3', 'PLEKHO1', 'PCNXL3', 'NT5C2', 'SRR', 'PLCH2', 'ALMS1P', 'TMEM219', 'KCNG2', 'RPS19BP1', 'xMHC', 'ZNF823', 'SLC35G2', 'BTBD18', 'LOC102724034', 'ESAM', 'CACNB2', 'SFMBT1', 'GRM3', 'IMMP2L', 'CHRNB4', 'EPHX2', 'VRK2', 'SNORD63', 'TLE3', 'R3HDM2', 'LINC00933', 'PLCB2', 'SLC32A1', 'NCAN', 'BAG4', 'HSPA9', 'MIR4655', 'KCNK7', 'C16orf92', 'YJEFN3', 'PSMB10', 'ERCC4 ', 'RLTPR', 'ACD', 'PCGF6', 'CYP17A1', 'SPATS2L', 'AMBRA1', 'SEPT3', 'HSPE1', 'MIR3160-2', 'FSHB', 'HAPLN4', 'OTUD7B', 'LOC101928882', 'CACNA1C-AS4', 'SBNO1', 'INPP4B', 'SETD6', 'OGFOD2', 'ZC3H7B', 'LOC102723362', 'CILP2', 'MIR137HG', 'STAT6', 'PRR12', 'NDUFA6-AS1', 'OTOL1', 'FAM109B', 'ALMS1', 'FXR1', 'GIGYF2', 'RELA', 'GFOD2', 'CYP2D7P', 'CNTN4', 'NAB2', 'NMB', 'CACNA1D', 'HSPE1-MOB4', 'LOC79999', 'MSL2', 'MIR3160-1', 'SPATA31D1', 'RILPL2', 'HIRIP3', 'SNORD91B', 'TOM1L2', 'CTRL', 'UBE2Q2L', 'SCAF1', 'SEC11A', 'CSMD1', 'CACNA1C-IT3', 'C10orf32-ASMT', 'PPP1R13B', 'ANKRD44-IT1', 'TSR1', 'ADAMTSL3', 'SMG6', 'MDK', 'LINC00634', 'SF3B1', 'SLC39A8', 'LOC101927295', 'CHRNA2', 'KMT2E', 'XRCC3', 'MIR4472-1', 'C2orf47', 'BCL2L12', 'MIR4304', 'C12orf65', 'BTG1', 'PCCB', 'GPR52', 'LOC388906', 'FOXP1', 'TBC1D5', 'FLJ31662', 'TAB1', 'YPEL4', 'MIR6777', 'MAU2', 'PSMA4', 'MSRA', 'OPCML', 'THOC7-AS1', 'PSMD6', 'LINC00461', 'LOC101928782', 'RALGAPA2', 'KCNJ13', 'DGKI', 'RGS6', 'SLC38A7', 'ALPK3', 'FHIT', 'CENPT', 'ARL6IP4', 'RAI1', 'NAT8', 'PSMD6-AS2', 'KCTD13', 'TMEM161B-AS1', 'ADM5', 'LETM2', 'NEK1', 'MIR1284', 'MIR4301', 'DOC2A', 'C2orf82', 'BC037927', 'GOLGA6L10', 'MED19', 'RNASEH2C', 'SMCR5', 'LOC440300', 'LOC283177', 'F2', 'AS3MT', 'PLA2G15', 'DMTF1', 'CDK2AP1', 'AP3B2', 'RPEL1', 'SNORA76A', 'CHRM3', 'ATP2A2', 'VPS13C', 'PTPRK', 'MIR33B', 'GDPD3', 'HYDIN', 'MIR137', 'KCNV1', 'TDRD9', 'LINC01004', 'RFT1', 'CUL3', 'ESRP2', 'MIR4688', 'PRKCB', 'RANBP10', 'MIR130A', 'PBX4', 'EMB', 'RD3L', 'CACNA1I', 'MAD1L1', 'EDC4', 'FAM57B', 'CTNND1', 'PSD3', 'EFTUD1P1', 'RPTOR', 'TP53TG1', 'WHSC1L1', 'GOLGA6L5P', 'GATAD2A', 'ZNF804A', 'ATXN7', 'CPNE8', 'DOPEY1', 'CMTR2', 'PLCL1', 'ZNF536', 'SNAP91', 'LOC102546226', 'FES', 'MSANTD2', 'SETD8', 'LOC338963', 'KIAA1324L', 'FURIN', 'DGKZ', 'VPS45', 'MPP6', 'NRN1L', 'FGFR1', 'DUS2', 'RC3H1', 'ANKRD63', 'PPP4C', 'MIR548AI', 'SOX5', 'CALB2', 'MIR4690', 'LOC100506472', 'ZNF408', 'MPHOSPH9', 'LOC101927273', 'BRINP2', 'BCL11B', 'MGAT3', 'LOC101929406', 'EPN2-AS1', 'PPP1R16B', 'LOC100507091', 'IRF3', 'YPEL3', 'EMX1', 'AIG1', 'HCN1', 'NDFIP2-AS1', 'EPN2', 'L3MBTL2', 'SREBF2', 'LOC283693', 'ADAMTS7P1', 'KMT2E-AS1', 'C2orf69', 'EP300', 'SLC45A1', 'MIR6843', 'TSNARE1', 'SLC12A4', 'WBP1L', 'LINC01288', 'UBE2Q2P2', 'DPEP2', 'RIMS1', 'LOC727751', 'CENPM', 'LSM1', 'LINC00637', 'CA14', 'RRAS', 'FOXG1', 'TSNAXIP1', 'SRPK2', 'SDCCAG8', 'ANKRD44', 'MIR4677', 'TMEM194A', 'CHADL', 'LOC101927134', 'PITPNM2', 'KAT5', 'DRD2', 'INO80E', 'RABGAP1L', 'MIR6773', 'MAN2A2', 'EFHD1', 'ZEB2', 'NDFIP2', 'SEZ6L2', 'C4orf27', 'ALDOA', 'SNORA46', 'LOC100131303', 'CHRNA5', 'AL050132', 'MIR1281', 'TBX6', 'IREB2', 'CYP2D6', 'HSPD1', 'CNNM2', 'LINC00862', 'ALMS1-IT1', 'NGEF', 'ZSCAN2', 'ZFYVE21', 'PRMT1', 'STAG1', 'DDHD2', 'SERPING1', 'PJA1', 'RFTN2', 'MAP3K11', 'PTK2B', 'LRRC48', 'ASH2L', 'TYW5', 'ASPG', 'NDRG4', 'ATPAF2', 'BOLL', 'RERE', 'PAK6', 'MEF2C', 'PRKD1', 'STAC3', 'ANP32E', 'CLP1', 'PRRG2', 'GRAPL', 'JKAMP', 'ETF1', 'PDE4B', 'HARBI1', 'CREB3L1', 'MMP16', 'ZNF592', 'GID4', 'UBE2Q2P1', 'RANGAP1', 'DNM1P41', 'THOC7', 'MOB4', 'MIR8072', 'EPN2-IT1', 'SOX2-OT', 'MIR2682', 'MIR548AJ2', 'SNX19', 'TAOK2', 'RBM26-AS1', 'DDX28', 'TNFRSF13C', 'ZBTB37', 'ASCL1', 'NDUFA13', 'PARD6A', 'SMDT1', 'TRANK1', 'ARHGAP1', 'SREBF1', 'ZDHHC5', 'LCAT', 'UBE3D', 'SCAND2P', 'WDR73', 'BANK1', 'LOC283692', 'NFATC3', 'CLU', 'CHRNA3', 'FANCL', 'RPS17', 'TSSK6', 'LINC00051', 'CNOT1', 'DPEP3', 'CHRM4', 'INA', 'DPYD', 'VSIG2', 'TCF4', 'LRP1', 'AKT3', 'AKAP6', 'GPR135', 'BNIP3L', 'HYKK', 'LOC80154', 'RBFOX1', 'NLGN4X', 'ASPHD1', 'LOC642423', 'SNORD91A', 'PSKH1', 'C3orf49', 'COQ10B', 'LOC440704', 'GOLGA6L17P', 'TMEM243', 'NXPH4', 'DFNA5', 'MIR4489', 'CLCN3', 'CA8', 'ACTR5', 'PLCL2', 'SFXN5', 'MIR9-2', 'LOC388436', 'PTN', 'DNAJC19', 'THAP11', 'EHBP1L1', 'TMX2-CTNND1', 'B3GAT1', 'NRGN', 'CACNA1C', 'NDUFA4L2', 'RBM26', 'L3HYPDH', 'PTPRF', 'LINC00606', 'GPM6A', 'TMX2', 'ENKD1'}\""
      ]
     },
     "execution_count": 20,
     "metadata": {},
     "output_type": "execute_result"
    }
   ],
   "source": [
    "repr(gwasgenes)"
   ]
  },
  {
   "cell_type": "code",
   "execution_count": 10,
   "id": "alpha-myrtle",
   "metadata": {},
   "outputs": [
    {
     "data": {
      "text/html": [
       "<div>\n",
       "<style scoped>\n",
       "    .dataframe tbody tr th:only-of-type {\n",
       "        vertical-align: middle;\n",
       "    }\n",
       "\n",
       "    .dataframe tbody tr th {\n",
       "        vertical-align: top;\n",
       "    }\n",
       "\n",
       "    .dataframe thead th {\n",
       "        text-align: right;\n",
       "    }\n",
       "</style>\n",
       "<table border=\"1\" class=\"dataframe\">\n",
       "  <thead>\n",
       "    <tr style=\"text-align: right;\">\n",
       "      <th></th>\n",
       "      <th>Dx</th>\n",
       "      <th>Control</th>\n",
       "      <th>SCZ</th>\n",
       "      <th>ASD</th>\n",
       "    </tr>\n",
       "    <tr>\n",
       "      <th>Feature</th>\n",
       "      <th>Query</th>\n",
       "      <th></th>\n",
       "      <th></th>\n",
       "      <th></th>\n",
       "    </tr>\n",
       "  </thead>\n",
       "  <tbody>\n",
       "    <tr>\n",
       "      <th>near_gens_Overlapped Gene</th>\n",
       "      <th>SCZ GWAS</th>\n",
       "      <td>20</td>\n",
       "      <td>66</td>\n",
       "      <td>42</td>\n",
       "    </tr>\n",
       "  </tbody>\n",
       "</table>\n",
       "</div>"
      ],
      "text/plain": [
       "Dx                                  Control  SCZ  ASD\n",
       "Feature                   Query                      \n",
       "near_gens_Overlapped Gene SCZ GWAS       20   66   42"
      ]
     },
     "execution_count": 10,
     "metadata": {},
     "output_type": "execute_result"
    }
   ],
   "source": [
    "genesets = {'SCZ GWAS': gwasgenes}\n",
    "querydict = {'near_gens_Overlapped Gene': genesets}\n",
    "results = operations.multiquery(querydict, data, do_sum=False, do_sort=False)\n",
    "summary = operations.summarize_query_results(results, data, chisq=False, margin=False)\n",
    "summary#.style.bar(subset='chisq stat')"
   ]
  },
  {
   "cell_type": "code",
   "execution_count": 14,
   "id": "advance-china",
   "metadata": {},
   "outputs": [
    {
     "data": {
      "text/plain": [
       "<AxesSubplot:>"
      ]
     },
     "execution_count": 14,
     "metadata": {},
     "output_type": "execute_result"
    },
    {
     "data": {
      "image/png": "[encoded data removed]",
      "text/plain": [
       "<Figure size 432x288 with 1 Axes>"
      ]
     },
     "metadata": {
      "needs_background": "light"
     },
     "output_type": "display_data"
    }
   ],
   "source": [
    "results[('near_gens_Overlapped Gene', 'SCZ GWAS')].hist()"
   ]
  },
  {
   "cell_type": "code",
   "execution_count": 18,
   "id": "solved-kitchen",
   "metadata": {},
   "outputs": [],
   "source": [
    "res = pd.concat([results, data[['near_gens_Overlapped Gene']]], axis=1)\n",
    "res.to_csv('results/2021-06-25-reproduce/results.csv')"
   ]
  },
  {
   "cell_type": "code",
   "execution_count": null,
   "id": "unexpected-arctic",
   "metadata": {},
   "outputs": [],
   "source": [
    "%connect_info"
   ]
  },
  {
   "cell_type": "code",
   "execution_count": null,
   "id": "running-payday",
   "metadata": {},
   "outputs": [],
   "source": []
  }
 ],
 "metadata": {
  "kernelspec": {
   "display_name": "Python 3",
   "language": "python",
   "name": "python3"
  },
  "language_info": {
   "codemirror_mode": {
    "name": "ipython",
    "version": 3
   },
   "file_extension": ".py",
   "mimetype": "text/x-python",
   "name": "python",
   "nbconvert_exporter": "python",
   "pygments_lexer": "ipython3",
   "version": "3.7.6"
  }
 },
 "nbformat": 4,
 "nbformat_minor": 5
}
