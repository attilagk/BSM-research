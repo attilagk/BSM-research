{
 "cells": [
  {
   "cell_type": "markdown",
   "id": "placed-password",
   "metadata": {},
   "source": [
    "Checking some basic routines for Eduardo"
   ]
  },
  {
   "cell_type": "code",
   "execution_count": 7,
   "id": "minute-lindsay",
   "metadata": {},
   "outputs": [
    {
     "name": "stdout",
     "output_type": "stream",
     "text": [
      "The autoreload extension is already loaded. To reload it, use:\n",
      "  %reload_ext autoreload\n"
     ]
    }
   ],
   "source": [
    "%load_ext autoreload\n",
    "%autoreload 2\n",
    "%reload_ext autoreload\n",
    "import pandas as pd\n",
    "#from bsmcalls import SNPnexus\n",
    "#from bsmcalls import operations\n",
    "import bsmutils\n",
    "#import os\n",
    "#os.environ[\"PYTHONPATH\"] = \"/mnt/c/Users/emaur/Dropbox (MIT)/Walsh Lab/SCZ_SNV/bsm/\"\n",
    "#os.chdir(bsmutils.get_bsmdir())"
   ]
  },
  {
   "cell_type": "code",
   "execution_count": 4,
   "id": "negative-donna",
   "metadata": {},
   "outputs": [
    {
     "name": "stdout",
     "output_type": "stream",
     "text": [
      "{\n",
      "  \"shell_port\": 34409,\n",
      "  \"iopub_port\": 53661,\n",
      "  \"stdin_port\": 53251,\n",
      "  \"control_port\": 56401,\n",
      "  \"hb_port\": 58607,\n",
      "  \"ip\": \"127.0.0.1\",\n",
      "  \"key\": \"a51d4387-d12b459828b4d8827cec60d5\",\n",
      "  \"transport\": \"tcp\",\n",
      "  \"signature_scheme\": \"hmac-sha256\",\n",
      "  \"kernel_name\": \"\"\n",
      "}\n",
      "\n",
      "Paste the above JSON into a file, and connect with:\n",
      "    $> jupyter <app> --existing <file>\n",
      "or, if you are local, you can connect with just:\n",
      "    $> jupyter <app> --existing kernel-3a0ac57b-140c-452c-8510-125d092e383a.json\n",
      "or even just:\n",
      "    $> jupyter <app> --existing\n",
      "if this is the most recent Jupyter kernel you have started.\n"
     ]
    }
   ],
   "source": [
    "%connect_info"
   ]
  },
  {
   "cell_type": "code",
   "execution_count": null,
   "id": "fundamental-marina",
   "metadata": {},
   "outputs": [],
   "source": []
  }
 ],
 "metadata": {
  "kernelspec": {
   "display_name": "Python 3",
   "language": "python",
   "name": "python3"
  },
  "language_info": {
   "codemirror_mode": {
    "name": "ipython",
    "version": 3
   },
   "file_extension": ".py",
   "mimetype": "text/x-python",
   "name": "python",
   "nbconvert_exporter": "python",
   "pygments_lexer": "ipython3",
   "version": "3.7.6"
  }
 },
 "nbformat": 4,
 "nbformat_minor": 5
}
