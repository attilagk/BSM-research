{
 "cells": [
  {
   "cell_type": "markdown",
   "metadata": {},
   "source": [
    "Fetching and cleaning data from the szdb, the schizophrenia database."
   ]
  },
  {
   "cell_type": "code",
   "execution_count": 98,
   "metadata": {},
   "outputs": [
    {
     "name": "stdout",
     "output_type": "stream",
     "text": [
      "The autoreload extension is already loaded. To reload it, use:\n",
      "  %reload_ext autoreload\n"
     ]
    }
   ],
   "source": [
    "%load_ext autoreload\n",
    "%autoreload 2\n",
    "%reload_ext autoreload\n",
    "import pandas as pd\n",
    "import re\n",
    "import szdb"
   ]
  },
  {
   "cell_type": "markdown",
   "metadata": {},
   "source": [
    "## CNVs\n",
    "###  From the szdb based on 77 studies\n",
    "\n",
    "The location of the CNVs implicated in schizophrenia is given in terms of cytogenic bands.  Source URL:\n",
    "\n",
    "http://www.szdb.org/download/CNV.txt"
   ]
  },
  {
   "cell_type": "code",
   "execution_count": 99,
   "metadata": {},
   "outputs": [],
   "source": [
    "fpath = '/big/results/bsm/2020-07-24-szdb/downloaded/CNV.txt'\n",
    "CNV = pd.read_csv(fpath, sep='\\t')"
   ]
  },
  {
   "cell_type": "markdown",
   "metadata": {},
   "source": [
    "Clean and get start and end cytobands"
   ]
  },
  {
   "cell_type": "code",
   "execution_count": 100,
   "metadata": {},
   "outputs": [],
   "source": [
    "CNV = CNV.loc[[bool(re.match('^[pq][0-9]+', y)) for y in CNV['cytoband']], :]\n",
    "CNV['start cytoband'] = [re.sub('([pq][0-9]+(\\.[0-9]+)?).*$', '\\\\1', c) for c in CNV.loc[:, 'cytoband']]\n",
    "CNV['end cytoband'] = CNV.loc[:, 'start cytoband']"
   ]
  },
  {
   "cell_type": "markdown",
   "metadata": {},
   "source": [
    "### Cytoband mapping for hg19\n",
    "Mapping between cytobands and nucleotide base positions for hg19/GRCh37\n",
    "\n",
    "https://hgdownload.cse.ucsc.edu/goldenpath/hg19/database/cytoBand.txt.gz\n",
    "\n",
    "First I extend the mapping with GRCh37 style contig names and index the DataFrame."
   ]
  },
  {
   "cell_type": "code",
   "execution_count": 101,
   "metadata": {},
   "outputs": [
    {
     "data": {
      "text/html": [
       "<div>\n",
       "<style scoped>\n",
       "    .dataframe tbody tr th:only-of-type {\n",
       "        vertical-align: middle;\n",
       "    }\n",
       "\n",
       "    .dataframe tbody tr th {\n",
       "        vertical-align: top;\n",
       "    }\n",
       "\n",
       "    .dataframe thead th {\n",
       "        text-align: right;\n",
       "    }\n",
       "</style>\n",
       "<table border=\"1\" class=\"dataframe\">\n",
       "  <thead>\n",
       "    <tr style=\"text-align: right;\">\n",
       "      <th></th>\n",
       "      <th>chr</th>\n",
       "      <th>start</th>\n",
       "      <th>end</th>\n",
       "      <th>name</th>\n",
       "      <th>score</th>\n",
       "      <th>chromosome</th>\n",
       "    </tr>\n",
       "  </thead>\n",
       "  <tbody>\n",
       "    <tr>\n",
       "      <th>(1, p36.33)</th>\n",
       "      <td>chr1</td>\n",
       "      <td>0</td>\n",
       "      <td>2300000</td>\n",
       "      <td>p36.33</td>\n",
       "      <td>gneg</td>\n",
       "      <td>1</td>\n",
       "    </tr>\n",
       "    <tr>\n",
       "      <th>(1, p36.32)</th>\n",
       "      <td>chr1</td>\n",
       "      <td>2300000</td>\n",
       "      <td>5400000</td>\n",
       "      <td>p36.32</td>\n",
       "      <td>gpos25</td>\n",
       "      <td>1</td>\n",
       "    </tr>\n",
       "    <tr>\n",
       "      <th>(1, p36.31)</th>\n",
       "      <td>chr1</td>\n",
       "      <td>5400000</td>\n",
       "      <td>7200000</td>\n",
       "      <td>p36.31</td>\n",
       "      <td>gneg</td>\n",
       "      <td>1</td>\n",
       "    </tr>\n",
       "    <tr>\n",
       "      <th>(1, p36.23)</th>\n",
       "      <td>chr1</td>\n",
       "      <td>7200000</td>\n",
       "      <td>9200000</td>\n",
       "      <td>p36.23</td>\n",
       "      <td>gpos25</td>\n",
       "      <td>1</td>\n",
       "    </tr>\n",
       "    <tr>\n",
       "      <th>(1, p36.22)</th>\n",
       "      <td>chr1</td>\n",
       "      <td>9200000</td>\n",
       "      <td>12700000</td>\n",
       "      <td>p36.22</td>\n",
       "      <td>gneg</td>\n",
       "      <td>1</td>\n",
       "    </tr>\n",
       "    <tr>\n",
       "      <th>...</th>\n",
       "      <td>...</td>\n",
       "      <td>...</td>\n",
       "      <td>...</td>\n",
       "      <td>...</td>\n",
       "      <td>...</td>\n",
       "      <td>...</td>\n",
       "    </tr>\n",
       "    <tr>\n",
       "      <th>(Y, q11.221)</th>\n",
       "      <td>chrY</td>\n",
       "      <td>15100000</td>\n",
       "      <td>19800000</td>\n",
       "      <td>q11.221</td>\n",
       "      <td>gpos50</td>\n",
       "      <td>Y</td>\n",
       "    </tr>\n",
       "    <tr>\n",
       "      <th>(Y, q11.222)</th>\n",
       "      <td>chrY</td>\n",
       "      <td>19800000</td>\n",
       "      <td>22100000</td>\n",
       "      <td>q11.222</td>\n",
       "      <td>gneg</td>\n",
       "      <td>Y</td>\n",
       "    </tr>\n",
       "    <tr>\n",
       "      <th>(Y, q11.223)</th>\n",
       "      <td>chrY</td>\n",
       "      <td>22100000</td>\n",
       "      <td>26200000</td>\n",
       "      <td>q11.223</td>\n",
       "      <td>gpos50</td>\n",
       "      <td>Y</td>\n",
       "    </tr>\n",
       "    <tr>\n",
       "      <th>(Y, q11.23)</th>\n",
       "      <td>chrY</td>\n",
       "      <td>26200000</td>\n",
       "      <td>28800000</td>\n",
       "      <td>q11.23</td>\n",
       "      <td>gneg</td>\n",
       "      <td>Y</td>\n",
       "    </tr>\n",
       "    <tr>\n",
       "      <th>(Y, q12)</th>\n",
       "      <td>chrY</td>\n",
       "      <td>28800000</td>\n",
       "      <td>59373566</td>\n",
       "      <td>q12</td>\n",
       "      <td>gvar</td>\n",
       "      <td>Y</td>\n",
       "    </tr>\n",
       "  </tbody>\n",
       "</table>\n",
       "<p>862 rows × 6 columns</p>\n",
       "</div>"
      ],
      "text/plain": [
       "               chr     start       end     name   score chromosome\n",
       "(1, p36.33)   chr1         0   2300000   p36.33    gneg          1\n",
       "(1, p36.32)   chr1   2300000   5400000   p36.32  gpos25          1\n",
       "(1, p36.31)   chr1   5400000   7200000   p36.31    gneg          1\n",
       "(1, p36.23)   chr1   7200000   9200000   p36.23  gpos25          1\n",
       "(1, p36.22)   chr1   9200000  12700000   p36.22    gneg          1\n",
       "...            ...       ...       ...      ...     ...        ...\n",
       "(Y, q11.221)  chrY  15100000  19800000  q11.221  gpos50          Y\n",
       "(Y, q11.222)  chrY  19800000  22100000  q11.222    gneg          Y\n",
       "(Y, q11.223)  chrY  22100000  26200000  q11.223  gpos50          Y\n",
       "(Y, q11.23)   chrY  26200000  28800000   q11.23    gneg          Y\n",
       "(Y, q12)      chrY  28800000  59373566      q12    gvar          Y\n",
       "\n",
       "[862 rows x 6 columns]"
      ]
     },
     "execution_count": 101,
     "metadata": {},
     "output_type": "execute_result"
    }
   ],
   "source": [
    "hgcb = pd.read_csv('/big/data/refgenome/GRCh37/cytoBand.tsv', sep='\\t')\n",
    "# 'chromosome' column will hold contig names in GRCh37 style\n",
    "hgcb['chromosome'] = [c.replace('chr', '') for c in hgcb['chr']]\n",
    "# Index with tuples.  Multiindex might be better.\n",
    "hgcb.index = [(c.replace('chr', ''), n) for c, n in zip(hgcb['chr'], hgcb['name'])] \n",
    "hgcb"
   ]
  },
  {
   "cell_type": "markdown",
   "metadata": {},
   "source": [
    "Comparing the set of cytobands used in `CNV` (from szdb) to those in `hgcb` (from the hg19 bundle):"
   ]
  },
  {
   "cell_type": "code",
   "execution_count": 102,
   "metadata": {},
   "outputs": [],
   "source": [
    "set_hgcb = set(hgcb.index)\n",
    "set_CNV_start = set(list(zip(CNV['chromosome'], CNV['start cytoband'])))\n",
    "set_CNV_end = set(list(zip(CNV['chromosome'], CNV['end cytoband'])))"
   ]
  },
  {
   "cell_type": "markdown",
   "metadata": {},
   "source": [
    "In the previous code chunck `set_hgcb` is the set of cytoband names in `hgcb`. `set_CNV_starts` and `set_CNV_end` are the set of cytoband names that define the *start* and *end* of some schizophrenia related CNV, respectively.\n",
    "\n",
    "Both `set_CNV_start` and `set_CNV_end` contain cytoband names that are missing from `set_hgcb`. The following code shows that the same names are missing for `set_CNV_start` as for `set_CNV_end`."
   ]
  },
  {
   "cell_type": "code",
   "execution_count": 103,
   "metadata": {},
   "outputs": [
    {
     "data": {
      "text/plain": [
       "True"
      ]
     },
     "execution_count": 103,
     "metadata": {},
     "output_type": "execute_result"
    }
   ],
   "source": [
    "set_CNV_start - set_hgcb == set_CNV_end - set_hgcb"
   ]
  },
  {
   "cell_type": "markdown",
   "metadata": {},
   "source": [
    "I refer the missing names as *incorrect*.  The incorrect names are as follows"
   ]
  },
  {
   "cell_type": "code",
   "execution_count": 104,
   "metadata": {},
   "outputs": [
    {
     "data": {
      "text/plain": [
       "[('16', 'p12'),\n",
       " ('16', 'p13.1'),\n",
       " ('6', 'q22'),\n",
       " ('13', 'q31'),\n",
       " ('7', 'p36.3'),\n",
       " ('22', 'q11.2'),\n",
       " ('3', 'p263'),\n",
       " ('21', 'q22'),\n",
       " ('7', 'q11.2'),\n",
       " ('22', 'q11'),\n",
       " ('8', 'q11.2'),\n",
       " ('16', 'p11'),\n",
       " ('15', 'q11'),\n",
       " ('6', 'p13.11'),\n",
       " ('10', 'q23'),\n",
       " ('6', 'q24'),\n",
       " ('20', 'q11'),\n",
       " ('15', 'q12.1'),\n",
       " ('17', 'q21.3'),\n",
       " ('3', 'p21')]"
      ]
     },
     "execution_count": 104,
     "metadata": {},
     "output_type": "execute_result"
    }
   ],
   "source": [
    "incorr = list(set_CNV_start - set_bgcb)\n",
    "incorr"
   ]
  },
  {
   "cell_type": "markdown",
   "metadata": {},
   "source": [
    "By inspecting `hgcb` it turns out that the incorrect cytobands are all composed of multiple, more finely divided sub-cytobands.  So to correct each incorrect name I take the start (5') and end (3') member of its sub-cytobands from `hgcb`.  I will enter these semi-manually into the `corr start` and `corr end` columns of the following data frame."
   ]
  },
  {
   "cell_type": "code",
   "execution_count": 105,
   "metadata": {},
   "outputs": [],
   "source": [
    "corr_cb = pd.DataFrame({'incorr': incorr}, index=incorr)\n",
    "corr_cb['corr start'] = corr_cb.loc[:, 'incorr']\n",
    "corr_cb['corr end'] = corr_cb.loc[:, 'incorr']"
   ]
  },
  {
   "cell_type": "markdown",
   "metadata": {},
   "source": [
    "These functions will make manual data entry easier"
   ]
  },
  {
   "cell_type": "code",
   "execution_count": 106,
   "metadata": {},
   "outputs": [],
   "source": [
    "def correct(incorr, corr, which='start'):\n",
    "    corr_cb.loc[incorr, 'corr ' + which] = corr\n",
    "    if corr not in set_bgcb:\n",
    "        print('Wrong input:', corr, '\\nTry again')\n",
    "    \n",
    "def corrs(incorr, corr):\n",
    "    correct(incorr, corr, which='start')\n",
    "    \n",
    "def corre(incorr, corr):\n",
    "    correct(incorr, corr, which='end')"
   ]
  },
  {
   "cell_type": "markdown",
   "metadata": {},
   "source": [
    "Look at `/big/data/refgenome/GRCh37/cytoBand.tsv` for the following operations"
   ]
  },
  {
   "cell_type": "code",
   "execution_count": 107,
   "metadata": {},
   "outputs": [
    {
     "name": "stdout",
     "output_type": "stream",
     "text": [
      "Wrong input: ('6', 'p13.11') \n",
      "Try again\n",
      "Wrong input: ('6', 'p13.11') \n",
      "Try again\n",
      "Wrong input: ('7', 'p36.3') \n",
      "Try again\n",
      "Wrong input: ('7', 'p36.3') \n",
      "Try again\n"
     ]
    }
   ],
   "source": [
    "# I hate manual data entry\n",
    "corrs(('20', 'q11'), ('20', 'q11.1'))\n",
    "corre(('20', 'q11'), ('20', 'q11.23'))\n",
    "corrs(('15', 'q12.1'), ('15', 'q12'))\n",
    "corre(('15', 'q12.1'), ('15', 'q12'))\n",
    "corrs(('8', 'q11.2'), ('8', 'q11.21'))\n",
    "corre(('8', 'q11.2'), ('8', 'q11.23'))\n",
    "corrs(('16', 'p11'), ('16', 'p11.1'))\n",
    "corre(('16', 'p11'), ('16', 'p11.2'))\n",
    "corrs(('6', 'q24'), ('6', 'q24.1'))\n",
    "corre(('6', 'q24'), ('6', 'q24.3'))\n",
    "corrs(('22', 'q11.2'), ('22', 'q11.21'))\n",
    "corre(('22', 'q11.2'), ('22', 'q11.23'))\n",
    "corrs(('10', 'q23'), ('10', 'q23.1'))\n",
    "corre(('10', 'q23'), ('10', 'q23.33'))\n",
    "corrs(('6', 'p13.11'), ('6', 'p13.11'))\n",
    "corre(('6', 'p13.11'), ('6', 'p13.11'))\n",
    "corrs(('13', 'q31'), ('13', 'q31.1'))\n",
    "corre(('13', 'q31'), ('13', 'q31.3'))\n",
    "corrs(('16', 'p12'), ('16', 'p12.1'))\n",
    "corre(('16', 'p12'), ('16', 'p12.3'))\n",
    "corrs(('17', 'q21.3'), ('17', 'q21.31'))\n",
    "corre(('17', 'q21.3'), ('17', 'q21.33'))\n",
    "corrs(('3', 'p21'), ('3', 'p21.1'))\n",
    "corre(('3', 'p21'), ('3', 'p21.33'))\n",
    "corrs(('3', 'p263'), ('3', 'p26.3'))\n",
    "corre(('3', 'p263'), ('3', 'p26.3'))\n",
    "corrs(('15', 'q11'), ('15', 'q11.1'))\n",
    "corre(('15', 'q11'), ('15', 'q11.2'))\n",
    "corrs(('7', 'p36.3'), ('7', 'p36.3'))\n",
    "corre(('7', 'p36.3'), ('7', 'p36.3'))\n",
    "corrs(('22', 'q11'), ('22', 'q11.1'))\n",
    "corre(('22', 'q11'), ('22', 'q11.23'))\n",
    "corrs(('16', 'p13.1'), ('16', 'p13.11'))\n",
    "corre(('16', 'p13.1'), ('16', 'p13.13'))\n",
    "corrs(('7', 'q11.2'), ('7', 'q11.21'))\n",
    "corre(('7', 'q11.2'), ('7', 'q11.23'))\n",
    "corrs(('6', 'q22'), ('6', 'q22.1'))\n",
    "corre(('6', 'q22'), ('6', 'q22.33'))\n",
    "corrs(('21', 'q22'), ('21', 'q22.11'))\n",
    "corre(('21', 'q22'), ('21', 'q22.13'))"
   ]
  },
  {
   "cell_type": "markdown",
   "metadata": {},
   "source": [
    "The cytobands marked by `Wrong input` are probably typos made by the creators of `/big/results/bsm/2020-07-24-szdb/downloaded/CNV.txt` so I remove them from `CNV`:"
   ]
  },
  {
   "cell_type": "code",
   "execution_count": 108,
   "metadata": {},
   "outputs": [
    {
     "name": "stdout",
     "output_type": "stream",
     "text": [
      "748 943\n"
     ]
    }
   ],
   "source": [
    "l = list(zip(CNV['chromosome'], CNV['start cytoband']))\n",
    "print(l.index(('6', 'p13.11')), l.index(('7', 'p36.3')))"
   ]
  },
  {
   "cell_type": "code",
   "execution_count": 110,
   "metadata": {},
   "outputs": [],
   "source": [
    "ix_to_drop = CNV.index[[748, 943]]"
   ]
  },
  {
   "cell_type": "code",
   "execution_count": 111,
   "metadata": {},
   "outputs": [
    {
     "data": {
      "text/plain": [
       "Int64Index([760, 959], dtype='int64')"
      ]
     },
     "execution_count": 111,
     "metadata": {},
     "output_type": "execute_result"
    }
   ],
   "source": [
    "CNV.drop(index=ix_to_drop, inplace=True)\n",
    "CNV.index[[748, 943]]"
   ]
  },
  {
   "cell_type": "markdown",
   "metadata": {},
   "source": [
    "Now expand rows of `CNV` that correspond to CNVs spanning multiple cytogenic bands."
   ]
  },
  {
   "cell_type": "code",
   "execution_count": null,
   "metadata": {},
   "outputs": [],
   "source": []
  },
  {
   "cell_type": "code",
   "execution_count": 14,
   "metadata": {},
   "outputs": [
    {
     "name": "stdout",
     "output_type": "stream",
     "text": [
      "{\n",
      "  \"shell_port\": 46707,\n",
      "  \"iopub_port\": 55687,\n",
      "  \"stdin_port\": 52971,\n",
      "  \"control_port\": 44327,\n",
      "  \"hb_port\": 46589,\n",
      "  \"ip\": \"127.0.0.1\",\n",
      "  \"key\": \"7d9b9ec4-a8135908a611d2f56b985617\",\n",
      "  \"transport\": \"tcp\",\n",
      "  \"signature_scheme\": \"hmac-sha256\",\n",
      "  \"kernel_name\": \"\"\n",
      "}\n",
      "\n",
      "Paste the above JSON into a file, and connect with:\n",
      "    $> jupyter <app> --existing <file>\n",
      "or, if you are local, you can connect with just:\n",
      "    $> jupyter <app> --existing kernel-a22a0553-7696-4322-989d-87968b04446b.json\n",
      "or even just:\n",
      "    $> jupyter <app> --existing\n",
      "if this is the most recent Jupyter kernel you have started.\n"
     ]
    }
   ],
   "source": [
    "%connect_info"
   ]
  },
  {
   "cell_type": "code",
   "execution_count": null,
   "metadata": {},
   "outputs": [],
   "source": []
  }
 ],
 "metadata": {
  "kernelspec": {
   "display_name": "Python 3",
   "language": "python",
   "name": "python3"
  },
  "language_info": {
   "codemirror_mode": {
    "name": "ipython",
    "version": 3
   },
   "file_extension": ".py",
   "mimetype": "text/x-python",
   "name": "python",
   "nbconvert_exporter": "python",
   "pygments_lexer": "ipython3",
   "version": "3.7.6"
  }
 },
 "nbformat": 4,
 "nbformat_minor": 4
}
