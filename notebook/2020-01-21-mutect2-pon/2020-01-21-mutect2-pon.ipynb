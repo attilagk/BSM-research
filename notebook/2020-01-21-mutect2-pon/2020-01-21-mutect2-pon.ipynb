{
 "cells": [
  {
   "cell_type": "markdown",
   "metadata": {},
   "source": [
    "Here multiple alternatives for constructing the PON are explored.  These alternatives emerged during the development of the `src/tnseq_pon.py` script."
   ]
  },
  {
   "cell_type": "code",
   "execution_count": 1,
   "metadata": {},
   "outputs": [],
   "source": [
    "%load_ext autoreload\n",
    "%autoreload 2\n",
    "%matplotlib inline\n",
    "import tnseq_pon"
   ]
  },
  {
   "cell_type": "markdown",
   "metadata": {},
   "source": [
    "We we want to create a merged PON given a sample of interest, for which we will call variants using the merged PON.  We already created\n",
    "\n",
    "The alternative methods for PON generation are:\n",
    "1. merge all single sample based PONs for all samples except for the given sample (default)\n",
    "1. merge all single sample based PONs including the given sample\n",
    "1. merge all single sample based PONs including the given sample then subtract the PON for the given sample\n",
    "\n",
    "The last method is a call set subtraction and is implemented with `bcftools isec`."
   ]
  },
  {
   "cell_type": "code",
   "execution_count": 2,
   "metadata": {},
   "outputs": [
    {
     "name": "stdout",
     "output_type": "stream",
     "text": [
      "{\n",
      "  \"shell_port\": 36659,\n",
      "  \"iopub_port\": 32975,\n",
      "  \"stdin_port\": 38063,\n",
      "  \"control_port\": 36345,\n",
      "  \"hb_port\": 50963,\n",
      "  \"ip\": \"127.0.0.1\",\n",
      "  \"key\": \"ddc2b1a8-5cad7f93c01e4c68d27b6782\",\n",
      "  \"transport\": \"tcp\",\n",
      "  \"signature_scheme\": \"hmac-sha256\",\n",
      "  \"kernel_name\": \"\"\n",
      "}\n",
      "\n",
      "Paste the above JSON into a file, and connect with:\n",
      "    $> jupyter <app> --existing <file>\n",
      "or, if you are local, you can connect with just:\n",
      "    $> jupyter <app> --existing kernel-48be42c8-1e01-431d-a73a-59edaa3a6c23.json\n",
      "or even just:\n",
      "    $> jupyter <app> --existing\n",
      "if this is the most recent Jupyter kernel you have started.\n"
     ]
    }
   ],
   "source": [
    "%connect_info"
   ]
  },
  {
   "cell_type": "code",
   "execution_count": 3,
   "metadata": {},
   "outputs": [
    {
     "data": {
      "text/plain": [
       "2"
      ]
     },
     "execution_count": 3,
     "metadata": {},
     "output_type": "execute_result"
    }
   ],
   "source": [
    "2"
   ]
  }
 ],
 "metadata": {
  "kernelspec": {
   "display_name": "Python 3",
   "language": "python",
   "name": "python3"
  },
  "language_info": {
   "codemirror_mode": {
    "name": "ipython",
    "version": 3
   },
   "file_extension": ".py",
   "mimetype": "text/x-python",
   "name": "python",
   "nbconvert_exporter": "python",
   "pygments_lexer": "ipython3",
   "version": "3.7.4"
  }
 },
 "nbformat": 4,
 "nbformat_minor": 2
}
