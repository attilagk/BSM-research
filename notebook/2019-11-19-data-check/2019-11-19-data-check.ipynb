{
 "cells": [
  {
   "cell_type": "markdown",
   "metadata": {},
   "source": [
    "Checking more data"
   ]
  },
  {
   "cell_type": "code",
   "execution_count": 76,
   "metadata": {},
   "outputs": [
    {
     "name": "stdout",
     "output_type": "stream",
     "text": [
      "The autoreload extension is already loaded. To reload it, use:\n",
      "  %reload_ext autoreload\n"
     ]
    }
   ],
   "source": [
    "%load_ext autoreload\n",
    "%autoreload 2\n",
    "%matplotlib inline\n",
    "import attila_utils\n",
    "import correct_rg_HK\n",
    "import data_check\n",
    "import pandas as pd"
   ]
  },
  {
   "cell_type": "code",
   "execution_count": 2,
   "metadata": {},
   "outputs": [
    {
     "name": "stdout",
     "output_type": "stream",
     "text": [
      "/projects/bsm/alignments/PITT_101/PITT_101_NeuN_pl.bam\n",
      "/projects/bsm/alignments/MSSM_193/MSSM_193_NeuN_pl.bam\n",
      "/projects/bsm/alignments/MSSM_056/MSSM_056_NeuN_pl.bam\n",
      "/projects/bsm/alignments/PITT_036/PITT_036_NeuN_pl.bam\n",
      "/projects/bsm/alignments/MSSM_331/MSSM_331_NeuN_pl.bam\n",
      "/projects/bsm/alignments/PITT_060/PITT_060_NeuN_pl.bam\n",
      "/projects/bsm/alignments/MSSM_304/MSSM_304_NeuN_pl.bam\n"
     ]
    }
   ],
   "source": [
    "%%bash\n",
    "cd /projects/bsm/attila/results/2019-11-19-data-check\n",
    "find /projects/bsm/alignments/ -name '*.bam' \\\n",
    "-newer /projects/bsm/alignments/MSSM_295/MSSM_295_NeuN_pl.bam | \\\n",
    "xargs realpath > CMC-bam-names\n",
    "cat CMC-bam-names"
   ]
  },
  {
   "cell_type": "code",
   "execution_count": 60,
   "metadata": {},
   "outputs": [],
   "source": [
    "%%bash\n",
    "if false; then\n",
    "    cd /projects/bsm/attila/results/2019-11-19-data-check                                                                               \n",
    "    script=/home/attila/projects/bsm/notebook/2018-12-18-verifyBamID/CMCverifyBamID.2\n",
    "    for bam in `cat CMC-bam-names`; do\n",
    "        $script $bam &\n",
    "    done\n",
    "fi"
   ]
  },
  {
   "cell_type": "code",
   "execution_count": 64,
   "metadata": {},
   "outputs": [
    {
     "name": "stdout",
     "output_type": "stream",
     "text": [
      "output file:\n",
      "/projects/bsm/attila/results/2019-11-19-data-check/all.selfSM\n"
     ]
    }
   ],
   "source": [
    "%%bash\n",
    "cd /projects/bsm/attila/results/2019-11-19-data-check\n",
    "/home/attila/projects/bsm/notebook/2018-12-18-verifyBamID/aggregate-selfSM\n",
    "echo output file:\n",
    "realpath all.selfSM"
   ]
  },
  {
   "cell_type": "code",
   "execution_count": 71,
   "metadata": {},
   "outputs": [
    {
     "data": {
      "text/html": [
       "<div>\n",
       "<style scoped>\n",
       "    .dataframe tbody tr th:only-of-type {\n",
       "        vertical-align: middle;\n",
       "    }\n",
       "\n",
       "    .dataframe tbody tr th {\n",
       "        vertical-align: top;\n",
       "    }\n",
       "\n",
       "    .dataframe thead th {\n",
       "        text-align: right;\n",
       "    }\n",
       "</style>\n",
       "<table border=\"1\" class=\"dataframe\">\n",
       "  <thead>\n",
       "    <tr style=\"text-align: right;\">\n",
       "      <th></th>\n",
       "      <th>sample</th>\n",
       "      <th>indivID</th>\n",
       "      <th>tissue</th>\n",
       "      <th>SEQ_ID</th>\n",
       "      <th>RG</th>\n",
       "      <th>CHIP_ID</th>\n",
       "      <th>SNPS</th>\n",
       "      <th>READS</th>\n",
       "      <th>AVG_DP</th>\n",
       "      <th>FREEMIX</th>\n",
       "      <th>...</th>\n",
       "      <th>FREE_RH</th>\n",
       "      <th>FREE_RA</th>\n",
       "      <th>CHIPMIX</th>\n",
       "      <th>CHIPLK1</th>\n",
       "      <th>CHIPLK0</th>\n",
       "      <th>CHIP_RH</th>\n",
       "      <th>CHIP_RA</th>\n",
       "      <th>DPREF</th>\n",
       "      <th>RDPHET</th>\n",
       "      <th>RDPALT</th>\n",
       "    </tr>\n",
       "  </thead>\n",
       "  <tbody>\n",
       "    <tr>\n",
       "      <th>0</th>\n",
       "      <td>MSSM_056_NeuN_pl</td>\n",
       "      <td>MSSM_056</td>\n",
       "      <td>NeuN_pl</td>\n",
       "      <td>0_MSSM_127</td>\n",
       "      <td>ALL</td>\n",
       "      <td>0_MSSM_127</td>\n",
       "      <td>668238</td>\n",
       "      <td>13049448</td>\n",
       "      <td>19.53</td>\n",
       "      <td>0.00586</td>\n",
       "      <td>...</td>\n",
       "      <td>NaN</td>\n",
       "      <td>NaN</td>\n",
       "      <td>0.00569</td>\n",
       "      <td>2943924.65</td>\n",
       "      <td>2974025.13</td>\n",
       "      <td>NaN</td>\n",
       "      <td>NaN</td>\n",
       "      <td>19.516</td>\n",
       "      <td>1.0017</td>\n",
       "      <td>1.0020</td>\n",
       "    </tr>\n",
       "    <tr>\n",
       "      <th>1</th>\n",
       "      <td>MSSM_193_NeuN_pl</td>\n",
       "      <td>MSSM_193</td>\n",
       "      <td>NeuN_pl</td>\n",
       "      <td>0_MSSM_250</td>\n",
       "      <td>ALL</td>\n",
       "      <td>0_MSSM_250</td>\n",
       "      <td>668238</td>\n",
       "      <td>13049723</td>\n",
       "      <td>19.53</td>\n",
       "      <td>0.00357</td>\n",
       "      <td>...</td>\n",
       "      <td>NaN</td>\n",
       "      <td>NaN</td>\n",
       "      <td>0.00343</td>\n",
       "      <td>2890090.14</td>\n",
       "      <td>2905634.06</td>\n",
       "      <td>NaN</td>\n",
       "      <td>NaN</td>\n",
       "      <td>19.418</td>\n",
       "      <td>1.0294</td>\n",
       "      <td>0.9623</td>\n",
       "    </tr>\n",
       "    <tr>\n",
       "      <th>2</th>\n",
       "      <td>MSSM_331_NeuN_pl</td>\n",
       "      <td>MSSM_331</td>\n",
       "      <td>NeuN_pl</td>\n",
       "      <td>0_MSSM_375</td>\n",
       "      <td>ALL</td>\n",
       "      <td>0_MSSM_375</td>\n",
       "      <td>668238</td>\n",
       "      <td>13049659</td>\n",
       "      <td>19.53</td>\n",
       "      <td>0.00468</td>\n",
       "      <td>...</td>\n",
       "      <td>NaN</td>\n",
       "      <td>NaN</td>\n",
       "      <td>0.00470</td>\n",
       "      <td>2983124.63</td>\n",
       "      <td>3011881.48</td>\n",
       "      <td>NaN</td>\n",
       "      <td>NaN</td>\n",
       "      <td>19.561</td>\n",
       "      <td>0.9962</td>\n",
       "      <td>0.9959</td>\n",
       "    </tr>\n",
       "    <tr>\n",
       "      <th>3</th>\n",
       "      <td>PITT_060_NeuN_pl</td>\n",
       "      <td>PITT_060</td>\n",
       "      <td>NeuN_pl</td>\n",
       "      <td>0_PITT_1542</td>\n",
       "      <td>ALL</td>\n",
       "      <td>0_PITT_1542</td>\n",
       "      <td>668238</td>\n",
       "      <td>13049499</td>\n",
       "      <td>19.53</td>\n",
       "      <td>0.00324</td>\n",
       "      <td>...</td>\n",
       "      <td>NaN</td>\n",
       "      <td>NaN</td>\n",
       "      <td>0.00314</td>\n",
       "      <td>2862163.44</td>\n",
       "      <td>2875543.44</td>\n",
       "      <td>NaN</td>\n",
       "      <td>NaN</td>\n",
       "      <td>19.416</td>\n",
       "      <td>1.0294</td>\n",
       "      <td>0.9632</td>\n",
       "    </tr>\n",
       "  </tbody>\n",
       "</table>\n",
       "<p>4 rows × 22 columns</p>\n",
       "</div>"
      ],
      "text/plain": [
       "             sample   indivID   tissue       SEQ_ID   RG      CHIP_ID    SNPS  \\\n",
       "0  MSSM_056_NeuN_pl  MSSM_056  NeuN_pl   0_MSSM_127  ALL   0_MSSM_127  668238   \n",
       "1  MSSM_193_NeuN_pl  MSSM_193  NeuN_pl   0_MSSM_250  ALL   0_MSSM_250  668238   \n",
       "2  MSSM_331_NeuN_pl  MSSM_331  NeuN_pl   0_MSSM_375  ALL   0_MSSM_375  668238   \n",
       "3  PITT_060_NeuN_pl  PITT_060  NeuN_pl  0_PITT_1542  ALL  0_PITT_1542  668238   \n",
       "\n",
       "      READS  AVG_DP  FREEMIX  ...  FREE_RH  FREE_RA  CHIPMIX     CHIPLK1  \\\n",
       "0  13049448   19.53  0.00586  ...      NaN      NaN  0.00569  2943924.65   \n",
       "1  13049723   19.53  0.00357  ...      NaN      NaN  0.00343  2890090.14   \n",
       "2  13049659   19.53  0.00468  ...      NaN      NaN  0.00470  2983124.63   \n",
       "3  13049499   19.53  0.00324  ...      NaN      NaN  0.00314  2862163.44   \n",
       "\n",
       "      CHIPLK0  CHIP_RH  CHIP_RA   DPREF  RDPHET  RDPALT  \n",
       "0  2974025.13      NaN      NaN  19.516  1.0017  1.0020  \n",
       "1  2905634.06      NaN      NaN  19.418  1.0294  0.9623  \n",
       "2  3011881.48      NaN      NaN  19.561  0.9962  0.9959  \n",
       "3  2875543.44      NaN      NaN  19.416  1.0294  0.9632  \n",
       "\n",
       "[4 rows x 22 columns]"
      ]
     },
     "execution_count": 71,
     "metadata": {},
     "output_type": "execute_result"
    }
   ],
   "source": [
    "selfSM = pd.read_csv('/projects/bsm/attila/results/2019-11-19-data-check/all.selfSM', sep='\\t')\n",
    "selfSM"
   ]
  },
  {
   "cell_type": "code",
   "execution_count": 81,
   "metadata": {},
   "outputs": [
    {
     "data": {
      "text/plain": [
       "['named-figure/freemix.png', 'named-figure/freemix.pdf']"
      ]
     },
     "execution_count": 81,
     "metadata": {},
     "output_type": "execute_result"
    },
    {
     "data": {
      "image/png": "[encoded data removed]",
      "text/plain": [
       "<Figure size 576x396 with 2 Axes>"
      ]
     },
     "metadata": {
      "needs_background": "light"
     },
     "output_type": "display_data"
    }
   ],
   "source": [
    "fig = data_check.selfSMplot(selfSM)\n",
    "attila_utils.savefig(fig, 'freemix')"
   ]
  },
  {
   "cell_type": "code",
   "execution_count": 3,
   "metadata": {},
   "outputs": [
    {
     "name": "stdout",
     "output_type": "stream",
     "text": [
      "{\n",
      "  \"shell_port\": 35393,\n",
      "  \"iopub_port\": 41385,\n",
      "  \"stdin_port\": 51831,\n",
      "  \"control_port\": 44547,\n",
      "  \"hb_port\": 44651,\n",
      "  \"ip\": \"127.0.0.1\",\n",
      "  \"key\": \"f8a0fa67-ff4b3f4cb11ac0b1ce72593b\",\n",
      "  \"transport\": \"tcp\",\n",
      "  \"signature_scheme\": \"hmac-sha256\",\n",
      "  \"kernel_name\": \"\"\n",
      "}\n",
      "\n",
      "Paste the above JSON into a file, and connect with:\n",
      "    $> jupyter <app> --existing <file>\n",
      "or, if you are local, you can connect with just:\n",
      "    $> jupyter <app> --existing kernel-7daf46db-4b6d-4d07-95d8-e954407915c1.json\n",
      "or even just:\n",
      "    $> jupyter <app> --existing\n",
      "if this is the most recent Jupyter kernel you have started.\n"
     ]
    }
   ],
   "source": [
    "%connect_info"
   ]
  },
  {
   "cell_type": "code",
   "execution_count": null,
   "metadata": {},
   "outputs": [],
   "source": []
  }
 ],
 "metadata": {
  "kernelspec": {
   "display_name": "Python 3",
   "language": "python",
   "name": "python3"
  },
  "language_info": {
   "codemirror_mode": {
    "name": "ipython",
    "version": 3
   },
   "file_extension": ".py",
   "mimetype": "text/x-python",
   "name": "python",
   "nbconvert_exporter": "python",
   "pygments_lexer": "ipython3",
   "version": "3.7.4"
  }
 },
 "nbformat": 4,
 "nbformat_minor": 2
}
