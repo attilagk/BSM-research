{
 "cells": [
  {
   "cell_type": "markdown",
   "metadata": {},
   "source": [
    "Precision and recall for various callers with their default filters."
   ]
  },
  {
   "cell_type": "code",
   "execution_count": 1,
   "metadata": {},
   "outputs": [],
   "source": [
    "%load_ext autoreload\n",
    "%autoreload 2\n",
    "%matplotlib inline\n",
    "import matplotlib\n",
    "matplotlib.rcParams['figure.dpi'] = 150\n",
    "#matplotlib.rcParams['figure.figsize'] = [7, 5]\n",
    "from IPython.display import set_matplotlib_formats\n",
    "set_matplotlib_formats('png', 'pdf')"
   ]
  },
  {
   "cell_type": "code",
   "execution_count": 36,
   "metadata": {},
   "outputs": [],
   "source": [
    "import pandas as pd\n",
    "import setsizes2prec_recall as pr"
   ]
  },
  {
   "cell_type": "code",
   "execution_count": 37,
   "metadata": {},
   "outputs": [
    {
     "data": {
      "text/html": [
       "<div>\n",
       "<style scoped>\n",
       "    .dataframe tbody tr th:only-of-type {\n",
       "        vertical-align: middle;\n",
       "    }\n",
       "\n",
       "    .dataframe tbody tr th {\n",
       "        vertical-align: top;\n",
       "    }\n",
       "\n",
       "    .dataframe thead th {\n",
       "        text-align: right;\n",
       "    }\n",
       "</style>\n",
       "<table border=\"1\" class=\"dataframe\">\n",
       "  <thead>\n",
       "    <tr style=\"text-align: right;\">\n",
       "      <th></th>\n",
       "      <th>path</th>\n",
       "      <th>C</th>\n",
       "      <th>V</th>\n",
       "      <th>CV</th>\n",
       "    </tr>\n",
       "    <tr>\n",
       "      <th>callset</th>\n",
       "      <th></th>\n",
       "      <th></th>\n",
       "      <th></th>\n",
       "      <th></th>\n",
       "    </tr>\n",
       "  </thead>\n",
       "  <tbody>\n",
       "    <tr>\n",
       "      <th>strelka2Germline2s</th>\n",
       "      <td>/big/results/bsm/2019-03-22-prec-recall/chr22/...</td>\n",
       "      <td>15188</td>\n",
       "      <td>24821</td>\n",
       "      <td>12714</td>\n",
       "    </tr>\n",
       "    <tr>\n",
       "      <th>strelka2Somatic</th>\n",
       "      <td>/big/results/bsm/2019-03-22-prec-recall/chr22/...</td>\n",
       "      <td>1597</td>\n",
       "      <td>24821</td>\n",
       "      <td>1560</td>\n",
       "    </tr>\n",
       "    <tr>\n",
       "      <th>Tnseq</th>\n",
       "      <td>/big/results/bsm/2019-03-22-prec-recall/chr22/...</td>\n",
       "      <td>1252</td>\n",
       "      <td>24821</td>\n",
       "      <td>1106</td>\n",
       "    </tr>\n",
       "  </tbody>\n",
       "</table>\n",
       "</div>"
      ],
      "text/plain": [
       "                                                                 path      C  \\\n",
       "callset                                                                        \n",
       "strelka2Germline2s  /big/results/bsm/2019-03-22-prec-recall/chr22/...  15188   \n",
       "strelka2Somatic     /big/results/bsm/2019-03-22-prec-recall/chr22/...   1597   \n",
       "Tnseq               /big/results/bsm/2019-03-22-prec-recall/chr22/...   1252   \n",
       "\n",
       "                        V     CV  \n",
       "callset                           \n",
       "strelka2Germline2s  24821  12714  \n",
       "strelka2Somatic     24821   1560  \n",
       "Tnseq               24821   1106  "
      ]
     },
     "execution_count": 37,
     "metadata": {},
     "output_type": "execute_result"
    }
   ],
   "source": [
    "pr.extend_w_prec_recall()"
   ]
  },
  {
   "cell_type": "code",
   "execution_count": 24,
   "metadata": {},
   "outputs": [
    {
     "data": {
      "text/html": [
       "<div>\n",
       "<style scoped>\n",
       "    .dataframe tbody tr th:only-of-type {\n",
       "        vertical-align: middle;\n",
       "    }\n",
       "\n",
       "    .dataframe tbody tr th {\n",
       "        vertical-align: top;\n",
       "    }\n",
       "\n",
       "    .dataframe thead th {\n",
       "        text-align: right;\n",
       "    }\n",
       "</style>\n",
       "<table border=\"1\" class=\"dataframe\">\n",
       "  <thead>\n",
       "    <tr style=\"text-align: right;\">\n",
       "      <th></th>\n",
       "      <th>path</th>\n",
       "      <th>C</th>\n",
       "      <th>V</th>\n",
       "      <th>CV</th>\n",
       "    </tr>\n",
       "    <tr>\n",
       "      <th>callset</th>\n",
       "      <th></th>\n",
       "      <th></th>\n",
       "      <th></th>\n",
       "      <th></th>\n",
       "    </tr>\n",
       "  </thead>\n",
       "  <tbody>\n",
       "    <tr>\n",
       "      <th>strelka2Germline2s</th>\n",
       "      <td>/big/results/bsm/2019-03-22-prec-recall/chr22/...</td>\n",
       "      <td>15188</td>\n",
       "      <td>24821</td>\n",
       "      <td>12714</td>\n",
       "    </tr>\n",
       "    <tr>\n",
       "      <th>strelka2Somatic</th>\n",
       "      <td>/big/results/bsm/2019-03-22-prec-recall/chr22/...</td>\n",
       "      <td>1597</td>\n",
       "      <td>24821</td>\n",
       "      <td>1560</td>\n",
       "    </tr>\n",
       "    <tr>\n",
       "      <th>Tnseq</th>\n",
       "      <td>/big/results/bsm/2019-03-22-prec-recall/chr22/...</td>\n",
       "      <td>1252</td>\n",
       "      <td>24821</td>\n",
       "      <td>1106</td>\n",
       "    </tr>\n",
       "  </tbody>\n",
       "</table>\n",
       "</div>"
      ],
      "text/plain": [
       "                                                                 path      C  \\\n",
       "callset                                                                        \n",
       "strelka2Germline2s  /big/results/bsm/2019-03-22-prec-recall/chr22/...  15188   \n",
       "strelka2Somatic     /big/results/bsm/2019-03-22-prec-recall/chr22/...   1597   \n",
       "Tnseq               /big/results/bsm/2019-03-22-prec-recall/chr22/...   1252   \n",
       "\n",
       "                        V     CV  \n",
       "callset                           \n",
       "strelka2Germline2s  24821  12714  \n",
       "strelka2Somatic     24821   1560  \n",
       "Tnseq               24821   1106  "
      ]
     },
     "execution_count": 24,
     "metadata": {},
     "output_type": "execute_result"
    }
   ],
   "source": [
    "maindir='/home/attila/projects/bsm/results/2019-03-22-prec-recall/chr22/'\n",
    "subdir='indel'\n",
    "prcsv='/home/attila/projects/bsm/results/2019-03-22-prec-recall/chr22/indel/pr.csv'\n",
    "df = pd.read_csv(prcsv, index_col=0)\n",
    "df"
   ]
  },
  {
   "cell_type": "code",
   "execution_count": 33,
   "metadata": {},
   "outputs": [],
   "source": [
    "df['precision'] = df['CV'] / df['C']\n",
    "df['recall'] = df['CV'] / df['V']"
   ]
  },
  {
   "cell_type": "code",
   "execution_count": 34,
   "metadata": {},
   "outputs": [
    {
     "data": {
      "text/html": [
       "<div>\n",
       "<style scoped>\n",
       "    .dataframe tbody tr th:only-of-type {\n",
       "        vertical-align: middle;\n",
       "    }\n",
       "\n",
       "    .dataframe tbody tr th {\n",
       "        vertical-align: top;\n",
       "    }\n",
       "\n",
       "    .dataframe thead th {\n",
       "        text-align: right;\n",
       "    }\n",
       "</style>\n",
       "<table border=\"1\" class=\"dataframe\">\n",
       "  <thead>\n",
       "    <tr style=\"text-align: right;\">\n",
       "      <th></th>\n",
       "      <th>path</th>\n",
       "      <th>C</th>\n",
       "      <th>V</th>\n",
       "      <th>CV</th>\n",
       "      <th>precision</th>\n",
       "      <th>recall</th>\n",
       "    </tr>\n",
       "    <tr>\n",
       "      <th>callset</th>\n",
       "      <th></th>\n",
       "      <th></th>\n",
       "      <th></th>\n",
       "      <th></th>\n",
       "      <th></th>\n",
       "      <th></th>\n",
       "    </tr>\n",
       "  </thead>\n",
       "  <tbody>\n",
       "    <tr>\n",
       "      <th>strelka2Germline2s</th>\n",
       "      <td>/big/results/bsm/2019-03-22-prec-recall/chr22/...</td>\n",
       "      <td>15188</td>\n",
       "      <td>24821</td>\n",
       "      <td>12714</td>\n",
       "      <td>0.837108</td>\n",
       "      <td>0.512228</td>\n",
       "    </tr>\n",
       "    <tr>\n",
       "      <th>strelka2Somatic</th>\n",
       "      <td>/big/results/bsm/2019-03-22-prec-recall/chr22/...</td>\n",
       "      <td>1597</td>\n",
       "      <td>24821</td>\n",
       "      <td>1560</td>\n",
       "      <td>0.976832</td>\n",
       "      <td>0.062850</td>\n",
       "    </tr>\n",
       "    <tr>\n",
       "      <th>Tnseq</th>\n",
       "      <td>/big/results/bsm/2019-03-22-prec-recall/chr22/...</td>\n",
       "      <td>1252</td>\n",
       "      <td>24821</td>\n",
       "      <td>1106</td>\n",
       "      <td>0.883387</td>\n",
       "      <td>0.044559</td>\n",
       "    </tr>\n",
       "  </tbody>\n",
       "</table>\n",
       "</div>"
      ],
      "text/plain": [
       "                                                                 path      C  \\\n",
       "callset                                                                        \n",
       "strelka2Germline2s  /big/results/bsm/2019-03-22-prec-recall/chr22/...  15188   \n",
       "strelka2Somatic     /big/results/bsm/2019-03-22-prec-recall/chr22/...   1597   \n",
       "Tnseq               /big/results/bsm/2019-03-22-prec-recall/chr22/...   1252   \n",
       "\n",
       "                        V     CV  precision    recall  \n",
       "callset                                                \n",
       "strelka2Germline2s  24821  12714   0.837108  0.512228  \n",
       "strelka2Somatic     24821   1560   0.976832  0.062850  \n",
       "Tnseq               24821   1106   0.883387  0.044559  "
      ]
     },
     "execution_count": 34,
     "metadata": {},
     "output_type": "execute_result"
    }
   ],
   "source": [
    "df"
   ]
  },
  {
   "cell_type": "code",
   "execution_count": null,
   "metadata": {},
   "outputs": [],
   "source": []
  }
 ],
 "metadata": {
  "kernelspec": {
   "display_name": "Python 3",
   "language": "python",
   "name": "python3"
  },
  "language_info": {
   "codemirror_mode": {
    "name": "ipython",
    "version": 3
   },
   "file_extension": ".py",
   "mimetype": "text/x-python",
   "name": "python",
   "nbconvert_exporter": "python",
   "pygments_lexer": "ipython3",
   "version": "3.5.3"
  }
 },
 "nbformat": 4,
 "nbformat_minor": 2
}
