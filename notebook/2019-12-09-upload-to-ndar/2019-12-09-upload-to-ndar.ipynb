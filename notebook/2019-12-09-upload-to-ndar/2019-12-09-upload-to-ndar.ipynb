{
 "cells": [
  {
   "cell_type": "markdown",
   "metadata": {},
   "source": [
    "Making manifests for the newest upload to NDA using the improved ~/projects/bsm/src/cmc_submit2ndar.py script."
   ]
  },
  {
   "cell_type": "code",
   "execution_count": 107,
   "metadata": {},
   "outputs": [
    {
     "name": "stdout",
     "output_type": "stream",
     "text": [
      "The autoreload extension is already loaded. To reload it, use:\n",
      "  %reload_ext autoreload\n"
     ]
    }
   ],
   "source": [
    "%load_ext autoreload\n",
    "%autoreload 2\n",
    "#import cmc_submit2ndar\n",
    "import synapseclient\n",
    "import glob"
   ]
  },
  {
   "cell_type": "markdown",
   "metadata": {},
   "source": [
    "Call `/home/attila/projects/bsm/notebook/2019-12-09-upload-to-ndar/samples-to-upload` and edit the resulting file by removing MSSM_310 from it because that individual does not have pseudo GUID yet."
   ]
  },
  {
   "cell_type": "code",
   "execution_count": 102,
   "metadata": {},
   "outputs": [
    {
     "name": "stdout",
     "output_type": "stream",
     "text": [
      "samples-to-upload.csv\n",
      "samples-to-upload-MSSM_310.csv\n"
     ]
    }
   ],
   "source": [
    "%%bash\n",
    "cd /projects/bsm/attila/results/2019-12-09-upload-to-ndar\n",
    "ls"
   ]
  },
  {
   "cell_type": "markdown",
   "metadata": {},
   "source": [
    "The format of the sample files is as below.  Files like these are the input to `~/projects/bsm/src/cmc_submit2ndar.py`"
   ]
  },
  {
   "cell_type": "code",
   "execution_count": 103,
   "metadata": {},
   "outputs": [
    {
     "name": "stdout",
     "output_type": "stream",
     "text": [
      "indiv,tissue\n",
      "MSSM_033,NeuN_pl\n",
      "MSSM_056,NeuN_pl\n",
      "MSSM_065,NeuN_pl\n",
      "MSSM_193,NeuN_pl\n",
      "MSSM_295,NeuN_pl\n",
      "MSSM_304,NeuN_pl\n",
      "MSSM_331,NeuN_pl\n",
      "MSSM_338,NeuN_pl\n",
      "PITT_036,NeuN_pl\n"
     ]
    }
   ],
   "source": [
    "%%bash\n",
    "cd /projects/bsm/attila/results/2019-12-09-upload-to-ndar\n",
    "head samples-to-upload-MSSM_310.csv"
   ]
  },
  {
   "cell_type": "markdown",
   "metadata": {},
   "source": [
    "The help message of the script:"
   ]
  },
  {
   "cell_type": "code",
   "execution_count": 104,
   "metadata": {},
   "outputs": [
    {
     "name": "stdout",
     "output_type": "stream",
     "text": [
      "usage: cmc_submit2ndar.py [-h] [-d TARGETDIR] [-p PREFIX] slistcsv\n",
      "\n",
      "positional arguments:\n",
      "  slistcsv              sample list CSV file\n",
      "\n",
      "optional arguments:\n",
      "  -h, --help            show this help message and exit\n",
      "  -d TARGETDIR, --targetdir TARGETDIR\n",
      "                        target directory\n",
      "  -p PREFIX, --prefix PREFIX\n",
      "                        prefix for output files\n"
     ]
    }
   ],
   "source": [
    "%%bash\n",
    "cd /projects/bsm/attila/results/2019-12-09-upload-to-ndar\n",
    "~/projects/bsm/src/cmc_submit2ndar.py -h"
   ]
  },
  {
   "cell_type": "markdown",
   "metadata": {},
   "source": [
    "Now run the script and generate the three manifests that describe all samples in `samples-to-upload-MSSM_310.csv`."
   ]
  },
  {
   "cell_type": "code",
   "execution_count": 105,
   "metadata": {},
   "outputs": [
    {
     "name": "stdout",
     "output_type": "stream",
     "text": [
      "Welcome, Attila Jones!\n",
      "\n",
      "processing MSSM_033 NeuN_pl\n",
      "processing MSSM_056 NeuN_pl\n",
      "processing MSSM_065 NeuN_pl\n",
      "processing MSSM_193 NeuN_pl\n",
      "processing MSSM_295 NeuN_pl\n",
      "processing MSSM_304 NeuN_pl\n",
      "processing MSSM_331 NeuN_pl\n",
      "processing MSSM_338 NeuN_pl\n",
      "processing PITT_036 NeuN_pl\n",
      "processing PITT_060 NeuN_pl\n",
      "processing PITT_101 NeuN_pl\n"
     ]
    }
   ],
   "source": [
    "%%bash\n",
    "cd /projects/bsm/attila/results/2019-12-09-upload-to-ndar\n",
    "~/projects/bsm/src/cmc_submit2ndar.py -d . -p chess-2019-12-09- samples-to-upload-MSSM_310.csv"
   ]
  },
  {
   "cell_type": "markdown",
   "metadata": {},
   "source": [
    "The resulting files:"
   ]
  },
  {
   "cell_type": "code",
   "execution_count": 106,
   "metadata": {},
   "outputs": [
    {
     "name": "stdout",
     "output_type": "stream",
     "text": [
      "total 248\n",
      "-rw-rw-r-- 1 attila projects  39163 Dec 10 15:23 chess-2019-12-09-genomics_sample03.csv\n",
      "-rw-rw-r-- 1 attila projects   2377 Dec 10 15:23 chess-2019-12-09-genomics_subject02.csv\n",
      "-rw-rw-r-- 1 attila projects   7274 Dec 10 15:23 chess-2019-12-09-nichd_btb02.csv\n",
      "-rw-rw-r-- 1 attila projects 166819 Dec 10 15:23 nichd_btb02_U01MH106891_Chess.csv\n",
      "-rw-rw-r-- 1 attila projects    532 Dec 10 15:23 genomics_sample03_template.csv\n",
      "-rw-rw-r-- 1 attila projects  18256 Dec 10 15:23 genomics_subject02_U01MH106891_Chess.csv\n",
      "-rw-rw-r-- 1 attila projects    200 Dec 10 15:16 samples-to-upload-MSSM_310.csv\n",
      "-rw-rw-r-- 1 attila projects    217 Dec 10 15:15 samples-to-upload.csv\n"
     ]
    }
   ],
   "source": [
    "%%bash\n",
    "ls -lt /projects/bsm/attila/results/2019-12-09-upload-to-ndar"
   ]
  },
  {
   "cell_type": "markdown",
   "metadata": {},
   "source": [
    "Finally, upload the manifests to Synapse folder syn21344929.  See email from cindy.molitor@sagebase.org from 12/3/2019."
   ]
  },
  {
   "cell_type": "code",
   "execution_count": 110,
   "metadata": {},
   "outputs": [
    {
     "name": "stdout",
     "output_type": "stream",
     "text": [
      "\n",
      "##################################################\n",
      " Uploading file to Synapse storage \n",
      "##################################################\n",
      "\n",
      "\n",
      "##################################################\n",
      " Uploading file to Synapse storage \n",
      "##################################################\n",
      "\n",
      "\n",
      "##################################################\n",
      " Uploading file to Synapse storage \n",
      "##################################################\n",
      "\n"
     ]
    },
    {
     "data": {
      "text/plain": [
       "[File(createdOn='2019-12-10T20:50:05.317Z', parentId='syn21344929', versionLabel='1', name='chess-2019-12-09-genomics_subject02.csv', modifiedBy='3338602', modifiedOn='2019-12-10T20:50:05.823Z', files=['chess-2019-12-09-genomics_subject02.csv'], dataFileHandleId='46426651', versionNumber=1, etag='4a03b638-6269-499f-bcb6-9934bcb41bb0', createdBy='3338602', cacheDir='/projects/bsm/attila/results/2019-12-09-upload-to-ndar', path='/projects/bsm/attila/results/2019-12-09-upload-to-ndar/chess-2019-12-09-genomics_subject02.csv', synapseStore=True, concreteType='org.sagebionetworks.repo.model.FileEntity', id='syn21425918', _file_handle={'id': '46426651', 'etag': '9cec160f-9980-445e-a624-aa8fae932d6a', 'createdBy': '3338602', 'createdOn': '2019-12-10T20:50:05.000Z', 'concreteType': 'org.sagebionetworks.repo.model.file.S3FileHandle', 'contentType': 'text/csv', 'contentMd5': 'aafe0ad95ac5950523608bbf3e7a3887', 'fileName': 'chess-2019-12-09-genomics_subject02.csv', 'storageLocationId': 1, 'contentSize': 2377, 'bucketName': 'proddata.sagebase.org', 'key': '3338602/b79b7b16-1ca9-4fc8-9889-89d5e99e5d10/chess-2019-12-09-genomics_subject02.csv', 'isPreview': False, 'externalURL': None}),\n",
       " File(name='chess-2019-12-09-nichd_btb02.csv', parentId='syn21344929', versionLabel='1', createdOn='2019-12-10T20:50:07.664Z', modifiedBy='3338602', files=['chess-2019-12-09-nichd_btb02.csv'], id='syn21425919', versionNumber=1, _file_handle={'id': '46426653', 'etag': 'e488e8f7-34f9-4b2a-8ebc-57f0b9b2ed1f', 'createdBy': '3338602', 'createdOn': '2019-12-10T20:50:07.000Z', 'concreteType': 'org.sagebionetworks.repo.model.file.S3FileHandle', 'contentType': 'text/csv', 'contentMd5': 'ef3495d10242401f7febea4f3a905c6a', 'fileName': 'chess-2019-12-09-nichd_btb02.csv', 'storageLocationId': 1, 'contentSize': 7274, 'bucketName': 'proddata.sagebase.org', 'key': '3338602/9f0ba96d-3910-4d35-ac8a-5ca6ad211f18/chess-2019-12-09-nichd_btb02.csv', 'isPreview': False, 'externalURL': None}, etag='7da729de-2049-467e-b5f1-c453e5280d82', dataFileHandleId='46426653', createdBy='3338602', path='/projects/bsm/attila/results/2019-12-09-upload-to-ndar/chess-2019-12-09-nichd_btb02.csv', synapseStore=True, concreteType='org.sagebionetworks.repo.model.FileEntity', modifiedOn='2019-12-10T20:50:07.845Z', cacheDir='/projects/bsm/attila/results/2019-12-09-upload-to-ndar'),\n",
       " File(files=['chess-2019-12-09-genomics_sample03.csv'], name='chess-2019-12-09-genomics_sample03.csv', etag='59688bcb-04be-4786-b08d-0595c858b400', path='/projects/bsm/attila/results/2019-12-09-upload-to-ndar/chess-2019-12-09-genomics_sample03.csv', parentId='syn21344929', _file_handle={'id': '46426654', 'etag': 'f828edc9-b4a8-4685-9f9b-52ceb5872d61', 'createdBy': '3338602', 'createdOn': '2019-12-10T20:50:10.000Z', 'concreteType': 'org.sagebionetworks.repo.model.file.S3FileHandle', 'contentType': 'text/csv', 'contentMd5': 'fe24b97652e5f19aa8a5ca27145c127f', 'fileName': 'chess-2019-12-09-genomics_sample03.csv', 'storageLocationId': 1, 'contentSize': 39163, 'bucketName': 'proddata.sagebase.org', 'key': '3338602/b876ecc4-c395-4fa9-8e3a-f1e67de48511/chess-2019-12-09-genomics_sample03.csv', 'isPreview': False, 'externalURL': None}, versionLabel='1', dataFileHandleId='46426654', id='syn21425920', modifiedOn='2019-12-10T20:50:10.620Z', createdOn='2019-12-10T20:50:10.519Z', versionNumber=1, createdBy='3338602', cacheDir='/projects/bsm/attila/results/2019-12-09-upload-to-ndar', synapseStore=True, concreteType='org.sagebionetworks.repo.model.FileEntity', modifiedBy='3338602')]"
      ]
     },
     "execution_count": 110,
     "metadata": {},
     "output_type": "execute_result"
    }
   ],
   "source": [
    "manifests = glob.glob('/projects/bsm/attila/results/2019-12-09-upload-to-ndar/chess*csv')\n",
    "[syn.store(synapseclient.File(m, parent='syn21344929')) for m in manifests]"
   ]
  },
  {
   "cell_type": "code",
   "execution_count": 3,
   "metadata": {},
   "outputs": [
    {
     "name": "stdout",
     "output_type": "stream",
     "text": [
      "{\n",
      "  \"shell_port\": 33839,\n",
      "  \"iopub_port\": 49505,\n",
      "  \"stdin_port\": 41441,\n",
      "  \"control_port\": 49385,\n",
      "  \"hb_port\": 53901,\n",
      "  \"ip\": \"127.0.0.1\",\n",
      "  \"key\": \"2649fe81-f524a96cffc862cc9831756c\",\n",
      "  \"transport\": \"tcp\",\n",
      "  \"signature_scheme\": \"hmac-sha256\",\n",
      "  \"kernel_name\": \"\"\n",
      "}\n",
      "\n",
      "Paste the above JSON into a file, and connect with:\n",
      "    $> jupyter <app> --existing <file>\n",
      "or, if you are local, you can connect with just:\n",
      "    $> jupyter <app> --existing kernel-bc3bcbe7-2c05-4a41-820d-621d18a39726.json\n",
      "or even just:\n",
      "    $> jupyter <app> --existing\n",
      "if this is the most recent Jupyter kernel you have started.\n"
     ]
    }
   ],
   "source": [
    "%connect_info"
   ]
  },
  {
   "cell_type": "code",
   "execution_count": null,
   "metadata": {},
   "outputs": [],
   "source": []
  }
 ],
 "metadata": {
  "kernelspec": {
   "display_name": "Python 3",
   "language": "python",
   "name": "python3"
  },
  "language_info": {
   "codemirror_mode": {
    "name": "ipython",
    "version": 3
   },
   "file_extension": ".py",
   "mimetype": "text/x-python",
   "name": "python",
   "nbconvert_exporter": "python",
   "pygments_lexer": "ipython3",
   "version": "3.7.4"
  }
 },
 "nbformat": 4,
 "nbformat_minor": 2
}
