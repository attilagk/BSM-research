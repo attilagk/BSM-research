{
 "cells": [
  {
   "cell_type": "markdown",
   "metadata": {},
   "source": [
    "Define functional categories and filter calls for those in Control and SCZ individuals"
   ]
  },
  {
   "cell_type": "code",
   "execution_count": 26,
   "metadata": {},
   "outputs": [
    {
     "name": "stdout",
     "output_type": "stream",
     "text": [
      "The autoreload extension is already loaded. To reload it, use:\n",
      "  %reload_ext autoreload\n"
     ]
    }
   ],
   "source": [
    "%load_ext autoreload\n",
    "%autoreload 2\n",
    "%reload_ext autoreload\n",
    "from matplotlib import pyplot as plt\n",
    "import pandas as pd\n",
    "import attila_utils\n",
    "import funcvar\n",
    "import functools\n",
    "import ensembl_rest\n",
    "import os.path\n",
    "from bsmcalls import SNPnexus\n",
    "from bsmcalls import operations\n",
    "%matplotlib inline\n",
    "#pd.set_option('display.max_rows', None)\n",
    "#pd.set_option('display.max_colwidth', -1)"
   ]
  },
  {
   "cell_type": "markdown",
   "metadata": {},
   "source": [
    "## Preparations"
   ]
  },
  {
   "cell_type": "code",
   "execution_count": 4,
   "metadata": {},
   "outputs": [],
   "source": [
    "data = SNPnexus.load_data('/home/attila/projects/bsm/results/2020-09-07-annotations/annotated-calls.p')"
   ]
  },
  {
   "cell_type": "code",
   "execution_count": null,
   "metadata": {},
   "outputs": [],
   "source": [
    "d = {'coding nonsyn': 'near_gens_Annotation', 'stop-gain': 'near_gens_Annotation', 'intronic (splice_site)': 'near_gens_Annotation'}\n",
    "A = funcvar.count_members(D, d)\n",
    "B = D.groupby('Dx')['sift_Prediction'].apply(pd.Series.value_counts).unstack().T.loc[['Deleterious', 'Deleterious - Low Confidence']]\n",
    "counts = pd.concat([A, B], axis=0)\n",
    "#counts = counts.append(D.groupby('Dx')['tfbs_TFBS Name_bin'].sum().astype('int64'))\n",
    "#counts = counts.append(D.groupby('Dx')['regbuild_Epigenome_nervoussys_bin'].sum().astype('int64'))\n",
    "#counts = counts.append(D.groupby('Dx')['gerp_Element RS Score_bin'].sum().astype('int64'))\n",
    "counts"
   ]
  },
  {
   "cell_type": "markdown",
   "metadata": {},
   "source": [
    "### GWAS genes\n",
    "\n",
    "Here we take supplementary table 4 from the [CLOZUK paper](https://www.ncbi.nlm.nih.gov/pmc/articles/PMC5918692/) (clozapine UK), whose `Gene(s) tagged` column we turn into the `gwasgenes` set."
   ]
  },
  {
   "cell_type": "code",
   "execution_count": 18,
   "metadata": {},
   "outputs": [
    {
     "data": {
      "text/plain": [
       "\"{'DDX28', 'TP53TG1', 'HARBI1', 'DUS2', 'MAP3K11', 'ACD', 'LINC00051', 'LOC440704', 'MIR6777', 'TM6SF2', 'ZNF536', 'GRAPL', 'MIR3160-1', 'NUTF2', 'RBFOX1', 'TSR1', 'NLGN4X', 'PSMA4', 'SOX2-OT', 'TCF4', 'PPP1R13B', 'SPATS2L', 'ASH2L', 'MSANTD2', 'SRPK2', 'LOC79999', 'PPP1R16B', 'ZSWIM6', 'SCAF1', 'PGM3', 'CACNA1D', 'CALB2', 'LCAT', 'FAM109B', 'FSHB', 'TMEM243', 'ABCB9', 'MIR1281', 'C2orf47', 'ZFYVE21', 'LOC338963', 'ARL6IP4', 'CSMD1', 'SNORD91A', 'AKT3', 'ANKRD63', 'SLC32A1', 'OPCML', 'KCTD13', 'EMX1', 'SREBF2', 'RIMS1', 'TBX6', 'PTPRF', 'VPS45', 'C3orf49', 'SLC39A8', 'GPR135', 'ESRP2', 'TMX2-CTNND1', 'MIR33B', 'PSMB10', 'YPEL3', 'CKAP5', 'PTN', 'MIR8072', 'STAT6', 'TBC1D5', 'ALMS1P', 'CENPM', 'FES', 'PPP2R3A', 'LOC101929406', 'EFTUD1P1', 'LOC100507091', 'ALPK3', 'MPP6', 'WDR73', 'HCN1', 'COQ10B', 'SMG6', 'MIR4655', 'TMEM219', 'FTCDNL1', 'IREB2', 'GOLGA6L5P', 'KAT5', 'MED19', 'DGKI', 'NGEF', 'NMB', 'C10orf32', 'CNNM2', 'RPS19BP1', 'FGFR1', 'PITPNM2', 'TYW5', 'CYP2D6', 'AS3MT', 'ATXN7', 'JKAMP', 'ANKRD44-IT1', 'RFT1', 'LINC00933', 'NAT8', 'EHBP1L1', 'KIAA1324L', 'SF3B1', 'AKAP6', 'ARHGAP1', 'RD3L', 'MAN2A2', 'BAG4', 'CNOT1', 'WBP2NL', 'RFTN2', 'PTPRK', 'WBP1L', 'CENPT', 'GID4', 'UBE2Q2P2', 'PRKCB', 'SNORA76A', 'KCNK7', 'MIR33A', 'MIR3160-2', 'IRF3', 'OTOL1', 'MAPK3', 'ZBTB37', 'HIRIP3', 'MAU2', 'TAOK2', 'GIGYF2', 'FOXG1', 'BC037927', 'LOC283177', 'RERE', 'MIR2682', 'LSM1', 'CILP2', 'LINC01004', 'PSKH1', 'INO80E', 'STAC3', 'GOLGA6L9', 'LOC642423', 'LOC102546226', 'RNASEH2C', 'ADAMTSL3', 'ZNF592', 'MAD1L1', 'PCNXL3', 'C14orf2', 'MEF2C-AS1', 'PRRG2', 'ALMS1-IT1', 'CA14', 'SRR', 'NDFIP2', 'LOC440300', 'PRMT1', 'HYDIN', 'LOC388906', 'NFATC3', 'VPS13C', 'TAB1', 'HSPD1', 'DPEP2', 'MOB4', 'WHSC1L1', 'EP300-AS1', 'LOC283693', 'MIR548AJ2', 'GOLGA6L17P', 'PRKD1', 'PRR12', 'RLTPR', 'CACNB2', 'CPT1C', 'BOLL', 'INPP4B', 'EP300', 'LOC101928882', 'C16orf86', 'STAR', 'EMB', 'ZC3H7B', 'GOLGA6L4', 'MSL2', 'BANK1', 'SLC38A7', 'ANP32E', 'SNX19', 'PAK6', 'TCF20', 'ATP2A2', 'DPEP3', 'SFMBT1', 'MEF2C', 'FXR1', 'C16orf92', 'PLA2G15', 'SFXN5', 'HSPE1', 'NCAN', 'TMX2', 'LINC00461', 'CMTR2', 'SEPT3', 'ERCC4 ', 'SEMA6D', 'RGS6', 'AMBRA1', 'SNAP91', 'SPATA31D1', 'GRIN2A', 'LINC00862', 'C2orf69', 'HYKK', 'IGSF9B', 'PDE4B', 'ASPG', 'B3GAT1', 'SHISA8', 'MIR6843', 'C4orf27', 'BCL2L12', 'EFHD1', 'SEZ6L2', 'LOC102724034', 'NRGN', 'LOC102723362', 'INA', 'CYP17A1', 'CREB3L1', 'PLCL2', 'CLCN3', 'OGFOD2', 'SHMT2', 'DPYD-AS1', 'ZSCAN2', 'DGKZ', 'NRN1L', 'DMTF1', 'ZNF804A', 'MIR6889', 'ASCL1', 'UBE2Q2L', 'CHRNA3', 'RALGAPA2', 'L3MBTL2', 'LOC727751', 'L3HYPDH', 'RELA', 'RILPL2', 'DDHD2', 'ACTR5', 'BRINP2', 'RPEL1', 'THOC7-AS1', 'ENKD1', 'RANGAP1', 'MIR137HG', 'KMT2E-AS1', 'DNM1P41', 'SOX5', 'LOC283692', 'SETD8', 'VSIG2', 'EPN2-IT1', 'RABGAP1L', 'RAI1', 'C11orf31', 'ADM5', 'CCDC175', 'PTK2B', 'GPM6A', 'DOPEY1', 'SEC11A', 'PSMD6-AS2', 'LRP1', 'SREBF1', 'LOC100505474', 'TSNARE1', 'ALMS1', 'KMT2E', 'MIR1284', 'ZDHHC5', 'HAPLN4', 'NDUFA4L2', 'SDCCAG8', 'PLCB2', 'LINC00606', 'TSSK6', 'EDC4', 'BTBD18', 'BTG1', 'NCK1-AS1', 'CNTN4', 'EPN2-AS1', 'LRRC48', 'RPTOR', 'HS3ST5', 'BCL11B', 'SNORD63', 'MPPED2', 'ZNF408', 'FAM57B', 'MGAT3', 'SLC12A4', 'SBNO1', 'LOC101927839', 'PBX4', 'ZEB2', 'NXPH4', 'ETF1', 'MIR130A', 'CACNA1C', 'LOC100506472', 'CPNE8', 'ASPHD1', 'ATPAF2', 'RC3H1', 'STAG1', 'CA8', 'GOLGA6L10', 'CLU', 'TOM1L2', 'SMDT1', 'MIR4472-1', 'PSMD6', 'GPR52', 'FOXP1', 'LINC00634', 'UBE2Q2P1', 'xMHC', 'CHRNA5', 'IMMP2L', 'NDRG4', 'MIR4677', 'CHRM4', 'LOC101927273', 'SLC35G2', 'LOC101928782', 'CACNA1C-AS4', 'LOC100131303', 'PPP2R2A', 'KCNG2', 'PARD6A', 'CHRNB4', 'TDRD9', 'GFOD2', 'LINC00637', 'SERPING1', 'THAP11', 'PCCB', 'DPYD', 'PJA1', 'SATB2', 'CYP2D7P', 'NEK1', 'CLP1', 'CDK2AP1', 'NDFIP2-AS1', 'RWDD2A', 'CHRM3', 'SNORD91B', 'ARL14EP', 'LETM2', 'C12orf65', 'SNORA46', 'NCK1', 'MSRA', 'ALDOA', 'GOLGA2P7', 'NDUFA6-AS1', 'CACNA1C-IT3', 'TMEM194A', 'MIR4489', 'SCAND2P', 'PCGF6', 'PPP4C', 'SUGP1', 'MMP16', 'TMEM161B-AS1', 'GRM3', 'EPHX2', 'MIR4690', 'MIR4688', 'HSPE1-MOB4', 'GDPD3', 'DRD2', 'NDUFA6', 'FHIT', 'DFNA5', 'PLEKHO1', 'MIR4304', 'OTUD7B', 'MPHOSPH9', 'NDUFA13', 'RBM26-AS1', 'RBM26', 'LOC388436', 'LOC101927295', 'NT5C2', 'KCNJ13', 'SLC45A1', 'NAGA', 'SIPA1', 'C10orf32-ASMT', 'THOC7', 'KDM4A', 'CTRL', 'SMCR5', 'MIR9-2', 'GATAD2A', 'BNIP3L', 'C2orf82', 'CTNND1', 'SETD6', 'CHADL', 'RANBP10', 'PLCH2', 'DNAJC19', 'PSD3', 'MIR6773', 'U80770', 'ADAMTS7P1', 'GABBR2', 'MIR5088', 'FANCL', 'EPN2', 'VRK2', 'LOC103171574', 'LUZP2', 'LINC01288', 'TSNAXIP1', 'CPEB1', 'AL050132', 'RRAS', 'TRANK1', 'ATG13', 'LOC101929829', 'YJEFN3', 'HSPA9', 'ESAM', 'FURIN', 'NAB2', 'MIR548AI', 'YPEL4', 'UBE3D', 'MARS2', 'CACNA1I', 'DOC2A', 'MIR4301', 'MDK', 'MIR137', 'SERPINC1', 'AIG1', 'KCNV1', 'TLE3', 'TNFRSF13C', 'PPAPDC1B', 'FLJ31662', 'F2', 'SLC7A6', 'XRCC3', 'ANKRD44', 'LOC101927134', 'CHRNA2', 'AP3B2', 'PLCL1', 'R3HDM2', 'ZNF823', 'CUL3', 'RPS17', 'LOC80154'}\""
      ]
     },
     "execution_count": 18,
     "metadata": {},
     "output_type": "execute_result"
    }
   ],
   "source": [
    "clozukpath = '/home/attila/projects/bsm/resources/CLOZUK/supp-table-4.csv'\n",
    "gwasgenes = funcvar.get_geneset(df=pd.read_csv(clozukpath, skiprows=7), col='Gene(s) tagged')\n",
    "repr(gwasgenes)"
   ]
  },
  {
   "cell_type": "code",
   "execution_count": null,
   "metadata": {},
   "outputs": [],
   "source": [
    "Dgwas = D.loc[D['near_gens_Overlapped Gene'].apply(lambda x: bool(set(x).intersection(gwasgenes))), :]\n",
    "counts_gwas = funcvar.all_functional_counts(Dgwas)\n",
    "counts_gwas"
   ]
  },
  {
   "cell_type": "markdown",
   "metadata": {},
   "source": [
    "### DeepSEA score\n",
    "[DeepSEA](https://www.ncbi.nlm.nih.gov/pmc/articles/PMC4768299/) predicts effects of noncoding variants with deep learning–based sequence model."
   ]
  },
  {
   "cell_type": "code",
   "execution_count": null,
   "metadata": {},
   "outputs": [],
   "source": [
    "fig, ax = plt.subplots()\n",
    "D['deepsea_Functional Significance Score'].hist(ax=ax)\n",
    "ax.set_xlabel('DeepSEA functional significance score')\n",
    "ax.set_ylabel('variants')\n",
    "attila_utils.savefig(fig, 'deepsea-hist')"
   ]
  },
  {
   "cell_type": "markdown",
   "metadata": {},
   "source": [
    "The histogram suggests a cutoff somewhere between 0.5 and 0.6 score.  I will define functionally significant variants using both a more lenient and a more stringent threshold."
   ]
  },
  {
   "cell_type": "markdown",
   "metadata": {},
   "source": [
    "### Loss of function variants\n",
    "\n",
    "These include stop-gain, intronic (splice_site), and frameshift.  Note that we didn't observe any frameshift variants.  These might be the most revealing."
   ]
  },
  {
   "cell_type": "code",
   "execution_count": null,
   "metadata": {},
   "outputs": [],
   "source": [
    "cols = ['Dataset', 'Dx', 'near_gens_Annotation', 'near_gens_Overlapped Gene']\n",
    "LoFrows = D['near_gens_Annotation'].apply(lambda x: bool(set(x).intersection({'stop-gain', 'intronic (splice_site)'})))\n",
    "D.loc[LoFrows, cols]"
   ]
  },
  {
   "cell_type": "markdown",
   "metadata": {},
   "source": [
    "### Functional variants\n",
    "\n",
    "First let's see Taejeong's definition of functional variants\n",
    "\n",
    "> The terms that we chose as functional are missense, stop_gained, splice_region, regulatory, and TF_binding."
   ]
  },
  {
   "cell_type": "markdown",
   "metadata": {},
   "source": [
    "### Outlier individual"
   ]
  },
  {
   "cell_type": "code",
   "execution_count": null,
   "metadata": {},
   "outputs": [],
   "source": [
    "# TODO\n",
    "#D.loc[funcAby, sel_cols].loc['CMC_MSSM_224']"
   ]
  },
  {
   "cell_type": "code",
   "execution_count": 2,
   "metadata": {},
   "outputs": [
    {
     "name": "stdout",
     "output_type": "stream",
     "text": [
      "{\n",
      "  \"shell_port\": 34191,\n",
      "  \"iopub_port\": 36673,\n",
      "  \"stdin_port\": 60383,\n",
      "  \"control_port\": 33159,\n",
      "  \"hb_port\": 34475,\n",
      "  \"ip\": \"127.0.0.1\",\n",
      "  \"key\": \"7bfcf33d-e37779bc3a37f7b246ca39f4\",\n",
      "  \"transport\": \"tcp\",\n",
      "  \"signature_scheme\": \"hmac-sha256\",\n",
      "  \"kernel_name\": \"\"\n",
      "}\n",
      "\n",
      "Paste the above JSON into a file, and connect with:\n",
      "    $> jupyter <app> --existing <file>\n",
      "or, if you are local, you can connect with just:\n",
      "    $> jupyter <app> --existing kernel-2ade7d60-05c3-4a2b-81d7-ee658b5634c5.json\n",
      "or even just:\n",
      "    $> jupyter <app> --existing\n",
      "if this is the most recent Jupyter kernel you have started.\n"
     ]
    }
   ],
   "source": [
    "%connect_info"
   ]
  },
  {
   "cell_type": "code",
   "execution_count": null,
   "metadata": {},
   "outputs": [],
   "source": []
  }
 ],
 "metadata": {
  "kernelspec": {
   "display_name": "Python 3",
   "language": "python",
   "name": "python3"
  },
  "language_info": {
   "codemirror_mode": {
    "name": "ipython",
    "version": 3
   },
   "file_extension": ".py",
   "mimetype": "text/x-python",
   "name": "python",
   "nbconvert_exporter": "python",
   "pygments_lexer": "ipython3",
   "version": "3.7.6"
  }
 },
 "nbformat": 4,
 "nbformat_minor": 4
}
