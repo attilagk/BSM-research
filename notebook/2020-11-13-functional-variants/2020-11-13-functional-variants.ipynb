{
 "cells": [
  {
   "cell_type": "markdown",
   "metadata": {},
   "source": [
    "Define functional categories and filter calls for those in Control and SCZ individuals"
   ]
  },
  {
   "cell_type": "code",
   "execution_count": 1,
   "metadata": {},
   "outputs": [],
   "source": [
    "%load_ext autoreload\n",
    "%autoreload 2\n",
    "%reload_ext autoreload\n",
    "from matplotlib import pyplot as plt\n",
    "import pandas as pd\n",
    "import attila_utils\n",
    "import funcvar\n",
    "from bsmcalls import SNPnexus\n",
    "%matplotlib inline"
   ]
  },
  {
   "cell_type": "code",
   "execution_count": 2,
   "metadata": {},
   "outputs": [],
   "source": [
    "annot = SNPnexus.read_annot()"
   ]
  },
  {
   "cell_type": "code",
   "execution_count": 3,
   "metadata": {},
   "outputs": [],
   "source": [
    "colnamel = ['near_gens_Type', 'near_gens_Annotation', 'ensembl_Predicted Function', 'sift_Prediction']\n",
    "nonestrl = ['None', 'None', 'other', 'other']\n",
    "data = SNPnexus.expand_multiple_setvalued(annot, colnamel=colnamel, nonestrl=nonestrl)\n",
    "data.to_csv('/home/attila/projects/bsm/results/2020-11-13-functional-variants/expanded-annotated-calls.csv')"
   ]
  },
  {
   "cell_type": "markdown",
   "metadata": {},
   "source": [
    "## Filterings\n",
    "\n",
    "Let's shorten the name of `data` to `D`!"
   ]
  },
  {
   "cell_type": "code",
   "execution_count": 4,
   "metadata": {},
   "outputs": [],
   "source": [
    "D = data"
   ]
  },
  {
   "cell_type": "code",
   "execution_count": 32,
   "metadata": {},
   "outputs": [
    {
     "data": {
      "text/html": [
       "<div>\n",
       "<style scoped>\n",
       "    .dataframe tbody tr th:only-of-type {\n",
       "        vertical-align: middle;\n",
       "    }\n",
       "\n",
       "    .dataframe tbody tr th {\n",
       "        vertical-align: top;\n",
       "    }\n",
       "\n",
       "    .dataframe thead th {\n",
       "        text-align: right;\n",
       "    }\n",
       "</style>\n",
       "<table border=\"1\" class=\"dataframe\">\n",
       "  <thead>\n",
       "    <tr style=\"text-align: right;\">\n",
       "      <th>Dx</th>\n",
       "      <th>Control</th>\n",
       "      <th>SCZ</th>\n",
       "      <th>Total</th>\n",
       "    </tr>\n",
       "  </thead>\n",
       "  <tbody>\n",
       "    <tr>\n",
       "      <th>coding nonsyn</th>\n",
       "      <td>15</td>\n",
       "      <td>44</td>\n",
       "      <td>59</td>\n",
       "    </tr>\n",
       "    <tr>\n",
       "      <th>stop-gain</th>\n",
       "      <td>0</td>\n",
       "      <td>4</td>\n",
       "      <td>4</td>\n",
       "    </tr>\n",
       "    <tr>\n",
       "      <th>intronic (splice_site)</th>\n",
       "      <td>0</td>\n",
       "      <td>1</td>\n",
       "      <td>1</td>\n",
       "    </tr>\n",
       "    <tr>\n",
       "      <th>tfbs_TFBS Name_bin</th>\n",
       "      <td>22</td>\n",
       "      <td>79</td>\n",
       "      <td>101</td>\n",
       "    </tr>\n",
       "  </tbody>\n",
       "</table>\n",
       "</div>"
      ],
      "text/plain": [
       "Dx                      Control  SCZ  Total\n",
       "coding nonsyn                15   44     59\n",
       "stop-gain                     0    4      4\n",
       "intronic (splice_site)        0    1      1\n",
       "tfbs_TFBS Name_bin           22   79    101"
      ]
     },
     "execution_count": 32,
     "metadata": {},
     "output_type": "execute_result"
    }
   ],
   "source": [
    "filtl = ['coding nonsyn', 'stop-gain', 'intronic (splice_site)', 'tfbs_TFBS Name_bin']\n",
    "funcvar.filtered_Dx_counts(D, filtl=filtl, gb='Dx')"
   ]
  },
  {
   "cell_type": "markdown",
   "metadata": {},
   "source": [
    "### Functional variants\n",
    "\n",
    "First let's see Taejeong's definition of functional variants\n",
    "\n",
    "> The terms that we chose as functional are missense, stop_gained, splice_region, regulatory, and TF_binding."
   ]
  },
  {
   "cell_type": "code",
   "execution_count": 5,
   "metadata": {},
   "outputs": [
    {
     "data": {
      "text/plain": [
       "Individual ID  Tissue   CHROM  POS        Mutation\n",
       "CMC_MSSM_027   NeuN_pl  4      147398434  T/C             SCZ\n",
       "                        8      86358470   G/C             SCZ\n",
       "                        10     102586147  G/A             SCZ\n",
       "                        11     22272365   A/T             SCZ\n",
       "                        15     42362241   C/T             SCZ\n",
       "                                                       ...   \n",
       "CMC_PITT_072   NeuN_pl  8      98130865   G/A             SCZ\n",
       "CMC_PITT_098   NeuN_pl  13     73868238   C/T         Control\n",
       "                        19     7621797    G/A         Control\n",
       "CMC_PITT_118   NeuN_pl  2      29124973   T/G             SCZ\n",
       "CMC_MSSM_304   muscle   18     7234373    C/T             SCZ\n",
       "Name: Dx, Length: 143, dtype: object"
      ]
     },
     "execution_count": 5,
     "metadata": {},
     "output_type": "execute_result"
    }
   ],
   "source": [
    "D.loc[D['coding nonsyn'] | D['stop-gain'] | D['intronic (splice_site)'] | D['tfbs_TFBS Name_bin'],'Dx']"
   ]
  },
  {
   "cell_type": "code",
   "execution_count": 6,
   "metadata": {},
   "outputs": [
    {
     "name": "stdout",
     "output_type": "stream",
     "text": [
      "{\n",
      "  \"shell_port\": 49039,\n",
      "  \"iopub_port\": 45481,\n",
      "  \"stdin_port\": 55343,\n",
      "  \"control_port\": 49771,\n",
      "  \"hb_port\": 36877,\n",
      "  \"ip\": \"127.0.0.1\",\n",
      "  \"key\": \"b49ab26c-b9df0ad8d2aa089c61a44b15\",\n",
      "  \"transport\": \"tcp\",\n",
      "  \"signature_scheme\": \"hmac-sha256\",\n",
      "  \"kernel_name\": \"\"\n",
      "}\n",
      "\n",
      "Paste the above JSON into a file, and connect with:\n",
      "    $> jupyter <app> --existing <file>\n",
      "or, if you are local, you can connect with just:\n",
      "    $> jupyter <app> --existing kernel-b371baaa-ab45-42a9-bf03-8a5786a83034.json\n",
      "or even just:\n",
      "    $> jupyter <app> --existing\n",
      "if this is the most recent Jupyter kernel you have started.\n"
     ]
    }
   ],
   "source": [
    "%connect_info"
   ]
  },
  {
   "cell_type": "code",
   "execution_count": null,
   "metadata": {},
   "outputs": [],
   "source": []
  }
 ],
 "metadata": {
  "kernelspec": {
   "display_name": "Python 3",
   "language": "python",
   "name": "python3"
  },
  "language_info": {
   "codemirror_mode": {
    "name": "ipython",
    "version": 3
   },
   "file_extension": ".py",
   "mimetype": "text/x-python",
   "name": "python",
   "nbconvert_exporter": "python",
   "pygments_lexer": "ipython3",
   "version": "3.7.6"
  }
 },
 "nbformat": 4,
 "nbformat_minor": 4
}
