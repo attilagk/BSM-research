{
 "cells": [
  {
   "cell_type": "markdown",
   "metadata": {},
   "source": [
    "Define functional categories and filter calls for those in Control and SCZ individuals"
   ]
  },
  {
   "cell_type": "code",
   "execution_count": 1,
   "metadata": {},
   "outputs": [],
   "source": [
    "%load_ext autoreload\n",
    "%autoreload 2\n",
    "%reload_ext autoreload\n",
    "from matplotlib import pyplot as plt\n",
    "import pandas as pd\n",
    "import attila_utils\n",
    "import funcvar\n",
    "import functools\n",
    "import ensembl_rest\n",
    "import os.path\n",
    "from bsmcalls import SNPnexus\n",
    "from bsmcalls import operations\n",
    "%matplotlib inline\n",
    "#pd.set_option('display.max_rows', None)\n",
    "#pd.set_option('display.max_colwidth', -1)"
   ]
  },
  {
   "cell_type": "markdown",
   "metadata": {},
   "source": [
    "## Preparations"
   ]
  },
  {
   "cell_type": "code",
   "execution_count": 2,
   "metadata": {},
   "outputs": [],
   "source": [
    "data = SNPnexus.load_data('/home/attila/projects/bsm/results/2020-09-07-annotations/annotated-calls.p')"
   ]
  },
  {
   "cell_type": "markdown",
   "metadata": {},
   "source": [
    "### GWAS genes\n",
    "\n",
    "Here we take supplementary table 4 from the [CLOZUK paper](https://www.ncbi.nlm.nih.gov/pmc/articles/PMC5918692/) (clozapine UK), whose `Gene(s) tagged` column we turn into the `gwasgenes` set."
   ]
  },
  {
   "cell_type": "code",
   "execution_count": 3,
   "metadata": {},
   "outputs": [
    {
     "name": "stdout",
     "output_type": "stream",
     "text": [
      "478 SCZ GWAS genes\n"
     ]
    }
   ],
   "source": [
    "clozukpath = '/home/attila/projects/bsm/resources/CLOZUK/supp-table-4.csv'\n",
    "gwasgenes = funcvar.get_geneset(df=pd.read_csv(clozukpath, skiprows=7), col='Gene(s) tagged')\n",
    "print(len(gwasgenes), 'SCZ GWAS genes')"
   ]
  },
  {
   "cell_type": "code",
   "execution_count": 4,
   "metadata": {},
   "outputs": [
    {
     "data": {
      "text/html": [
       "<div>\n",
       "<style scoped>\n",
       "    .dataframe tbody tr th:only-of-type {\n",
       "        vertical-align: middle;\n",
       "    }\n",
       "\n",
       "    .dataframe tbody tr th {\n",
       "        vertical-align: top;\n",
       "    }\n",
       "\n",
       "    .dataframe thead th {\n",
       "        text-align: right;\n",
       "    }\n",
       "</style>\n",
       "<table border=\"1\" class=\"dataframe\">\n",
       "  <thead>\n",
       "    <tr style=\"text-align: right;\">\n",
       "      <th></th>\n",
       "      <th>Dx</th>\n",
       "      <th>ASD</th>\n",
       "      <th>Control</th>\n",
       "      <th>SCZ</th>\n",
       "    </tr>\n",
       "    <tr>\n",
       "      <th>Feature</th>\n",
       "      <th>Query</th>\n",
       "      <th></th>\n",
       "      <th></th>\n",
       "      <th></th>\n",
       "    </tr>\n",
       "  </thead>\n",
       "  <tbody>\n",
       "    <tr>\n",
       "      <th rowspan=\"4\" valign=\"top\">near_gens_Annotation</th>\n",
       "      <th>coding nonsyn</th>\n",
       "      <td>23</td>\n",
       "      <td>23</td>\n",
       "      <td>43</td>\n",
       "    </tr>\n",
       "    <tr>\n",
       "      <th>missense</th>\n",
       "      <td>0</td>\n",
       "      <td>0</td>\n",
       "      <td>0</td>\n",
       "    </tr>\n",
       "    <tr>\n",
       "      <th>stop-gain</th>\n",
       "      <td>0</td>\n",
       "      <td>1</td>\n",
       "      <td>0</td>\n",
       "    </tr>\n",
       "    <tr>\n",
       "      <th>intronic (splice_site)</th>\n",
       "      <td>0</td>\n",
       "      <td>0</td>\n",
       "      <td>1</td>\n",
       "    </tr>\n",
       "  </tbody>\n",
       "</table>\n",
       "</div>"
      ],
      "text/plain": [
       "Dx                                           ASD  Control  SCZ\n",
       "Feature              Query                                    \n",
       "near_gens_Annotation coding nonsyn            23       23   43\n",
       "                     missense                  0        0    0\n",
       "                     stop-gain                 0        1    0\n",
       "                     intronic (splice_site)    0        0    1"
      ]
     },
     "execution_count": 4,
     "metadata": {},
     "output_type": "execute_result"
    }
   ],
   "source": [
    "# near_gens\n",
    "queryitems = ['coding nonsyn', 'missense', 'stop-gain', 'intronic (splice_site)']\n",
    "df = operations.query(queryitems, feature='near_gens_Annotation', data=data)\n",
    "df['Dx'] = data['Dx']\n",
    "df.groupby('Dx').sum().T"
   ]
  },
  {
   "cell_type": "code",
   "execution_count": 12,
   "metadata": {},
   "outputs": [
    {
     "name": "stderr",
     "output_type": "stream",
     "text": [
      "/home/attila/anaconda3/lib/python3.7/site-packages/pandas/core/generic.py:3889: PerformanceWarning: dropping on a non-lexsorted multi-index without a level parameter may impact performance.\n",
      "  obj = obj._drop_axis(labels, axis, level=level, errors=errors)\n"
     ]
    },
    {
     "data": {
      "text/html": [
       "<div>\n",
       "<style scoped>\n",
       "    .dataframe tbody tr th:only-of-type {\n",
       "        vertical-align: middle;\n",
       "    }\n",
       "\n",
       "    .dataframe tbody tr th {\n",
       "        vertical-align: top;\n",
       "    }\n",
       "\n",
       "    .dataframe thead th {\n",
       "        text-align: right;\n",
       "    }\n",
       "</style>\n",
       "<table border=\"1\" class=\"dataframe\">\n",
       "  <thead>\n",
       "    <tr style=\"text-align: right;\">\n",
       "      <th></th>\n",
       "      <th>Dx</th>\n",
       "      <th>ASD</th>\n",
       "      <th>Control</th>\n",
       "      <th>SCZ</th>\n",
       "      <th>All</th>\n",
       "    </tr>\n",
       "    <tr>\n",
       "      <th>Feature</th>\n",
       "      <th>Query</th>\n",
       "      <th></th>\n",
       "      <th></th>\n",
       "      <th></th>\n",
       "      <th></th>\n",
       "    </tr>\n",
       "  </thead>\n",
       "  <tbody>\n",
       "    <tr>\n",
       "      <th rowspan=\"4\" valign=\"top\">near_gens_Annotation</th>\n",
       "      <th>coding nonsyn</th>\n",
       "      <td>23</td>\n",
       "      <td>23</td>\n",
       "      <td>43</td>\n",
       "      <td>89</td>\n",
       "    </tr>\n",
       "    <tr>\n",
       "      <th>missense</th>\n",
       "      <td>0</td>\n",
       "      <td>0</td>\n",
       "      <td>0</td>\n",
       "      <td>0</td>\n",
       "    </tr>\n",
       "    <tr>\n",
       "      <th>stop-gain</th>\n",
       "      <td>0</td>\n",
       "      <td>1</td>\n",
       "      <td>0</td>\n",
       "      <td>1</td>\n",
       "    </tr>\n",
       "    <tr>\n",
       "      <th>intronic (splice_site)</th>\n",
       "      <td>0</td>\n",
       "      <td>0</td>\n",
       "      <td>1</td>\n",
       "      <td>1</td>\n",
       "    </tr>\n",
       "    <tr>\n",
       "      <th rowspan=\"2\" valign=\"top\">sift_Prediction</th>\n",
       "      <th>Deleterious</th>\n",
       "      <td>6</td>\n",
       "      <td>8</td>\n",
       "      <td>9</td>\n",
       "      <td>23</td>\n",
       "    </tr>\n",
       "    <tr>\n",
       "      <th>Deleterious - Low Confidence</th>\n",
       "      <td>2</td>\n",
       "      <td>1</td>\n",
       "      <td>1</td>\n",
       "      <td>4</td>\n",
       "    </tr>\n",
       "    <tr>\n",
       "      <th rowspan=\"2\" valign=\"top\">polyphen_Prediction</th>\n",
       "      <th>Probably Damaging</th>\n",
       "      <td>2</td>\n",
       "      <td>3</td>\n",
       "      <td>5</td>\n",
       "      <td>10</td>\n",
       "    </tr>\n",
       "    <tr>\n",
       "      <th>Possibly Damaging</th>\n",
       "      <td>0</td>\n",
       "      <td>2</td>\n",
       "      <td>2</td>\n",
       "      <td>4</td>\n",
       "    </tr>\n",
       "    <tr>\n",
       "      <th>tfbs_TFBS Name</th>\n",
       "      <th>any</th>\n",
       "      <td>50</td>\n",
       "      <td>48</td>\n",
       "      <td>78</td>\n",
       "      <td>176</td>\n",
       "    </tr>\n",
       "    <tr>\n",
       "      <th>phast_Score</th>\n",
       "      <th>any</th>\n",
       "      <td>141</td>\n",
       "      <td>102</td>\n",
       "      <td>174</td>\n",
       "      <td>417</td>\n",
       "    </tr>\n",
       "    <tr>\n",
       "      <th>gerp_Element RS Score</th>\n",
       "      <th>any</th>\n",
       "      <td>208</td>\n",
       "      <td>140</td>\n",
       "      <td>262</td>\n",
       "      <td>610</td>\n",
       "    </tr>\n",
       "    <tr>\n",
       "      <th>near_gens_Overlapped Gene</th>\n",
       "      <th>SCZ GWAS genes</th>\n",
       "      <td>42</td>\n",
       "      <td>20</td>\n",
       "      <td>66</td>\n",
       "      <td>128</td>\n",
       "    </tr>\n",
       "  </tbody>\n",
       "</table>\n",
       "</div>"
      ],
      "text/plain": [
       "Dx                                                      ASD  Control  SCZ  All\n",
       "Feature                   Query                                               \n",
       "near_gens_Annotation      coding nonsyn                  23       23   43   89\n",
       "                          missense                        0        0    0    0\n",
       "                          stop-gain                       0        1    0    1\n",
       "                          intronic (splice_site)          0        0    1    1\n",
       "sift_Prediction           Deleterious                     6        8    9   23\n",
       "                          Deleterious - Low Confidence    2        1    1    4\n",
       "polyphen_Prediction       Probably Damaging               2        3    5   10\n",
       "                          Possibly Damaging               0        2    2    4\n",
       "tfbs_TFBS Name            any                            50       48   78  176\n",
       "phast_Score               any                           141      102  174  417\n",
       "gerp_Element RS Score     any                           208      140  262  610\n",
       "near_gens_Overlapped Gene SCZ GWAS genes                 42       20   66  128"
      ]
     },
     "execution_count": 12,
     "metadata": {},
     "output_type": "execute_result"
    }
   ],
   "source": [
    "# near_gens\n",
    "querydict = {'near_gens_Annotation': ['coding nonsyn', 'missense', 'stop-gain', 'intronic (splice_site)'],\n",
    "             'sift_Prediction': ['Deleterious', 'Deleterious - Low Confidence'],\n",
    "             'polyphen_Prediction': ['Probably Damaging', 'Possibly Damaging'],\n",
    "             'tfbs_TFBS Name': None,\n",
    "             'phast_Score': None,\n",
    "             'gerp_Element RS Score': None,\n",
    "             'near_gens_Overlapped Gene': {'SCZ GWAS genes': gwasgenes},\n",
    "            }\n",
    "results = operations.multiquery(querydict, data, do_sum=False, do_sort=False, margin=True)\n",
    "operations.summarize_query_results(results, data, margin=True)"
   ]
  },
  {
   "cell_type": "markdown",
   "metadata": {},
   "source": [
    "### DeepSEA score\n",
    "[DeepSEA](https://www.ncbi.nlm.nih.gov/pmc/articles/PMC4768299/) predicts effects of noncoding variants with deep learning–based sequence model."
   ]
  },
  {
   "cell_type": "code",
   "execution_count": 6,
   "metadata": {},
   "outputs": [
    {
     "data": {
      "text/plain": [
       "['named-figure/deepsea-hist.png', 'named-figure/deepsea-hist.pdf']"
      ]
     },
     "execution_count": 6,
     "metadata": {},
     "output_type": "execute_result"
    },
    {
     "data": {
      "image/png": "[encoded data removed]",
      "text/plain": [
       "<Figure size 432x288 with 1 Axes>"
      ]
     },
     "metadata": {
      "needs_background": "light"
     },
     "output_type": "display_data"
    }
   ],
   "source": [
    "fig, ax = plt.subplots()\n",
    "data['deepsea_Functional Significance Score'].hist(ax=ax)\n",
    "ax.set_xlabel('DeepSEA functional significance score')\n",
    "ax.set_ylabel('variants')\n",
    "attila_utils.savefig(fig, 'deepsea-hist')"
   ]
  },
  {
   "cell_type": "markdown",
   "metadata": {},
   "source": [
    "The histogram suggests a cutoff somewhere between 0.5 and 0.6 score.  I will define functionally significant variants using both a more lenient and a more stringent threshold."
   ]
  },
  {
   "cell_type": "markdown",
   "metadata": {},
   "source": [
    "### Functional variants\n",
    "\n",
    "First let's see Taejeong's definition of functional variants\n",
    "\n",
    "> The terms that we chose as functional are missense, stop_gained, splice_region, regulatory, and TF_binding."
   ]
  },
  {
   "cell_type": "markdown",
   "metadata": {},
   "source": [
    "### Outlier individual"
   ]
  },
  {
   "cell_type": "code",
   "execution_count": null,
   "metadata": {},
   "outputs": [],
   "source": [
    "# TODO\n",
    "#D.loc[funcAby, sel_cols].loc['CMC_MSSM_224']"
   ]
  },
  {
   "cell_type": "code",
   "execution_count": null,
   "metadata": {},
   "outputs": [],
   "source": [
    "%connect_info"
   ]
  },
  {
   "cell_type": "code",
   "execution_count": null,
   "metadata": {},
   "outputs": [],
   "source": []
  }
 ],
 "metadata": {
  "kernelspec": {
   "display_name": "Python 3",
   "language": "python",
   "name": "python3"
  },
  "language_info": {
   "codemirror_mode": {
    "name": "ipython",
    "version": 3
   },
   "file_extension": ".py",
   "mimetype": "text/x-python",
   "name": "python",
   "nbconvert_exporter": "python",
   "pygments_lexer": "ipython3",
   "version": "3.7.6"
  }
 },
 "nbformat": 4,
 "nbformat_minor": 4
}
