{
 "cells": [
  {
   "cell_type": "markdown",
   "metadata": {},
   "source": [
    "Define functional categories and filter calls for those in Control and SCZ individuals"
   ]
  },
  {
   "cell_type": "code",
   "execution_count": 1,
   "metadata": {},
   "outputs": [
    {
     "name": "stderr",
     "output_type": "stream",
     "text": [
      "/home/attila/anaconda3/lib/python3.7/site-packages/ipykernel_launcher.py:14: FutureWarning: Passing a negative integer is deprecated in version 1.0 and will not be supported in future version. Instead, use None to not limit the column width.\n",
      "  \n"
     ]
    }
   ],
   "source": [
    "%load_ext autoreload\n",
    "%autoreload 2\n",
    "%reload_ext autoreload\n",
    "from matplotlib import pyplot as plt\n",
    "import pandas as pd\n",
    "import attila_utils\n",
    "import funcvar\n",
    "import functools\n",
    "import ensembl_rest\n",
    "import os.path\n",
    "from bsmcalls import SNPnexus\n",
    "%matplotlib inline\n",
    "pd.set_option('display.max_rows', None)\n",
    "pd.set_option('display.max_colwidth', -1)"
   ]
  },
  {
   "cell_type": "markdown",
   "metadata": {},
   "source": [
    "## Preparations"
   ]
  },
  {
   "cell_type": "code",
   "execution_count": 2,
   "metadata": {},
   "outputs": [],
   "source": [
    "D = SNPnexus.load_data('/home/attila/projects/bsm/results/2020-09-07-annotations/annotated-calls.p')"
   ]
  },
  {
   "cell_type": "code",
   "execution_count": 3,
   "metadata": {},
   "outputs": [
    {
     "data": {
      "text/html": [
       "<div>\n",
       "<style scoped>\n",
       "    .dataframe tbody tr th:only-of-type {\n",
       "        vertical-align: middle;\n",
       "    }\n",
       "\n",
       "    .dataframe tbody tr th {\n",
       "        vertical-align: top;\n",
       "    }\n",
       "\n",
       "    .dataframe thead th {\n",
       "        text-align: right;\n",
       "    }\n",
       "</style>\n",
       "<table border=\"1\" class=\"dataframe\">\n",
       "  <thead>\n",
       "    <tr style=\"text-align: right;\">\n",
       "      <th>Dx</th>\n",
       "      <th>ASD</th>\n",
       "      <th>Control</th>\n",
       "      <th>SCZ</th>\n",
       "    </tr>\n",
       "  </thead>\n",
       "  <tbody>\n",
       "    <tr>\n",
       "      <th>coding nonsyn</th>\n",
       "      <td>23</td>\n",
       "      <td>23</td>\n",
       "      <td>44</td>\n",
       "    </tr>\n",
       "    <tr>\n",
       "      <th>stop-gain</th>\n",
       "      <td>1</td>\n",
       "      <td>2</td>\n",
       "      <td>4</td>\n",
       "    </tr>\n",
       "    <tr>\n",
       "      <th>intronic (splice_site)</th>\n",
       "      <td>0</td>\n",
       "      <td>0</td>\n",
       "      <td>1</td>\n",
       "    </tr>\n",
       "    <tr>\n",
       "      <th>Deleterious</th>\n",
       "      <td>9</td>\n",
       "      <td>8</td>\n",
       "      <td>14</td>\n",
       "    </tr>\n",
       "    <tr>\n",
       "      <th>Deleterious - Low Confidence</th>\n",
       "      <td>2</td>\n",
       "      <td>1</td>\n",
       "      <td>3</td>\n",
       "    </tr>\n",
       "    <tr>\n",
       "      <th>tfbs_TFBS Name_bin</th>\n",
       "      <td>50</td>\n",
       "      <td>48</td>\n",
       "      <td>78</td>\n",
       "    </tr>\n",
       "    <tr>\n",
       "      <th>regbuild_Epigenome_nervoussys_bin</th>\n",
       "      <td>416</td>\n",
       "      <td>341</td>\n",
       "      <td>517</td>\n",
       "    </tr>\n",
       "    <tr>\n",
       "      <th>gerp_Element RS Score_bin</th>\n",
       "      <td>208</td>\n",
       "      <td>140</td>\n",
       "      <td>262</td>\n",
       "    </tr>\n",
       "  </tbody>\n",
       "</table>\n",
       "</div>"
      ],
      "text/plain": [
       "Dx                                 ASD  Control  SCZ\n",
       "coding nonsyn                      23   23       44 \n",
       "stop-gain                          1    2        4  \n",
       "intronic (splice_site)             0    0        1  \n",
       "Deleterious                        9    8        14 \n",
       "Deleterious - Low Confidence       2    1        3  \n",
       "tfbs_TFBS Name_bin                 50   48       78 \n",
       "regbuild_Epigenome_nervoussys_bin  416  341      517\n",
       "gerp_Element RS Score_bin          208  140      262"
      ]
     },
     "execution_count": 3,
     "metadata": {},
     "output_type": "execute_result"
    }
   ],
   "source": [
    "d = {'coding nonsyn': 'near_gens_Annotation', 'stop-gain': 'near_gens_Annotation', 'intronic (splice_site)': 'near_gens_Annotation'}\n",
    "A = funcvar.count_members(D, d)\n",
    "B = D.groupby('Dx')['sift_Prediction'].apply(pd.Series.value_counts).unstack().T.loc[['Deleterious', 'Deleterious - Low Confidence']]\n",
    "counts = pd.concat([A, B], axis=0)\n",
    "counts = counts.append(D.groupby('Dx')['tfbs_TFBS Name_bin'].sum().astype('int64'))\n",
    "counts = counts.append(D.groupby('Dx')['regbuild_Epigenome_nervoussys_bin'].sum().astype('int64'))\n",
    "counts = counts.append(D.groupby('Dx')['gerp_Element RS Score_bin'].sum().astype('int64'))\n",
    "counts"
   ]
  },
  {
   "cell_type": "markdown",
   "metadata": {},
   "source": [
    "### GWAS genes\n",
    "\n",
    "Here we take supplementary table 4 from the [CLOZUK paper](https://www.ncbi.nlm.nih.gov/pmc/articles/PMC5918692/) (clozapine UK), whose `Gene(s) tagged` column we turn into the `gwasgenes` set."
   ]
  },
  {
   "cell_type": "code",
   "execution_count": 4,
   "metadata": {},
   "outputs": [
    {
     "data": {
      "text/plain": [
       "\"{'FAM57B', 'TMEM243', 'NAB2', 'AS3MT', 'PJA1', 'LINC00634', 'KCNV1', 'BRINP2', 'DDX28', 'THOC7', 'CMTR2', 'AKAP6', 'CLP1', 'UBE3D', 'MIR4655', 'LOC102546226', 'NLGN4X', 'UBE2Q2P2', 'HYDIN', 'ZDHHC5', 'INO80E', 'CNNM2', 'ALMS1-IT1', 'CHRM3', 'SDCCAG8', 'LOC101927273', 'CPT1C', 'GRIN2A', 'MIR6773', 'ENKD1', 'MMP16', 'CLU', 'NDFIP2', 'RABGAP1L', 'VPS13C', 'MSRA', 'LOC100505474', 'STAR', 'LINC00637', 'FXR1', 'KCNK7', 'STAT6', 'C4orf27', 'LOC388906', 'PTPRK', 'PLEKHO1', 'ZNF804A', 'GDPD3', 'RFT1', 'KCTD13', 'LOC283177', 'MEF2C', 'CREB3L1', 'FSHB', 'NDUFA6', 'EFHD1', 'ARHGAP1', 'PCGF6', 'GID4', 'XRCC3', 'BOLL', 'RFTN2', 'AIG1', 'EHBP1L1', 'CILP2', 'ATXN7', 'CTNND1', 'NT5C2', 'LOC100506472', 'MSANTD2', 'FAM109B', 'RLTPR', 'CSMD1', 'RPEL1', 'NDUFA13', 'CENPT', 'ANKRD44', 'CCDC175', 'LOC101928782', 'MIR5088', 'SNORA46', 'MSL2', 'TAOK2', 'MIR4677', 'MIR1284', 'BCL2L12', 'RAI1', 'HSPE1', 'EPHX2', 'CACNA1C', 'GOLGA6L17P', 'EPN2-AS1', 'FGFR1', 'ZNF536', 'SEPT3', 'COQ10B', 'SETD8', 'SLC39A8', 'NEK1', 'LINC00461', 'MIR4688', 'IRF3', 'SMG6', 'GOLGA6L4', 'TMX2', 'RBM26', 'NDUFA6-AS1', 'PSD3', 'RALGAPA2', 'OTOL1', 'RERE', 'DGKI', 'LOC101927134', 'SPATS2L', 'C2orf47', 'LOC102724034', 'CNTN4', 'PRMT1', 'HYKK', 'RWDD2A', 'IMMP2L', 'YPEL3', 'PTPRF', 'MIR33B', 'SLC38A7', 'ZSWIM6', 'BAG4', 'TBC1D5', 'PSMD6-AS2', 'PARD6A', 'CA14', 'ZBTB37', 'DUS2', 'HS3ST5', 'LOC103171574', 'DNAJC19', 'CPNE8', 'MIR6843', 'GOLGA6L9', 'EPN2', 'PAK6', 'DPEP2', 'NFATC3', 'CDK2AP1', 'ZEB2', 'KCNG2', 'RBM26-AS1', 'PTN', 'CYP17A1', 'STAC3', 'CALB2', 'TSNARE1', 'SNORD63', 'TBX6', 'MAP3K11', 'BC037927', 'MIR6889', 'CPEB1', 'TRANK1', 'ASH2L', 'DNM1P41', 'FHIT', 'ARL6IP4', 'HSPD1', 'ASPHD1', 'PSMB10', 'PDE4B', 'ANKRD44-IT1', 'IGSF9B', 'LOC101928882', 'CLCN3', 'EPN2-IT1', 'LINC00862', 'HIRIP3', 'LOC440300', 'MIR137', 'MIR548AI', 'GRAPL', 'PSMD6', 'MAPK3', 'RRAS', 'GIGYF2', 'CHRNA3', 'KDM4A', 'ALMS1P', 'BNIP3L', 'LINC00606', 'SFXN5', 'HSPA9', 'OPCML', 'MIR4304', 'ANKRD63', 'SPATA31D1', 'VPS45', 'PLCH2', 'SOX5', 'NRGN', 'WBP1L', 'SLC12A4', 'TSNAXIP1', 'DPYD-AS1', 'MPPED2', 'PSMA4', 'GABBR2', 'LRP1', 'PSKH1', 'SREBF1', 'NDFIP2-AS1', 'LOC79999', 'MOB4', 'ADAMTSL3', 'THOC7-AS1', 'LCAT', 'MIR2682', 'ZC3H7B', 'LOC101929406', 'SHISA8', 'TNFRSF13C', 'SOX2-OT', 'ATG13', 'GFOD2', 'PPP1R16B', 'CACNB2', 'NAGA', 'VSIG2', 'CHRNA2', 'LOC642423', 'DPEP3', 'PCNXL3', 'TDRD9', 'NDRG4', 'MEF2C-AS1', 'AP3B2', 'SCAND2P', 'TP53TG1', 'FOXG1', 'U80770', 'ETF1', 'CTRL', 'MIR137HG', 'LOC283692', 'SNAP91', 'PPP2R2A', 'NUTF2', 'C10orf32', 'KAT5', 'MAN2A2', 'CHRNB4', 'MIR4690', 'LINC00933', 'RPTOR', 'TMEM219', 'MIR4472-1', 'PPP2R3A', 'WDR73', 'HSPE1-MOB4', 'FLJ31662', 'ADAMTS7P1', 'NXPH4', 'TOM1L2', 'LOC727751', 'MIR1281', 'ALDOA', 'RIMS1', 'TCF4', 'SIPA1', 'VRK2', 'EFTUD1P1', 'NGEF', 'PBX4', 'KIAA1324L', 'C16orf92', 'SMDT1', 'KMT2E-AS1', 'TLE3', 'C2orf69', 'INPP4B', 'C14orf2', 'SNORD91A', 'INA', 'F2', 'SRPK2', 'MPHOSPH9', 'HARBI1', 'TM6SF2', 'GOLGA6L5P', 'RANGAP1', 'SLC45A1', 'JKAMP', 'TSR1', 'SLC7A6', 'RNASEH2C', 'DMTF1', 'LINC01004', 'EP300', 'SCAF1', 'FTCDNL1', 'MARS2', 'SEC11A', 'C12orf65', 'SLC35G2', 'SUGP1', 'FES', 'CKAP5', 'MIR4301', 'LOC440704', 'GOLGA6L10', 'YJEFN3', 'ALPK3', 'PRKCB', 'RPS17', 'CYP2D7P', 'RANBP10', 'MIR6777', 'AL050132', 'DOPEY1', 'SATB2', 'SEMA6D', 'LOC101927839', 'LETM2', 'SNORA76A', 'ESRP2', 'RBFOX1', 'CHADL', 'HAPLN4', 'CHRNA5', 'ASPG', 'ZNF823', 'CENPM', 'DRD2', 'ZSCAN2', 'DFNA5', 'MIR3160-2', 'LOC100507091', 'C3orf49', 'LINC00051', 'ASCL1', 'MIR33A', 'GOLGA2P7', 'LOC80154', 'LOC101927295', 'ATP2A2', 'PGM3', 'SF3B1', 'CACNA1C-AS4', 'UBE2Q2L', 'RGS6', 'ALMS1', 'SERPING1', 'SHMT2', 'xMHC', 'KMT2E', 'MPP6', 'NCK1-AS1', 'MIR8072', 'TAB1', 'PLA2G15', 'ARL14EP', 'GPM6A', 'PRR12', 'C2orf82', 'NAT8', 'CACNA1C-IT3', 'TSSK6', 'RILPL2', 'TMX2-CTNND1', 'CUL3', 'DDHD2', 'PPP1R13B', 'GPR52', 'FANCL', 'NMB', 'ZNF408', 'YPEL4', 'ABCB9', 'MIR9-2', 'EMB', 'B3GAT1', 'MIR130A', 'SERPINC1', 'OTUD7B', 'PCCB', 'PTK2B', 'RD3L', 'MIR3160-1', 'OGFOD2', 'PITPNM2', 'LOC102723362', 'SBNO1', 'NCAN', 'WHSC1L1', 'KCNJ13', 'PPAPDC1B', 'LOC101929829', 'MGAT3', 'FOXP1', 'NRN1L', 'TYW5', 'LSM1', 'SREBF2', 'HCN1', 'PRRG2', 'C11orf31', 'L3HYPDH', 'NCK1', 'LOC338963', 'PLCL1', 'NDUFA4L2', 'LOC388436', 'AMBRA1', 'IREB2', 'PLCB2', 'MAU2', 'ZFYVE21', 'BCL11B', 'DGKZ', 'SRR', 'PPP4C', 'EDC4', 'LUZP2', 'FURIN', 'MIR4489', 'BTG1', 'CHRM4', 'R3HDM2', 'SNORD91B', 'DPYD', 'ZNF592', 'SNX19', 'AKT3', 'THAP11', 'MDK', 'MED19', 'RPS19BP1', 'STAG1', 'L3MBTL2', 'C16orf86', 'CACNA1I', 'PRKD1', 'EMX1', 'TCF20', 'ACD', 'LINC01288', 'C10orf32-ASMT', 'GRM3', 'PLCL2', 'LRRC48', 'DOC2A', 'CYP2D6', 'BANK1', 'SEZ6L2', 'GPR135', 'ERCC4 ', 'EP300-AS1', 'TMEM161B-AS1', 'MIR548AJ2', 'LOC283693', 'ACTR5', 'SETD6', 'SLC32A1', 'BTBD18', 'GATAD2A', 'LOC100131303', 'ANP32E', 'SMCR5', 'SFMBT1', 'CNOT1', 'ESAM', 'MAD1L1', 'TMEM194A', 'ADM5', 'RC3H1', 'CACNA1D', 'WBP2NL', 'CA8', 'RELA', 'ATPAF2', 'UBE2Q2P1'}\""
      ]
     },
     "execution_count": 4,
     "metadata": {},
     "output_type": "execute_result"
    }
   ],
   "source": [
    "clozukpath = '/home/attila/projects/bsm/resources/CLOZUK/supp-table-4.csv'\n",
    "gwasgenes = funcvar.get_geneset(df=pd.read_csv(clozukpath, skiprows=7), col='Gene(s) tagged')\n",
    "repr(gwasgenes)"
   ]
  },
  {
   "cell_type": "code",
   "execution_count": 5,
   "metadata": {},
   "outputs": [
    {
     "data": {
      "text/html": [
       "<div>\n",
       "<style scoped>\n",
       "    .dataframe tbody tr th:only-of-type {\n",
       "        vertical-align: middle;\n",
       "    }\n",
       "\n",
       "    .dataframe tbody tr th {\n",
       "        vertical-align: top;\n",
       "    }\n",
       "\n",
       "    .dataframe thead th {\n",
       "        text-align: right;\n",
       "    }\n",
       "</style>\n",
       "<table border=\"1\" class=\"dataframe\">\n",
       "  <thead>\n",
       "    <tr style=\"text-align: right;\">\n",
       "      <th>Dx</th>\n",
       "      <th>ASD</th>\n",
       "      <th>Control</th>\n",
       "      <th>SCZ</th>\n",
       "    </tr>\n",
       "  </thead>\n",
       "  <tbody>\n",
       "    <tr>\n",
       "      <th>coding nonsyn</th>\n",
       "      <td>0</td>\n",
       "      <td>1</td>\n",
       "      <td>0</td>\n",
       "    </tr>\n",
       "    <tr>\n",
       "      <th>stop-gain</th>\n",
       "      <td>0</td>\n",
       "      <td>0</td>\n",
       "      <td>0</td>\n",
       "    </tr>\n",
       "    <tr>\n",
       "      <th>intronic (splice_site)</th>\n",
       "      <td>0</td>\n",
       "      <td>0</td>\n",
       "      <td>0</td>\n",
       "    </tr>\n",
       "    <tr>\n",
       "      <th>Deleterious</th>\n",
       "      <td>0</td>\n",
       "      <td>0</td>\n",
       "      <td>0</td>\n",
       "    </tr>\n",
       "    <tr>\n",
       "      <th>Deleterious - Low Confidence</th>\n",
       "      <td>0</td>\n",
       "      <td>0</td>\n",
       "      <td>0</td>\n",
       "    </tr>\n",
       "    <tr>\n",
       "      <th>tfbs_TFBS Name_bin</th>\n",
       "      <td>1</td>\n",
       "      <td>1</td>\n",
       "      <td>2</td>\n",
       "    </tr>\n",
       "    <tr>\n",
       "      <th>regbuild_Epigenome_nervoussys_bin</th>\n",
       "      <td>6</td>\n",
       "      <td>6</td>\n",
       "      <td>13</td>\n",
       "    </tr>\n",
       "    <tr>\n",
       "      <th>gerp_Element RS Score_bin</th>\n",
       "      <td>6</td>\n",
       "      <td>3</td>\n",
       "      <td>9</td>\n",
       "    </tr>\n",
       "  </tbody>\n",
       "</table>\n",
       "</div>"
      ],
      "text/plain": [
       "Dx                                 ASD  Control  SCZ\n",
       "coding nonsyn                      0    1        0  \n",
       "stop-gain                          0    0        0  \n",
       "intronic (splice_site)             0    0        0  \n",
       "Deleterious                        0    0        0  \n",
       "Deleterious - Low Confidence       0    0        0  \n",
       "tfbs_TFBS Name_bin                 1    1        2  \n",
       "regbuild_Epigenome_nervoussys_bin  6    6        13 \n",
       "gerp_Element RS Score_bin          6    3        9  "
      ]
     },
     "execution_count": 5,
     "metadata": {},
     "output_type": "execute_result"
    }
   ],
   "source": [
    "Dgwas = D.loc[D['near_gens_Overlapped Gene'].apply(lambda x: bool(set(x).intersection(gwasgenes))), :]\n",
    "counts_gwas = funcvar.all_functional_counts(Dgwas)\n",
    "counts_gwas"
   ]
  },
  {
   "cell_type": "markdown",
   "metadata": {},
   "source": [
    "### DeepSEA score\n",
    "[DeepSEA](https://www.ncbi.nlm.nih.gov/pmc/articles/PMC4768299/) predicts effects of noncoding variants with deep learning–based sequence model."
   ]
  },
  {
   "cell_type": "code",
   "execution_count": 6,
   "metadata": {},
   "outputs": [
    {
     "data": {
      "text/plain": [
       "['named-figure/deepsea-hist.png', 'named-figure/deepsea-hist.pdf']"
      ]
     },
     "execution_count": 6,
     "metadata": {},
     "output_type": "execute_result"
    },
    {
     "data": {
      "image/png": "[encoded data removed]",
      "text/plain": [
       "<Figure size 432x288 with 1 Axes>"
      ]
     },
     "metadata": {
      "needs_background": "light"
     },
     "output_type": "display_data"
    }
   ],
   "source": [
    "fig, ax = plt.subplots()\n",
    "D['deepsea_Functional Significance Score'].hist(ax=ax)\n",
    "ax.set_xlabel('DeepSEA functional significance score')\n",
    "ax.set_ylabel('variants')\n",
    "attila_utils.savefig(fig, 'deepsea-hist')"
   ]
  },
  {
   "cell_type": "markdown",
   "metadata": {},
   "source": [
    "The histogram suggests a cutoff somewhere between 0.5 and 0.6 score.  I will define functionally significant variants using both a more lenient and a more stringent threshold."
   ]
  },
  {
   "cell_type": "markdown",
   "metadata": {},
   "source": [
    "### Loss of function variants\n",
    "\n",
    "These include stop-gain, intronic (splice_site), and frameshift.  Note that we didn't observe any frameshift variants.  These might be the most revealing."
   ]
  },
  {
   "cell_type": "code",
   "execution_count": 7,
   "metadata": {},
   "outputs": [
    {
     "data": {
      "text/html": [
       "<div>\n",
       "<style scoped>\n",
       "    .dataframe tbody tr th:only-of-type {\n",
       "        vertical-align: middle;\n",
       "    }\n",
       "\n",
       "    .dataframe tbody tr th {\n",
       "        vertical-align: top;\n",
       "    }\n",
       "\n",
       "    .dataframe thead th {\n",
       "        text-align: right;\n",
       "    }\n",
       "</style>\n",
       "<table border=\"1\" class=\"dataframe\">\n",
       "  <thead>\n",
       "    <tr style=\"text-align: right;\">\n",
       "      <th></th>\n",
       "      <th></th>\n",
       "      <th></th>\n",
       "      <th></th>\n",
       "      <th>Dataset</th>\n",
       "      <th>Dx</th>\n",
       "      <th>near_gens_Annotation</th>\n",
       "      <th>near_gens_Overlapped Gene</th>\n",
       "    </tr>\n",
       "    <tr>\n",
       "      <th>Individual ID</th>\n",
       "      <th>CHROM</th>\n",
       "      <th>POS</th>\n",
       "      <th>Mutation</th>\n",
       "      <th></th>\n",
       "      <th></th>\n",
       "      <th></th>\n",
       "      <th></th>\n",
       "    </tr>\n",
       "  </thead>\n",
       "  <tbody>\n",
       "    <tr>\n",
       "      <th>CMC_MSSM_299</th>\n",
       "      <th>14</th>\n",
       "      <th>24731243</th>\n",
       "      <th>G/A</th>\n",
       "      <td>Chess</td>\n",
       "      <td>SCZ</td>\n",
       "      <td>[5upstream, intronic, coding *nonsyn, stop-gain, 3downstream, coding nonsyn, stop-gain]</td>\n",
       "      <td>[TGM1]</td>\n",
       "    </tr>\n",
       "    <tr>\n",
       "      <th rowspan=\"2\" valign=\"top\">CMC_MSSM_340</th>\n",
       "      <th>12</th>\n",
       "      <th>52445358</th>\n",
       "      <th>T/G</th>\n",
       "      <td>Chess</td>\n",
       "      <td>SCZ</td>\n",
       "      <td>[5upstream, non-coding intronic, intronic, intronic (splice_site)]</td>\n",
       "      <td>[NR4A1]</td>\n",
       "    </tr>\n",
       "    <tr>\n",
       "      <th>22</th>\n",
       "      <th>38352865</th>\n",
       "      <th>C/T</th>\n",
       "      <td>Chess</td>\n",
       "      <td>SCZ</td>\n",
       "      <td>[non-coding intronic, intronic, coding nonsyn, stop-gain]</td>\n",
       "      <td>[POLR2F]</td>\n",
       "    </tr>\n",
       "    <tr>\n",
       "      <th>CMC_MSSM_343</th>\n",
       "      <th>1</th>\n",
       "      <th>28099835</th>\n",
       "      <th>T/G</th>\n",
       "      <td>Chess</td>\n",
       "      <td>SCZ</td>\n",
       "      <td>[coding nonsyn, stop-gain, non-coding, coding *nonsyn, stop-gain]</td>\n",
       "      <td>[STX12]</td>\n",
       "    </tr>\n",
       "    <tr>\n",
       "      <th>CMC_PITT_052</th>\n",
       "      <th>7</th>\n",
       "      <th>30961738</th>\n",
       "      <th>C/T</th>\n",
       "      <td>Chess</td>\n",
       "      <td>SCZ</td>\n",
       "      <td>[non-coding, coding nonsyn, stop-gain]</td>\n",
       "      <td>[AQP1]</td>\n",
       "    </tr>\n",
       "    <tr>\n",
       "      <th>UMB1465</th>\n",
       "      <th>frontal cortex</th>\n",
       "      <th>4</th>\n",
       "      <th>154649455</th>\n",
       "      <td>Walsh</td>\n",
       "      <td>Control</td>\n",
       "      <td>[coding nonsyn, stop-gain, coding *nonsyn, stop-gain, intronic, non-coding, 3utr, non-coding intronic]</td>\n",
       "      <td>[RNF175]</td>\n",
       "    </tr>\n",
       "    <tr>\n",
       "      <th>UMB1474</th>\n",
       "      <th>frontal cortex</th>\n",
       "      <th>14</th>\n",
       "      <th>60451886</th>\n",
       "      <td>Walsh</td>\n",
       "      <td>Control</td>\n",
       "      <td>[coding nonsyn, stop-gain, non-coding intronic]</td>\n",
       "      <td>[LRRC9, RP11-16B13.1]</td>\n",
       "    </tr>\n",
       "    <tr>\n",
       "      <th>UMB1638</th>\n",
       "      <th>frontal cortex</th>\n",
       "      <th>2</th>\n",
       "      <th>179612387</th>\n",
       "      <td>Walsh</td>\n",
       "      <td>ASD</td>\n",
       "      <td>[non-coding intronic, coding nonsyn, stop-gain, intronic]</td>\n",
       "      <td>[TTN-AS1, TTN]</td>\n",
       "    </tr>\n",
       "  </tbody>\n",
       "</table>\n",
       "</div>"
      ],
      "text/plain": [
       "                                                Dataset       Dx  \\\n",
       "Individual ID CHROM          POS      Mutation                     \n",
       "CMC_MSSM_299  14             24731243 G/A        Chess   SCZ       \n",
       "CMC_MSSM_340  12             52445358 T/G        Chess   SCZ       \n",
       "              22             38352865 C/T        Chess   SCZ       \n",
       "CMC_MSSM_343  1              28099835 T/G        Chess   SCZ       \n",
       "CMC_PITT_052  7              30961738 C/T        Chess   SCZ       \n",
       "UMB1465       frontal cortex 4        154649455  Walsh   Control   \n",
       "UMB1474       frontal cortex 14       60451886   Walsh   Control   \n",
       "UMB1638       frontal cortex 2        179612387  Walsh   ASD       \n",
       "\n",
       "                                                                                                                                   near_gens_Annotation  \\\n",
       "Individual ID CHROM          POS      Mutation                                                                                                            \n",
       "CMC_MSSM_299  14             24731243 G/A        [5upstream, intronic, coding *nonsyn, stop-gain, 3downstream, coding nonsyn, stop-gain]                  \n",
       "CMC_MSSM_340  12             52445358 T/G        [5upstream, non-coding intronic, intronic, intronic (splice_site)]                                       \n",
       "              22             38352865 C/T        [non-coding intronic, intronic, coding nonsyn, stop-gain]                                                \n",
       "CMC_MSSM_343  1              28099835 T/G        [coding nonsyn, stop-gain, non-coding, coding *nonsyn, stop-gain]                                        \n",
       "CMC_PITT_052  7              30961738 C/T        [non-coding, coding nonsyn, stop-gain]                                                                   \n",
       "UMB1465       frontal cortex 4        154649455  [coding nonsyn, stop-gain, coding *nonsyn, stop-gain, intronic, non-coding, 3utr, non-coding intronic]   \n",
       "UMB1474       frontal cortex 14       60451886   [coding nonsyn, stop-gain, non-coding intronic]                                                          \n",
       "UMB1638       frontal cortex 2        179612387  [non-coding intronic, coding nonsyn, stop-gain, intronic]                                                \n",
       "\n",
       "                                                near_gens_Overlapped Gene  \n",
       "Individual ID CHROM          POS      Mutation                             \n",
       "CMC_MSSM_299  14             24731243 G/A        [TGM1]                    \n",
       "CMC_MSSM_340  12             52445358 T/G        [NR4A1]                   \n",
       "              22             38352865 C/T        [POLR2F]                  \n",
       "CMC_MSSM_343  1              28099835 T/G        [STX12]                   \n",
       "CMC_PITT_052  7              30961738 C/T        [AQP1]                    \n",
       "UMB1465       frontal cortex 4        154649455  [RNF175]                  \n",
       "UMB1474       frontal cortex 14       60451886   [LRRC9, RP11-16B13.1]     \n",
       "UMB1638       frontal cortex 2        179612387  [TTN-AS1, TTN]            "
      ]
     },
     "execution_count": 7,
     "metadata": {},
     "output_type": "execute_result"
    }
   ],
   "source": [
    "cols = ['Dataset', 'Dx', 'near_gens_Annotation', 'near_gens_Overlapped Gene']\n",
    "LoFrows = D['near_gens_Annotation'].apply(lambda x: bool(set(x).intersection({'stop-gain', 'intronic (splice_site)'})))\n",
    "D.loc[LoFrows, cols]"
   ]
  },
  {
   "cell_type": "markdown",
   "metadata": {},
   "source": [
    "### Functional variants\n",
    "\n",
    "First let's see Taejeong's definition of functional variants\n",
    "\n",
    "> The terms that we chose as functional are missense, stop_gained, splice_region, regulatory, and TF_binding."
   ]
  },
  {
   "cell_type": "markdown",
   "metadata": {},
   "source": [
    "### Outlier individual"
   ]
  },
  {
   "cell_type": "code",
   "execution_count": 10,
   "metadata": {},
   "outputs": [],
   "source": [
    "# TODO\n",
    "#D.loc[funcAby, sel_cols].loc['CMC_MSSM_224']"
   ]
  },
  {
   "cell_type": "code",
   "execution_count": 11,
   "metadata": {},
   "outputs": [
    {
     "name": "stdout",
     "output_type": "stream",
     "text": [
      "{\n",
      "  \"shell_port\": 42867,\n",
      "  \"iopub_port\": 54495,\n",
      "  \"stdin_port\": 42499,\n",
      "  \"control_port\": 59341,\n",
      "  \"hb_port\": 47625,\n",
      "  \"ip\": \"127.0.0.1\",\n",
      "  \"key\": \"7eabf9d2-a31bada40f91c8a153f469ae\",\n",
      "  \"transport\": \"tcp\",\n",
      "  \"signature_scheme\": \"hmac-sha256\",\n",
      "  \"kernel_name\": \"\"\n",
      "}\n",
      "\n",
      "Paste the above JSON into a file, and connect with:\n",
      "    $> jupyter <app> --existing <file>\n",
      "or, if you are local, you can connect with just:\n",
      "    $> jupyter <app> --existing kernel-055dfbf2-b1d9-4e69-a24a-5a40449660e3.json\n",
      "or even just:\n",
      "    $> jupyter <app> --existing\n",
      "if this is the most recent Jupyter kernel you have started.\n"
     ]
    }
   ],
   "source": [
    "%connect_info"
   ]
  }
 ],
 "metadata": {
  "kernelspec": {
   "display_name": "Python 3",
   "language": "python",
   "name": "python3"
  },
  "language_info": {
   "codemirror_mode": {
    "name": "ipython",
    "version": 3
   },
   "file_extension": ".py",
   "mimetype": "text/x-python",
   "name": "python",
   "nbconvert_exporter": "python",
   "pygments_lexer": "ipython3",
   "version": "3.7.6"
  }
 },
 "nbformat": 4,
 "nbformat_minor": 4
}
