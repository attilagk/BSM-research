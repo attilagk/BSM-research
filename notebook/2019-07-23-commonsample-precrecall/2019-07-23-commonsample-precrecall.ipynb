{
 "cells": [
  {
   "cell_type": "markdown",
   "metadata": {},
   "source": [
    "Precision and recall is evaluated for all of our callers applied to our BAM files from the common sample.  The results are compared to those obtained by MosaicForecast caller applied to other BAM file from the common sample. "
   ]
  },
  {
   "cell_type": "code",
   "execution_count": 1,
   "metadata": {},
   "outputs": [],
   "source": [
    "%load_ext autoreload\n",
    "%autoreload 2\n",
    "%matplotlib inline\n",
    "import attila_utils\n",
    "import matplotlib\n",
    "matplotlib.rcParams['figure.dpi'] = 150\n",
    "from IPython.display import set_matplotlib_formats"
   ]
  },
  {
   "cell_type": "code",
   "execution_count": 2,
   "metadata": {},
   "outputs": [],
   "source": [
    "import precrecall_vcf as prvcf\n",
    "import pandas as pd\n",
    "import seaborn"
   ]
  },
  {
   "cell_type": "markdown",
   "metadata": {},
   "source": [
    "## 5 callers on Chess BAMs"
   ]
  },
  {
   "cell_type": "code",
   "execution_count": 3,
   "metadata": {},
   "outputs": [],
   "source": [
    "somvar = prvcf.process_yifans_table('/home/attila/projects/bsm/bsm-network/all_validations_190309_yifan.txt')\n",
    "regions = somvar[['#CHROM', 'POS']]"
   ]
  },
  {
   "cell_type": "code",
   "execution_count": 4,
   "metadata": {},
   "outputs": [],
   "source": [
    "results = prvcf.prec_recall_all(callers=['lofreqSomatic', 'somaticSniper', 'strelka2Germline', 'strelka2Somatic', 'Tnseq'], callsetdir='/big/results/bsm/2018-02-22-ref-tissue-proj-testdata/wgs/vcf/snvs/')\n",
    "results['caller'] = [y.replace('Tnseq', 'MuTect2') for y in results['caller']]"
   ]
  },
  {
   "cell_type": "code",
   "execution_count": 5,
   "metadata": {},
   "outputs": [
    {
     "data": {
      "text/html": [
       "<div>\n",
       "<style scoped>\n",
       "    .dataframe tbody tr th:only-of-type {\n",
       "        vertical-align: middle;\n",
       "    }\n",
       "\n",
       "    .dataframe tbody tr th {\n",
       "        vertical-align: top;\n",
       "    }\n",
       "\n",
       "    .dataframe thead th {\n",
       "        text-align: right;\n",
       "    }\n",
       "</style>\n",
       "<table border=\"1\" class=\"dataframe\">\n",
       "  <thead>\n",
       "    <tr style=\"text-align: right;\">\n",
       "      <th></th>\n",
       "      <th>caller</th>\n",
       "      <th>PASS_filter</th>\n",
       "      <th>n_variants</th>\n",
       "      <th>n_calls</th>\n",
       "      <th>n_truecalls</th>\n",
       "      <th>precision</th>\n",
       "      <th>recall</th>\n",
       "    </tr>\n",
       "  </thead>\n",
       "  <tbody>\n",
       "    <tr>\n",
       "      <th>0</th>\n",
       "      <td>lofreqSomatic</td>\n",
       "      <td>True</td>\n",
       "      <td>42</td>\n",
       "      <td>1827</td>\n",
       "      <td>0</td>\n",
       "      <td>0</td>\n",
       "      <td>0.000000</td>\n",
       "    </tr>\n",
       "    <tr>\n",
       "      <th>0</th>\n",
       "      <td>somaticSniper</td>\n",
       "      <td>True</td>\n",
       "      <td>42</td>\n",
       "      <td>0</td>\n",
       "      <td>0</td>\n",
       "      <td>None</td>\n",
       "      <td>0.000000</td>\n",
       "    </tr>\n",
       "    <tr>\n",
       "      <th>0</th>\n",
       "      <td>strelka2Germline</td>\n",
       "      <td>True</td>\n",
       "      <td>42</td>\n",
       "      <td>3803922</td>\n",
       "      <td>2</td>\n",
       "      <td>5.25773e-07</td>\n",
       "      <td>0.047619</td>\n",
       "    </tr>\n",
       "    <tr>\n",
       "      <th>0</th>\n",
       "      <td>strelka2Somatic</td>\n",
       "      <td>True</td>\n",
       "      <td>42</td>\n",
       "      <td>3551</td>\n",
       "      <td>0</td>\n",
       "      <td>0</td>\n",
       "      <td>0.000000</td>\n",
       "    </tr>\n",
       "    <tr>\n",
       "      <th>0</th>\n",
       "      <td>MuTect2</td>\n",
       "      <td>True</td>\n",
       "      <td>42</td>\n",
       "      <td>5697</td>\n",
       "      <td>2</td>\n",
       "      <td>0.000351062</td>\n",
       "      <td>0.047619</td>\n",
       "    </tr>\n",
       "    <tr>\n",
       "      <th>0</th>\n",
       "      <td>lofreqSomatic</td>\n",
       "      <td>False</td>\n",
       "      <td>42</td>\n",
       "      <td>1827</td>\n",
       "      <td>0</td>\n",
       "      <td>0</td>\n",
       "      <td>0.000000</td>\n",
       "    </tr>\n",
       "    <tr>\n",
       "      <th>0</th>\n",
       "      <td>somaticSniper</td>\n",
       "      <td>False</td>\n",
       "      <td>42</td>\n",
       "      <td>189955</td>\n",
       "      <td>3</td>\n",
       "      <td>1.57932e-05</td>\n",
       "      <td>0.071429</td>\n",
       "    </tr>\n",
       "    <tr>\n",
       "      <th>0</th>\n",
       "      <td>strelka2Germline</td>\n",
       "      <td>False</td>\n",
       "      <td>42</td>\n",
       "      <td>4161183</td>\n",
       "      <td>4</td>\n",
       "      <td>9.61265e-07</td>\n",
       "      <td>0.095238</td>\n",
       "    </tr>\n",
       "    <tr>\n",
       "      <th>0</th>\n",
       "      <td>strelka2Somatic</td>\n",
       "      <td>False</td>\n",
       "      <td>42</td>\n",
       "      <td>765198</td>\n",
       "      <td>13</td>\n",
       "      <td>1.69891e-05</td>\n",
       "      <td>0.309524</td>\n",
       "    </tr>\n",
       "    <tr>\n",
       "      <th>0</th>\n",
       "      <td>MuTect2</td>\n",
       "      <td>False</td>\n",
       "      <td>42</td>\n",
       "      <td>261270</td>\n",
       "      <td>6</td>\n",
       "      <td>2.29647e-05</td>\n",
       "      <td>0.142857</td>\n",
       "    </tr>\n",
       "  </tbody>\n",
       "</table>\n",
       "</div>"
      ],
      "text/plain": [
       "             caller  PASS_filter  n_variants  n_calls  n_truecalls  \\\n",
       "0     lofreqSomatic         True          42     1827            0   \n",
       "0     somaticSniper         True          42        0            0   \n",
       "0  strelka2Germline         True          42  3803922            2   \n",
       "0   strelka2Somatic         True          42     3551            0   \n",
       "0           MuTect2         True          42     5697            2   \n",
       "0     lofreqSomatic        False          42     1827            0   \n",
       "0     somaticSniper        False          42   189955            3   \n",
       "0  strelka2Germline        False          42  4161183            4   \n",
       "0   strelka2Somatic        False          42   765198           13   \n",
       "0           MuTect2        False          42   261270            6   \n",
       "\n",
       "     precision    recall  \n",
       "0            0  0.000000  \n",
       "0         None  0.000000  \n",
       "0  5.25773e-07  0.047619  \n",
       "0            0  0.000000  \n",
       "0  0.000351062  0.047619  \n",
       "0            0  0.000000  \n",
       "0  1.57932e-05  0.071429  \n",
       "0  9.61265e-07  0.095238  \n",
       "0  1.69891e-05  0.309524  \n",
       "0  2.29647e-05  0.142857  "
      ]
     },
     "execution_count": 5,
     "metadata": {},
     "output_type": "execute_result"
    }
   ],
   "source": [
    "results"
   ]
  },
  {
   "cell_type": "code",
   "execution_count": 6,
   "metadata": {},
   "outputs": [
    {
     "data": {
      "text/plain": [
       "['named-figure/prec-recall-common-sample.png',\n",
       " 'named-figure/prec-recall-common-sample.pdf']"
      ]
     },
     "execution_count": 6,
     "metadata": {},
     "output_type": "execute_result"
    },
    {
     "data": {
      "image/png": "[encoded data removed]",
      "text/plain": [
       "<Figure size 561.775x360 with 1 Axes>"
      ]
     },
     "metadata": {},
     "output_type": "display_data"
    }
   ],
   "source": [
    "seaborn.set()\n",
    "seaborn.set_context('talk')\n",
    "fg = seaborn.relplot(x='recall', y='precision', hue='caller', style='PASS_filter', data=results, alpha=0.75)\n",
    "fg.axes[0][0].set_ylim(-1e-5, 0.0004)\n",
    "fg.axes[0][0].set_xlim(-1e-2, )\n",
    "attila_utils.savefig(fg, 'prec-recall-common-sample')"
   ]
  },
  {
   "cell_type": "markdown",
   "metadata": {},
   "source": [
    "## Checking input alignment\n",
    "\n",
    "The input BAMs for the variant calling were generated by Peter Park's group.  I realigned our common sample reads and to generate new BAMs to exclude the possibility that the low performance of our callers is due to wrong input BAMs.  The new alignments were smaller (roughly half the size) than those from the Park group.\n",
    "\n",
    "But looking at the alignment itself with `samtools tview` and `samtools view` showed that the new and old alignments are nearly indentical besides differences in annotations (metadata)."
   ]
  },
  {
   "cell_type": "code",
   "execution_count": 7,
   "metadata": {},
   "outputs": [
    {
     "name": "stdout",
     "output_type": "stream",
     "text": [
      "Common_7_NeuN_DO16090243-final-all-wgs.bam\n",
      "ST-E00192:299:HW3C2CCXX:1:2108:1539:70996\n",
      "147\n",
      "1\n",
      "999853\n",
      "60\n",
      "150M\n",
      "=\n",
      "999658\n",
      "-345\n",
      "CCCCCACGGCCGGATGAGAAGTGGGAGACGGGGAGCGTTTTGACACCCTCGGAGACCCGGTGTAGCAGGAAGAGCCCATTGATGGGGAAGGTGGGGGCGGTTGTGCACCTCAAGCAGGTAAAAGCCCCTCCACAGGCACCAGGGCCGTGN\n",
      ":*<<-08>9':?@@>@@><>?>?=>1;/&=?==@>6=>??@4.=.???@9>???;??9>>@>????@>??=::?>????@??@>>>???>>@>>>>?9>>?@>@?????@?>@??=>>?>>>?>>>>>?>>>>?=>>>>>?==>?7<<=#\n",
      "MC:Z:150M\n",
      "BD:Z:IIIKMPNSQMMLOMNLLKLMILIKKLOLKHHJJOLJKCCJLNIHLINKLJJJKNLIJJMHHLMONNMJJKKJONIKKJJLMKKHHJJKMMHKHHHOLJMKJHHNNHLNKNKKONNMMLKCCKONIINKIKHINMONIMLOOJRQNOHIII\n",
      "MD:Z:149G0\n",
      "BI:Z:KKKLPROTUPNNQPQMONNQLNKLLNPNKJJLLRNLMFFMOPLLPLNMNJKKMOOKLJNJKMOQOPNKLLMKQPKLMLLNNMLIIKLLNNJLIIIOMJNLLKJPOKNNLNMKPNOMMLMEEKPOJJMLKKJJONOOKOLPOJPRNMJKKK\n",
      "NM:i:1\n",
      "MQ:i:60\n",
      "AS:i:149\n",
      "XS:i:0\n",
      "RG:Z:HW3C2CCXX_L1-43AEAD7C\n",
      "PG:Z:MarkDuplicates-79A979C3\n",
      "\n",
      "\n",
      "Common_7_NeuN.bam\n",
      "ST-E00192:299:HW3C2CCXX:1:2108:1539:70996\n",
      "147\n",
      "1\n",
      "999853\n",
      "60\n",
      "150M\n",
      "=\n",
      "999658\n",
      "-345\n",
      "CCCCCACGGCCGGATGAGAAGTGGGAGACGGGGAGCGTTTTGACACCCTCGGAGACCCGGTGTAGCAGGAAGAGCCCATTGATGGGGAAGGTGGGGGCGGTTGTGCACCTCAAGCAGGTAAAAGCCCCTCCACAGGCACCAGGGCCGTGN\n",
      "<-FF--FF<)JJJJAJFFAAJAJFF)A--FJFFFFFFFJJJ7-F-JJJJJJJFJ<JJJJJJJJFJJJJJJAA<JFJJJJJJJJJJJJJFJJJJJJJJJJJJJJJJJJJJJJFJJJAJJJJFJJJJJJJJJJJJJJJJJJJJJJJJFFAA#\n",
      "NM:i:1\n",
      "MD:Z:149G0\n",
      "AS:i:149\n",
      "XS:i:21\n",
      "RG:Z:Common_7_NeuN-D702_DO16090243_HW3C2CCXX_L1\n",
      "\n",
      "\n"
     ]
    }
   ],
   "source": [
    "%%bash\n",
    "cat /big/results/bsm/2019-08-02-common-sample-new-alignment/whats-in-bams.out"
   ]
  },
  {
   "cell_type": "markdown",
   "metadata": {},
   "source": [
    "The performance thus remained low with the new alignment used as input."
   ]
  },
  {
   "cell_type": "code",
   "execution_count": 8,
   "metadata": {},
   "outputs": [],
   "source": [
    "results_new = prvcf.prec_recall_all(callers=['somaticSniper', 'strelka2Somatic'], callsetdir='/big/results/bsm/2019-08-02-common-sample-new-alignment/snvs/')"
   ]
  },
  {
   "cell_type": "code",
   "execution_count": 9,
   "metadata": {},
   "outputs": [
    {
     "data": {
      "text/html": [
       "<div>\n",
       "<style scoped>\n",
       "    .dataframe tbody tr th:only-of-type {\n",
       "        vertical-align: middle;\n",
       "    }\n",
       "\n",
       "    .dataframe tbody tr th {\n",
       "        vertical-align: top;\n",
       "    }\n",
       "\n",
       "    .dataframe thead th {\n",
       "        text-align: right;\n",
       "    }\n",
       "</style>\n",
       "<table border=\"1\" class=\"dataframe\">\n",
       "  <thead>\n",
       "    <tr style=\"text-align: right;\">\n",
       "      <th></th>\n",
       "      <th>caller</th>\n",
       "      <th>PASS_filter</th>\n",
       "      <th>n_variants</th>\n",
       "      <th>n_calls</th>\n",
       "      <th>n_truecalls</th>\n",
       "      <th>precision</th>\n",
       "      <th>recall</th>\n",
       "    </tr>\n",
       "  </thead>\n",
       "  <tbody>\n",
       "    <tr>\n",
       "      <th>0</th>\n",
       "      <td>somaticSniper</td>\n",
       "      <td>True</td>\n",
       "      <td>42</td>\n",
       "      <td>0</td>\n",
       "      <td>0</td>\n",
       "      <td>None</td>\n",
       "      <td>0.000000</td>\n",
       "    </tr>\n",
       "    <tr>\n",
       "      <th>0</th>\n",
       "      <td>strelka2Somatic</td>\n",
       "      <td>True</td>\n",
       "      <td>42</td>\n",
       "      <td>52352</td>\n",
       "      <td>3</td>\n",
       "      <td>5.73044e-05</td>\n",
       "      <td>0.071429</td>\n",
       "    </tr>\n",
       "    <tr>\n",
       "      <th>0</th>\n",
       "      <td>somaticSniper</td>\n",
       "      <td>False</td>\n",
       "      <td>42</td>\n",
       "      <td>365637</td>\n",
       "      <td>2</td>\n",
       "      <td>5.46991e-06</td>\n",
       "      <td>0.047619</td>\n",
       "    </tr>\n",
       "    <tr>\n",
       "      <th>0</th>\n",
       "      <td>strelka2Somatic</td>\n",
       "      <td>False</td>\n",
       "      <td>42</td>\n",
       "      <td>2045868</td>\n",
       "      <td>17</td>\n",
       "      <td>8.30943e-06</td>\n",
       "      <td>0.404762</td>\n",
       "    </tr>\n",
       "  </tbody>\n",
       "</table>\n",
       "</div>"
      ],
      "text/plain": [
       "            caller  PASS_filter  n_variants  n_calls  n_truecalls  \\\n",
       "0    somaticSniper         True          42        0            0   \n",
       "0  strelka2Somatic         True          42    52352            3   \n",
       "0    somaticSniper        False          42   365637            2   \n",
       "0  strelka2Somatic        False          42  2045868           17   \n",
       "\n",
       "     precision    recall  \n",
       "0         None  0.000000  \n",
       "0  5.73044e-05  0.071429  \n",
       "0  5.46991e-06  0.047619  \n",
       "0  8.30943e-06  0.404762  "
      ]
     },
     "execution_count": 9,
     "metadata": {},
     "output_type": "execute_result"
    }
   ],
   "source": [
    "results_new"
   ]
  },
  {
   "cell_type": "markdown",
   "metadata": {},
   "source": [
    "## MosaicForecast on Walsh and Vaccarino BAMs\n",
    "\n",
    "Email from \"Dou, Yanmei\" <Yanmei_Dou@hms.harvard.edu> from Jul 11, 2019, 6:31 PM, who is the developer of [MosaicForecast](https://github.com/parklab/MosaicForecast).\n",
    "\n",
    "> I extracted features for the 400 sites from the Vaccarino (250x bam) and predicted 40/42 TP mosaics with 82% validation rate; and called 26 true mosaics from Walsh bam (200x) with 72% validation rate.\n",
    "\n",
    "Later (Jul 16, 2019, 8:00 PM) Yanmei disambiguates validation rate, which turns out to be precision:\n",
    "\n",
    "> Validation rate is defined as TP/(TP+FP), and recall is defined as TP/number_of_true_mosaics (there are in total 42 true mosaics in BSM collection)."
   ]
  },
  {
   "cell_type": "code",
   "execution_count": 10,
   "metadata": {},
   "outputs": [
    {
     "data": {
      "text/html": [
       "<div>\n",
       "<style scoped>\n",
       "    .dataframe tbody tr th:only-of-type {\n",
       "        vertical-align: middle;\n",
       "    }\n",
       "\n",
       "    .dataframe tbody tr th {\n",
       "        vertical-align: top;\n",
       "    }\n",
       "\n",
       "    .dataframe thead th {\n",
       "        text-align: right;\n",
       "    }\n",
       "</style>\n",
       "<table border=\"1\" class=\"dataframe\">\n",
       "  <thead>\n",
       "    <tr style=\"text-align: right;\">\n",
       "      <th></th>\n",
       "      <th>caller</th>\n",
       "      <th>PASS_filter</th>\n",
       "      <th>n_variants</th>\n",
       "      <th>n_calls</th>\n",
       "      <th>n_truecalls</th>\n",
       "      <th>precision</th>\n",
       "      <th>recall</th>\n",
       "    </tr>\n",
       "  </thead>\n",
       "  <tbody>\n",
       "    <tr>\n",
       "      <th>0</th>\n",
       "      <td>MosaicForecast</td>\n",
       "      <td>True</td>\n",
       "      <td>42</td>\n",
       "      <td>19</td>\n",
       "      <td>9</td>\n",
       "      <td>0.473684</td>\n",
       "      <td>0.214286</td>\n",
       "    </tr>\n",
       "    <tr>\n",
       "      <th>1</th>\n",
       "      <td>MosaicForecast_Walsh_data</td>\n",
       "      <td>True</td>\n",
       "      <td>42</td>\n",
       "      <td>36</td>\n",
       "      <td>26</td>\n",
       "      <td>0.720000</td>\n",
       "      <td>0.619048</td>\n",
       "    </tr>\n",
       "    <tr>\n",
       "      <th>2</th>\n",
       "      <td>MosaicForecast_Vaccarino_data</td>\n",
       "      <td>True</td>\n",
       "      <td>42</td>\n",
       "      <td>49</td>\n",
       "      <td>40</td>\n",
       "      <td>0.820000</td>\n",
       "      <td>0.952381</td>\n",
       "    </tr>\n",
       "  </tbody>\n",
       "</table>\n",
       "</div>"
      ],
      "text/plain": [
       "                          caller  PASS_filter  n_variants  n_calls  \\\n",
       "0                 MosaicForecast         True          42       19   \n",
       "1      MosaicForecast_Walsh_data         True          42       36   \n",
       "2  MosaicForecast_Vaccarino_data         True          42       49   \n",
       "\n",
       "   n_truecalls  precision    recall  \n",
       "0            9   0.473684  0.214286  \n",
       "1           26   0.720000  0.619048  \n",
       "2           40   0.820000  0.952381  "
      ]
     },
     "execution_count": 10,
     "metadata": {},
     "output_type": "execute_result"
    }
   ],
   "source": [
    "results_mfc = pd.DataFrame({'caller': ['MosaicForecast', 'MosaicForecast_Walsh_data', 'MosaicForecast_Vaccarino_data'], 'PASS_filter': True, 'n_variants': 42, 'n_calls': [19, round(26/0.72)\n",
    ", round(40 / 0.82)], 'n_truecalls': [9, 26, 40], 'precision': [9 / 19, 0.72, 0.82], 'recall': [9 / 42, 26/42, 40/42]}, index=[0, 1, 2])\n",
    "results_mfc"
   ]
  },
  {
   "cell_type": "markdown",
   "metadata": {},
   "source": [
    "The table (above) and the graph (below) shows that precision is orders of magnitude higher for MosaicForecast (for both the Walsh and Vaccarino BAMs) than for any of our callers for our BAMs.  Recall is also higher for MosaicForecast."
   ]
  },
  {
   "cell_type": "code",
   "execution_count": 11,
   "metadata": {
    "scrolled": true
   },
   "outputs": [
    {
     "data": {
      "text/plain": [
       "['named-figure/prec-recall-common-sample-mosaicforecast.png',\n",
       " 'named-figure/prec-recall-common-sample-mosaicforecast.pdf']"
      ]
     },
     "execution_count": 11,
     "metadata": {},
     "output_type": "execute_result"
    },
    {
     "data": {
      "image/png": "[encoded data removed]",
      "text/plain": [
       "<Figure size 681.884x360 with 1 Axes>"
      ]
     },
     "metadata": {},
     "output_type": "display_data"
    }
   ],
   "source": [
    "seaborn.set()\n",
    "seaborn.set_context('talk')\n",
    "fg = seaborn.relplot(x='recall', y='precision', hue='caller', style='caller', data=pd.concat([results.loc[results['PASS_filter'] == False, :], results_mfc]), alpha=0.75)\n",
    "attila_utils.savefig(fg, 'prec-recall-common-sample-mosaicforecast')"
   ]
  },
  {
   "cell_type": "markdown",
   "metadata": {},
   "source": [
    "## Conclusions\n",
    "\n",
    "1. Our 5 callers recalled only few of the 42 validated somatic variants.  Typically they call thousands to hundreds of thousands of variants even with the PASS filter applied so that the precision for those large callsets tends to be $<10^{-3}$\n",
    "1. MosaicForecast seems to far outperform any other callers but this must be confirmed by applying MosaicForecast to the same datasets (the BAMs from the Chess lab) as our 5 callers were applied to."
   ]
  },
  {
   "cell_type": "code",
   "execution_count": 12,
   "metadata": {},
   "outputs": [
    {
     "name": "stdout",
     "output_type": "stream",
     "text": [
      "{\n",
      "  \"shell_port\": 36281,\n",
      "  \"iopub_port\": 40583,\n",
      "  \"stdin_port\": 34487,\n",
      "  \"control_port\": 60621,\n",
      "  \"hb_port\": 35177,\n",
      "  \"ip\": \"127.0.0.1\",\n",
      "  \"key\": \"b88d62d2-3260b04e5d4ff0955b940121\",\n",
      "  \"transport\": \"tcp\",\n",
      "  \"signature_scheme\": \"hmac-sha256\",\n",
      "  \"kernel_name\": \"\"\n",
      "}\n",
      "\n",
      "Paste the above JSON into a file, and connect with:\n",
      "    $> jupyter <app> --existing <file>\n",
      "or, if you are local, you can connect with just:\n",
      "    $> jupyter <app> --existing kernel-04723daa-e8b5-4d23-91b4-5db252a11aaf.json\n",
      "or even just:\n",
      "    $> jupyter <app> --existing\n",
      "if this is the most recent Jupyter kernel you have started.\n"
     ]
    }
   ],
   "source": [
    "%connect_info"
   ]
  },
  {
   "cell_type": "code",
   "execution_count": null,
   "metadata": {},
   "outputs": [],
   "source": []
  }
 ],
 "metadata": {
  "kernelspec": {
   "display_name": "Python 3",
   "language": "python",
   "name": "python3"
  },
  "language_info": {
   "codemirror_mode": {
    "name": "ipython",
    "version": 3
   },
   "file_extension": ".py",
   "mimetype": "text/x-python",
   "name": "python",
   "nbconvert_exporter": "python",
   "pygments_lexer": "ipython3",
   "version": "3.7.3"
  }
 },
 "nbformat": 4,
 "nbformat_minor": 2
}
