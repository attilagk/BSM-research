{
 "cells": [
  {
   "cell_type": "markdown",
   "metadata": {},
   "source": [
    "Hello, World!"
   ]
  },
  {
   "cell_type": "code",
   "execution_count": 1,
   "metadata": {},
   "outputs": [],
   "source": [
    "%load_ext autoreload\n",
    "%autoreload 2\n",
    "%matplotlib inline\n",
    "import attila_utils\n",
    "import matplotlib\n",
    "matplotlib.rcParams['figure.dpi'] = 150\n",
    "from IPython.display import set_matplotlib_formats"
   ]
  },
  {
   "cell_type": "code",
   "execution_count": 2,
   "metadata": {},
   "outputs": [],
   "source": [
    "import precrecall_vcf as prvcf\n",
    "import pandas as pd\n",
    "import seaborn"
   ]
  },
  {
   "cell_type": "code",
   "execution_count": 3,
   "metadata": {},
   "outputs": [],
   "source": [
    "somvar = prvcf.process_yifans_table('/home/attila/projects/bsm/bsm-network/all_validations_190309_yifan.txt')\n",
    "regions = somvar[['#CHROM', 'POS']]"
   ]
  },
  {
   "cell_type": "code",
   "execution_count": 5,
   "metadata": {},
   "outputs": [
    {
     "data": {
      "text/html": [
       "<div>\n",
       "<style scoped>\n",
       "    .dataframe tbody tr th:only-of-type {\n",
       "        vertical-align: middle;\n",
       "    }\n",
       "\n",
       "    .dataframe tbody tr th {\n",
       "        vertical-align: top;\n",
       "    }\n",
       "\n",
       "    .dataframe thead th {\n",
       "        text-align: right;\n",
       "    }\n",
       "</style>\n",
       "<table border=\"1\" class=\"dataframe\">\n",
       "  <thead>\n",
       "    <tr style=\"text-align: right;\">\n",
       "      <th></th>\n",
       "      <th>caller</th>\n",
       "      <th>PASS</th>\n",
       "      <th>n_variants</th>\n",
       "      <th>n_calls</th>\n",
       "      <th>n_truecalls</th>\n",
       "    </tr>\n",
       "  </thead>\n",
       "  <tbody>\n",
       "    <tr>\n",
       "      <th>0</th>\n",
       "      <td>lofreqSomatic.vcf.gz</td>\n",
       "      <td>True</td>\n",
       "      <td>42</td>\n",
       "      <td>1827</td>\n",
       "      <td>0</td>\n",
       "    </tr>\n",
       "    <tr>\n",
       "      <th>0</th>\n",
       "      <td>somaticSniper.vcf.gz</td>\n",
       "      <td>True</td>\n",
       "      <td>42</td>\n",
       "      <td>0</td>\n",
       "      <td>0</td>\n",
       "    </tr>\n",
       "    <tr>\n",
       "      <th>0</th>\n",
       "      <td>strelka2Germline.vcf.gz</td>\n",
       "      <td>True</td>\n",
       "      <td>42</td>\n",
       "      <td>3803922</td>\n",
       "      <td>2</td>\n",
       "    </tr>\n",
       "    <tr>\n",
       "      <th>0</th>\n",
       "      <td>strelka2Somatic.vcf.gz</td>\n",
       "      <td>True</td>\n",
       "      <td>42</td>\n",
       "      <td>3551</td>\n",
       "      <td>0</td>\n",
       "    </tr>\n",
       "    <tr>\n",
       "      <th>0</th>\n",
       "      <td>Tnseq.vcf.gz</td>\n",
       "      <td>True</td>\n",
       "      <td>42</td>\n",
       "      <td>5697</td>\n",
       "      <td>2</td>\n",
       "    </tr>\n",
       "    <tr>\n",
       "      <th>0</th>\n",
       "      <td>lofreqSomatic.vcf.gz</td>\n",
       "      <td>False</td>\n",
       "      <td>42</td>\n",
       "      <td>1827</td>\n",
       "      <td>0</td>\n",
       "    </tr>\n",
       "    <tr>\n",
       "      <th>0</th>\n",
       "      <td>somaticSniper.vcf.gz</td>\n",
       "      <td>False</td>\n",
       "      <td>42</td>\n",
       "      <td>189955</td>\n",
       "      <td>3</td>\n",
       "    </tr>\n",
       "    <tr>\n",
       "      <th>0</th>\n",
       "      <td>strelka2Germline.vcf.gz</td>\n",
       "      <td>False</td>\n",
       "      <td>42</td>\n",
       "      <td>4161183</td>\n",
       "      <td>4</td>\n",
       "    </tr>\n",
       "    <tr>\n",
       "      <th>0</th>\n",
       "      <td>strelka2Somatic.vcf.gz</td>\n",
       "      <td>False</td>\n",
       "      <td>42</td>\n",
       "      <td>765198</td>\n",
       "      <td>13</td>\n",
       "    </tr>\n",
       "    <tr>\n",
       "      <th>0</th>\n",
       "      <td>Tnseq.vcf.gz</td>\n",
       "      <td>False</td>\n",
       "      <td>42</td>\n",
       "      <td>261270</td>\n",
       "      <td>6</td>\n",
       "    </tr>\n",
       "  </tbody>\n",
       "</table>\n",
       "</div>"
      ],
      "text/plain": [
       "                    caller   PASS  n_variants  n_calls  n_truecalls\n",
       "0     lofreqSomatic.vcf.gz   True          42     1827            0\n",
       "0     somaticSniper.vcf.gz   True          42        0            0\n",
       "0  strelka2Germline.vcf.gz   True          42  3803922            2\n",
       "0   strelka2Somatic.vcf.gz   True          42     3551            0\n",
       "0             Tnseq.vcf.gz   True          42     5697            2\n",
       "0     lofreqSomatic.vcf.gz  False          42     1827            0\n",
       "0     somaticSniper.vcf.gz  False          42   189955            3\n",
       "0  strelka2Germline.vcf.gz  False          42  4161183            4\n",
       "0   strelka2Somatic.vcf.gz  False          42   765198           13\n",
       "0             Tnseq.vcf.gz  False          42   261270            6"
      ]
     },
     "execution_count": 5,
     "metadata": {},
     "output_type": "execute_result"
    }
   ],
   "source": [
    "results = prvcf.prec_recall_all()\n",
    "results"
   ]
  },
  {
   "cell_type": "code",
   "execution_count": null,
   "metadata": {},
   "outputs": [],
   "source": []
  }
 ],
 "metadata": {
  "kernelspec": {
   "display_name": "Python 3",
   "language": "python",
   "name": "python3"
  },
  "language_info": {
   "codemirror_mode": {
    "name": "ipython",
    "version": 3
   },
   "file_extension": ".py",
   "mimetype": "text/x-python",
   "name": "python",
   "nbconvert_exporter": "python",
   "pygments_lexer": "ipython3",
   "version": "3.7.3"
  }
 },
 "nbformat": 4,
 "nbformat_minor": 2
}
