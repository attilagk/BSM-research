{
 "cells": [
  {
   "cell_type": "markdown",
   "metadata": {},
   "source": [
    "Creating panel of normals (PON) for TNhaplotyper/MuTect2"
   ]
  },
  {
   "cell_type": "code",
   "execution_count": 2,
   "metadata": {},
   "outputs": [],
   "source": [
    "%load_ext autoreload\n",
    "%autoreload 2\n",
    "%matplotlib inline\n",
    "import attila_utils\n",
    "import tnseq_pon"
   ]
  },
  {
   "cell_type": "markdown",
   "metadata": {},
   "source": [
    "Create `bam-list`, a list of BAMs for the CMC samples"
   ]
  },
  {
   "cell_type": "code",
   "execution_count": 3,
   "metadata": {},
   "outputs": [
    {
     "name": "stdout",
     "output_type": "stream",
     "text": [
      "MSSM_033_NeuN_pl\n",
      "MSSM_056_muscle\n",
      "MSSM_065_NeuN_pl\n",
      "MSSM_106_muscle\n",
      "MSSM_106_NeuN_mn\n",
      "MSSM_106_NeuN_pl\n",
      "MSSM_109_muscle\n",
      "MSSM_109_NeuN_mn\n",
      "MSSM_109_NeuN_pl\n",
      "MSSM_118_muscle\n",
      "MSSM_118_NeuN_pl\n",
      "MSSM_175_NeuN_pl\n",
      "MSSM_179_muscle\n",
      "MSSM_179_NeuN_mn\n",
      "MSSM_179_NeuN_pl\n",
      "MSSM_183_muscle\n",
      "MSSM_183_NeuN_mn\n",
      "MSSM_183_NeuN_pl\n",
      "MSSM_193_NeuN_pl\n",
      "MSSM_215_NeuN_pl\n",
      "MSSM_295_muscle\n",
      "MSSM_295_NeuN_pl\n",
      "MSSM_304_muscle\n",
      "MSSM_304_NeuN_pl\n",
      "MSSM_310_NeuN_pl\n",
      "MSSM_331_muscle\n",
      "MSSM_338_NeuN_pl\n",
      "MSSM_369_muscle\n",
      "MSSM_369_NeuN_mn\n",
      "MSSM_369_NeuN_pl\n",
      "MSSM_373_NeuN_pl\n",
      "MSSM_391_muscle\n",
      "MSSM_391_NeuN_mn\n",
      "MSSM_391_NeuN_pl\n",
      "PITT_010_NeuN_mn\n",
      "PITT_010_NeuN_pl\n",
      "PITT_036_NeuN_pl\n",
      "PITT_060_NeuN_pl\n",
      "PITT_064_NeuN_mn\n",
      "PITT_064_NeuN_pl\n",
      "PITT_091_NeuN_mn\n",
      "PITT_091_NeuN_pl\n",
      "PITT_101_NeuN_pl\n",
      "PITT_118_NeuN_mn\n",
      "PITT_118_NeuN_pl\n",
      "\n",
      "Number of files:\n",
      "45 bam-list\n"
     ]
    }
   ],
   "source": [
    "%%bash\n",
    "cd /projects/bsm/attila/results/2019-11-13-panel-of-normals\n",
    "find /projects/bsm/alignments/ -name 'MSSM*.bam' -o -name 'PITT*.bam' | sort > bam-list\n",
    "for b in `cat bam-list`; do basename $b .bam; done\n",
    "echo -e '\\n'Number of files:\n",
    "wc -l bam-list"
   ]
  },
  {
   "cell_type": "code",
   "execution_count": 9,
   "metadata": {},
   "outputs": [
    {
     "name": "stdout",
     "output_type": "stream",
     "text": [
      "os\t sys\t \n"
     ]
    }
   ],
   "source": [
    "who"
   ]
  },
  {
   "cell_type": "code",
   "execution_count": null,
   "metadata": {},
   "outputs": [],
   "source": []
  }
 ],
 "metadata": {
  "kernelspec": {
   "display_name": "Python 3",
   "language": "python",
   "name": "python3"
  },
  "language_info": {
   "codemirror_mode": {
    "name": "ipython",
    "version": 3
   },
   "file_extension": ".py",
   "mimetype": "text/x-python",
   "name": "python",
   "nbconvert_exporter": "python",
   "pygments_lexer": "ipython3",
   "version": "3.7.4"
  }
 },
 "nbformat": 4,
 "nbformat_minor": 2
}
