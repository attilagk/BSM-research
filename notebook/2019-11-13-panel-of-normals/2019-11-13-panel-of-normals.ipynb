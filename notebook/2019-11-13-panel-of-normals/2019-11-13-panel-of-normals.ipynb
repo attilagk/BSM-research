{
 "cells": [
  {
   "cell_type": "markdown",
   "metadata": {},
   "source": [
    "Creating panel of normals (PON) for TNhaplotyper/MuTect2"
   ]
  },
  {
   "cell_type": "code",
   "execution_count": 1,
   "metadata": {},
   "outputs": [],
   "source": [
    "%load_ext autoreload\n",
    "%autoreload 2\n",
    "%matplotlib inline\n",
    "import attila_utils\n",
    "import os.path\n",
    "import glob\n",
    "import tnseq_pon"
   ]
  },
  {
   "cell_type": "markdown",
   "metadata": {},
   "source": [
    "Get the list of BAMs for the CMC samples"
   ]
  },
  {
   "cell_type": "code",
   "execution_count": 2,
   "metadata": {},
   "outputs": [
    {
     "data": {
      "text/plain": [
       "['/projects/bsm/alignments/PITT_118/PITT_118_NeuN_mn.bam',\n",
       " '/projects/bsm/alignments/PITT_118/PITT_118_NeuN_pl.bam',\n",
       " '/projects/bsm/alignments/PITT_101/PITT_101_NeuN_pl.bam',\n",
       " '/projects/bsm/alignments/MSSM_369/MSSM_369_NeuN_mn.bam',\n",
       " '/projects/bsm/alignments/MSSM_369/MSSM_369_NeuN_pl.bam',\n",
       " '/projects/bsm/alignments/MSSM_369/MSSM_369_muscle.bam',\n",
       " '/projects/bsm/alignments/MSSM_193/MSSM_193_NeuN_pl.bam',\n",
       " '/projects/bsm/alignments/MSSM_056/MSSM_056_muscle.bam',\n",
       " '/projects/bsm/alignments/MSSM_106/MSSM_106_NeuN_pl.bam',\n",
       " '/projects/bsm/alignments/MSSM_106/MSSM_106_muscle.bam',\n",
       " '/projects/bsm/alignments/MSSM_106/MSSM_106_NeuN_mn.bam',\n",
       " '/projects/bsm/alignments/MSSM_338/MSSM_338_NeuN_pl.bam',\n",
       " '/projects/bsm/alignments/PITT_036/PITT_036_NeuN_pl.bam',\n",
       " '/projects/bsm/alignments/MSSM_331/MSSM_331_muscle.bam',\n",
       " '/projects/bsm/alignments/MSSM_391/MSSM_391_NeuN_pl.bam',\n",
       " '/projects/bsm/alignments/MSSM_391/MSSM_391_muscle.bam',\n",
       " '/projects/bsm/alignments/MSSM_391/MSSM_391_NeuN_mn.bam',\n",
       " '/projects/bsm/alignments/PITT_060/PITT_060_NeuN_pl.bam',\n",
       " '/projects/bsm/alignments/MSSM_175/MSSM_175_NeuN_pl.bam',\n",
       " '/projects/bsm/alignments/MSSM_183/MSSM_183_muscle.bam',\n",
       " '/projects/bsm/alignments/MSSM_183/MSSM_183_NeuN_pl.bam',\n",
       " '/projects/bsm/alignments/MSSM_183/MSSM_183_NeuN_mn.bam',\n",
       " '/projects/bsm/alignments/MSSM_118/MSSM_118_NeuN_pl.bam',\n",
       " '/projects/bsm/alignments/MSSM_118/MSSM_118_muscle.bam',\n",
       " '/projects/bsm/alignments/MSSM_304/MSSM_304_NeuN_pl.bam',\n",
       " '/projects/bsm/alignments/MSSM_304/MSSM_304_muscle.bam',\n",
       " '/projects/bsm/alignments/MSSM_215/MSSM_215_NeuN_pl.bam',\n",
       " '/projects/bsm/alignments/MSSM_065/MSSM_065_NeuN_pl.bam',\n",
       " '/projects/bsm/alignments/MSSM_295/MSSM_295_NeuN_pl.bam',\n",
       " '/projects/bsm/alignments/MSSM_295/MSSM_295_muscle.bam',\n",
       " '/projects/bsm/alignments/MSSM_179/MSSM_179_NeuN_pl.bam',\n",
       " '/projects/bsm/alignments/MSSM_179/MSSM_179_muscle.bam',\n",
       " '/projects/bsm/alignments/MSSM_179/MSSM_179_NeuN_mn.bam',\n",
       " '/projects/bsm/alignments/MSSM_033/MSSM_033_NeuN_pl.bam',\n",
       " '/projects/bsm/alignments/MSSM_109/MSSM_109_NeuN_pl.bam',\n",
       " '/projects/bsm/alignments/MSSM_109/MSSM_109_muscle.bam',\n",
       " '/projects/bsm/alignments/MSSM_109/MSSM_109_NeuN_mn.bam',\n",
       " '/projects/bsm/alignments/MSSM_373/MSSM_373_NeuN_pl.bam',\n",
       " '/projects/bsm/alignments/MSSM_310/MSSM_310_NeuN_pl.bam',\n",
       " '/projects/bsm/alignments/PITT_010/PITT_010_NeuN_pl.bam',\n",
       " '/projects/bsm/alignments/PITT_010/PITT_010_NeuN_mn.bam',\n",
       " '/projects/bsm/alignments/PITT_064/PITT_064_NeuN_pl.bam',\n",
       " '/projects/bsm/alignments/PITT_064/PITT_064_NeuN_mn.bam',\n",
       " '/projects/bsm/alignments/PITT_091/PITT_091_NeuN_mn.bam',\n",
       " '/projects/bsm/alignments/PITT_091/PITT_091_NeuN_pl.bam']"
      ]
     },
     "execution_count": 2,
     "metadata": {},
     "output_type": "execute_result"
    }
   ],
   "source": [
    "bamlist = glob.glob('/projects/bsm/alignments/[MP][SI][ST][MT]_*/*.bam')\n",
    "bamlist                    "
   ]
  },
  {
   "cell_type": "markdown",
   "metadata": {},
   "source": [
    "This will be the name of the output PON VCF"
   ]
  },
  {
   "cell_type": "code",
   "execution_count": 3,
   "metadata": {},
   "outputs": [
    {
     "data": {
      "text/plain": [
       "'/projects/bsm/attila/results/2019-11-13-panel-of-normals/bsm-cmc-pon.vcf.gz'"
      ]
     },
     "execution_count": 3,
     "metadata": {},
     "output_type": "execute_result"
    }
   ],
   "source": [
    "ponvcf = tnseq_pon.resultdir + os.path.sep + 'bsm-cmc-pon.vcf.gz'\n",
    "ponvcf"
   ]
  },
  {
   "cell_type": "markdown",
   "metadata": {},
   "source": [
    "Create PON VCF"
   ]
  },
  {
   "cell_type": "code",
   "execution_count": null,
   "metadata": {},
   "outputs": [],
   "source": [
    "if True:\n",
    "    proc = tnseq_pon.all_bam2pon_merge(bamlist=bamlist, ponvcf=ponvcf)\n",
    "    proc"
   ]
  }
 ],
 "metadata": {
  "kernelspec": {
   "display_name": "Python 3",
   "language": "python",
   "name": "python3"
  },
  "language_info": {
   "codemirror_mode": {
    "name": "ipython",
    "version": 3
   },
   "file_extension": ".py",
   "mimetype": "text/x-python",
   "name": "python",
   "nbconvert_exporter": "python",
   "pygments_lexer": "ipython3",
   "version": "3.7.4"
  }
 },
 "nbformat": 4,
 "nbformat_minor": 2
}
