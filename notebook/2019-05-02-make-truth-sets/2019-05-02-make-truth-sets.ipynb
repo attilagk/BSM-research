{
 "cells": [
  {
   "cell_type": "markdown",
   "metadata": {},
   "source": [
    "In this article we create several truthsets based on various models of alternative allele frequency distribution.  To each truthset corresponds a family of callsets.  Given a truthset and a callset family we can evaluate the performance of individual callers and of VariantMetaCaller.  The performance is expressed in terms of precision and recall.  Both the truthsets and the callsets are based on the benchmark data.  Each truthset (and family of callsets) belongs to a combination of (1) a specific exponential model of AAF distribution, (2) variant type and (3) sample and region."
   ]
  },
  {
   "cell_type": "code",
   "execution_count": 1,
   "metadata": {},
   "outputs": [],
   "source": [
    "%load_ext autoreload\n",
    "%autoreload 2\n",
    "%matplotlib inline\n",
    "import attila_utils\n",
    "import matplotlib\n",
    "matplotlib.rcParams['figure.dpi'] = 150\n",
    "from IPython.display import set_matplotlib_formats"
   ]
  },
  {
   "cell_type": "code",
   "execution_count": 2,
   "metadata": {},
   "outputs": [],
   "source": [
    "import truth_sets_aaf as tsa\n",
    "import pandas as pd\n",
    "import multi_prec_recall as multipr\n",
    "import seaborn"
   ]
  },
  {
   "cell_type": "markdown",
   "metadata": {},
   "source": [
    "Read in model parameters into `expm` for all combinations and create a truthset for each combination storing the names of output VCFs in `outvcfs`."
   ]
  },
  {
   "cell_type": "code",
   "execution_count": 3,
   "metadata": {},
   "outputs": [],
   "source": [
    "expm = pd.read_csv('~/projects/bsm/results/2019-04-04-truth-sets-aaf/exp_model.csv',\n",
    "                   dtype={'lambda': 'category', 'region': 'category', 'sample': 'category', 'vartype': 'category', 's2g': 'category'})"
   ]
  },
  {
   "cell_type": "code",
   "execution_count": null,
   "metadata": {},
   "outputs": [],
   "source": [
    "outvcfs = tsa.downsample_absolutely_all_vcfs(expm, topdir='/home/attila/projects/bsm/results/2019-03-18-truth-sets', seed=19760415)\n",
    "pd.DataFrame({'outvcf': outvcfs}).to_csv('~/projects/bsm/results/2019-04-04-truth-sets-aaf/outvcfs.csv', index=False)"
   ]
  },
  {
   "cell_type": "markdown",
   "metadata": {},
   "source": [
    "Let's write the pathnames for the resulting truthset VCFs to a CSV file!"
   ]
  },
  {
   "cell_type": "code",
   "execution_count": null,
   "metadata": {},
   "outputs": [],
   "source": [
    "outvcfs = list(pd.read_csv('~/projects/bsm/results/2019-04-04-truth-sets-aaf/outvcfs.csv')['outvcf'])"
   ]
  },
  {
   "cell_type": "markdown",
   "metadata": {},
   "source": [
    "The operation below does the following\n",
    "1. prepare (filter) callsets at each combination of region and variant type\n",
    "1. reduce callsets by removing nonvariants defined by the exponential model for all parameter combinations (s2g, lambda, sample)\n",
    "1. calculate precision and recall for all those conditions"
   ]
  },
  {
   "cell_type": "code",
   "execution_count": null,
   "metadata": {},
   "outputs": [],
   "source": [
    "pr = multipr.run_all()\n",
    "pr.to_csv('/home/attila/projects/bsm/results/2019-05-02-make-truth-sets/pr.csv', index=False)"
   ]
  },
  {
   "cell_type": "markdown",
   "metadata": {},
   "source": [
    "Reloading saved precision--recall data"
   ]
  },
  {
   "cell_type": "code",
   "execution_count": null,
   "metadata": {},
   "outputs": [],
   "source": [
    "pr = multipr.read_pr_csv('/home/attila/projects/bsm/results/2019-05-02-make-truth-sets/pr.csv')\n",
    "vmcbn = '/big/results/bsm/2018-06-22-variant-meta-caller-test/vmc-prioritize-benchmark/'\n",
    "vmc_pr_chr22_thinks = multipr.vmc_prepare_reduce_precrecall(csetVCF=vmcbn + 'test12/vmc-test12.vcf.gz', region='chr22', vartype='snp', machine='ThinkS')\n",
    "vmc_pr_chr22_ada = multipr.vmc_prepare_reduce_precrecall(csetVCF=vmcbn + 'test14ada/vmc-test14ada.vcf.gz', region='chr22', vartype='snp', machine='Ada')\n",
    "vmc_pr_chr1_2_ada = multipr.vmc_prepare_reduce_precrecall(csetVCF=vmcbn + 'test17ada/vmc-test17ada.vcf.gz', region='chr1_2', vartype='snp', machine='Ada')\n",
    "vmc_pr_chr22 = pd.concat([vmc_pr_chr22_thinks, vmc_pr_chr22_ada])"
   ]
  },
  {
   "cell_type": "markdown",
   "metadata": {},
   "source": [
    "## Results\n",
    "\n",
    "### Running VariantMetaCaller\n",
    "\n",
    "The following result shows that VariantMetaCaller didn't run on the entire input data that correspond to chr1 + chr2.  It exited somewhere arund the third of chr1."
   ]
  },
  {
   "cell_type": "code",
   "execution_count": null,
   "metadata": {},
   "outputs": [],
   "source": [
    "%%bash\n",
    "cd ~/data/refgenome/GRCh37/dna\n",
    "echo Lenght of chr1 and chr2\n",
    "head -n2 hs37d5.fa.fai | cut -f1-2\n",
    "echo -e '\\nLast positions in the output of VariantMetaCaller'\n",
    "cd /home/attila/projects/bsm/results/2018-06-22-variant-meta-caller-test/vmc-prioritize-benchmark/test17ada/\n",
    "bcftools view results.vcf 2> /dev/null | tail -n5 | cut -f1-2"
   ]
  },
  {
   "cell_type": "markdown",
   "metadata": {},
   "source": [
    "We remedy this by correcting the recall with the `correct_vmc_pr` function that uses a correction factor `corr_f` calculated from the chromosome lengths and the lenght of the segment processed by VariantMetaCaller."
   ]
  },
  {
   "cell_type": "code",
   "execution_count": null,
   "metadata": {},
   "outputs": [],
   "source": [
    "vmc_pr_ada = pd.concat([vmc_pr_chr22_ada,\n",
    "                        multipr.correct_vmc_pr(vmc_pr_chr1_2_ada, corr_f=(249250621 + 243199373) / 86682278)])"
   ]
  },
  {
   "cell_type": "markdown",
   "metadata": {},
   "source": [
    "Finally, let's get the length of chr22!  This will be useful for comparing runtimes."
   ]
  },
  {
   "cell_type": "code",
   "execution_count": null,
   "metadata": {},
   "outputs": [],
   "source": [
    "%%bash\n",
    "cd ~/data/refgenome/GRCh37/dna\n",
    "echo Lenght of chr22\n",
    "head -n22 hs37d5.fa.fai | tail -n1 | cut -f1-2"
   ]
  },
  {
   "cell_type": "code",
   "execution_count": null,
   "metadata": {},
   "outputs": [],
   "source": [
    "fpath_basen = vmcbn + 'test'\n",
    "d1 = {'fpath': fpath_basen + '12/runtime', 'region': 'chr22', 'machine': 'ThinkS'}\n",
    "d2 = {'fpath': fpath_basen + '14ada/runtime', 'region': 'chr22', 'machine': 'Ada'}\n",
    "d3 = {'fpath': fpath_basen + '17ada/runtime', 'region': 'chr1_2', 'machine': 'Ada'}\n",
    "l = [multipr.read_runtime(**d) for d in [d1, d2, d3]]\n",
    "runtimes = pd.concat(l)\n",
    "runtimes.head()"
   ]
  },
  {
   "cell_type": "markdown",
   "metadata": {},
   "source": [
    "The plot shows that VariantMetaCaller's runtime scales supralinearly with the lenght of the genomic region (assumed to be proportional to the total number of calls).  This is consistent with [SVMs having quadratic complexity](https://www.quora.com/What-is-the-computational-complexity-of-an-SVM) (András Gézsi, personal communication)."
   ]
  },
  {
   "cell_type": "code",
   "execution_count": null,
   "metadata": {},
   "outputs": [],
   "source": [
    "seaborn.set()\n",
    "fg = seaborn.relplot(x='region_length', y='runtime', hue='machine', data=runtimes.loc[runtimes['type'] == 'real', :])\n",
    "fg.axes[0][0].set_xlim(0, )\n",
    "attila_utils.savefig(fg, 'vmc-runtime-scaling')"
   ]
  },
  {
   "cell_type": "markdown",
   "metadata": {},
   "source": [
    "### SNVs\n",
    "\n",
    "The plots below show\n",
    "* *filled circles*: the precision-recall **points** of individual callers (the *callsets*) with their default `PASS` filter if that is available\n",
    "* *solid black line*: the precision-recall **curve** of VariantMetaCaller (VMC) based on all those individual callers (when available)\n",
    "* *dotted black line*: same as above but with precision estimated by VMC rather than the real precision"
   ]
  },
  {
   "cell_type": "markdown",
   "metadata": {},
   "source": [
    "#### log10s2g = -2"
   ]
  },
  {
   "cell_type": "code",
   "execution_count": null,
   "metadata": {},
   "outputs": [],
   "source": [
    "fg = multipr.plotter1(pr=pr, vmc_pr=vmc_pr_ada, sample='mix1', s2g=-2, vartype='snp')\n",
    "attila_utils.savefig(fg, 'prec-recall-snp-s2g-2')"
   ]
  },
  {
   "cell_type": "markdown",
   "metadata": {},
   "source": [
    "#### log10s2g = -3"
   ]
  },
  {
   "cell_type": "code",
   "execution_count": null,
   "metadata": {},
   "outputs": [],
   "source": [
    "fg = multipr.plotter1(pr=pr, vmc_pr=vmc_pr_ada, sample='mix1', s2g=-3, vartype='snp')\n",
    "attila_utils.savefig(fg, 'prec-recall-snp-s2g-3')"
   ]
  },
  {
   "cell_type": "markdown",
   "metadata": {},
   "source": [
    "#### log10s2g = -4"
   ]
  },
  {
   "cell_type": "code",
   "execution_count": null,
   "metadata": {},
   "outputs": [],
   "source": [
    "fg = multipr.plotter1(pr=pr, vmc_pr=vmc_pr_ada, sample='mix1', s2g=-4, vartype='snp')\n",
    "attila_utils.savefig(fg, 'prec-recall-snp-s2g-4')"
   ]
  },
  {
   "cell_type": "markdown",
   "metadata": {},
   "source": [
    "### Indels\n",
    "\n",
    "#### log10s2g = -2"
   ]
  },
  {
   "cell_type": "code",
   "execution_count": null,
   "metadata": {},
   "outputs": [],
   "source": [
    "fg = multipr.plotter1(pr=pr, vmc_pr=None, sample='mix1', s2g=-2, vartype='indel')\n",
    "attila_utils.savefig(fg, 'prec-recall-indel-s2g-2')"
   ]
  },
  {
   "cell_type": "markdown",
   "metadata": {},
   "source": [
    "#### log10s2g = -3"
   ]
  },
  {
   "cell_type": "code",
   "execution_count": null,
   "metadata": {},
   "outputs": [],
   "source": [
    "fg = multipr.plotter1(pr=pr, sample='mix1', s2g=-3, vartype='indel')\n",
    "attila_utils.savefig(fg, 'prec-recall-indel-s2g-3')"
   ]
  },
  {
   "cell_type": "markdown",
   "metadata": {},
   "source": [
    "#### log10s2g = -4"
   ]
  },
  {
   "cell_type": "code",
   "execution_count": null,
   "metadata": {},
   "outputs": [],
   "source": [
    "fg = multipr.plotter1(pr=pr, sample='mix1', s2g=-4, vartype='indel')\n",
    "attila_utils.savefig(fg, 'prec-recall-indel-s2g-4')"
   ]
  },
  {
   "cell_type": "markdown",
   "metadata": {},
   "source": [
    "### Other views"
   ]
  },
  {
   "cell_type": "code",
   "execution_count": null,
   "metadata": {},
   "outputs": [],
   "source": [
    "fg = multipr.plotter3(pr, vartype='snp')\n",
    "attila_utils.savefig(fg, 'prec-recall-snp-region-autosomes')\n",
    "fg = multipr.plotter3(pr, vartype='indel')\n",
    "attila_utils.savefig(fg, 'prec-recall-indel-region-autosomes')"
   ]
  },
  {
   "cell_type": "code",
   "execution_count": null,
   "metadata": {},
   "outputs": [],
   "source": [
    "fg = multipr.plotter4(pr, vmc_pr_ada, vartype='snp')\n",
    "attila_utils.savefig(fg, 'prec-recall-snp-lambda-02')"
   ]
  },
  {
   "cell_type": "markdown",
   "metadata": {},
   "source": [
    "### Comparing VMC results with different machines"
   ]
  },
  {
   "cell_type": "code",
   "execution_count": null,
   "metadata": {},
   "outputs": [],
   "source": [
    "fg = multipr.plotter2(vmc_pr_chr22, sample='mix1')"
   ]
  },
  {
   "cell_type": "code",
   "execution_count": null,
   "metadata": {},
   "outputs": [],
   "source": [
    "%connect_info"
   ]
  },
  {
   "cell_type": "code",
   "execution_count": null,
   "metadata": {},
   "outputs": [],
   "source": []
  }
 ],
 "metadata": {
  "kernelspec": {
   "display_name": "Python 3",
   "language": "python",
   "name": "python3"
  },
  "language_info": {
   "codemirror_mode": {
    "name": "ipython",
    "version": 3
   },
   "file_extension": ".py",
   "mimetype": "text/x-python",
   "name": "python",
   "nbconvert_exporter": "python",
   "pygments_lexer": "ipython3",
   "version": "3.7.3"
  }
 },
 "nbformat": 4,
 "nbformat_minor": 2
}
