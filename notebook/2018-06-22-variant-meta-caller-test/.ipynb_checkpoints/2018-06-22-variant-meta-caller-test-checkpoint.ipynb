{
 "cells": [
  {
   "cell_type": "markdown",
   "metadata": {},
   "source": [
    "# VariantMetaCaller test\n",
    "\n",
    "## With previously tested germline callers\n",
    "\n",
    "The VCF files of four germline callers presented in Gézsi et al 2015 were obtained from the authors.  The run of VMC with these input VCFs was successful. See `2018-06-22-variant-meta-caller-test/vmc-prioritize-testvcf-germline` directory\n",
    "\n",
    "## With our somatic callers\n"
   ]
  },
  {
   "cell_type": "raw",
   "metadata": {},
   "source": [
    "cd $HOME/projects/bsm/results/2018-06-22-variant-meta-caller-test/vmc-prioritize-benchmark/test08/\n",
    "$HOME/projects/bsm/src/strelka2Somatic-addGT ../22/strelka2Somatic.vcf > strelka2Somatic.tsv"
   ]
  },
  {
   "cell_type": "code",
   "execution_count": 1,
   "metadata": {},
   "outputs": [],
   "source": [
    "library(lattice)\n",
    "lattice.options(default.args = list(as.table = TRUE))"
   ]
  },
  {
   "cell_type": "code",
   "execution_count": 13,
   "metadata": {},
   "outputs": [
    {
     "name": "stdout",
     "output_type": "stream",
     "text": [
      "'data.frame':\t21152 obs. of  18 variables:\n",
      " $ Ref         : Factor w/ 4 levels \"A\",\"C\",\"G\",\"T\": 4 3 1 1 2 1 2 2 2 2 ...\n",
      " $ Alt         : Factor w/ 4 levels \"A\",\"C\",\"G\",\"T\": 2 2 3 2 1 3 4 4 4 4 ...\n",
      " $ Normal.DP   : int  83 88 90 64 64 80 93 120 66 64 ...\n",
      " $ Normal.FDP  : int  1 2 0 0 0 1 0 2 0 6 ...\n",
      " $ Normal.SDP  : int  0 0 0 0 0 0 0 0 0 0 ...\n",
      " $ Normal.SUBDP: int  0 0 0 0 0 0 0 0 0 0 ...\n",
      " $ Normal.AU   : int  0 0 90 64 0 79 0 0 0 0 ...\n",
      " $ Normal.CU   : int  0 0 0 0 64 0 92 118 66 58 ...\n",
      " $ Normal.GU   : int  0 86 0 0 0 0 1 0 0 0 ...\n",
      " $ Normal.TU   : int  82 0 0 0 0 0 0 0 0 0 ...\n",
      " $ Tumor.DP    : int  151 130 118 94 92 93 84 141 89 93 ...\n",
      " $ Tumor.FDP   : int  1 1 1 1 0 2 1 1 0 7 ...\n",
      " $ Tumor.SDP   : int  0 0 0 0 0 0 0 0 0 0 ...\n",
      " $ Tumor.SUBDP : int  0 0 0 0 0 0 0 0 0 0 ...\n",
      " $ Tumor.AU    : int  0 0 99 78 9 78 0 0 0 0 ...\n",
      " $ Tumor.CU    : int  9 33 1 15 83 0 62 116 76 73 ...\n",
      " $ Tumor.GU    : int  0 96 17 0 0 13 0 0 0 0 ...\n",
      " $ Tumor.TU    : int  141 0 0 0 0 0 21 24 13 13 ...\n"
     ]
    }
   ],
   "source": [
    "gt <- read.delim(\"~/projects/bsm/results//2018-06-22-variant-meta-caller-test/vmc-prioritize-benchmark/test08//strelka2Somatic.tsv\")\n",
    "str(gt)"
   ]
  },
  {
   "cell_type": "code",
   "execution_count": 67,
   "metadata": {},
   "outputs": [],
   "source": [
    "get.vaf <- function(df) {\n",
    "    get.allele.count <- function(allele = c(\"Ref\", \"Alt\")[1], sample = c(\"Normal\", \"Tumor\")[1])\n",
    "        return(as.numeric(df[cbind(seq_len(nrow(gh)), as.numeric(df[[allele]]) + ifelse(sample == \"Normal\", 6, 14))]))\n",
    "    get.depth <- function(sample = c(\"Normal\", \"Tumor\")[1])\n",
    "        return(as.numeric(df[cbind(seq_len(nrow(gh)), ifelse(sample == \"Normal\", 3, 11))]))\n",
    "    Normal.DP <- get.depth(\"Normal\")\n",
    "    Tumor.DP <- get.depth(\"Tumor\")\n",
    "    rbind(data.frame(Sample = \"Normal\",\n",
    "                     Ref.VAF = get.allele.count(\"Ref\", \"Normal\") / Normal.DP,\n",
    "                     Alt.VAF = get.allele.count(\"Alt\", \"Normal\") / Normal.DP),\n",
    "          data.frame(Sample = \"Tumor\",\n",
    "                     Ref.VAF = get.allele.count(\"Ref\", \"Tumor\") / Tumor.DP,\n",
    "                     Alt.VAF = get.allele.count(\"Alt\", \"Tumor\") / Tumor.DP))\n",
    "}"
   ]
  },
  {
   "cell_type": "code",
   "execution_count": 75,
   "metadata": {},
   "outputs": [
    {
     "name": "stderr",
     "output_type": "stream",
     "text": [
      "Warning message in cbind(seq_len(nrow(gh)), as.numeric(df[[allele]]) + ifelse(sample == :\n",
      "“number of rows of result is not a multiple of vector length (arg 1)”Warning message in get.allele.count(\"Ref\", \"Normal\")/Normal.DP:\n",
      "“longer object length is not a multiple of shorter object length”Warning message in cbind(seq_len(nrow(gh)), as.numeric(df[[allele]]) + ifelse(sample == :\n",
      "“number of rows of result is not a multiple of vector length (arg 1)”Warning message in get.allele.count(\"Alt\", \"Normal\")/Normal.DP:\n",
      "“longer object length is not a multiple of shorter object length”Warning message in cbind(seq_len(nrow(gh)), as.numeric(df[[allele]]) + ifelse(sample == :\n",
      "“number of rows of result is not a multiple of vector length (arg 1)”Warning message in get.allele.count(\"Ref\", \"Tumor\")/Tumor.DP:\n",
      "“longer object length is not a multiple of shorter object length”Warning message in cbind(seq_len(nrow(gh)), as.numeric(df[[allele]]) + ifelse(sample == :\n",
      "“number of rows of result is not a multiple of vector length (arg 1)”Warning message in get.allele.count(\"Alt\", \"Tumor\")/Tumor.DP:\n",
      "“longer object length is not a multiple of shorter object length”"
     ]
    },
    {
     "data": {},
     "metadata": {},
     "output_type": "display_data"
    },
    {
     "data": {
      "image/png": "[encoded data removed]",
      "text/plain": [
       "plot without title"
      ]
     },
     "metadata": {},
     "output_type": "display_data"
    }
   ],
   "source": [
    "xyplot(Alt.VAF ~ Ref.VAF | Sample, data = get.vaf(gt), pch = \"+\")"
   ]
  },
  {
   "cell_type": "code",
   "execution_count": null,
   "metadata": {},
   "outputs": [],
   "source": []
  }
 ],
 "metadata": {
  "kernelspec": {
   "display_name": "R",
   "language": "R",
   "name": "ir"
  },
  "language_info": {
   "codemirror_mode": "r",
   "file_extension": ".r",
   "mimetype": "text/x-r-source",
   "name": "R",
   "pygments_lexer": "r",
   "version": "3.4.1"
  }
 },
 "nbformat": 4,
 "nbformat_minor": 2
}
