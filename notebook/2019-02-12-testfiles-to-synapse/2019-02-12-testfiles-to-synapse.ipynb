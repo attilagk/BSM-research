{
 "cells": [
  {
   "cell_type": "markdown",
   "metadata": {},
   "source": [
    "Small FASTQ files for testing the BSMN mapping workflow are uploaded to various locations in Synapse."
   ]
  },
  {
   "cell_type": "code",
   "execution_count": 39,
   "metadata": {},
   "outputs": [
    {
     "name": "stdout",
     "output_type": "stream",
     "text": [
      "Welcome, Attila Gulyás-Kovács!\n",
      "\n"
     ]
    }
   ],
   "source": [
    "import synapseclient\n",
    "import glob\n",
    "syn = synapseclient.login()"
   ]
  },
  {
   "cell_type": "markdown",
   "metadata": {},
   "source": [
    "## BSMN Chess Lab\n",
    "\n",
    "Select all (four) small fastq files sampled from large fastqs for the common sample and store them in the `bsmn-pipeline-test` folder in the BSMN Chess Lab project.\n",
    "\n",
    "Clean up folder and upload files again."
   ]
  },
  {
   "cell_type": "code",
   "execution_count": 40,
   "metadata": {},
   "outputs": [
    {
     "name": "stdout",
     "output_type": "stream",
     "text": [
      "\n",
      "##################################################\n",
      " Uploading file to Synapse storage \n",
      "##################################################\n",
      "\n",
      "\n",
      "##################################################\n",
      " Uploading file to Synapse storage \n",
      "##################################################\n",
      "\n",
      "\n",
      "##################################################\n",
      " Uploading file to Synapse storage \n",
      "##################################################\n",
      "\n",
      "\n",
      "##################################################\n",
      " Uploading file to Synapse storage \n",
      "##################################################\n",
      "\n"
     ]
    }
   ],
   "source": [
    "#folderId = \"syn17931318\"\n",
    "for e in syn.getChildren(\"syn17931318\"):\n",
    "    syn.delete(syn.get(e, downloadFile = False))\n",
    "    \n",
    "local_files = glob.glob(\"/big/data/bsm/MS_02May2016_CommonSample/*.fastq.gz\")\n",
    "def my_upload(local_files = local_files, folderId = \"syn17931318\"):\n",
    "    for f in local_files:\n",
    "        syn.store(synapseclient.File(f, parent = folderId))\n",
    "        \n",
    "my_upload()"
   ]
  },
  {
   "cell_type": "markdown",
   "metadata": {},
   "source": [
    "## Scratch Space\n",
    "\n",
    "The same files are uploaded but the parent folder now is the `small_test_data` on the BSMN Scratch Space."
   ]
  },
  {
   "cell_type": "code",
   "execution_count": 41,
   "metadata": {},
   "outputs": [],
   "source": [
    "my_upload(folderId = \"syn18233615\")"
   ]
  }
 ],
 "metadata": {
  "kernelspec": {
   "display_name": "Python 3",
   "language": "python",
   "name": "python3"
  },
  "language_info": {
   "codemirror_mode": {
    "name": "ipython",
    "version": 3
   },
   "file_extension": ".py",
   "mimetype": "text/x-python",
   "name": "python",
   "nbconvert_exporter": "python",
   "pygments_lexer": "ipython3",
   "version": "3.5.3"
  }
 },
 "nbformat": 4,
 "nbformat_minor": 2
}
