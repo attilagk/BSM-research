{
 "cells": [
  {
   "cell_type": "markdown",
   "metadata": {},
   "source": [
    "Calculating genic recurrence and addressing its association with schizophrenia."
   ]
  },
  {
   "cell_type": "code",
   "execution_count": 1,
   "metadata": {},
   "outputs": [],
   "source": [
    "%load_ext autoreload\n",
    "%autoreload 2\n",
    "%reload_ext autoreload\n",
    "from matplotlib import pyplot as plt\n",
    "import pandas as pd\n",
    "import numpy as np\n",
    "import attila_utils\n",
    "from bsmcalls import readVCF, individuals, preprocessing\n",
    "import attila_utils\n",
    "%matplotlib inline"
   ]
  },
  {
   "cell_type": "markdown",
   "metadata": {},
   "source": [
    "Import annotated, expanded calls"
   ]
  },
  {
   "cell_type": "code",
   "execution_count": 2,
   "metadata": {},
   "outputs": [],
   "source": [
    "csvpath = '/home/attila/projects/bsm/results/2020-11-13-functional-variants/expanded-annotated-calls.csv'\n",
    "calls = pd.read_csv(csvpath, index_col=['Individual ID', 'Tissue', 'CHROM', 'POS', 'Mutation'])"
   ]
  },
  {
   "cell_type": "markdown",
   "metadata": {},
   "source": [
    "Number of overlapped genes"
   ]
  },
  {
   "cell_type": "code",
   "execution_count": 3,
   "metadata": {},
   "outputs": [
    {
     "data": {
      "text/html": [
       "<style  type=\"text/css\" >\n",
       "#T_f46913f6_4984_11eb_9f21_31ba06c5d21erow0_col0,#T_f46913f6_4984_11eb_9f21_31ba06c5d21erow0_col1{\n",
       "            width:  10em;\n",
       "             height:  80%;\n",
       "            background:  linear-gradient(90deg,#d65f5f 29.3%, transparent 29.3%);\n",
       "        }#T_f46913f6_4984_11eb_9f21_31ba06c5d21erow1_col0,#T_f46913f6_4984_11eb_9f21_31ba06c5d21erow1_col1{\n",
       "            width:  10em;\n",
       "             height:  80%;\n",
       "            background:  linear-gradient(90deg,#d65f5f 76.3%, transparent 76.3%);\n",
       "        }#T_f46913f6_4984_11eb_9f21_31ba06c5d21erow2_col0,#T_f46913f6_4984_11eb_9f21_31ba06c5d21erow2_col1{\n",
       "            width:  10em;\n",
       "             height:  80%;\n",
       "            background:  linear-gradient(90deg,#d65f5f 100.0%, transparent 100.0%);\n",
       "        }</style><table id=\"T_f46913f6_4984_11eb_9f21_31ba06c5d21e\" ><thead>    <tr>        <th class=\"blank level0\" ></th>        <th class=\"col_heading level0 col0\" >num calls</th>        <th class=\"col_heading level0 col1\" >frac calls</th>    </tr>    <tr>        <th class=\"index_name level0\" >Dx</th>        <th class=\"blank\" ></th>        <th class=\"blank\" ></th>    </tr></thead><tbody>\n",
       "                <tr>\n",
       "                        <th id=\"T_f46913f6_4984_11eb_9f21_31ba06c5d21elevel0_row0\" class=\"row_heading level0 row0\" >Control</th>\n",
       "                        <td id=\"T_f46913f6_4984_11eb_9f21_31ba06c5d21erow0_col0\" class=\"data row0 col0\" >471</td>\n",
       "                        <td id=\"T_f46913f6_4984_11eb_9f21_31ba06c5d21erow0_col1\" class=\"data row0 col1\" >0.292547</td>\n",
       "            </tr>\n",
       "            <tr>\n",
       "                        <th id=\"T_f46913f6_4984_11eb_9f21_31ba06c5d21elevel0_row1\" class=\"row_heading level0 row1\" >SCZ</th>\n",
       "                        <td id=\"T_f46913f6_4984_11eb_9f21_31ba06c5d21erow1_col0\" class=\"data row1 col0\" >1228</td>\n",
       "                        <td id=\"T_f46913f6_4984_11eb_9f21_31ba06c5d21erow1_col1\" class=\"data row1 col1\" >0.762733</td>\n",
       "            </tr>\n",
       "            <tr>\n",
       "                        <th id=\"T_f46913f6_4984_11eb_9f21_31ba06c5d21elevel0_row2\" class=\"row_heading level0 row2\" >All</th>\n",
       "                        <td id=\"T_f46913f6_4984_11eb_9f21_31ba06c5d21erow2_col0\" class=\"data row2 col0\" >1610</td>\n",
       "                        <td id=\"T_f46913f6_4984_11eb_9f21_31ba06c5d21erow2_col1\" class=\"data row2 col1\" >1.000000</td>\n",
       "            </tr>\n",
       "    </tbody></table>"
      ],
      "text/plain": [
       "<pandas.io.formats.style.Styler at 0x7fe1cc1e5350>"
      ]
     },
     "execution_count": 3,
     "metadata": {},
     "output_type": "execute_result"
    }
   ],
   "source": [
    "coding = calls.loc[~ (calls['near_gens_Overlapped Gene'] == 'None')]\n",
    "ncoding = coding.pivot_table(values='near_gens_Overlapped Gene', index='Dx', aggfunc='nunique', margins=True).rename(columns={'near_gens_Overlapped Gene': 'num calls'})\n",
    "ncoding['frac calls'] = ncoding / ncoding.loc['All', 'num calls']\n",
    "ncoding.style.bar(vmin=0)"
   ]
  },
  {
   "cell_type": "code",
   "execution_count": 4,
   "metadata": {},
   "outputs": [],
   "source": [
    "genes = list(set(coding['near_gens_Overlapped Gene']))\n",
    "genes.sort()"
   ]
  },
  {
   "cell_type": "code",
   "execution_count": 5,
   "metadata": {},
   "outputs": [
    {
     "data": {
      "text/plain": [
       "Individual ID\n",
       "CMC_MSSM_027    {RP11-135J2.4, CAPN8, SLC35F6:CENPA, SLIT3, AN...\n",
       "CMC_MSSM_055    {LDB3, AFF1, REXO1, GALNT5, NREP:NREP-AS1, GRI...\n",
       "CMC_MSSM_056    {RP11-260O18.1, ADRBK2, C9, SNED1:AC005237.4, ...\n",
       "CMC_MSSM_069        {EPHA6, GALNT16, LIPA, CASK, ZNF385D, CNKSR2}\n",
       "CMC_MSSM_097    {MLIP:MLIP-AS1, ULK4, LYRM7, TNFAIP3, SLC1A2, ...\n",
       "                                      ...                        \n",
       "CMC_PITT_098    {MYLK4, RP11-108K3.1, ZNF804B, C9orf89, QSER1,...\n",
       "CMC_PITT_101    {ZFHX4, MIPOL1, NEGR1, RALGAPB, SLC35E4, HECW1...\n",
       "CMC_PITT_113    {RNFT2, SEMA3D, ERBB4, QPCT, MARK4, KCNJ6, TUS...\n",
       "CMC_PITT_117    {AC133680.1, KCNQ5:KCNQ5-IT1, CACNA1E, C9orf96...\n",
       "CMC_PITT_118    {ZBTB20, RP11-399H11.2, MDGA2, RP11-179A16.1, ...\n",
       "Name: near_gens_Overlapped Gene, Length: 86, dtype: object"
      ]
     },
     "execution_count": 5,
     "metadata": {},
     "output_type": "execute_result"
    }
   ],
   "source": [
    "s = coding.groupby('Individual ID')['near_gens_Overlapped Gene'].agg(set)\n",
    "s"
   ]
  },
  {
   "cell_type": "code",
   "execution_count": 6,
   "metadata": {},
   "outputs": [
    {
     "data": {
      "text/plain": [
       "5S_rRNA                            [CMC_MSSM_391]\n",
       "AAGAB                              [CMC_MSSM_304]\n",
       "ABCA12                             [CMC_MSSM_372]\n",
       "ABCA9:ABCA9-AS1                    [CMC_MSSM_363]\n",
       "ABCG1                              [CMC_MSSM_352]\n",
       "                                 ...             \n",
       "ZNF804A                            [CMC_MSSM_273]\n",
       "ZNF804B              [CMC_MSSM_130, CMC_PITT_098]\n",
       "ZYG11A                             [CMC_MSSM_321]\n",
       "hsa-mir-490                        [CMC_MSSM_097]\n",
       "hsa-mir-490:CHRM2    [CMC_MSSM_055, CMC_MSSM_099]\n",
       "Length: 1610, dtype: object"
      ]
     },
     "execution_count": 6,
     "metadata": {},
     "output_type": "execute_result"
    }
   ],
   "source": [
    "recurrence_dict = {gene: [ind for ind in s.index if gene in s[ind]] for gene in genes}\n",
    "recurrence_ser = pd.Series(recurrence_dict)\n",
    "recurrence_ser"
   ]
  },
  {
   "cell_type": "code",
   "execution_count": 7,
   "metadata": {},
   "outputs": [],
   "source": [
    "ss = recurrence_ser.apply(lambda l: [sum([calls.xs(key=ind, axis=0, level='Individual ID')['Dx'].unique()[0] == dx for ind in l]) for dx in ['Control', 'SCZ']])\n",
    "recurrence = ss.apply(pd.Series).rename(columns={0: 'n Control indiv', 1: 'n SCZ indiv'})\n",
    "recurrence['Individual IDs'] = recurrence_ser"
   ]
  },
  {
   "cell_type": "code",
   "execution_count": 8,
   "metadata": {},
   "outputs": [
    {
     "data": {
      "text/html": [
       "<div>\n",
       "<style scoped>\n",
       "    .dataframe tbody tr th:only-of-type {\n",
       "        vertical-align: middle;\n",
       "    }\n",
       "\n",
       "    .dataframe tbody tr th {\n",
       "        vertical-align: top;\n",
       "    }\n",
       "\n",
       "    .dataframe thead th {\n",
       "        text-align: right;\n",
       "    }\n",
       "</style>\n",
       "<table border=\"1\" class=\"dataframe\">\n",
       "  <thead>\n",
       "    <tr style=\"text-align: right;\">\n",
       "      <th></th>\n",
       "      <th>n Control indiv</th>\n",
       "      <th>n SCZ indiv</th>\n",
       "      <th>Individual IDs</th>\n",
       "    </tr>\n",
       "  </thead>\n",
       "  <tbody>\n",
       "    <tr>\n",
       "      <th>5S_rRNA</th>\n",
       "      <td>1</td>\n",
       "      <td>0</td>\n",
       "      <td>[CMC_MSSM_391]</td>\n",
       "    </tr>\n",
       "    <tr>\n",
       "      <th>AAGAB</th>\n",
       "      <td>0</td>\n",
       "      <td>1</td>\n",
       "      <td>[CMC_MSSM_304]</td>\n",
       "    </tr>\n",
       "    <tr>\n",
       "      <th>ABCA12</th>\n",
       "      <td>0</td>\n",
       "      <td>1</td>\n",
       "      <td>[CMC_MSSM_372]</td>\n",
       "    </tr>\n",
       "    <tr>\n",
       "      <th>ABCA9:ABCA9-AS1</th>\n",
       "      <td>0</td>\n",
       "      <td>1</td>\n",
       "      <td>[CMC_MSSM_363]</td>\n",
       "    </tr>\n",
       "    <tr>\n",
       "      <th>ABCG1</th>\n",
       "      <td>0</td>\n",
       "      <td>1</td>\n",
       "      <td>[CMC_MSSM_352]</td>\n",
       "    </tr>\n",
       "    <tr>\n",
       "      <th>...</th>\n",
       "      <td>...</td>\n",
       "      <td>...</td>\n",
       "      <td>...</td>\n",
       "    </tr>\n",
       "    <tr>\n",
       "      <th>ZNF804A</th>\n",
       "      <td>0</td>\n",
       "      <td>1</td>\n",
       "      <td>[CMC_MSSM_273]</td>\n",
       "    </tr>\n",
       "    <tr>\n",
       "      <th>ZNF804B</th>\n",
       "      <td>2</td>\n",
       "      <td>0</td>\n",
       "      <td>[CMC_MSSM_130, CMC_PITT_098]</td>\n",
       "    </tr>\n",
       "    <tr>\n",
       "      <th>ZYG11A</th>\n",
       "      <td>0</td>\n",
       "      <td>1</td>\n",
       "      <td>[CMC_MSSM_321]</td>\n",
       "    </tr>\n",
       "    <tr>\n",
       "      <th>hsa-mir-490</th>\n",
       "      <td>0</td>\n",
       "      <td>1</td>\n",
       "      <td>[CMC_MSSM_097]</td>\n",
       "    </tr>\n",
       "    <tr>\n",
       "      <th>hsa-mir-490:CHRM2</th>\n",
       "      <td>2</td>\n",
       "      <td>0</td>\n",
       "      <td>[CMC_MSSM_055, CMC_MSSM_099]</td>\n",
       "    </tr>\n",
       "  </tbody>\n",
       "</table>\n",
       "<p>1610 rows × 3 columns</p>\n",
       "</div>"
      ],
      "text/plain": [
       "                   n Control indiv  n SCZ indiv                Individual IDs\n",
       "5S_rRNA                          1            0                [CMC_MSSM_391]\n",
       "AAGAB                            0            1                [CMC_MSSM_304]\n",
       "ABCA12                           0            1                [CMC_MSSM_372]\n",
       "ABCA9:ABCA9-AS1                  0            1                [CMC_MSSM_363]\n",
       "ABCG1                            0            1                [CMC_MSSM_352]\n",
       "...                            ...          ...                           ...\n",
       "ZNF804A                          0            1                [CMC_MSSM_273]\n",
       "ZNF804B                          2            0  [CMC_MSSM_130, CMC_PITT_098]\n",
       "ZYG11A                           0            1                [CMC_MSSM_321]\n",
       "hsa-mir-490                      0            1                [CMC_MSSM_097]\n",
       "hsa-mir-490:CHRM2                2            0  [CMC_MSSM_055, CMC_MSSM_099]\n",
       "\n",
       "[1610 rows x 3 columns]"
      ]
     },
     "execution_count": 8,
     "metadata": {},
     "output_type": "execute_result"
    }
   ],
   "source": [
    "recurrence"
   ]
  },
  {
   "cell_type": "code",
   "execution_count": 9,
   "metadata": {},
   "outputs": [
    {
     "data": {
      "text/html": [
       "<style  type=\"text/css\" >\n",
       "#T_f6fc354e_4984_11eb_9f21_31ba06c5d21erow0_col0,#T_f6fc354e_4984_11eb_9f21_31ba06c5d21erow1_col3,#T_f6fc354e_4984_11eb_9f21_31ba06c5d21erow1_col4,#T_f6fc354e_4984_11eb_9f21_31ba06c5d21erow2_col4,#T_f6fc354e_4984_11eb_9f21_31ba06c5d21erow3_col0,#T_f6fc354e_4984_11eb_9f21_31ba06c5d21erow3_col2,#T_f6fc354e_4984_11eb_9f21_31ba06c5d21erow3_col3,#T_f6fc354e_4984_11eb_9f21_31ba06c5d21erow3_col4{\n",
       "            background-color:  #ebf3eb;\n",
       "            color:  #000000;\n",
       "        }#T_f6fc354e_4984_11eb_9f21_31ba06c5d21erow0_col1,#T_f6fc354e_4984_11eb_9f21_31ba06c5d21erow1_col0{\n",
       "            background-color:  #008000;\n",
       "            color:  #f1f1f1;\n",
       "        }#T_f6fc354e_4984_11eb_9f21_31ba06c5d21erow0_col2{\n",
       "            background-color:  #108810;\n",
       "            color:  #f1f1f1;\n",
       "        }#T_f6fc354e_4984_11eb_9f21_31ba06c5d21erow0_col3{\n",
       "            background-color:  #d5e9d5;\n",
       "            color:  #000000;\n",
       "        }#T_f6fc354e_4984_11eb_9f21_31ba06c5d21erow0_col4{\n",
       "            background-color:  #e6f1e6;\n",
       "            color:  #000000;\n",
       "        }#T_f6fc354e_4984_11eb_9f21_31ba06c5d21erow1_col1{\n",
       "            background-color:  #52a852;\n",
       "            color:  #000000;\n",
       "        }#T_f6fc354e_4984_11eb_9f21_31ba06c5d21erow1_col2{\n",
       "            background-color:  #cce4cc;\n",
       "            color:  #000000;\n",
       "        }#T_f6fc354e_4984_11eb_9f21_31ba06c5d21erow2_col0{\n",
       "            background-color:  #c8e2c8;\n",
       "            color:  #000000;\n",
       "        }#T_f6fc354e_4984_11eb_9f21_31ba06c5d21erow2_col1{\n",
       "            background-color:  #d8ead8;\n",
       "            color:  #000000;\n",
       "        }#T_f6fc354e_4984_11eb_9f21_31ba06c5d21erow2_col2,#T_f6fc354e_4984_11eb_9f21_31ba06c5d21erow2_col3,#T_f6fc354e_4984_11eb_9f21_31ba06c5d21erow3_col1{\n",
       "            background-color:  #e9f2e9;\n",
       "            color:  #000000;\n",
       "        }</style><table id=\"T_f6fc354e_4984_11eb_9f21_31ba06c5d21e\" ><caption># overlapping genes in (m, n) individuals</caption><thead>    <tr>        <th class=\"index_name level0\" >n SCZ indiv</th>        <th class=\"col_heading level0 col0\" >0</th>        <th class=\"col_heading level0 col1\" >1</th>        <th class=\"col_heading level0 col2\" >2</th>        <th class=\"col_heading level0 col3\" >3</th>        <th class=\"col_heading level0 col4\" >4</th>    </tr>    <tr>        <th class=\"index_name level0\" >m Control indiv</th>        <th class=\"blank\" ></th>        <th class=\"blank\" ></th>        <th class=\"blank\" ></th>        <th class=\"blank\" ></th>        <th class=\"blank\" ></th>    </tr></thead><tbody>\n",
       "                <tr>\n",
       "                        <th id=\"T_f6fc354e_4984_11eb_9f21_31ba06c5d21elevel0_row0\" class=\"row_heading level0 row0\" >0</th>\n",
       "                        <td id=\"T_f6fc354e_4984_11eb_9f21_31ba06c5d21erow0_col0\" class=\"data row0 col0\" >0</td>\n",
       "                        <td id=\"T_f6fc354e_4984_11eb_9f21_31ba06c5d21erow0_col1\" class=\"data row0 col1\" >1035</td>\n",
       "                        <td id=\"T_f6fc354e_4984_11eb_9f21_31ba06c5d21erow0_col2\" class=\"data row0 col2\" >93</td>\n",
       "                        <td id=\"T_f6fc354e_4984_11eb_9f21_31ba06c5d21erow0_col3\" class=\"data row0 col3\" >9</td>\n",
       "                        <td id=\"T_f6fc354e_4984_11eb_9f21_31ba06c5d21erow0_col4\" class=\"data row0 col4\" >2</td>\n",
       "            </tr>\n",
       "            <tr>\n",
       "                        <th id=\"T_f6fc354e_4984_11eb_9f21_31ba06c5d21elevel0_row1\" class=\"row_heading level0 row1\" >1</th>\n",
       "                        <td id=\"T_f6fc354e_4984_11eb_9f21_31ba06c5d21erow1_col0\" class=\"data row1 col0\" >367</td>\n",
       "                        <td id=\"T_f6fc354e_4984_11eb_9f21_31ba06c5d21erow1_col1\" class=\"data row1 col1\" >65</td>\n",
       "                        <td id=\"T_f6fc354e_4984_11eb_9f21_31ba06c5d21erow1_col2\" class=\"data row1 col2\" >13</td>\n",
       "                        <td id=\"T_f6fc354e_4984_11eb_9f21_31ba06c5d21erow1_col3\" class=\"data row1 col3\" >0</td>\n",
       "                        <td id=\"T_f6fc354e_4984_11eb_9f21_31ba06c5d21erow1_col4\" class=\"data row1 col4\" >0</td>\n",
       "            </tr>\n",
       "            <tr>\n",
       "                        <th id=\"T_f6fc354e_4984_11eb_9f21_31ba06c5d21elevel0_row2\" class=\"row_heading level0 row2\" >2</th>\n",
       "                        <td id=\"T_f6fc354e_4984_11eb_9f21_31ba06c5d21erow2_col0\" class=\"data row2 col0\" >15</td>\n",
       "                        <td id=\"T_f6fc354e_4984_11eb_9f21_31ba06c5d21erow2_col1\" class=\"data row2 col1\" >8</td>\n",
       "                        <td id=\"T_f6fc354e_4984_11eb_9f21_31ba06c5d21erow2_col2\" class=\"data row2 col2\" >1</td>\n",
       "                        <td id=\"T_f6fc354e_4984_11eb_9f21_31ba06c5d21erow2_col3\" class=\"data row2 col3\" >1</td>\n",
       "                        <td id=\"T_f6fc354e_4984_11eb_9f21_31ba06c5d21erow2_col4\" class=\"data row2 col4\" >0</td>\n",
       "            </tr>\n",
       "            <tr>\n",
       "                        <th id=\"T_f6fc354e_4984_11eb_9f21_31ba06c5d21elevel0_row3\" class=\"row_heading level0 row3\" >3</th>\n",
       "                        <td id=\"T_f6fc354e_4984_11eb_9f21_31ba06c5d21erow3_col0\" class=\"data row3 col0\" >0</td>\n",
       "                        <td id=\"T_f6fc354e_4984_11eb_9f21_31ba06c5d21erow3_col1\" class=\"data row3 col1\" >1</td>\n",
       "                        <td id=\"T_f6fc354e_4984_11eb_9f21_31ba06c5d21erow3_col2\" class=\"data row3 col2\" >0</td>\n",
       "                        <td id=\"T_f6fc354e_4984_11eb_9f21_31ba06c5d21erow3_col3\" class=\"data row3 col3\" >0</td>\n",
       "                        <td id=\"T_f6fc354e_4984_11eb_9f21_31ba06c5d21erow3_col4\" class=\"data row3 col4\" >0</td>\n",
       "            </tr>\n",
       "    </tbody></table>"
      ],
      "text/plain": [
       "<pandas.io.formats.style.Styler at 0x7fe199f07dd0>"
      ]
     },
     "execution_count": 9,
     "metadata": {},
     "output_type": "execute_result"
    }
   ],
   "source": [
    "joint_recur = recurrence.value_counts(['n Control indiv', 'n SCZ indiv']).unstack().fillna(0).astype('int64').rename_axis(index='m Control indiv')\n",
    "import seaborn as sns\n",
    "cm = sns.light_palette(\"green\", as_cmap=True)\n",
    "joint_recur.style.background_gradient(cmap=cm, vmin=0, vmax=100).set_caption('# overlapping genes in (m, n) individuals')"
   ]
  },
  {
   "cell_type": "code",
   "execution_count": 10,
   "metadata": {},
   "outputs": [
    {
     "data": {
      "text/html": [
       "<style  type=\"text/css\" >\n",
       "#T_f70447e8_4984_11eb_9f21_31ba06c5d21erow0_col0,#T_f70447e8_4984_11eb_9f21_31ba06c5d21erow1_col1{\n",
       "            background-color:  #008000;\n",
       "            color:  #f1f1f1;\n",
       "        }#T_f70447e8_4984_11eb_9f21_31ba06c5d21erow0_col1{\n",
       "            background-color:  #379b37;\n",
       "            color:  #000000;\n",
       "        }#T_f70447e8_4984_11eb_9f21_31ba06c5d21erow1_col0{\n",
       "            background-color:  #1a8d1a;\n",
       "            color:  #000000;\n",
       "        }#T_f70447e8_4984_11eb_9f21_31ba06c5d21erow2_col0{\n",
       "            background-color:  #e0eedf;\n",
       "            color:  #000000;\n",
       "        }#T_f70447e8_4984_11eb_9f21_31ba06c5d21erow2_col1{\n",
       "            background-color:  #b9dbb9;\n",
       "            color:  #000000;\n",
       "        }#T_f70447e8_4984_11eb_9f21_31ba06c5d21erow3_col0,#T_f70447e8_4984_11eb_9f21_31ba06c5d21erow4_col0{\n",
       "            background-color:  #ebf3eb;\n",
       "            color:  #000000;\n",
       "        }#T_f70447e8_4984_11eb_9f21_31ba06c5d21erow3_col1{\n",
       "            background-color:  #e6f1e6;\n",
       "            color:  #000000;\n",
       "        }#T_f70447e8_4984_11eb_9f21_31ba06c5d21erow4_col1{\n",
       "            background-color:  #eaf2ea;\n",
       "            color:  #000000;\n",
       "        }</style><table id=\"T_f70447e8_4984_11eb_9f21_31ba06c5d21e\" ><caption># overlapping genes in n individuals</caption><thead>    <tr>        <th class=\"blank level0\" ></th>        <th class=\"col_heading level0 col0\" >Control</th>        <th class=\"col_heading level0 col1\" >SCZ</th>    </tr>    <tr>        <th class=\"index_name level0\" >n indiv</th>        <th class=\"blank\" ></th>        <th class=\"blank\" ></th>    </tr></thead><tbody>\n",
       "                <tr>\n",
       "                        <th id=\"T_f70447e8_4984_11eb_9f21_31ba06c5d21elevel0_row0\" class=\"row_heading level0 row0\" >0</th>\n",
       "                        <td id=\"T_f70447e8_4984_11eb_9f21_31ba06c5d21erow0_col0\" class=\"data row0 col0\" >1139</td>\n",
       "                        <td id=\"T_f70447e8_4984_11eb_9f21_31ba06c5d21erow0_col1\" class=\"data row0 col1\" >382</td>\n",
       "            </tr>\n",
       "            <tr>\n",
       "                        <th id=\"T_f70447e8_4984_11eb_9f21_31ba06c5d21elevel0_row1\" class=\"row_heading level0 row1\" >1</th>\n",
       "                        <td id=\"T_f70447e8_4984_11eb_9f21_31ba06c5d21erow1_col0\" class=\"data row1 col0\" >445</td>\n",
       "                        <td id=\"T_f70447e8_4984_11eb_9f21_31ba06c5d21erow1_col1\" class=\"data row1 col1\" >1109</td>\n",
       "            </tr>\n",
       "            <tr>\n",
       "                        <th id=\"T_f70447e8_4984_11eb_9f21_31ba06c5d21elevel0_row2\" class=\"row_heading level0 row2\" >2</th>\n",
       "                        <td id=\"T_f70447e8_4984_11eb_9f21_31ba06c5d21erow2_col0\" class=\"data row2 col0\" >25</td>\n",
       "                        <td id=\"T_f70447e8_4984_11eb_9f21_31ba06c5d21erow2_col1\" class=\"data row2 col1\" >107</td>\n",
       "            </tr>\n",
       "            <tr>\n",
       "                        <th id=\"T_f70447e8_4984_11eb_9f21_31ba06c5d21elevel0_row3\" class=\"row_heading level0 row3\" >3</th>\n",
       "                        <td id=\"T_f70447e8_4984_11eb_9f21_31ba06c5d21erow3_col0\" class=\"data row3 col0\" >1</td>\n",
       "                        <td id=\"T_f70447e8_4984_11eb_9f21_31ba06c5d21erow3_col1\" class=\"data row3 col1\" >10</td>\n",
       "            </tr>\n",
       "            <tr>\n",
       "                        <th id=\"T_f70447e8_4984_11eb_9f21_31ba06c5d21elevel0_row4\" class=\"row_heading level0 row4\" >4</th>\n",
       "                        <td id=\"T_f70447e8_4984_11eb_9f21_31ba06c5d21erow4_col0\" class=\"data row4 col0\" >0</td>\n",
       "                        <td id=\"T_f70447e8_4984_11eb_9f21_31ba06c5d21erow4_col1\" class=\"data row4 col1\" >2</td>\n",
       "            </tr>\n",
       "    </tbody></table>"
      ],
      "text/plain": [
       "<pandas.io.formats.style.Styler at 0x7fe199ac61d0>"
      ]
     },
     "execution_count": 10,
     "metadata": {},
     "output_type": "execute_result"
    }
   ],
   "source": [
    "marginal_recur = pd.DataFrame([recurrence.value_counts(x) for x in ['n Control indiv', 'n SCZ indiv']], index=['Control', 'SCZ']).T.fillna(0).astype('int64').rename_axis(index='n indiv')\n",
    "marginal_recur.style.background_gradient(cmap=cm, vmin=0, vmax=500).set_caption('# overlapping genes in n individuals')"
   ]
  },
  {
   "cell_type": "raw",
   "metadata": {},
   "source": [
    "%connect_info"
   ]
  },
  {
   "cell_type": "code",
   "execution_count": null,
   "metadata": {},
   "outputs": [],
   "source": []
  }
 ],
 "metadata": {
  "kernelspec": {
   "display_name": "Python 3",
   "language": "python",
   "name": "python3"
  },
  "language_info": {
   "codemirror_mode": {
    "name": "ipython",
    "version": 3
   },
   "file_extension": ".py",
   "mimetype": "text/x-python",
   "name": "python",
   "nbconvert_exporter": "python",
   "pygments_lexer": "ipython3",
   "version": "3.7.6"
  }
 },
 "nbformat": 4,
 "nbformat_minor": 4
}
