{
 "cells": [
  {
   "cell_type": "code",
   "execution_count": 1,
   "id": "7183db7b",
   "metadata": {},
   "outputs": [],
   "source": [
    "%load_ext autoreload\n",
    "%autoreload 2\n",
    "%reload_ext autoreload\n",
    "import pandas as pd"
   ]
  },
  {
   "cell_type": "code",
   "execution_count": 2,
   "id": "52c4986d",
   "metadata": {},
   "outputs": [],
   "source": [
    "def read_manifests(fpaths='../../results/2023-01-12-nda/nichd_btb.fpath'):\n",
    "    with open(fpaths) as f:\n",
    "        l = f.readlines()\n",
    "    def read_one(fpath):\n",
    "        fpath = fpath.replace('..', '../../results').rstrip()\n",
    "        df = pd.read_csv(fpath, skiprows=1)\n",
    "        return(df)\n",
    "    l = [read_one(fpath) for fpath in l]\n",
    "    df = pd.concat(l, axis=0)\n",
    "    return(df)\n",
    "\n",
    "nichd = read_manifests('../../results/2023-01-12-nda/nichd_btb.fpath')\n",
    "gsub = read_manifests('../../results/2023-01-12-nda/genomics_subject.fpath')\n",
    "gsam = read_manifests('../../results/2023-01-12-nda/genomics_sample.fpath')"
   ]
  },
  {
   "cell_type": "code",
   "execution_count": 3,
   "id": "1588ed69",
   "metadata": {},
   "outputs": [],
   "source": [
    "S_nichd, S_gsub, S_gsam = [set(df.src_subject_id.unique()) for df in [nichd, gsub, gsam]]"
   ]
  },
  {
   "cell_type": "code",
   "execution_count": 4,
   "id": "0151518f",
   "metadata": {},
   "outputs": [
    {
     "data": {
      "text/plain": [
       "set()"
      ]
     },
     "execution_count": 4,
     "metadata": {},
     "output_type": "execute_result"
    }
   ],
   "source": [
    "S_gsam.difference(S_nichd)"
   ]
  },
  {
   "cell_type": "code",
   "execution_count": 5,
   "id": "a4c560c4",
   "metadata": {},
   "outputs": [
    {
     "data": {
      "text/plain": [
       "{7614,\n",
       " 'AN02255',\n",
       " 'AN05983',\n",
       " 'AN06365',\n",
       " 'AN09412',\n",
       " 'AN12434',\n",
       " 'AN13287',\n",
       " 'AN13654',\n",
       " 'AN14067',\n",
       " 'AN19923',\n",
       " 'BEAR10',\n",
       " 'BEAR12',\n",
       " 'BEAR3',\n",
       " 'BEAR5',\n",
       " 'BEAR8',\n",
       " 'Br0871',\n",
       " 'Br0959',\n",
       " 'Br1034',\n",
       " 'Br1109',\n",
       " 'Br1197',\n",
       " 'Br1384',\n",
       " 'Br1395',\n",
       " 'Br1415',\n",
       " 'Br1423',\n",
       " 'Br1511',\n",
       " 'Br1512',\n",
       " 'Br1518',\n",
       " 'Br1562',\n",
       " 'Br1630',\n",
       " 'Br1677',\n",
       " 'Br1752',\n",
       " 'Br1760',\n",
       " 'Br1821',\n",
       " 'Br1896',\n",
       " 'Br1901',\n",
       " 'Br1918',\n",
       " 'Br1992',\n",
       " 'Br2022',\n",
       " 'Br2057',\n",
       " 'Br2080',\n",
       " 'Br2238',\n",
       " 'Br2257',\n",
       " 'Br2269',\n",
       " 'Br2288',\n",
       " 'Br5073',\n",
       " 'Br5135',\n",
       " 'Br5179',\n",
       " 'Br5205',\n",
       " 'Br5224',\n",
       " 'Br5234',\n",
       " 'Br5235',\n",
       " 'Br5287',\n",
       " 'Br5368',\n",
       " 'Br5369',\n",
       " 'Br5373',\n",
       " 'Br5385',\n",
       " 'Br5398',\n",
       " 'Br5412',\n",
       " 'Br5415',\n",
       " 'Br5459',\n",
       " 'Br5460',\n",
       " 'Br5467',\n",
       " 'Br5475',\n",
       " 'Br5488',\n",
       " 'Br5660',\n",
       " 'Br5888',\n",
       " 'LBR5221',\n",
       " 'LBR5311',\n",
       " 'LBR5313',\n",
       " 'LBR5586',\n",
       " 'M3663M ',\n",
       " 'MSSM001',\n",
       " 'MSSM002',\n",
       " 'NEBB004',\n",
       " 'NEBB006',\n",
       " 'UK20119',\n",
       " 'UK25363',\n",
       " 'UK28768',\n",
       " 'UK45353',\n",
       " 'UMB1024',\n",
       " 'UMB1174',\n",
       " 'UMB1182',\n",
       " 'UMB1349',\n",
       " 'UMB1445',\n",
       " 'UMB1465',\n",
       " 'UMB1474',\n",
       " 'UMB1499',\n",
       " 'UMB1638',\n",
       " 'UMB1712',\n",
       " 'UMB4231',\n",
       " 'UMB4334',\n",
       " 'UMB4548',\n",
       " 'UMB4638',\n",
       " 'UMB4643',\n",
       " 'UMB4671',\n",
       " 'UMB4672',\n",
       " 'UMB4721',\n",
       " 'UMB4842',\n",
       " 'UMB4849',\n",
       " 'UMB4899',\n",
       " 'UMB4999',\n",
       " 'UMB5027',\n",
       " 'UMB5115',\n",
       " 'UMB5144',\n",
       " 'UMB5161',\n",
       " 'UMB5176',\n",
       " 'UMB5238',\n",
       " 'UMB5278',\n",
       " 'UMB5294',\n",
       " 'UMB5297',\n",
       " 'UMB5302',\n",
       " 'UMB5303',\n",
       " 'UMB5308',\n",
       " 'UMB5340',\n",
       " 'UMB5391',\n",
       " 'UMB5403',\n",
       " 'UMB5419',\n",
       " 'UMB5565',\n",
       " 'UMB5574',\n",
       " 'UMB5771',\n",
       " 'UMB5771F',\n",
       " 'UMB5771M',\n",
       " 'UMB5841',\n",
       " 'UMB5864',\n",
       " 'UMB5878',\n",
       " 'UMB5939',\n",
       " 'UMB5939F',\n",
       " 'UMB5939M',\n",
       " 'UMB797',\n",
       " 'UMB818',\n",
       " 'UMB914',\n",
       " nan}"
      ]
     },
     "execution_count": 5,
     "metadata": {},
     "output_type": "execute_result"
    }
   ],
   "source": [
    "S_gsub.difference(S_nichd)"
   ]
  },
  {
   "cell_type": "code",
   "execution_count": 6,
   "id": "38e0a1de",
   "metadata": {},
   "outputs": [
    {
     "name": "stdout",
     "output_type": "stream",
     "text": [
      "{\n",
      "  \"shell_port\": 37315,\n",
      "  \"iopub_port\": 41577,\n",
      "  \"stdin_port\": 41169,\n",
      "  \"control_port\": 34759,\n",
      "  \"hb_port\": 46253,\n",
      "  \"ip\": \"127.0.0.1\",\n",
      "  \"key\": \"6ca87d32-0433a0ada79a54d1481a8587\",\n",
      "  \"transport\": \"tcp\",\n",
      "  \"signature_scheme\": \"hmac-sha256\",\n",
      "  \"kernel_name\": \"\"\n",
      "}\n",
      "\n",
      "Paste the above JSON into a file, and connect with:\n",
      "    $> jupyter <app> --existing <file>\n",
      "or, if you are local, you can connect with just:\n",
      "    $> jupyter <app> --existing kernel-9be40053-eed4-4ade-96b6-89d331e7dd7c.json\n",
      "or even just:\n",
      "    $> jupyter <app> --existing\n",
      "if this is the most recent Jupyter kernel you have started.\n"
     ]
    }
   ],
   "source": [
    "%connect_info"
   ]
  },
  {
   "cell_type": "code",
   "execution_count": null,
   "id": "1a3c364d",
   "metadata": {},
   "outputs": [],
   "source": []
  }
 ],
 "metadata": {
  "kernelspec": {
   "display_name": "Python 3 (ipykernel)",
   "language": "python",
   "name": "python3"
  },
  "language_info": {
   "codemirror_mode": {
    "name": "ipython",
    "version": 3
   },
   "file_extension": ".py",
   "mimetype": "text/x-python",
   "name": "python",
   "nbconvert_exporter": "python",
   "pygments_lexer": "ipython3",
   "version": "3.9.7"
  }
 },
 "nbformat": 4,
 "nbformat_minor": 5
}
