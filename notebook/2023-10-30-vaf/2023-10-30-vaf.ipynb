{
 "cells": [
  {
   "cell_type": "code",
   "execution_count": 1,
   "id": "1362c9ff",
   "metadata": {},
   "outputs": [],
   "source": [
    "%load_ext autoreload\n",
    "%autoreload 2\n",
    "%reload_ext autoreload\n",
    "import pandas as pd\n",
    "import numpy as np\n",
    "import matplotlib.pyplot as plt\n",
    "import attila_utils"
   ]
  },
  {
   "cell_type": "code",
   "execution_count": 2,
   "id": "db220471",
   "metadata": {},
   "outputs": [
    {
     "data": {
      "text/html": [
       "<div>\n",
       "<style scoped>\n",
       "    .dataframe tbody tr th:only-of-type {\n",
       "        vertical-align: middle;\n",
       "    }\n",
       "\n",
       "    .dataframe tbody tr th {\n",
       "        vertical-align: top;\n",
       "    }\n",
       "\n",
       "    .dataframe thead th {\n",
       "        text-align: right;\n",
       "    }\n",
       "</style>\n",
       "<table border=\"1\" class=\"dataframe\">\n",
       "  <thead>\n",
       "    <tr style=\"text-align: right;\">\n",
       "      <th></th>\n",
       "      <th>CHROM</th>\n",
       "      <th>POS</th>\n",
       "      <th>REF</th>\n",
       "      <th>ALT</th>\n",
       "      <th>AF</th>\n",
       "      <th>DP</th>\n",
       "      <th>mean_cov</th>\n",
       "      <th>Individual ID</th>\n",
       "      <th>subjectID</th>\n",
       "    </tr>\n",
       "  </thead>\n",
       "  <tbody>\n",
       "    <tr>\n",
       "      <th>0</th>\n",
       "      <td>1</td>\n",
       "      <td>11973569</td>\n",
       "      <td>C</td>\n",
       "      <td>T</td>\n",
       "      <td>0.02</td>\n",
       "      <td>199</td>\n",
       "      <td>256.144</td>\n",
       "      <td>CMC_MSSM_027</td>\n",
       "      <td>MSSM_027</td>\n",
       "    </tr>\n",
       "    <tr>\n",
       "      <th>1</th>\n",
       "      <td>1</td>\n",
       "      <td>67324428</td>\n",
       "      <td>A</td>\n",
       "      <td>T</td>\n",
       "      <td>0.06</td>\n",
       "      <td>196</td>\n",
       "      <td>256.144</td>\n",
       "      <td>CMC_MSSM_027</td>\n",
       "      <td>MSSM_027</td>\n",
       "    </tr>\n",
       "    <tr>\n",
       "      <th>2</th>\n",
       "      <td>1</td>\n",
       "      <td>182008461</td>\n",
       "      <td>C</td>\n",
       "      <td>T</td>\n",
       "      <td>0.06</td>\n",
       "      <td>167</td>\n",
       "      <td>256.144</td>\n",
       "      <td>CMC_MSSM_027</td>\n",
       "      <td>MSSM_027</td>\n",
       "    </tr>\n",
       "    <tr>\n",
       "      <th>3</th>\n",
       "      <td>1</td>\n",
       "      <td>207598957</td>\n",
       "      <td>C</td>\n",
       "      <td>T</td>\n",
       "      <td>0.06</td>\n",
       "      <td>195</td>\n",
       "      <td>256.144</td>\n",
       "      <td>CMC_MSSM_027</td>\n",
       "      <td>MSSM_027</td>\n",
       "    </tr>\n",
       "    <tr>\n",
       "      <th>4</th>\n",
       "      <td>1</td>\n",
       "      <td>219342012</td>\n",
       "      <td>C</td>\n",
       "      <td>T</td>\n",
       "      <td>0.02</td>\n",
       "      <td>216</td>\n",
       "      <td>256.144</td>\n",
       "      <td>CMC_MSSM_027</td>\n",
       "      <td>MSSM_027</td>\n",
       "    </tr>\n",
       "    <tr>\n",
       "      <th>...</th>\n",
       "      <td>...</td>\n",
       "      <td>...</td>\n",
       "      <td>...</td>\n",
       "      <td>...</td>\n",
       "      <td>...</td>\n",
       "      <td>...</td>\n",
       "      <td>...</td>\n",
       "      <td>...</td>\n",
       "      <td>...</td>\n",
       "    </tr>\n",
       "    <tr>\n",
       "      <th>3279</th>\n",
       "      <td>9</td>\n",
       "      <td>139251813</td>\n",
       "      <td>G</td>\n",
       "      <td>A</td>\n",
       "      <td>0.02</td>\n",
       "      <td>203</td>\n",
       "      <td>249.098</td>\n",
       "      <td>CMC_PITT_118</td>\n",
       "      <td>PITT_118</td>\n",
       "    </tr>\n",
       "    <tr>\n",
       "      <th>3280</th>\n",
       "      <td>9</td>\n",
       "      <td>139721837</td>\n",
       "      <td>G</td>\n",
       "      <td>A</td>\n",
       "      <td>0.18</td>\n",
       "      <td>227</td>\n",
       "      <td>249.098</td>\n",
       "      <td>CMC_PITT_118</td>\n",
       "      <td>PITT_118</td>\n",
       "    </tr>\n",
       "    <tr>\n",
       "      <th>3281</th>\n",
       "      <td>X</td>\n",
       "      <td>5889841</td>\n",
       "      <td>G</td>\n",
       "      <td>A</td>\n",
       "      <td>0.20</td>\n",
       "      <td>237</td>\n",
       "      <td>249.098</td>\n",
       "      <td>CMC_PITT_118</td>\n",
       "      <td>PITT_118</td>\n",
       "    </tr>\n",
       "    <tr>\n",
       "      <th>3282</th>\n",
       "      <td>X</td>\n",
       "      <td>71258041</td>\n",
       "      <td>C</td>\n",
       "      <td>T</td>\n",
       "      <td>0.04</td>\n",
       "      <td>207</td>\n",
       "      <td>249.098</td>\n",
       "      <td>CMC_PITT_118</td>\n",
       "      <td>PITT_118</td>\n",
       "    </tr>\n",
       "    <tr>\n",
       "      <th>3283</th>\n",
       "      <td>X</td>\n",
       "      <td>120533592</td>\n",
       "      <td>C</td>\n",
       "      <td>A</td>\n",
       "      <td>0.02</td>\n",
       "      <td>223</td>\n",
       "      <td>249.098</td>\n",
       "      <td>CMC_PITT_118</td>\n",
       "      <td>PITT_118</td>\n",
       "    </tr>\n",
       "  </tbody>\n",
       "</table>\n",
       "<p>3284 rows × 9 columns</p>\n",
       "</div>"
      ],
      "text/plain": [
       "     CHROM        POS REF ALT    AF   DP  mean_cov Individual ID subjectID\n",
       "0        1   11973569   C   T  0.02  199   256.144  CMC_MSSM_027  MSSM_027\n",
       "1        1   67324428   A   T  0.06  196   256.144  CMC_MSSM_027  MSSM_027\n",
       "2        1  182008461   C   T  0.06  167   256.144  CMC_MSSM_027  MSSM_027\n",
       "3        1  207598957   C   T  0.06  195   256.144  CMC_MSSM_027  MSSM_027\n",
       "4        1  219342012   C   T  0.02  216   256.144  CMC_MSSM_027  MSSM_027\n",
       "...    ...        ...  ..  ..   ...  ...       ...           ...       ...\n",
       "3279     9  139251813   G   A  0.02  203   249.098  CMC_PITT_118  PITT_118\n",
       "3280     9  139721837   G   A  0.18  227   249.098  CMC_PITT_118  PITT_118\n",
       "3281     X    5889841   G   A  0.20  237   249.098  CMC_PITT_118  PITT_118\n",
       "3282     X   71258041   C   T  0.04  207   249.098  CMC_PITT_118  PITT_118\n",
       "3283     X  120533592   C   A  0.02  223   249.098  CMC_PITT_118  PITT_118\n",
       "\n",
       "[3284 rows x 9 columns]"
      ]
     },
     "execution_count": 2,
     "metadata": {},
     "output_type": "execute_result"
    }
   ],
   "source": [
    "fpath = '../../resources/VAF/scz_snv_vova2.csv'\n",
    "calls = pd.read_csv(fpath)\n",
    "calls"
   ]
  },
  {
   "cell_type": "code",
   "execution_count": 3,
   "id": "8f8ddf41",
   "metadata": {},
   "outputs": [
    {
     "data": {
      "text/plain": [
       "array([0.02, 0.06, 0.16, 0.04, 0.08, 0.2 , 0.18, 0.14, 0.1 , 0.12, 0.22,\n",
       "       0.3 , 0.24, 0.26, 0.32, 0.34, 0.28, 0.36, 0.38])"
      ]
     },
     "execution_count": 3,
     "metadata": {},
     "output_type": "execute_result"
    }
   ],
   "source": [
    "calls.AF.unique()"
   ]
  },
  {
   "cell_type": "code",
   "execution_count": 4,
   "id": "982b0154",
   "metadata": {},
   "outputs": [
    {
     "data": {
      "text/plain": [
       "['named-figure/vaf-histogram.png', 'named-figure/vaf-histogram.pdf']"
      ]
     },
     "execution_count": 4,
     "metadata": {},
     "output_type": "execute_result"
    },
    {
     "data": {
      "image/png": "[encoded data removed]",
      "text/plain": [
       "<Figure size 640x480 with 1 Axes>"
      ]
     },
     "metadata": {},
     "output_type": "display_data"
    }
   ],
   "source": [
    "fig, ax = plt.subplots()\n",
    "ax.hist(calls.AF, bins=np.sort(calls.AF.unique()), histtype='bar')\n",
    "ax.set_title('VAF estimated by GATK HaplotypeCaller after Li 2011')\n",
    "ax.set_xlabel(r'$\\mathrm{VAF} = \\frac{\\# \\mathrm{alt.alles}}{\\mathrm{ploidy}}$')\n",
    "ax.set_ylabel('Count')\n",
    "ax.set_xticks(np.sort(calls.AF.unique()))\n",
    "ax.set_xticklabels(ax.get_xticklabels(), rotation=90)\n",
    "attila_utils.savefig(fig, 'vaf-histogram')"
   ]
  },
  {
   "cell_type": "code",
   "execution_count": 5,
   "id": "2fc850bf",
   "metadata": {},
   "outputs": [
    {
     "name": "stdout",
     "output_type": "stream",
     "text": [
      "{\n",
      "  \"shell_port\": 36139,\n",
      "  \"iopub_port\": 52729,\n",
      "  \"stdin_port\": 53837,\n",
      "  \"control_port\": 58897,\n",
      "  \"hb_port\": 32895,\n",
      "  \"ip\": \"127.0.0.1\",\n",
      "  \"key\": \"0f0b0ee9-1e6a7967e5852e10f2d6f8a4\",\n",
      "  \"transport\": \"tcp\",\n",
      "  \"signature_scheme\": \"hmac-sha256\",\n",
      "  \"kernel_name\": \"python3\"\n",
      "}\n",
      "\n",
      "Paste the above JSON into a file, and connect with:\n",
      "    $> jupyter <app> --existing <file>\n",
      "or, if you are local, you can connect with just:\n",
      "    $> jupyter <app> --existing kernel-07ff57ce-e5bf-4b31-9444-aa8d6ccfef84.json\n",
      "or even just:\n",
      "    $> jupyter <app> --existing\n",
      "if this is the most recent Jupyter kernel you have started.\n"
     ]
    }
   ],
   "source": [
    "%connect_info"
   ]
  },
  {
   "cell_type": "code",
   "execution_count": null,
   "id": "c2feb3f5",
   "metadata": {},
   "outputs": [],
   "source": []
  }
 ],
 "metadata": {
  "kernelspec": {
   "display_name": "Python 3 (ipykernel)",
   "language": "python",
   "name": "python3"
  },
  "language_info": {
   "codemirror_mode": {
    "name": "ipython",
    "version": 3
   },
   "file_extension": ".py",
   "mimetype": "text/x-python",
   "name": "python",
   "nbconvert_exporter": "python",
   "pygments_lexer": "ipython3",
   "version": "3.11.5"
  }
 },
 "nbformat": 4,
 "nbformat_minor": 5
}
