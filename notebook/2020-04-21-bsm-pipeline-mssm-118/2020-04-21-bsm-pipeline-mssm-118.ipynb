{
 "cells": [
  {
   "cell_type": "markdown",
   "metadata": {},
   "source": [
    "The MSSM_118-Neun_pl sample was run by Taejeong using the master branch of development on the bsmn-pipeline on an AWS EC2 parallel cluster of the Abyzov lab.  Here I process the same sample using the installfix branch on a cluster of the Chess lab."
   ]
  },
  {
   "cell_type": "code",
   "execution_count": 1,
   "metadata": {},
   "outputs": [],
   "source": [
    "%load_ext autoreload\n",
    "%autoreload 2\n",
    "import synapseclient\n",
    "import synapseutils\n",
    "import pandas as pd"
   ]
  },
  {
   "cell_type": "markdown",
   "metadata": {},
   "source": [
    "The [WGS.SCZ.Chess](https://www.synapse.org/#!Synapse:syn21897893) (syn21897893) Synapse folder contains GATK HC callsets produced by Taejeong using the `--run-gatk-hc 50` option to `run_genome_mapping.sh`.  The smallest callset is `MSSM_118_brain.ploidy_50.filtered.vcf` (syn21898502), which corresponds to the MSSM_118-NeuN_pl sample.\n",
    "\n",
    "All fastq files for this sample were previously uploaded to Synapse folder MSSM_118_NeuN_pl [syn21966777](https://www.synapse.org/#!Synapse:syn21966777).  Now let's create a `sample_list.txt` file for these fastq files and upload it to the bsmn parallel cluster of the Chess lab!"
   ]
  },
  {
   "cell_type": "code",
   "execution_count": 2,
   "metadata": {},
   "outputs": [
    {
     "name": "stdout",
     "output_type": "stream",
     "text": [
      "Welcome, Attila Jones!\n",
      "\n"
     ]
    }
   ],
   "source": [
    "syn = synapseclient.login()"
   ]
  },
  {
   "cell_type": "code",
   "execution_count": 3,
   "metadata": {},
   "outputs": [
    {
     "data": {
      "text/html": [
       "<div>\n",
       "<style scoped>\n",
       "    .dataframe tbody tr th:only-of-type {\n",
       "        vertical-align: middle;\n",
       "    }\n",
       "\n",
       "    .dataframe tbody tr th {\n",
       "        vertical-align: top;\n",
       "    }\n",
       "\n",
       "    .dataframe thead th {\n",
       "        text-align: right;\n",
       "    }\n",
       "</style>\n",
       "<table border=\"1\" class=\"dataframe\">\n",
       "  <thead>\n",
       "    <tr style=\"text-align: right;\">\n",
       "      <th></th>\n",
       "      <th>sample_id</th>\n",
       "      <th>file_name</th>\n",
       "      <th>location</th>\n",
       "    </tr>\n",
       "  </thead>\n",
       "  <tbody>\n",
       "    <tr>\n",
       "      <th>0</th>\n",
       "      <td>MSSM_118_NeuN_pl</td>\n",
       "      <td>MSSM118_NeuN_pl_USPD16080281-D712_H5LNVALXX_L5...</td>\n",
       "      <td>syn21966882</td>\n",
       "    </tr>\n",
       "    <tr>\n",
       "      <th>1</th>\n",
       "      <td>MSSM_118_NeuN_pl</td>\n",
       "      <td>MSSM118_NeuN_pl_USPD16080281-D712_H5LNVALXX_L5...</td>\n",
       "      <td>syn21966905</td>\n",
       "    </tr>\n",
       "    <tr>\n",
       "      <th>2</th>\n",
       "      <td>MSSM_118_NeuN_pl</td>\n",
       "      <td>MSSM118_NeuN_pl_USPD16080281-D712_H5LNVALXX_L6...</td>\n",
       "      <td>syn21966883</td>\n",
       "    </tr>\n",
       "    <tr>\n",
       "      <th>3</th>\n",
       "      <td>MSSM_118_NeuN_pl</td>\n",
       "      <td>MSSM118_NeuN_pl_USPD16080281-D712_H5LNVALXX_L6...</td>\n",
       "      <td>syn21966929</td>\n",
       "    </tr>\n",
       "    <tr>\n",
       "      <th>4</th>\n",
       "      <td>MSSM_118_NeuN_pl</td>\n",
       "      <td>MSSM118_NeuN_pl_USPD16080281-D712_H5LNVALXX_L7...</td>\n",
       "      <td>syn21966895</td>\n",
       "    </tr>\n",
       "  </tbody>\n",
       "</table>\n",
       "</div>"
      ],
      "text/plain": [
       "          sample_id                                          file_name  \\\n",
       "0  MSSM_118_NeuN_pl  MSSM118_NeuN_pl_USPD16080281-D712_H5LNVALXX_L5...   \n",
       "1  MSSM_118_NeuN_pl  MSSM118_NeuN_pl_USPD16080281-D712_H5LNVALXX_L5...   \n",
       "2  MSSM_118_NeuN_pl  MSSM118_NeuN_pl_USPD16080281-D712_H5LNVALXX_L6...   \n",
       "3  MSSM_118_NeuN_pl  MSSM118_NeuN_pl_USPD16080281-D712_H5LNVALXX_L6...   \n",
       "4  MSSM_118_NeuN_pl  MSSM118_NeuN_pl_USPD16080281-D712_H5LNVALXX_L7...   \n",
       "\n",
       "      location  \n",
       "0  syn21966882  \n",
       "1  syn21966905  \n",
       "2  syn21966883  \n",
       "3  syn21966929  \n",
       "4  syn21966895  "
      ]
     },
     "execution_count": 3,
     "metadata": {},
     "output_type": "execute_result"
    }
   ],
   "source": [
    "flist = list(synapseutils.walk(syn, 'syn21966777'))[0][2]\n",
    "flist = pd.DataFrame(flist, columns = ['file_name', 'location'], dtype='str')\n",
    "flist['sample_id'] = 'MSSM_118_NeuN_pl'\n",
    "flist = pd.concat((flist.iloc[:, -1], flist.iloc[:, :-1]), axis=1)\n",
    "flist.head()"
   ]
  },
  {
   "cell_type": "markdown",
   "metadata": {},
   "source": [
    "Write table to a sample list file"
   ]
  },
  {
   "cell_type": "code",
   "execution_count": 4,
   "metadata": {},
   "outputs": [],
   "source": [
    "flistpath = '/home/attila/projects/bsm/results/2020-04-21-bsm-pipeline-mssm-118/sample_list.txt'\n",
    "flist.to_csv(flistpath, sep='\\t', header=False, index=False)"
   ]
  },
  {
   "cell_type": "markdown",
   "metadata": {},
   "source": [
    "Upload that file to the bsmn parallel cluster"
   ]
  },
  {
   "cell_type": "code",
   "execution_count": 5,
   "metadata": {},
   "outputs": [],
   "source": [
    "%%bash\n",
    "key=~/AWS-accounts/chesslab/id_rsa-aws-user-024812372148 # my private SSH key\n",
    "dns=ec2-3-12-140-74.us-east-2.compute.amazonaws.com # the master instance of the cluster\n",
    "fpath=/home/attila/projects/bsm/results/2020-04-21-bsm-pipeline-mssm-118/sample_list.txt\n",
    "scp -i $key $fpath ec2-user@$dns:/efs/tests/MSSM_118/"
   ]
  },
  {
   "cell_type": "markdown",
   "metadata": {},
   "source": [
    "Process sample with the bsmn-pipeline using the following command:\n",
    "```\n",
    "[ec2-user@ip-172-31-52-76 MSSM_118]$ /shared/bsmn-pipeline/run_genome_mapping.sh --sample-list sample_list.txt --run-gatk-hc 50 --upload syn21966777 > STDOUT-1 2> STDERR-1\n",
    "```"
   ]
  },
  {
   "cell_type": "code",
   "execution_count": 6,
   "metadata": {},
   "outputs": [
    {
     "name": "stdout",
     "output_type": "stream",
     "text": [
      "{\n",
      "  \"shell_port\": 47275,\n",
      "  \"iopub_port\": 58481,\n",
      "  \"stdin_port\": 47513,\n",
      "  \"control_port\": 57791,\n",
      "  \"hb_port\": 40515,\n",
      "  \"ip\": \"127.0.0.1\",\n",
      "  \"key\": \"ec4e3715-a6ac4e5972c98647f78cc232\",\n",
      "  \"transport\": \"tcp\",\n",
      "  \"signature_scheme\": \"hmac-sha256\",\n",
      "  \"kernel_name\": \"\"\n",
      "}\n",
      "\n",
      "Paste the above JSON into a file, and connect with:\n",
      "    $> jupyter <app> --existing <file>\n",
      "or, if you are local, you can connect with just:\n",
      "    $> jupyter <app> --existing kernel-19ecacbc-f744-43e6-aa52-37f1ff4770b4.json\n",
      "or even just:\n",
      "    $> jupyter <app> --existing\n",
      "if this is the most recent Jupyter kernel you have started.\n"
     ]
    }
   ],
   "source": [
    "%connect_info"
   ]
  },
  {
   "cell_type": "code",
   "execution_count": null,
   "metadata": {},
   "outputs": [],
   "source": []
  }
 ],
 "metadata": {
  "kernelspec": {
   "display_name": "Python 3",
   "language": "python",
   "name": "python3"
  },
  "language_info": {
   "codemirror_mode": {
    "name": "ipython",
    "version": 3
   },
   "file_extension": ".py",
   "mimetype": "text/x-python",
   "name": "python",
   "nbconvert_exporter": "python",
   "pygments_lexer": "ipython3",
   "version": "3.7.4"
  }
 },
 "nbformat": 4,
 "nbformat_minor": 2
}
