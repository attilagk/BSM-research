{
 "cells": [
  {
   "cell_type": "markdown",
   "metadata": {},
   "source": [
    "This is about old data sequenced in Hong Kong, which we rediscovered on Ada after we thought it might have been lost.  This article documents file operations that create properly named symlinks to the FASTQs.  Proper name in this context means one that contains the indvidual ID instead of the dissection ID."
   ]
  },
  {
   "cell_type": "code",
   "execution_count": 50,
   "metadata": {},
   "outputs": [
    {
     "name": "stdout",
     "output_type": "stream",
     "text": [
      "The autoreload extension is already loaded. To reload it, use:\n",
      "  %reload_ext autoreload\n"
     ]
    }
   ],
   "source": [
    "%load_ext autoreload\n",
    "%autoreload 2\n",
    "%matplotlib inline\n",
    "import attila_utils\n",
    "import dissect2indivID"
   ]
  },
  {
   "cell_type": "markdown",
   "metadata": {},
   "source": [
    "The `dissect2indivID.py` script (and module) contains the `diss2ind` dictionary, whose key-value pairs correspond to samples (all NeuN_pl). For each sample the key is the dissection ID, while the value contains the individual ID and the directory name (containing the original FASTQs)."
   ]
  },
  {
   "cell_type": "code",
   "execution_count": 48,
   "metadata": {},
   "outputs": [
    {
     "data": {
      "text/plain": [
       "{'S_1178': {'id': 'MSSM295', 'dir': '/projects/bsm/reads/2016-10-11-HK/'},\n",
       " 'S_1163': {'id': 'MSSM304', 'dir': '/projects/bsm/reads/2016-10-11-HK/'},\n",
       " 'S_700': {'id': 'PITT101', 'dir': '/projects/bsm/reads/2016-10-11-HK/'},\n",
       " 'S_1307': {'id': 'PITT036', 'dir': '/projects/bsm/reads/2016-10-11-HK/'},\n",
       " 'S_1164': {'id': 'MSSM193', 'dir': '/projects/bsm/reads/2016-08-15-DV-X10/'},\n",
       " 'S_1181': {'id': 'MSSM056', 'dir': '/projects/bsm/reads/2016-08-15-DV-X10/'},\n",
       " 'S_1148': {'id': 'MSSM331', 'dir': '/projects/bsm/reads/2016-08-15-DV-X10/'},\n",
       " 'S_1542': {'id': 'PITT060', 'dir': '/projects/bsm/reads/2016-08-15-DV-X10/'}}"
      ]
     },
     "execution_count": 48,
     "metadata": {},
     "output_type": "execute_result"
    }
   ],
   "source": [
    "dissect2indivID.diss2ind"
   ]
  },
  {
   "cell_type": "markdown",
   "metadata": {},
   "source": [
    "Running the script creates, for each sample, a new directory in `/projects/bsm/reads/` and symlinks within that new directory."
   ]
  },
  {
   "cell_type": "code",
   "execution_count": 49,
   "metadata": {},
   "outputs": [],
   "source": [
    "%%bash\n",
    "$HOME/projects/bsm/notebook/2019-11-11-hong-kong-data/dissect2indivID.py"
   ]
  }
 ],
 "metadata": {
  "kernelspec": {
   "display_name": "Python 3",
   "language": "python",
   "name": "python3"
  },
  "language_info": {
   "codemirror_mode": {
    "name": "ipython",
    "version": 3
   },
   "file_extension": ".py",
   "mimetype": "text/x-python",
   "name": "python",
   "nbconvert_exporter": "python",
   "pygments_lexer": "ipython3",
   "version": "3.7.4"
  }
 },
 "nbformat": 4,
 "nbformat_minor": 2
}
