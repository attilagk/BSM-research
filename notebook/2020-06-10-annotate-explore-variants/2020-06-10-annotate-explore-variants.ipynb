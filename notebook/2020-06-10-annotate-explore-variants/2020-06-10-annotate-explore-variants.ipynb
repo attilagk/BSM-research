{
 "cells": [
  {
   "cell_type": "markdown",
   "metadata": {},
   "source": [
    "Exploratory analaysis of the filtered callsets.  We create a matrix whose rows are somatic SNVs.  Columns include: annotations from VCF files, clinical variables and variables specific to genomic regions. This latter class of variables contains information on chromatin state (from RoadMap Epigen Consortium), evolutionarily constrain, GWAS and CNV loci associated to schizophrenia..."
   ]
  },
  {
   "cell_type": "code",
   "execution_count": 1,
   "metadata": {},
   "outputs": [],
   "source": [
    "%load_ext autoreload\n",
    "%autoreload 2\n",
    "%reload_ext autoreload\n",
    "from bsmcalls import readVCF\n",
    "from bsmcalls import individuals\n",
    "from bsmcalls import preprocessing\n",
    "from matplotlib import pyplot as plt\n",
    "import pandas as pd\n",
    "import numpy as np\n",
    "import seaborn as sns\n",
    "import pandas.plotting as ppl\n",
    "import re\n",
    "import attila_utils\n",
    "%matplotlib inline"
   ]
  },
  {
   "cell_type": "code",
   "execution_count": 2,
   "metadata": {},
   "outputs": [],
   "source": [
    "#plt.style.use('classic')\n",
    "plt.style.use('default')"
   ]
  },
  {
   "cell_type": "markdown",
   "metadata": {},
   "source": [
    "### Annotation of callsets"
   ]
  },
  {
   "cell_type": "code",
   "execution_count": 3,
   "metadata": {},
   "outputs": [
    {
     "name": "stdout",
     "output_type": "stream",
     "text": [
      "usage: readVCF.py [-h] [-d DIR] [-l VCFLIST]\n",
      "\n",
      "optional arguments:\n",
      "  -h, --help            show this help message and exit\n",
      "  -d DIR, --dir DIR     main VCF directory\n",
      "                        (/home/attila/projects/bsm/results/calls/)\n",
      "  -l VCFLIST, --vcflist VCFLIST\n",
      "                        list of samples and VCF files\n",
      "                        (/big/results/bsm/calls/filtered-vcfs.tsv)\n"
     ]
    }
   ],
   "source": [
    "%%bash\n",
    "~/projects/bsm/src/bsmcalls/readVCF.py -h\n",
    "if false; then\n",
    "# run script with default options\n",
    "~/projects/bsm/src/bsmcalls/readVCF.py\n",
    "fi"
   ]
  },
  {
   "cell_type": "markdown",
   "metadata": {},
   "source": [
    "### Loading callsets"
   ]
  },
  {
   "cell_type": "code",
   "execution_count": 4,
   "metadata": {},
   "outputs": [
    {
     "data": {
      "text/html": [
       "<div>\n",
       "<style scoped>\n",
       "    .dataframe tbody tr th:only-of-type {\n",
       "        vertical-align: middle;\n",
       "    }\n",
       "\n",
       "    .dataframe tbody tr th {\n",
       "        vertical-align: top;\n",
       "    }\n",
       "\n",
       "    .dataframe thead th {\n",
       "        text-align: right;\n",
       "    }\n",
       "</style>\n",
       "<table border=\"1\" class=\"dataframe\">\n",
       "  <thead>\n",
       "    <tr style=\"text-align: right;\">\n",
       "      <th></th>\n",
       "      <th></th>\n",
       "      <th></th>\n",
       "      <th></th>\n",
       "      <th></th>\n",
       "      <th>REF</th>\n",
       "      <th>ALT</th>\n",
       "      <th>QUAL</th>\n",
       "      <th>FILTER/PASS</th>\n",
       "      <th>FILTER/HC</th>\n",
       "      <th>FILTER/EXT</th>\n",
       "      <th>AC</th>\n",
       "      <th>AF</th>\n",
       "      <th>AN</th>\n",
       "      <th>BaseQRankSum</th>\n",
       "      <th>...</th>\n",
       "      <th>Antidepress</th>\n",
       "      <th>Lithium</th>\n",
       "      <th>Alcohol</th>\n",
       "      <th>Illicitsub</th>\n",
       "      <th>causeOfDeath</th>\n",
       "      <th>EV.1</th>\n",
       "      <th>EV.2</th>\n",
       "      <th>EV.3</th>\n",
       "      <th>EV.4</th>\n",
       "      <th>EV.5</th>\n",
       "    </tr>\n",
       "    <tr>\n",
       "      <th>Individual ID</th>\n",
       "      <th>Tissue</th>\n",
       "      <th>CHROM</th>\n",
       "      <th>POS</th>\n",
       "      <th>Mutation</th>\n",
       "      <th></th>\n",
       "      <th></th>\n",
       "      <th></th>\n",
       "      <th></th>\n",
       "      <th></th>\n",
       "      <th></th>\n",
       "      <th></th>\n",
       "      <th></th>\n",
       "      <th></th>\n",
       "      <th></th>\n",
       "      <th></th>\n",
       "      <th></th>\n",
       "      <th></th>\n",
       "      <th></th>\n",
       "      <th></th>\n",
       "      <th></th>\n",
       "      <th></th>\n",
       "      <th></th>\n",
       "      <th></th>\n",
       "      <th></th>\n",
       "      <th></th>\n",
       "    </tr>\n",
       "  </thead>\n",
       "  <tbody>\n",
       "    <tr>\n",
       "      <th rowspan=\"5\" valign=\"top\">CMC_MSSM_027</th>\n",
       "      <th rowspan=\"5\" valign=\"top\">NeuN_pl</th>\n",
       "      <th rowspan=\"5\" valign=\"top\">1</th>\n",
       "      <th>11973569</th>\n",
       "      <th>C/T</th>\n",
       "      <td>C</td>\n",
       "      <td>T</td>\n",
       "      <td>83.07</td>\n",
       "      <td>HC;PASS/PASS</td>\n",
       "      <td>HC;PASS/HC</td>\n",
       "      <td>HC;PASS/EXT</td>\n",
       "      <td>1</td>\n",
       "      <td>0.02</td>\n",
       "      <td>50</td>\n",
       "      <td>0.517</td>\n",
       "      <td>...</td>\n",
       "      <td>0</td>\n",
       "      <td>0</td>\n",
       "      <td>1</td>\n",
       "      <td>0</td>\n",
       "      <td>1</td>\n",
       "      <td>0.019061</td>\n",
       "      <td>-0.043151</td>\n",
       "      <td>0.005808</td>\n",
       "      <td>0.131348</td>\n",
       "      <td>-0.019458</td>\n",
       "    </tr>\n",
       "    <tr>\n",
       "      <th>67324428</th>\n",
       "      <th>A/T</th>\n",
       "      <td>A</td>\n",
       "      <td>T</td>\n",
       "      <td>203.16</td>\n",
       "      <td>HC;PASS/PASS</td>\n",
       "      <td>HC;PASS/HC</td>\n",
       "      <td>HC;PASS/EXT</td>\n",
       "      <td>3</td>\n",
       "      <td>0.06</td>\n",
       "      <td>50</td>\n",
       "      <td>-2.660</td>\n",
       "      <td>...</td>\n",
       "      <td>0</td>\n",
       "      <td>0</td>\n",
       "      <td>1</td>\n",
       "      <td>0</td>\n",
       "      <td>1</td>\n",
       "      <td>0.019061</td>\n",
       "      <td>-0.043151</td>\n",
       "      <td>0.005808</td>\n",
       "      <td>0.131348</td>\n",
       "      <td>-0.019458</td>\n",
       "    </tr>\n",
       "    <tr>\n",
       "      <th>182008461</th>\n",
       "      <th>C/T</th>\n",
       "      <td>C</td>\n",
       "      <td>T</td>\n",
       "      <td>164.46</td>\n",
       "      <td>HC;PASS/PASS</td>\n",
       "      <td>HC;PASS/HC</td>\n",
       "      <td>HC;PASS/EXT</td>\n",
       "      <td>3</td>\n",
       "      <td>0.06</td>\n",
       "      <td>50</td>\n",
       "      <td>1.420</td>\n",
       "      <td>...</td>\n",
       "      <td>0</td>\n",
       "      <td>0</td>\n",
       "      <td>1</td>\n",
       "      <td>0</td>\n",
       "      <td>1</td>\n",
       "      <td>0.019061</td>\n",
       "      <td>-0.043151</td>\n",
       "      <td>0.005808</td>\n",
       "      <td>0.131348</td>\n",
       "      <td>-0.019458</td>\n",
       "    </tr>\n",
       "    <tr>\n",
       "      <th>207598957</th>\n",
       "      <th>C/T</th>\n",
       "      <td>C</td>\n",
       "      <td>T</td>\n",
       "      <td>168.14</td>\n",
       "      <td>HC;PASS/PASS</td>\n",
       "      <td>HC;PASS/HC</td>\n",
       "      <td>HC;PASS/EXT</td>\n",
       "      <td>3</td>\n",
       "      <td>0.06</td>\n",
       "      <td>50</td>\n",
       "      <td>1.040</td>\n",
       "      <td>...</td>\n",
       "      <td>0</td>\n",
       "      <td>0</td>\n",
       "      <td>1</td>\n",
       "      <td>0</td>\n",
       "      <td>1</td>\n",
       "      <td>0.019061</td>\n",
       "      <td>-0.043151</td>\n",
       "      <td>0.005808</td>\n",
       "      <td>0.131348</td>\n",
       "      <td>-0.019458</td>\n",
       "    </tr>\n",
       "    <tr>\n",
       "      <th>219342012</th>\n",
       "      <th>C/T</th>\n",
       "      <td>C</td>\n",
       "      <td>T</td>\n",
       "      <td>78.80</td>\n",
       "      <td>HC;PASS/PASS</td>\n",
       "      <td>HC;PASS/HC</td>\n",
       "      <td>HC;PASS/EXT</td>\n",
       "      <td>1</td>\n",
       "      <td>0.02</td>\n",
       "      <td>50</td>\n",
       "      <td>1.600</td>\n",
       "      <td>...</td>\n",
       "      <td>0</td>\n",
       "      <td>0</td>\n",
       "      <td>1</td>\n",
       "      <td>0</td>\n",
       "      <td>1</td>\n",
       "      <td>0.019061</td>\n",
       "      <td>-0.043151</td>\n",
       "      <td>0.005808</td>\n",
       "      <td>0.131348</td>\n",
       "      <td>-0.019458</td>\n",
       "    </tr>\n",
       "    <tr>\n",
       "      <th>...</th>\n",
       "      <th>...</th>\n",
       "      <th>...</th>\n",
       "      <th>...</th>\n",
       "      <th>...</th>\n",
       "      <td>...</td>\n",
       "      <td>...</td>\n",
       "      <td>...</td>\n",
       "      <td>...</td>\n",
       "      <td>...</td>\n",
       "      <td>...</td>\n",
       "      <td>...</td>\n",
       "      <td>...</td>\n",
       "      <td>...</td>\n",
       "      <td>...</td>\n",
       "      <td>...</td>\n",
       "      <td>...</td>\n",
       "      <td>...</td>\n",
       "      <td>...</td>\n",
       "      <td>...</td>\n",
       "      <td>...</td>\n",
       "      <td>...</td>\n",
       "      <td>...</td>\n",
       "      <td>...</td>\n",
       "      <td>...</td>\n",
       "      <td>...</td>\n",
       "    </tr>\n",
       "    <tr>\n",
       "      <th rowspan=\"5\" valign=\"top\">CMC_MSSM_331</th>\n",
       "      <th rowspan=\"5\" valign=\"top\">muscle</th>\n",
       "      <th>3</th>\n",
       "      <th>69166433</th>\n",
       "      <th>T/G</th>\n",
       "      <td>T</td>\n",
       "      <td>G</td>\n",
       "      <td>53.75</td>\n",
       "      <td>PASS/PASS</td>\n",
       "      <td>PASS/HC</td>\n",
       "      <td>PASS/EXT</td>\n",
       "      <td>3</td>\n",
       "      <td>0.06</td>\n",
       "      <td>50</td>\n",
       "      <td>-0.883</td>\n",
       "      <td>...</td>\n",
       "      <td>0</td>\n",
       "      <td>0</td>\n",
       "      <td>0</td>\n",
       "      <td>0</td>\n",
       "      <td>4</td>\n",
       "      <td>-0.085135</td>\n",
       "      <td>0.000869</td>\n",
       "      <td>0.025156</td>\n",
       "      <td>-0.001435</td>\n",
       "      <td>0.000118</td>\n",
       "    </tr>\n",
       "    <tr>\n",
       "      <th>6</th>\n",
       "      <th>36807240</th>\n",
       "      <th>C/T</th>\n",
       "      <td>C</td>\n",
       "      <td>T</td>\n",
       "      <td>147.44</td>\n",
       "      <td>HC;PASS/PASS</td>\n",
       "      <td>HC;PASS/HC</td>\n",
       "      <td>HC;PASS/EXT</td>\n",
       "      <td>5</td>\n",
       "      <td>0.10</td>\n",
       "      <td>50</td>\n",
       "      <td>2.950</td>\n",
       "      <td>...</td>\n",
       "      <td>0</td>\n",
       "      <td>0</td>\n",
       "      <td>0</td>\n",
       "      <td>0</td>\n",
       "      <td>4</td>\n",
       "      <td>-0.085135</td>\n",
       "      <td>0.000869</td>\n",
       "      <td>0.025156</td>\n",
       "      <td>-0.001435</td>\n",
       "      <td>0.000118</td>\n",
       "    </tr>\n",
       "    <tr>\n",
       "      <th>12</th>\n",
       "      <th>86938406</th>\n",
       "      <th>T/G</th>\n",
       "      <td>T</td>\n",
       "      <td>G</td>\n",
       "      <td>194.65</td>\n",
       "      <td>EXT;PASS/PASS</td>\n",
       "      <td>EXT;PASS/HC</td>\n",
       "      <td>EXT;PASS/EXT</td>\n",
       "      <td>8</td>\n",
       "      <td>0.16</td>\n",
       "      <td>50</td>\n",
       "      <td>-1.735</td>\n",
       "      <td>...</td>\n",
       "      <td>0</td>\n",
       "      <td>0</td>\n",
       "      <td>0</td>\n",
       "      <td>0</td>\n",
       "      <td>4</td>\n",
       "      <td>-0.085135</td>\n",
       "      <td>0.000869</td>\n",
       "      <td>0.025156</td>\n",
       "      <td>-0.001435</td>\n",
       "      <td>0.000118</td>\n",
       "    </tr>\n",
       "    <tr>\n",
       "      <th>16</th>\n",
       "      <th>48114834</th>\n",
       "      <th>C/T</th>\n",
       "      <td>C</td>\n",
       "      <td>T</td>\n",
       "      <td>162.11</td>\n",
       "      <td>HC;PASS/PASS</td>\n",
       "      <td>HC;PASS/HC</td>\n",
       "      <td>HC;PASS/EXT</td>\n",
       "      <td>6</td>\n",
       "      <td>0.12</td>\n",
       "      <td>50</td>\n",
       "      <td>2.190</td>\n",
       "      <td>...</td>\n",
       "      <td>0</td>\n",
       "      <td>0</td>\n",
       "      <td>0</td>\n",
       "      <td>0</td>\n",
       "      <td>4</td>\n",
       "      <td>-0.085135</td>\n",
       "      <td>0.000869</td>\n",
       "      <td>0.025156</td>\n",
       "      <td>-0.001435</td>\n",
       "      <td>0.000118</td>\n",
       "    </tr>\n",
       "    <tr>\n",
       "      <th>17</th>\n",
       "      <th>29109599</th>\n",
       "      <th>T/G</th>\n",
       "      <td>T</td>\n",
       "      <td>G</td>\n",
       "      <td>202.97</td>\n",
       "      <td>EXT;PASS/PASS</td>\n",
       "      <td>EXT;PASS/HC</td>\n",
       "      <td>EXT;PASS/EXT</td>\n",
       "      <td>8</td>\n",
       "      <td>0.16</td>\n",
       "      <td>50</td>\n",
       "      <td>-2.923</td>\n",
       "      <td>...</td>\n",
       "      <td>0</td>\n",
       "      <td>0</td>\n",
       "      <td>0</td>\n",
       "      <td>0</td>\n",
       "      <td>4</td>\n",
       "      <td>-0.085135</td>\n",
       "      <td>0.000869</td>\n",
       "      <td>0.025156</td>\n",
       "      <td>-0.001435</td>\n",
       "      <td>0.000118</td>\n",
       "    </tr>\n",
       "  </tbody>\n",
       "</table>\n",
       "<p>3411 rows × 53 columns</p>\n",
       "</div>"
      ],
      "text/plain": [
       "                                               REF ALT    QUAL    FILTER/PASS  \\\n",
       "Individual ID Tissue  CHROM POS       Mutation                                  \n",
       "CMC_MSSM_027  NeuN_pl 1     11973569  C/T        C   T   83.07   HC;PASS/PASS   \n",
       "                            67324428  A/T        A   T  203.16   HC;PASS/PASS   \n",
       "                            182008461 C/T        C   T  164.46   HC;PASS/PASS   \n",
       "                            207598957 C/T        C   T  168.14   HC;PASS/PASS   \n",
       "                            219342012 C/T        C   T   78.80   HC;PASS/PASS   \n",
       "...                                             ..  ..     ...            ...   \n",
       "CMC_MSSM_331  muscle  3     69166433  T/G        T   G   53.75      PASS/PASS   \n",
       "                      6     36807240  C/T        C   T  147.44   HC;PASS/PASS   \n",
       "                      12    86938406  T/G        T   G  194.65  EXT;PASS/PASS   \n",
       "                      16    48114834  C/T        C   T  162.11   HC;PASS/PASS   \n",
       "                      17    29109599  T/G        T   G  202.97  EXT;PASS/PASS   \n",
       "\n",
       "                                                  FILTER/HC    FILTER/EXT  AC  \\\n",
       "Individual ID Tissue  CHROM POS       Mutation                                  \n",
       "CMC_MSSM_027  NeuN_pl 1     11973569  C/T        HC;PASS/HC   HC;PASS/EXT   1   \n",
       "                            67324428  A/T        HC;PASS/HC   HC;PASS/EXT   3   \n",
       "                            182008461 C/T        HC;PASS/HC   HC;PASS/EXT   3   \n",
       "                            207598957 C/T        HC;PASS/HC   HC;PASS/EXT   3   \n",
       "                            219342012 C/T        HC;PASS/HC   HC;PASS/EXT   1   \n",
       "...                                                     ...           ...  ..   \n",
       "CMC_MSSM_331  muscle  3     69166433  T/G           PASS/HC      PASS/EXT   3   \n",
       "                      6     36807240  C/T        HC;PASS/HC   HC;PASS/EXT   5   \n",
       "                      12    86938406  T/G       EXT;PASS/HC  EXT;PASS/EXT   8   \n",
       "                      16    48114834  C/T        HC;PASS/HC   HC;PASS/EXT   6   \n",
       "                      17    29109599  T/G       EXT;PASS/HC  EXT;PASS/EXT   8   \n",
       "\n",
       "                                                  AF  AN  BaseQRankSum  ...  \\\n",
       "Individual ID Tissue  CHROM POS       Mutation                          ...   \n",
       "CMC_MSSM_027  NeuN_pl 1     11973569  C/T       0.02  50         0.517  ...   \n",
       "                            67324428  A/T       0.06  50        -2.660  ...   \n",
       "                            182008461 C/T       0.06  50         1.420  ...   \n",
       "                            207598957 C/T       0.06  50         1.040  ...   \n",
       "                            219342012 C/T       0.02  50         1.600  ...   \n",
       "...                                              ...  ..           ...  ...   \n",
       "CMC_MSSM_331  muscle  3     69166433  T/G       0.06  50        -0.883  ...   \n",
       "                      6     36807240  C/T       0.10  50         2.950  ...   \n",
       "                      12    86938406  T/G       0.16  50        -1.735  ...   \n",
       "                      16    48114834  C/T       0.12  50         2.190  ...   \n",
       "                      17    29109599  T/G       0.16  50        -2.923  ...   \n",
       "\n",
       "                                                Antidepress  Lithium  Alcohol  \\\n",
       "Individual ID Tissue  CHROM POS       Mutation                                  \n",
       "CMC_MSSM_027  NeuN_pl 1     11973569  C/T                 0        0        1   \n",
       "                            67324428  A/T                 0        0        1   \n",
       "                            182008461 C/T                 0        0        1   \n",
       "                            207598957 C/T                 0        0        1   \n",
       "                            219342012 C/T                 0        0        1   \n",
       "...                                                     ...      ...      ...   \n",
       "CMC_MSSM_331  muscle  3     69166433  T/G                 0        0        0   \n",
       "                      6     36807240  C/T                 0        0        0   \n",
       "                      12    86938406  T/G                 0        0        0   \n",
       "                      16    48114834  C/T                 0        0        0   \n",
       "                      17    29109599  T/G                 0        0        0   \n",
       "\n",
       "                                                Illicitsub  causeOfDeath  \\\n",
       "Individual ID Tissue  CHROM POS       Mutation                             \n",
       "CMC_MSSM_027  NeuN_pl 1     11973569  C/T                0             1   \n",
       "                            67324428  A/T                0             1   \n",
       "                            182008461 C/T                0             1   \n",
       "                            207598957 C/T                0             1   \n",
       "                            219342012 C/T                0             1   \n",
       "...                                                    ...           ...   \n",
       "CMC_MSSM_331  muscle  3     69166433  T/G                0             4   \n",
       "                      6     36807240  C/T                0             4   \n",
       "                      12    86938406  T/G                0             4   \n",
       "                      16    48114834  C/T                0             4   \n",
       "                      17    29109599  T/G                0             4   \n",
       "\n",
       "                                                    EV.1      EV.2      EV.3  \\\n",
       "Individual ID Tissue  CHROM POS       Mutation                                 \n",
       "CMC_MSSM_027  NeuN_pl 1     11973569  C/T       0.019061 -0.043151  0.005808   \n",
       "                            67324428  A/T       0.019061 -0.043151  0.005808   \n",
       "                            182008461 C/T       0.019061 -0.043151  0.005808   \n",
       "                            207598957 C/T       0.019061 -0.043151  0.005808   \n",
       "                            219342012 C/T       0.019061 -0.043151  0.005808   \n",
       "...                                                  ...       ...       ...   \n",
       "CMC_MSSM_331  muscle  3     69166433  T/G      -0.085135  0.000869  0.025156   \n",
       "                      6     36807240  C/T      -0.085135  0.000869  0.025156   \n",
       "                      12    86938406  T/G      -0.085135  0.000869  0.025156   \n",
       "                      16    48114834  C/T      -0.085135  0.000869  0.025156   \n",
       "                      17    29109599  T/G      -0.085135  0.000869  0.025156   \n",
       "\n",
       "                                                    EV.4      EV.5  \n",
       "Individual ID Tissue  CHROM POS       Mutation                      \n",
       "CMC_MSSM_027  NeuN_pl 1     11973569  C/T       0.131348 -0.019458  \n",
       "                            67324428  A/T       0.131348 -0.019458  \n",
       "                            182008461 C/T       0.131348 -0.019458  \n",
       "                            207598957 C/T       0.131348 -0.019458  \n",
       "                            219342012 C/T       0.131348 -0.019458  \n",
       "...                                                  ...       ...  \n",
       "CMC_MSSM_331  muscle  3     69166433  T/G      -0.001435  0.000118  \n",
       "                      6     36807240  C/T      -0.001435  0.000118  \n",
       "                      12    86938406  T/G      -0.001435  0.000118  \n",
       "                      16    48114834  C/T      -0.001435  0.000118  \n",
       "                      17    29109599  T/G      -0.001435  0.000118  \n",
       "\n",
       "[3411 rows x 53 columns]"
      ]
     },
     "execution_count": 4,
     "metadata": {},
     "output_type": "execute_result"
    }
   ],
   "source": [
    "allcalls = individuals.get_data(merge=True, cleancalls=False)\n",
    "allcalls"
   ]
  },
  {
   "cell_type": "code",
   "execution_count": 5,
   "metadata": {},
   "outputs": [
    {
     "data": {
      "text/plain": [
       "\"['REF', 'ALT', 'QUAL', 'FILTER/PASS', 'FILTER/HC', 'FILTER/EXT', 'AC', 'AF', 'AN', 'BaseQRankSum', 'DP', 'DS', 'END', 'ExcessHet', 'FS', 'InbreedingCoeff', 'MLEAC', 'MLEAF', 'MQ', 'MQRankSum', 'NEGATIVE_TRAIN_SITE', 'POSITIVE_TRAIN_SITE', 'QD', 'RAW_MQandDP', 'ReadPosRankSum', 'SOR', 'VQSLOD', 'culprit', 'ChromatinState_DLPFC', 'szdbCNVcount', 'GWASpval', 'Institution', 'Reported Gender', 'Ethnicity', 'ageOfDeath', 'Brain Weight (in grams)', 'PMI (in hours)', 'Dx', 'Year of Autopsy', 'Benzodiazepines', 'Anticonvulsants', 'AntipsychTyp', 'AntipsychAtyp', 'Antidepress', 'Lithium', 'Alcohol', 'Illicitsub', 'causeOfDeath', 'EV.1', 'EV.2', 'EV.3', 'EV.4', 'EV.5']\""
      ]
     },
     "execution_count": 5,
     "metadata": {},
     "output_type": "execute_result"
    }
   ],
   "source": [
    "repr(list(allcalls.columns))"
   ]
  },
  {
   "cell_type": "markdown",
   "metadata": {},
   "source": [
    "### Number of individuals and calls"
   ]
  },
  {
   "cell_type": "code",
   "execution_count": 6,
   "metadata": {},
   "outputs": [
    {
     "data": {
      "text/html": [
       "<div>\n",
       "<style scoped>\n",
       "    .dataframe tbody tr th:only-of-type {\n",
       "        vertical-align: middle;\n",
       "    }\n",
       "\n",
       "    .dataframe tbody tr th {\n",
       "        vertical-align: top;\n",
       "    }\n",
       "\n",
       "    .dataframe thead th {\n",
       "        text-align: right;\n",
       "    }\n",
       "</style>\n",
       "<table border=\"1\" class=\"dataframe\">\n",
       "  <thead>\n",
       "    <tr style=\"text-align: right;\">\n",
       "      <th></th>\n",
       "      <th></th>\n",
       "      <th>Individuals</th>\n",
       "      <th>Calls</th>\n",
       "    </tr>\n",
       "    <tr>\n",
       "      <th>Tissue</th>\n",
       "      <th>Dx</th>\n",
       "      <th></th>\n",
       "      <th></th>\n",
       "    </tr>\n",
       "  </thead>\n",
       "  <tbody>\n",
       "    <tr>\n",
       "      <th rowspan=\"2\" valign=\"top\">NeuN_mn</th>\n",
       "      <th>Control</th>\n",
       "      <td>0</td>\n",
       "      <td>0</td>\n",
       "    </tr>\n",
       "    <tr>\n",
       "      <th>SCZ</th>\n",
       "      <td>1</td>\n",
       "      <td>1</td>\n",
       "    </tr>\n",
       "    <tr>\n",
       "      <th rowspan=\"2\" valign=\"top\">NeuN_pl</th>\n",
       "      <th>Control</th>\n",
       "      <td>25</td>\n",
       "      <td>895</td>\n",
       "    </tr>\n",
       "    <tr>\n",
       "      <th>SCZ</th>\n",
       "      <td>61</td>\n",
       "      <td>2488</td>\n",
       "    </tr>\n",
       "    <tr>\n",
       "      <th rowspan=\"2\" valign=\"top\">muscle</th>\n",
       "      <th>Control</th>\n",
       "      <td>3</td>\n",
       "      <td>6</td>\n",
       "    </tr>\n",
       "    <tr>\n",
       "      <th>SCZ</th>\n",
       "      <td>2</td>\n",
       "      <td>21</td>\n",
       "    </tr>\n",
       "  </tbody>\n",
       "</table>\n",
       "</div>"
      ],
      "text/plain": [
       "                 Individuals  Calls\n",
       "Tissue  Dx                         \n",
       "NeuN_mn Control            0      0\n",
       "        SCZ                1      1\n",
       "NeuN_pl Control           25    895\n",
       "        SCZ               61   2488\n",
       "muscle  Control            3      6\n",
       "        SCZ                2     21"
      ]
     },
     "execution_count": 6,
     "metadata": {},
     "output_type": "execute_result"
    }
   ],
   "source": [
    "s = allcalls.groupby(['Tissue', 'Dx', 'Individual ID']).size()\n",
    "a = s.loc[s != 0].groupby(['Tissue', 'Dx']).size()\n",
    "b = allcalls.groupby(['Tissue', 'Dx']).size()\n",
    "nic = pd.DataFrame({'Individuals': a, 'Calls': b})\n",
    "nic"
   ]
  },
  {
   "cell_type": "code",
   "execution_count": 7,
   "metadata": {},
   "outputs": [
    {
     "data": {
      "text/plain": [
       "Tissue   Dx \n",
       "NeuN_mn  SCZ       1\n",
       "NeuN_pl  SCZ    2488\n",
       "muscle   SCZ      21\n",
       "Name: Calls, dtype: int64"
      ]
     },
     "execution_count": 7,
     "metadata": {},
     "output_type": "execute_result"
    }
   ],
   "source": [
    "def extract_nic(Dx, column):\n",
    "    s = nic.loc[nic.index.get_level_values('Dx') == Dx, column]\n",
    "    return(s)\n",
    "\n",
    "extract_nic('SCZ', 'Calls')\n",
    "#nic.loc[nic.index.get_level_values('Dx') == 'Control', 'Individuals']"
   ]
  },
  {
   "cell_type": "code",
   "execution_count": 8,
   "metadata": {},
   "outputs": [
    {
     "data": {
      "text/plain": [
       "['named-figure/num-indiv-calls-Dx.png', 'named-figure/num-indiv-calls-Dx.pdf']"
      ]
     },
     "execution_count": 8,
     "metadata": {},
     "output_type": "execute_result"
    },
    {
     "data": {
      "image/png": "[encoded data removed]",
      "text/plain": [
       "<Figure size 600x400 with 2 Axes>"
      ]
     },
     "metadata": {},
     "output_type": "display_data"
    }
   ],
   "source": [
    "fig, ax = plt.subplots(1, 2, sharey=True, figsize=(6, 4))\n",
    "ticks = np.arange(0, 3)\n",
    "height = 0.3\n",
    "offset = height / 2\n",
    "ax[0].barh(y=ticks + offset, width=extract_nic('Control', 'Individuals'), height=height, label='Control')\n",
    "ax[0].barh(y=ticks - offset, width=extract_nic('SCZ', 'Individuals'), height=height, label='SCZ')\n",
    "ax[0].set_title('Individuals/samples')\n",
    "ax[0].set_yticks(ticks)\n",
    "ax[0].set_yticklabels(['muscle', 'NeuN+', 'NeuN-'])\n",
    "ax[1].barh(y=ticks + offset, width=extract_nic('Control', 'Calls'), height=height, label='Control')\n",
    "ax[1].barh(y=ticks - offset, width=extract_nic('SCZ', 'Calls'), height=height, label='SCZ')\n",
    "ax[1].set_title('Variant calls')\n",
    "ax[1].legend()\n",
    "attila_utils.savefig(fig, 'num-indiv-calls-Dx')"
   ]
  },
  {
   "cell_type": "markdown",
   "metadata": {},
   "source": [
    "## Looking at NeuN+ samples only"
   ]
  },
  {
   "cell_type": "code",
   "execution_count": 9,
   "metadata": {},
   "outputs": [],
   "source": [
    "calls = allcalls.loc(axis=0)[:, 'NeuN_pl']"
   ]
  },
  {
   "cell_type": "code",
   "execution_count": 10,
   "metadata": {},
   "outputs": [
    {
     "data": {
      "text/plain": [
       "['named-figure/eCDF-calls.png', 'named-figure/eCDF-calls.pdf']"
      ]
     },
     "execution_count": 10,
     "metadata": {},
     "output_type": "execute_result"
    },
    {
     "data": {
      "image/png": "[encoded data removed]",
      "text/plain": [
       "<Figure size 400x400 with 1 Axes>"
      ]
     },
     "metadata": {},
     "output_type": "display_data"
    }
   ],
   "source": [
    "s = calls.groupby(['Dx', 'Individual ID']).size()\n",
    "s = s[s != 0]\n",
    "fig, ax = plt.subplots(figsize=(4, 4))\n",
    "def foo(Dx, ax):\n",
    "    y = s.groupby('Dx').get_group(Dx).sort_values().values\n",
    "    x = range(len(y))\n",
    "    ax.step(y, x, label=Dx, linewidth=2)\n",
    "\n",
    "foo('Control', ax)\n",
    "foo('SCZ', ax)\n",
    "ax.legend(loc='lower right')\n",
    "ax.set_title('Cumulative frequency')\n",
    "ax.set_xlabel('calls')\n",
    "ax.set_xlim(0, 120)\n",
    "attila_utils.savefig(fig, 'eCDF-calls')"
   ]
  },
  {
   "cell_type": "code",
   "execution_count": 11,
   "metadata": {},
   "outputs": [
    {
     "data": {
      "text/plain": [
       "['named-figure/numcalls-Dx.png', 'named-figure/numcalls-Dx.pdf']"
      ]
     },
     "execution_count": 11,
     "metadata": {},
     "output_type": "execute_result"
    },
    {
     "data": {
      "image/png": "[encoded data removed]",
      "text/plain": [
       "<Figure size 400x400 with 2 Axes>"
      ]
     },
     "metadata": {},
     "output_type": "display_data"
    }
   ],
   "source": [
    "numcalls = [calls.loc[calls['Dx'] == y].groupby('Individual ID').size() for y in calls['Dx'].cat.categories]\n",
    "fig, ax = plt.subplots(2, 1, sharex=True, figsize=(4, 4))\n",
    "foo('Control', ax[0])\n",
    "foo('SCZ', ax[0])\n",
    "lines = ax[1].boxplot(numcalls, vert=False, labels=calls['Dx'].cat.categories)\n",
    "ax[0].set_title('Cumulative frequency')\n",
    "ax[0].legend(loc='lower right')\n",
    "ax[0].set_ylabel('samples')\n",
    "ax[1].set_title('Box plot')\n",
    "ax[1].set_xlabel('# variant calls')\n",
    "attila_utils.savefig(fig, 'numcalls-Dx')"
   ]
  },
  {
   "cell_type": "markdown",
   "metadata": {},
   "source": [
    "### Chromatin state in DLPFC"
   ]
  },
  {
   "cell_type": "code",
   "execution_count": 12,
   "metadata": {},
   "outputs": [
    {
     "data": {
      "text/html": [
       "<div>\n",
       "<style scoped>\n",
       "    .dataframe tbody tr th:only-of-type {\n",
       "        vertical-align: middle;\n",
       "    }\n",
       "\n",
       "    .dataframe tbody tr th {\n",
       "        vertical-align: top;\n",
       "    }\n",
       "\n",
       "    .dataframe thead th {\n",
       "        text-align: right;\n",
       "    }\n",
       "</style>\n",
       "<table border=\"1\" class=\"dataframe\">\n",
       "  <thead>\n",
       "    <tr style=\"text-align: right;\">\n",
       "      <th>Dx</th>\n",
       "      <th>Control</th>\n",
       "      <th>SCZ</th>\n",
       "      <th>All</th>\n",
       "    </tr>\n",
       "    <tr>\n",
       "      <th>ChromatinState_DLPFC</th>\n",
       "      <th></th>\n",
       "      <th></th>\n",
       "      <th></th>\n",
       "    </tr>\n",
       "  </thead>\n",
       "  <tbody>\n",
       "    <tr>\n",
       "      <th>TssA</th>\n",
       "      <td>9</td>\n",
       "      <td>51</td>\n",
       "      <td>60</td>\n",
       "    </tr>\n",
       "    <tr>\n",
       "      <th>TssAFlnk</th>\n",
       "      <td>4</td>\n",
       "      <td>16</td>\n",
       "      <td>20</td>\n",
       "    </tr>\n",
       "    <tr>\n",
       "      <th>TxFlnk</th>\n",
       "      <td>0</td>\n",
       "      <td>3</td>\n",
       "      <td>3</td>\n",
       "    </tr>\n",
       "    <tr>\n",
       "      <th>Tx</th>\n",
       "      <td>30</td>\n",
       "      <td>90</td>\n",
       "      <td>120</td>\n",
       "    </tr>\n",
       "    <tr>\n",
       "      <th>TxWk</th>\n",
       "      <td>118</td>\n",
       "      <td>336</td>\n",
       "      <td>454</td>\n",
       "    </tr>\n",
       "    <tr>\n",
       "      <th>EnhG</th>\n",
       "      <td>3</td>\n",
       "      <td>7</td>\n",
       "      <td>10</td>\n",
       "    </tr>\n",
       "    <tr>\n",
       "      <th>Enh</th>\n",
       "      <td>34</td>\n",
       "      <td>77</td>\n",
       "      <td>111</td>\n",
       "    </tr>\n",
       "    <tr>\n",
       "      <th>ZNF/Rpts</th>\n",
       "      <td>2</td>\n",
       "      <td>2</td>\n",
       "      <td>4</td>\n",
       "    </tr>\n",
       "    <tr>\n",
       "      <th>Het</th>\n",
       "      <td>10</td>\n",
       "      <td>28</td>\n",
       "      <td>38</td>\n",
       "    </tr>\n",
       "    <tr>\n",
       "      <th>TssBiv</th>\n",
       "      <td>2</td>\n",
       "      <td>4</td>\n",
       "      <td>6</td>\n",
       "    </tr>\n",
       "    <tr>\n",
       "      <th>ReprPC</th>\n",
       "      <td>9</td>\n",
       "      <td>20</td>\n",
       "      <td>29</td>\n",
       "    </tr>\n",
       "    <tr>\n",
       "      <th>ReprPCWk</th>\n",
       "      <td>70</td>\n",
       "      <td>207</td>\n",
       "      <td>277</td>\n",
       "    </tr>\n",
       "    <tr>\n",
       "      <th>Quies</th>\n",
       "      <td>604</td>\n",
       "      <td>1647</td>\n",
       "      <td>2251</td>\n",
       "    </tr>\n",
       "    <tr>\n",
       "      <th>All</th>\n",
       "      <td>895</td>\n",
       "      <td>2488</td>\n",
       "      <td>3383</td>\n",
       "    </tr>\n",
       "  </tbody>\n",
       "</table>\n",
       "</div>"
      ],
      "text/plain": [
       "Dx                    Control   SCZ   All\n",
       "ChromatinState_DLPFC                     \n",
       "TssA                        9    51    60\n",
       "TssAFlnk                    4    16    20\n",
       "TxFlnk                      0     3     3\n",
       "Tx                         30    90   120\n",
       "TxWk                      118   336   454\n",
       "EnhG                        3     7    10\n",
       "Enh                        34    77   111\n",
       "ZNF/Rpts                    2     2     4\n",
       "Het                        10    28    38\n",
       "TssBiv                      2     4     6\n",
       "ReprPC                      9    20    29\n",
       "ReprPCWk                   70   207   277\n",
       "Quies                     604  1647  2251\n",
       "All                       895  2488  3383"
      ]
     },
     "execution_count": 12,
     "metadata": {},
     "output_type": "execute_result"
    }
   ],
   "source": [
    "state_Dx = pd.crosstab(calls['ChromatinState_DLPFC'], calls['Dx'], margins=True)\n",
    "state_Dx"
   ]
  },
  {
   "cell_type": "markdown",
   "metadata": {},
   "source": [
    "No variants are observed in the following states:"
   ]
  },
  {
   "cell_type": "code",
   "execution_count": 13,
   "metadata": {},
   "outputs": [
    {
     "data": {
      "text/plain": [
       "{'BivFlnk', 'EnhBiv'}"
      ]
     },
     "execution_count": 13,
     "metadata": {},
     "output_type": "execute_result"
    }
   ],
   "source": [
    "set(readVCF.state15label.values()) - set(state_Dx.index)"
   ]
  },
  {
   "cell_type": "code",
   "execution_count": 14,
   "metadata": {},
   "outputs": [
    {
     "data": {
      "text/plain": [
       "['named-figure/chromatin-state-DLPFC-Dx.png',\n",
       " 'named-figure/chromatin-state-DLPFC-Dx.pdf']"
      ]
     },
     "execution_count": 14,
     "metadata": {},
     "output_type": "execute_result"
    },
    {
     "data": {
      "image/png": "[encoded data removed]",
      "text/plain": [
       "<Figure size 600x400 with 2 Axes>"
      ]
     },
     "metadata": {},
     "output_type": "display_data"
    }
   ],
   "source": [
    "state_Dx_norm = pd.crosstab(calls['ChromatinState_DLPFC'], calls['Dx'], normalize='index', margins=True)\n",
    "def do_plot():\n",
    "    fig, ax = plt.subplots(1, 2, sharey=True, figsize=(6, 4))\n",
    "    state_Dx[['Control', 'SCZ']].plot.barh(stacked=True, ax=ax[0], legend=False, title='Count')\n",
    "    ax[0].grid(True, axis='y')\n",
    "    ax[1].vlines(state_Dx_norm.loc['All', 'Control'], *ax[1].get_ylim(), colors='black', linestyles='dashed')\n",
    "    state_Dx_norm.plot.barh(stacked=True, ax=ax[1], title='Normalized Count', legend=True)\n",
    "    return((fig, ax))\n",
    "\n",
    "fig, ax = do_plot()\n",
    "attila_utils.savefig(fig, 'chromatin-state-DLPFC-Dx')"
   ]
  },
  {
   "cell_type": "markdown",
   "metadata": {},
   "source": [
    "Remove states with less than 10 calls"
   ]
  },
  {
   "cell_type": "code",
   "execution_count": 15,
   "metadata": {},
   "outputs": [
    {
     "data": {
      "text/plain": [
       "['named-figure/chromatin-state-DLPFC-Dx-10.png',\n",
       " 'named-figure/chromatin-state-DLPFC-Dx-10.pdf']"
      ]
     },
     "execution_count": 15,
     "metadata": {},
     "output_type": "execute_result"
    },
    {
     "data": {
      "image/png": "[encoded data removed]",
      "text/plain": [
       "<Figure size 600x400 with 2 Axes>"
      ]
     },
     "metadata": {},
     "output_type": "display_data"
    }
   ],
   "source": [
    "ix = state_Dx['All'] >= 10\n",
    "state_Dx = state_Dx.loc[ix]\n",
    "state_Dx_norm = state_Dx_norm.loc[ix]\n",
    "fig, ax = do_plot()\n",
    "attila_utils.savefig(fig, 'chromatin-state-DLPFC-Dx-10')"
   ]
  },
  {
   "cell_type": "markdown",
   "metadata": {},
   "source": [
    "### Comparison to Autism study by Walsh & Park labs\n",
    "\n",
    "Findings on somatic variants in autistic vs control brains in the Walsh & Park labs\n",
    "\n",
    "1. \"We did not observe enrichment of overall sSNVs and validated mosaic indels in brain-active enhancers in ASD cases compared to controls; however, we did observe significant enrichment when assessing only sequences bearing active enhancer marks in a majority of brain epigenomes available for analysis (from Roadmap Epigenomics 39 ), reflecting those regions that are most likely to represent critical enhancers shared across individuals.\"\n",
    "1. \"Furthermore, genes with transcription start sites within 50kb of these shared brain-active enhancers (≥5 brain epigenomes with active enhancer status in the Roadmap data) with mosaic mutations were enriched for brain-specific expression, implying direct functional relevance of enhancer mutations\"\n",
    "\n",
    "Our preliminary analysis above suggests a different picture in Schizophrenia.  Altough we only looked included a single epigenome (the one corresponding to DLPFC) from the RoadMap study in this analysis there's not even a slight indication of an enrichment of enhancers in somatic variants in schizophrenic versus control brains.\n",
    "\n",
    "The only tendency is the enrichment of transcription start sites (TssA and TssAFlnk) in SCZ somatic variants relative to Control."
   ]
  },
  {
   "cell_type": "markdown",
   "metadata": {},
   "source": [
    "### Allele frequency"
   ]
  },
  {
   "cell_type": "code",
   "execution_count": 16,
   "metadata": {},
   "outputs": [
    {
     "data": {
      "text/plain": [
       "(2.5, 0.5)"
      ]
     },
     "execution_count": 16,
     "metadata": {},
     "output_type": "execute_result"
    },
    {
     "data": {
      "image/png": "[encoded data removed]",
      "text/plain": [
       "<Figure size 800x800 with 3 Axes>"
      ]
     },
     "metadata": {},
     "output_type": "display_data"
    }
   ],
   "source": [
    "fig, ax = plt.subplots(3, 1, figsize=(8, 8), sharex=True)\n",
    "calls.hist(column='AF', by='Dx', ax=ax[0:2], grid=True, color='gray')\n",
    "calls.boxplot('AF', by='Dx', vert=False, ax=ax[2], showfliers=True, color='black')\n",
    "ax[2].set_xlabel('Allele frequency')\n",
    "ax[2].set_title('')\n",
    "fig.suptitle('Allele frequency (AF) distribution')\n",
    "ax[2].set_ylim(2.5, 0.5)"
   ]
  },
  {
   "cell_type": "markdown",
   "metadata": {},
   "source": [
    "### Schizophrenia CNVs\n",
    "\n",
    "The `szdbCNVcount` variable shows the number of occurrence in [SZDB](http://www.szdb.org/) of a CNV---more precisely a single cytogenic band containing or contained in that CNV.  This information was taken from [this table](http://www.szdb.org/download/CNV.txt) in SZDB.  See the `2020-07-24-szdb` article in this notebook."
   ]
  },
  {
   "cell_type": "code",
   "execution_count": 17,
   "metadata": {},
   "outputs": [
    {
     "data": {
      "text/plain": [
       "Text(0, 0.5, '# somatic variants')"
      ]
     },
     "execution_count": 17,
     "metadata": {},
     "output_type": "execute_result"
    },
    {
     "data": {
      "image/png": "[encoded data removed]",
      "text/plain": [
       "<Figure size 800x600 with 2 Axes>"
      ]
     },
     "metadata": {},
     "output_type": "display_data"
    }
   ],
   "source": [
    "fig, ax = plt.subplots(2, 1, sharex=True, figsize=(8, 6))\n",
    "calls.hist(column='szdbCNVcount', by='Dx', ax=ax, grid=True, color='gray', bins=range(50))\n",
    "ax[1].set_xlabel('# studies implicating some CNV in schizophrenia around variant')    \n",
    "ax[0].set_ylabel('# somatic variants')\n",
    "ax[1].set_ylabel('# somatic variants')"
   ]
  },
  {
   "cell_type": "code",
   "execution_count": 18,
   "metadata": {},
   "outputs": [
    {
     "ename": "ValueError",
     "evalue": "The number of FixedLocator locations (4), usually from a call to set_ticks, does not match the number of ticklabels (2).",
     "output_type": "error",
     "traceback": [
      "\u001b[0;31m---------------------------------------------------------------------------\u001b[0m",
      "\u001b[0;31mValueError\u001b[0m                                Traceback (most recent call last)",
      "\u001b[0;32m<ipython-input-18-e496258e3b53>\u001b[0m in \u001b[0;36m<module>\u001b[0;34m\u001b[0m\n\u001b[1;32m      6\u001b[0m \u001b[0;34m\u001b[0m\u001b[0m\n\u001b[1;32m      7\u001b[0m \u001b[0mfoo\u001b[0m\u001b[0;34m(\u001b[0m\u001b[0max\u001b[0m\u001b[0;34m[\u001b[0m\u001b[0;36m0\u001b[0m\u001b[0;34m]\u001b[0m\u001b[0;34m)\u001b[0m\u001b[0;34m\u001b[0m\u001b[0;34m\u001b[0m\u001b[0m\n\u001b[0;32m----> 8\u001b[0;31m \u001b[0mfoo\u001b[0m\u001b[0;34m(\u001b[0m\u001b[0max\u001b[0m\u001b[0;34m[\u001b[0m\u001b[0;36m1\u001b[0m\u001b[0;34m]\u001b[0m\u001b[0;34m)\u001b[0m\u001b[0;34m\u001b[0m\u001b[0;34m\u001b[0m\u001b[0m\n\u001b[0m\u001b[1;32m      9\u001b[0m \u001b[0max\u001b[0m\u001b[0;34m[\u001b[0m\u001b[0;36m0\u001b[0m\u001b[0;34m]\u001b[0m\u001b[0;34m.\u001b[0m\u001b[0mset_xlim\u001b[0m\u001b[0;34m(\u001b[0m\u001b[0;34m[\u001b[0m\u001b[0;36m0\u001b[0m\u001b[0;34m,\u001b[0m \u001b[0;36m10.5\u001b[0m\u001b[0;34m]\u001b[0m\u001b[0;34m)\u001b[0m\u001b[0;34m\u001b[0m\u001b[0;34m\u001b[0m\u001b[0m\n\u001b[1;32m     10\u001b[0m \u001b[0max\u001b[0m\u001b[0;34m[\u001b[0m\u001b[0;36m1\u001b[0m\u001b[0;34m]\u001b[0m\u001b[0;34m.\u001b[0m\u001b[0mset_xlim\u001b[0m\u001b[0;34m(\u001b[0m\u001b[0;34m[\u001b[0m\u001b[0;36m10.5\u001b[0m\u001b[0;34m,\u001b[0m \u001b[0;36m50\u001b[0m\u001b[0;34m]\u001b[0m\u001b[0;34m)\u001b[0m\u001b[0;34m\u001b[0m\u001b[0;34m\u001b[0m\u001b[0m\n",
      "\u001b[0;32m<ipython-input-18-e496258e3b53>\u001b[0m in \u001b[0;36mfoo\u001b[0;34m(ax)\u001b[0m\n\u001b[1;32m      1\u001b[0m \u001b[0mfig\u001b[0m\u001b[0;34m,\u001b[0m \u001b[0max\u001b[0m \u001b[0;34m=\u001b[0m \u001b[0mplt\u001b[0m\u001b[0;34m.\u001b[0m\u001b[0msubplots\u001b[0m\u001b[0;34m(\u001b[0m\u001b[0;36m1\u001b[0m\u001b[0;34m,\u001b[0m \u001b[0;36m2\u001b[0m\u001b[0;34m,\u001b[0m \u001b[0msharey\u001b[0m\u001b[0;34m=\u001b[0m\u001b[0;32mTrue\u001b[0m\u001b[0;34m,\u001b[0m \u001b[0mfigsize\u001b[0m\u001b[0;34m=\u001b[0m\u001b[0;34m(\u001b[0m\u001b[0;36m8\u001b[0m\u001b[0;34m,\u001b[0m \u001b[0;36m2\u001b[0m\u001b[0;34m)\u001b[0m\u001b[0;34m)\u001b[0m\u001b[0;34m\u001b[0m\u001b[0;34m\u001b[0m\u001b[0m\n\u001b[1;32m      2\u001b[0m \u001b[0;32mdef\u001b[0m \u001b[0mfoo\u001b[0m\u001b[0;34m(\u001b[0m\u001b[0max\u001b[0m\u001b[0;34m)\u001b[0m\u001b[0;34m:\u001b[0m\u001b[0;34m\u001b[0m\u001b[0;34m\u001b[0m\u001b[0m\n\u001b[0;32m----> 3\u001b[0;31m     \u001b[0mcalls\u001b[0m\u001b[0;34m.\u001b[0m\u001b[0mboxplot\u001b[0m\u001b[0;34m(\u001b[0m\u001b[0;34m'szdbCNVcount'\u001b[0m\u001b[0;34m,\u001b[0m \u001b[0mby\u001b[0m\u001b[0;34m=\u001b[0m\u001b[0;34m'Dx'\u001b[0m\u001b[0;34m,\u001b[0m \u001b[0mvert\u001b[0m\u001b[0;34m=\u001b[0m\u001b[0;32mFalse\u001b[0m\u001b[0;34m,\u001b[0m \u001b[0max\u001b[0m\u001b[0;34m=\u001b[0m\u001b[0max\u001b[0m\u001b[0;34m,\u001b[0m \u001b[0mgrid\u001b[0m\u001b[0;34m=\u001b[0m\u001b[0;32mFalse\u001b[0m\u001b[0;34m)\u001b[0m\u001b[0;34m\u001b[0m\u001b[0;34m\u001b[0m\u001b[0m\n\u001b[0m\u001b[1;32m      4\u001b[0m     \u001b[0max\u001b[0m\u001b[0;34m.\u001b[0m\u001b[0mset_xlabel\u001b[0m\u001b[0;34m(\u001b[0m\u001b[0;34m''\u001b[0m\u001b[0;34m)\u001b[0m\u001b[0;34m\u001b[0m\u001b[0;34m\u001b[0m\u001b[0m\n\u001b[1;32m      5\u001b[0m     \u001b[0max\u001b[0m\u001b[0;34m.\u001b[0m\u001b[0mset_title\u001b[0m\u001b[0;34m(\u001b[0m\u001b[0;34m''\u001b[0m\u001b[0;34m)\u001b[0m\u001b[0;34m\u001b[0m\u001b[0;34m\u001b[0m\u001b[0m\n",
      "\u001b[0;32m~/anaconda3/lib/python3.7/site-packages/pandas/plotting/_core.py\u001b[0m in \u001b[0;36mboxplot_frame\u001b[0;34m(self, column, by, ax, fontsize, rot, grid, figsize, layout, return_type, backend, **kwargs)\u001b[0m\n\u001b[1;32m    503\u001b[0m         \u001b[0mlayout\u001b[0m\u001b[0;34m=\u001b[0m\u001b[0mlayout\u001b[0m\u001b[0;34m,\u001b[0m\u001b[0;34m\u001b[0m\u001b[0;34m\u001b[0m\u001b[0m\n\u001b[1;32m    504\u001b[0m         \u001b[0mreturn_type\u001b[0m\u001b[0;34m=\u001b[0m\u001b[0mreturn_type\u001b[0m\u001b[0;34m,\u001b[0m\u001b[0;34m\u001b[0m\u001b[0;34m\u001b[0m\u001b[0m\n\u001b[0;32m--> 505\u001b[0;31m         \u001b[0;34m**\u001b[0m\u001b[0mkwargs\u001b[0m\u001b[0;34m,\u001b[0m\u001b[0;34m\u001b[0m\u001b[0;34m\u001b[0m\u001b[0m\n\u001b[0m\u001b[1;32m    506\u001b[0m     )\n\u001b[1;32m    507\u001b[0m \u001b[0;34m\u001b[0m\u001b[0m\n",
      "\u001b[0;32m~/anaconda3/lib/python3.7/site-packages/pandas/plotting/_matplotlib/boxplot.py\u001b[0m in \u001b[0;36mboxplot_frame\u001b[0;34m(self, column, by, ax, fontsize, rot, grid, figsize, layout, return_type, **kwds)\u001b[0m\n\u001b[1;32m    394\u001b[0m         \u001b[0mlayout\u001b[0m\u001b[0;34m=\u001b[0m\u001b[0mlayout\u001b[0m\u001b[0;34m,\u001b[0m\u001b[0;34m\u001b[0m\u001b[0;34m\u001b[0m\u001b[0m\n\u001b[1;32m    395\u001b[0m         \u001b[0mreturn_type\u001b[0m\u001b[0;34m=\u001b[0m\u001b[0mreturn_type\u001b[0m\u001b[0;34m,\u001b[0m\u001b[0;34m\u001b[0m\u001b[0;34m\u001b[0m\u001b[0m\n\u001b[0;32m--> 396\u001b[0;31m         \u001b[0;34m**\u001b[0m\u001b[0mkwds\u001b[0m\u001b[0;34m,\u001b[0m\u001b[0;34m\u001b[0m\u001b[0;34m\u001b[0m\u001b[0m\n\u001b[0m\u001b[1;32m    397\u001b[0m     )\n\u001b[1;32m    398\u001b[0m     \u001b[0mplt\u001b[0m\u001b[0;34m.\u001b[0m\u001b[0mdraw_if_interactive\u001b[0m\u001b[0;34m(\u001b[0m\u001b[0;34m)\u001b[0m\u001b[0;34m\u001b[0m\u001b[0;34m\u001b[0m\u001b[0m\n",
      "\u001b[0;32m~/anaconda3/lib/python3.7/site-packages/pandas/plotting/_matplotlib/boxplot.py\u001b[0m in \u001b[0;36mboxplot\u001b[0;34m(data, column, by, ax, fontsize, rot, grid, figsize, layout, return_type, **kwds)\u001b[0m\n\u001b[1;32m    344\u001b[0m             \u001b[0max\u001b[0m\u001b[0;34m=\u001b[0m\u001b[0max\u001b[0m\u001b[0;34m,\u001b[0m\u001b[0;34m\u001b[0m\u001b[0;34m\u001b[0m\u001b[0m\n\u001b[1;32m    345\u001b[0m             \u001b[0mlayout\u001b[0m\u001b[0;34m=\u001b[0m\u001b[0mlayout\u001b[0m\u001b[0;34m,\u001b[0m\u001b[0;34m\u001b[0m\u001b[0;34m\u001b[0m\u001b[0m\n\u001b[0;32m--> 346\u001b[0;31m             \u001b[0mreturn_type\u001b[0m\u001b[0;34m=\u001b[0m\u001b[0mreturn_type\u001b[0m\u001b[0;34m,\u001b[0m\u001b[0;34m\u001b[0m\u001b[0;34m\u001b[0m\u001b[0m\n\u001b[0m\u001b[1;32m    347\u001b[0m         )\n\u001b[1;32m    348\u001b[0m     \u001b[0;32melse\u001b[0m\u001b[0;34m:\u001b[0m\u001b[0;34m\u001b[0m\u001b[0;34m\u001b[0m\u001b[0m\n",
      "\u001b[0;32m~/anaconda3/lib/python3.7/site-packages/pandas/plotting/_matplotlib/boxplot.py\u001b[0m in \u001b[0;36m_grouped_plot_by_column\u001b[0;34m(plotf, data, columns, by, numeric_only, grid, figsize, ax, layout, return_type, **kwargs)\u001b[0m\n\u001b[1;32m    214\u001b[0m         \u001b[0mgp_col\u001b[0m \u001b[0;34m=\u001b[0m \u001b[0mgrouped\u001b[0m\u001b[0;34m[\u001b[0m\u001b[0mcol\u001b[0m\u001b[0;34m]\u001b[0m\u001b[0;34m\u001b[0m\u001b[0;34m\u001b[0m\u001b[0m\n\u001b[1;32m    215\u001b[0m         \u001b[0mkeys\u001b[0m\u001b[0;34m,\u001b[0m \u001b[0mvalues\u001b[0m \u001b[0;34m=\u001b[0m \u001b[0mzip\u001b[0m\u001b[0;34m(\u001b[0m\u001b[0;34m*\u001b[0m\u001b[0mgp_col\u001b[0m\u001b[0;34m)\u001b[0m\u001b[0;34m\u001b[0m\u001b[0;34m\u001b[0m\u001b[0m\n\u001b[0;32m--> 216\u001b[0;31m         \u001b[0mre_plotf\u001b[0m \u001b[0;34m=\u001b[0m \u001b[0mplotf\u001b[0m\u001b[0;34m(\u001b[0m\u001b[0mkeys\u001b[0m\u001b[0;34m,\u001b[0m \u001b[0mvalues\u001b[0m\u001b[0;34m,\u001b[0m \u001b[0max\u001b[0m\u001b[0;34m,\u001b[0m \u001b[0;34m**\u001b[0m\u001b[0mkwargs\u001b[0m\u001b[0;34m)\u001b[0m\u001b[0;34m\u001b[0m\u001b[0;34m\u001b[0m\u001b[0m\n\u001b[0m\u001b[1;32m    217\u001b[0m         \u001b[0max\u001b[0m\u001b[0;34m.\u001b[0m\u001b[0mset_title\u001b[0m\u001b[0;34m(\u001b[0m\u001b[0mcol\u001b[0m\u001b[0;34m)\u001b[0m\u001b[0;34m\u001b[0m\u001b[0;34m\u001b[0m\u001b[0m\n\u001b[1;32m    218\u001b[0m         \u001b[0max\u001b[0m\u001b[0;34m.\u001b[0m\u001b[0mset_xlabel\u001b[0m\u001b[0;34m(\u001b[0m\u001b[0mpprint_thing\u001b[0m\u001b[0;34m(\u001b[0m\u001b[0mby\u001b[0m\u001b[0;34m)\u001b[0m\u001b[0;34m)\u001b[0m\u001b[0;34m\u001b[0m\u001b[0;34m\u001b[0m\u001b[0m\n",
      "\u001b[0;32m~/anaconda3/lib/python3.7/site-packages/pandas/plotting/_matplotlib/boxplot.py\u001b[0m in \u001b[0;36mplot_group\u001b[0;34m(keys, values, ax)\u001b[0m\n\u001b[1;32m    312\u001b[0m             \u001b[0max\u001b[0m\u001b[0;34m.\u001b[0m\u001b[0mset_xticklabels\u001b[0m\u001b[0;34m(\u001b[0m\u001b[0mkeys\u001b[0m\u001b[0;34m,\u001b[0m \u001b[0mrotation\u001b[0m\u001b[0;34m=\u001b[0m\u001b[0mrot\u001b[0m\u001b[0;34m)\u001b[0m\u001b[0;34m\u001b[0m\u001b[0;34m\u001b[0m\u001b[0m\n\u001b[1;32m    313\u001b[0m         \u001b[0;32melse\u001b[0m\u001b[0;34m:\u001b[0m\u001b[0;34m\u001b[0m\u001b[0;34m\u001b[0m\u001b[0m\n\u001b[0;32m--> 314\u001b[0;31m             \u001b[0max\u001b[0m\u001b[0;34m.\u001b[0m\u001b[0mset_yticklabels\u001b[0m\u001b[0;34m(\u001b[0m\u001b[0mkeys\u001b[0m\u001b[0;34m,\u001b[0m \u001b[0mrotation\u001b[0m\u001b[0;34m=\u001b[0m\u001b[0mrot\u001b[0m\u001b[0;34m)\u001b[0m\u001b[0;34m\u001b[0m\u001b[0;34m\u001b[0m\u001b[0m\n\u001b[0m\u001b[1;32m    315\u001b[0m         \u001b[0mmaybe_color_bp\u001b[0m\u001b[0;34m(\u001b[0m\u001b[0mbp\u001b[0m\u001b[0;34m,\u001b[0m \u001b[0;34m**\u001b[0m\u001b[0mkwds\u001b[0m\u001b[0;34m)\u001b[0m\u001b[0;34m\u001b[0m\u001b[0;34m\u001b[0m\u001b[0m\n\u001b[1;32m    316\u001b[0m \u001b[0;34m\u001b[0m\u001b[0m\n",
      "\u001b[0;32m~/anaconda3/lib/python3.7/site-packages/matplotlib/axes/_base.py\u001b[0m in \u001b[0;36mwrapper\u001b[0;34m(self, *args, **kwargs)\u001b[0m\n\u001b[1;32m     61\u001b[0m \u001b[0;34m\u001b[0m\u001b[0m\n\u001b[1;32m     62\u001b[0m         \u001b[0;32mdef\u001b[0m \u001b[0mwrapper\u001b[0m\u001b[0;34m(\u001b[0m\u001b[0mself\u001b[0m\u001b[0;34m,\u001b[0m \u001b[0;34m*\u001b[0m\u001b[0margs\u001b[0m\u001b[0;34m,\u001b[0m \u001b[0;34m**\u001b[0m\u001b[0mkwargs\u001b[0m\u001b[0;34m)\u001b[0m\u001b[0;34m:\u001b[0m\u001b[0;34m\u001b[0m\u001b[0;34m\u001b[0m\u001b[0m\n\u001b[0;32m---> 63\u001b[0;31m             \u001b[0;32mreturn\u001b[0m \u001b[0mget_method\u001b[0m\u001b[0;34m(\u001b[0m\u001b[0mself\u001b[0m\u001b[0;34m)\u001b[0m\u001b[0;34m(\u001b[0m\u001b[0;34m*\u001b[0m\u001b[0margs\u001b[0m\u001b[0;34m,\u001b[0m \u001b[0;34m**\u001b[0m\u001b[0mkwargs\u001b[0m\u001b[0;34m)\u001b[0m\u001b[0;34m\u001b[0m\u001b[0;34m\u001b[0m\u001b[0m\n\u001b[0m\u001b[1;32m     64\u001b[0m \u001b[0;34m\u001b[0m\u001b[0m\n\u001b[1;32m     65\u001b[0m         \u001b[0mwrapper\u001b[0m\u001b[0;34m.\u001b[0m\u001b[0m__module__\u001b[0m \u001b[0;34m=\u001b[0m \u001b[0mowner\u001b[0m\u001b[0;34m.\u001b[0m\u001b[0m__module__\u001b[0m\u001b[0;34m\u001b[0m\u001b[0;34m\u001b[0m\u001b[0m\n",
      "\u001b[0;32m~/anaconda3/lib/python3.7/site-packages/matplotlib/cbook/deprecation.py\u001b[0m in \u001b[0;36mwrapper\u001b[0;34m(*args, **kwargs)\u001b[0m\n\u001b[1;32m    449\u001b[0m                 \u001b[0;34m\"parameter will become keyword-only %(removal)s.\"\u001b[0m\u001b[0;34m,\u001b[0m\u001b[0;34m\u001b[0m\u001b[0;34m\u001b[0m\u001b[0m\n\u001b[1;32m    450\u001b[0m                 name=name, obj_type=f\"parameter of {func.__name__}()\")\n\u001b[0;32m--> 451\u001b[0;31m         \u001b[0;32mreturn\u001b[0m \u001b[0mfunc\u001b[0m\u001b[0;34m(\u001b[0m\u001b[0;34m*\u001b[0m\u001b[0margs\u001b[0m\u001b[0;34m,\u001b[0m \u001b[0;34m**\u001b[0m\u001b[0mkwargs\u001b[0m\u001b[0;34m)\u001b[0m\u001b[0;34m\u001b[0m\u001b[0;34m\u001b[0m\u001b[0m\n\u001b[0m\u001b[1;32m    452\u001b[0m \u001b[0;34m\u001b[0m\u001b[0m\n\u001b[1;32m    453\u001b[0m     \u001b[0;32mreturn\u001b[0m \u001b[0mwrapper\u001b[0m\u001b[0;34m\u001b[0m\u001b[0;34m\u001b[0m\u001b[0m\n",
      "\u001b[0;32m~/anaconda3/lib/python3.7/site-packages/matplotlib/axis.py\u001b[0m in \u001b[0;36m_set_ticklabels\u001b[0;34m(self, labels, fontdict, minor, **kwargs)\u001b[0m\n\u001b[1;32m   1794\u001b[0m         \u001b[0;32mif\u001b[0m \u001b[0mfontdict\u001b[0m \u001b[0;32mis\u001b[0m \u001b[0;32mnot\u001b[0m \u001b[0;32mNone\u001b[0m\u001b[0;34m:\u001b[0m\u001b[0;34m\u001b[0m\u001b[0;34m\u001b[0m\u001b[0m\n\u001b[1;32m   1795\u001b[0m             \u001b[0mkwargs\u001b[0m\u001b[0;34m.\u001b[0m\u001b[0mupdate\u001b[0m\u001b[0;34m(\u001b[0m\u001b[0mfontdict\u001b[0m\u001b[0;34m)\u001b[0m\u001b[0;34m\u001b[0m\u001b[0;34m\u001b[0m\u001b[0m\n\u001b[0;32m-> 1796\u001b[0;31m         \u001b[0;32mreturn\u001b[0m \u001b[0mself\u001b[0m\u001b[0;34m.\u001b[0m\u001b[0mset_ticklabels\u001b[0m\u001b[0;34m(\u001b[0m\u001b[0mlabels\u001b[0m\u001b[0;34m,\u001b[0m \u001b[0mminor\u001b[0m\u001b[0;34m=\u001b[0m\u001b[0mminor\u001b[0m\u001b[0;34m,\u001b[0m \u001b[0;34m**\u001b[0m\u001b[0mkwargs\u001b[0m\u001b[0;34m)\u001b[0m\u001b[0;34m\u001b[0m\u001b[0;34m\u001b[0m\u001b[0m\n\u001b[0m\u001b[1;32m   1797\u001b[0m \u001b[0;34m\u001b[0m\u001b[0m\n\u001b[1;32m   1798\u001b[0m     \u001b[0;34m@\u001b[0m\u001b[0mcbook\u001b[0m\u001b[0;34m.\u001b[0m\u001b[0m_make_keyword_only\u001b[0m\u001b[0;34m(\u001b[0m\u001b[0;34m\"3.2\"\u001b[0m\u001b[0;34m,\u001b[0m \u001b[0;34m\"minor\"\u001b[0m\u001b[0;34m)\u001b[0m\u001b[0;34m\u001b[0m\u001b[0;34m\u001b[0m\u001b[0m\n",
      "\u001b[0;32m~/anaconda3/lib/python3.7/site-packages/matplotlib/axis.py\u001b[0m in \u001b[0;36mset_ticklabels\u001b[0;34m(self, ticklabels, minor, **kwargs)\u001b[0m\n\u001b[1;32m   1716\u001b[0m             \u001b[0;32mif\u001b[0m \u001b[0mlen\u001b[0m\u001b[0;34m(\u001b[0m\u001b[0mlocator\u001b[0m\u001b[0;34m.\u001b[0m\u001b[0mlocs\u001b[0m\u001b[0;34m)\u001b[0m \u001b[0;34m!=\u001b[0m \u001b[0mlen\u001b[0m\u001b[0;34m(\u001b[0m\u001b[0mticklabels\u001b[0m\u001b[0;34m)\u001b[0m \u001b[0;32mand\u001b[0m \u001b[0mlen\u001b[0m\u001b[0;34m(\u001b[0m\u001b[0mticklabels\u001b[0m\u001b[0;34m)\u001b[0m \u001b[0;34m!=\u001b[0m \u001b[0;36m0\u001b[0m\u001b[0;34m:\u001b[0m\u001b[0;34m\u001b[0m\u001b[0;34m\u001b[0m\u001b[0m\n\u001b[1;32m   1717\u001b[0m                 raise ValueError(\n\u001b[0;32m-> 1718\u001b[0;31m                     \u001b[0;34m\"The number of FixedLocator locations\"\u001b[0m\u001b[0;34m\u001b[0m\u001b[0;34m\u001b[0m\u001b[0m\n\u001b[0m\u001b[1;32m   1719\u001b[0m                     \u001b[0;34mf\" ({len(locator.locs)}), usually from a call to\"\u001b[0m\u001b[0;34m\u001b[0m\u001b[0;34m\u001b[0m\u001b[0m\n\u001b[1;32m   1720\u001b[0m                     \u001b[0;34m\" set_ticks, does not match\"\u001b[0m\u001b[0;34m\u001b[0m\u001b[0;34m\u001b[0m\u001b[0m\n",
      "\u001b[0;31mValueError\u001b[0m: The number of FixedLocator locations (4), usually from a call to set_ticks, does not match the number of ticklabels (2)."
     ]
    },
    {
     "data": {
      "image/png": "[encoded data removed]",
      "text/plain": [
       "<Figure size 800x200 with 2 Axes>"
      ]
     },
     "metadata": {},
     "output_type": "display_data"
    }
   ],
   "source": [
    "fig, ax = plt.subplots(1, 2, sharey=True, figsize=(8, 2))\n",
    "def foo(ax):\n",
    "    calls.boxplot('szdbCNVcount', by='Dx', vert=False, ax=ax, grid=False)\n",
    "    ax.set_xlabel('')\n",
    "    ax.set_title('')\n",
    "    \n",
    "foo(ax[0])\n",
    "foo(ax[1])\n",
    "ax[0].set_xlim([0, 10.5])\n",
    "ax[1].set_xlim([10.5, 50])\n",
    "fig.suptitle('# studies implicating some CNV in schizophrenia around variant')"
   ]
  },
  {
   "cell_type": "code",
   "execution_count": null,
   "metadata": {},
   "outputs": [],
   "source": [
    "gb = calls.groupby(['Dx', 'Individual ID', 'szdbCNVcount'])\n",
    "s = gb.size()\n",
    "s"
   ]
  },
  {
   "cell_type": "code",
   "execution_count": null,
   "metadata": {},
   "outputs": [],
   "source": [
    "def boo(xlim=None):\n",
    "    fig, ax = plt.subplots(2, 1, sharey=True, sharex=True, figsize=(8, 8))\n",
    "    multiix = calls.groupby(['Dx', 'Individual ID']).size().index\n",
    "    mycolors = {'Control': 'blue', 'SCZ': 'green'}\n",
    "    for ix in multiix:\n",
    "        a = s.loc[ix]\n",
    "        if a.any():\n",
    "            Dx = ix[0]\n",
    "            row = 0 if Dx == 'Control' else 1\n",
    "            a.plot(marker='o', ax=ax[row], label=ix[1])\n",
    "            ax[0].set_ylabel('# somatic variants')\n",
    "            ax[1].set_ylabel('# somatic variants')\n",
    "            fig.suptitle('Distribution of szdbCNVcount for each sample')\n",
    "            if xlim is not None:\n",
    "                ax[0].set_xlim(xlim)\n",
    "    #ax[0].legend()\n",
    "    #ax[1].legend()\n",
    "\n",
    "boo()"
   ]
  },
  {
   "cell_type": "code",
   "execution_count": null,
   "metadata": {},
   "outputs": [],
   "source": [
    "boo([0, 10])"
   ]
  },
  {
   "cell_type": "markdown",
   "metadata": {},
   "source": [
    "### GWAS\n",
    "\n",
    "The `GWASpval` variable is $-\\log_{10}$ of the p-value from the CLOZUK + PG2 GWAS meta analysis.  See the *2020-07-28-CLOZUK* notebook article.  Note that if a somatic variant is not in the LD block of any of the GWAS loci then I set $\\mathrm{GWASpval}=0$.\n",
    "\n",
    "Below is the number of variants that fall in some GWAS loci"
   ]
  },
  {
   "cell_type": "code",
   "execution_count": null,
   "metadata": {},
   "outputs": [],
   "source": [
    "gwas = calls.groupby([calls['GWASpval'] !=0, 'Dx']).size()\n",
    "gwas"
   ]
  },
  {
   "cell_type": "code",
   "execution_count": null,
   "metadata": {},
   "outputs": [],
   "source": [
    "def simplebar(df, df_norm):\n",
    "    fig, ax = plt.subplots(1, 2, sharey=True, figsize=(6, 4))\n",
    "    df[['Control', 'SCZ']].plot.barh(stacked=True, ax=ax[0], legend=False, title='Count')\n",
    "    ax[1].vlines(df_norm.loc['All', 'Control'], *ax[1].get_ylim(), colors='black', linestyles='dashed')\n",
    "    df_norm.plot.barh(stacked=True, ax=ax[1], title='Normalized Count')\n",
    "    return((fig, ax))"
   ]
  },
  {
   "cell_type": "code",
   "execution_count": null,
   "metadata": {},
   "outputs": [],
   "source": [
    "gwas = pd.crosstab(calls['GWASpval'] !=0, calls['Dx'], margins=True)\n",
    "gwas_norm = pd.crosstab(calls['GWASpval'] !=0, calls['Dx'], margins=True, normalize='index')\n",
    "fig, ax = simplebar(gwas, gwas_norm)\n",
    "ax[0].set_ylabel('variants in SCZ GWAS loci')\n",
    "attila_utils.savefig(fig, 'gwas-Dx')"
   ]
  },
  {
   "cell_type": "markdown",
   "metadata": {},
   "source": [
    "### Multidimensional view"
   ]
  },
  {
   "cell_type": "code",
   "execution_count": null,
   "metadata": {},
   "outputs": [],
   "source": [
    "sel_cols = ['Dx', 'QUAL', 'AF', 'BaseQRankSum', 'DP', 'FS', 'QD', 'ReadPosRankSum', 'SOR', 'VQSLOD', 'szdbCNVcount']\n",
    "calls1 = preprocessing.preprocess(calls.loc[:, sel_cols], prettify=False, dummify=False)"
   ]
  },
  {
   "cell_type": "code",
   "execution_count": null,
   "metadata": {},
   "outputs": [],
   "source": [
    "ax = ppl.scatter_matrix(calls1[sel_cols], diagonal='hist', figsize=(12, 12), color='C2', hist_kwds={'color': 'C2'})"
   ]
  },
  {
   "cell_type": "code",
   "execution_count": null,
   "metadata": {},
   "outputs": [],
   "source": [
    "fig, ax = plt.subplots(figsize=(8, 8))\n",
    "ppl.parallel_coordinates(calls1, class_column='Dx', ax=ax, color=['C0', 'C1'])\n",
    "#ppl.ordinates(df, class_column='Dx', ax=ax, color=['blue', 'orange'])\n",
    "_ = plt.xticks(rotation=90)"
   ]
  },
  {
   "cell_type": "code",
   "execution_count": null,
   "metadata": {},
   "outputs": [],
   "source": [
    "fig, ax = plt.subplots(figsize=(8, 8))\n",
    "ppl.radviz(calls1, class_column='Dx', ax=ax, color=['C0', 'C1'])"
   ]
  },
  {
   "cell_type": "code",
   "execution_count": 19,
   "metadata": {},
   "outputs": [
    {
     "name": "stdout",
     "output_type": "stream",
     "text": [
      "{\n",
      "  \"shell_port\": 48027,\n",
      "  \"iopub_port\": 47071,\n",
      "  \"stdin_port\": 39891,\n",
      "  \"control_port\": 53317,\n",
      "  \"hb_port\": 56235,\n",
      "  \"ip\": \"127.0.0.1\",\n",
      "  \"key\": \"da10c222-e34605249b086c21341fab73\",\n",
      "  \"transport\": \"tcp\",\n",
      "  \"signature_scheme\": \"hmac-sha256\",\n",
      "  \"kernel_name\": \"\"\n",
      "}\n",
      "\n",
      "Paste the above JSON into a file, and connect with:\n",
      "    $> jupyter <app> --existing <file>\n",
      "or, if you are local, you can connect with just:\n",
      "    $> jupyter <app> --existing kernel-7652b699-f588-440c-99e0-9b051769f019.json\n",
      "or even just:\n",
      "    $> jupyter <app> --existing\n",
      "if this is the most recent Jupyter kernel you have started.\n"
     ]
    }
   ],
   "source": [
    "%connect_info"
   ]
  },
  {
   "cell_type": "code",
   "execution_count": null,
   "metadata": {},
   "outputs": [],
   "source": []
  }
 ],
 "metadata": {
  "kernelspec": {
   "display_name": "Python 3",
   "language": "python",
   "name": "python3"
  },
  "language_info": {
   "codemirror_mode": {
    "name": "ipython",
    "version": 3
   },
   "file_extension": ".py",
   "mimetype": "text/x-python",
   "name": "python",
   "nbconvert_exporter": "python",
   "pygments_lexer": "ipython3",
   "version": "3.7.6"
  }
 },
 "nbformat": 4,
 "nbformat_minor": 4
}
