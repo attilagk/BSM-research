{
 "cells": [
  {
   "cell_type": "markdown",
   "metadata": {},
   "source": [
    "Hello World!"
   ]
  },
  {
   "cell_type": "code",
   "execution_count": 2,
   "metadata": {},
   "outputs": [
    {
     "name": "stdout",
     "output_type": "stream",
     "text": [
      "The autoreload extension is already loaded. To reload it, use:\n",
      "  %reload_ext autoreload\n"
     ]
    },
    {
     "ename": "FileNotFoundError",
     "evalue": "[Errno 2] No such file or directory: '/home/attila/projects/bsm/resources/cmc-ancestry/CMC_MSSM-Penn-Pitt_DNA_GENOTYPE_ANCESTRY_GemTools.tsv'",
     "output_type": "error",
     "traceback": [
      "\u001b[0;31m---------------------------------------------------------------------------\u001b[0m",
      "\u001b[0;31mFileNotFoundError\u001b[0m                         Traceback (most recent call last)",
      "\u001b[0;32m<ipython-input-2-4c10bd47e4fb>\u001b[0m in \u001b[0;36m<module>\u001b[0;34m\u001b[0m\n\u001b[1;32m      6\u001b[0m \u001b[0;32mimport\u001b[0m \u001b[0mnumpy\u001b[0m \u001b[0;32mas\u001b[0m \u001b[0mnp\u001b[0m\u001b[0;34m\u001b[0m\u001b[0;34m\u001b[0m\u001b[0m\n\u001b[1;32m      7\u001b[0m \u001b[0;32mimport\u001b[0m \u001b[0mattila_utils\u001b[0m\u001b[0;34m\u001b[0m\u001b[0;34m\u001b[0m\u001b[0m\n\u001b[0;32m----> 8\u001b[0;31m \u001b[0;32mfrom\u001b[0m \u001b[0mbsmcalls\u001b[0m \u001b[0;32mimport\u001b[0m \u001b[0mSNPnexus\u001b[0m\u001b[0;34m\u001b[0m\u001b[0;34m\u001b[0m\u001b[0m\n\u001b[0m\u001b[1;32m      9\u001b[0m \u001b[0;32mfrom\u001b[0m \u001b[0mbsmcalls\u001b[0m \u001b[0;32mimport\u001b[0m \u001b[0moperations\u001b[0m\u001b[0;34m\u001b[0m\u001b[0;34m\u001b[0m\u001b[0m\n\u001b[1;32m     10\u001b[0m \u001b[0;32mfrom\u001b[0m \u001b[0mbsmcalls\u001b[0m \u001b[0;32mimport\u001b[0m \u001b[0mresources\u001b[0m\u001b[0;34m\u001b[0m\u001b[0;34m\u001b[0m\u001b[0m\n",
      "\u001b[0;32m~/projects/bsm/src/bsmcalls/SNPnexus.py\u001b[0m in \u001b[0;36m<module>\u001b[0;34m\u001b[0m\n\u001b[1;32m      9\u001b[0m \u001b[0;32mimport\u001b[0m \u001b[0mensembl_rest\u001b[0m\u001b[0;34m\u001b[0m\u001b[0;34m\u001b[0m\u001b[0m\n\u001b[1;32m     10\u001b[0m \u001b[0;32mimport\u001b[0m \u001b[0mpickle\u001b[0m\u001b[0;34m\u001b[0m\u001b[0;34m\u001b[0m\u001b[0m\n\u001b[0;32m---> 11\u001b[0;31m \u001b[0;32mfrom\u001b[0m \u001b[0mbsmcalls\u001b[0m \u001b[0;32mimport\u001b[0m \u001b[0mindividuals\u001b[0m\u001b[0;34m\u001b[0m\u001b[0;34m\u001b[0m\u001b[0m\n\u001b[0m\u001b[1;32m     12\u001b[0m \u001b[0;34m\u001b[0m\u001b[0m\n\u001b[1;32m     13\u001b[0m \u001b[0;31m# TODO: GTEx\u001b[0m\u001b[0;34m\u001b[0m\u001b[0;34m\u001b[0m\u001b[0;34m\u001b[0m\u001b[0m\n",
      "\u001b[0;32m~/projects/bsm/src/bsmcalls/individuals.py\u001b[0m in \u001b[0;36m<module>\u001b[0;34m\u001b[0m\n\u001b[1;32m     34\u001b[0m     \u001b[0;32mreturn\u001b[0m\u001b[0;34m(\u001b[0m\u001b[0mclinical\u001b[0m\u001b[0;34m)\u001b[0m\u001b[0;34m\u001b[0m\u001b[0;34m\u001b[0m\u001b[0m\n\u001b[1;32m     35\u001b[0m \u001b[0;34m\u001b[0m\u001b[0m\n\u001b[0;32m---> 36\u001b[0;31m \u001b[0;32mdef\u001b[0m \u001b[0mread_walsh_clinical\u001b[0m\u001b[0;34m(\u001b[0m\u001b[0mclin\u001b[0m\u001b[0;34m=\u001b[0m\u001b[0mread_clinical\u001b[0m\u001b[0;34m(\u001b[0m\u001b[0;34m)\u001b[0m\u001b[0;34m,\u001b[0m \u001b[0mindIDs\u001b[0m\u001b[0;34m=\u001b[0m\u001b[0mnp\u001b[0m\u001b[0;34m.\u001b[0m\u001b[0mloadtxt\u001b[0m\u001b[0;34m(\u001b[0m\u001b[0mwalsh_vcfs_path\u001b[0m\u001b[0;34m,\u001b[0m \u001b[0mdtype\u001b[0m\u001b[0;34m=\u001b[0m\u001b[0mstr\u001b[0m\u001b[0;34m)\u001b[0m\u001b[0;34m[\u001b[0m\u001b[0;34m:\u001b[0m\u001b[0;34m,\u001b[0m \u001b[0;36m0\u001b[0m\u001b[0;34m]\u001b[0m\u001b[0;34m)\u001b[0m\u001b[0;34m:\u001b[0m\u001b[0;34m\u001b[0m\u001b[0;34m\u001b[0m\u001b[0m\n\u001b[0m\u001b[1;32m     37\u001b[0m     '''\n\u001b[1;32m     38\u001b[0m     \u001b[0mRead\u001b[0m \u001b[0mgenomic_subject\u001b[0m \u001b[0;32mfor\u001b[0m \u001b[0mthe\u001b[0m \u001b[0mWalsh\u001b[0m \u001b[0mdata\u001b[0m \u001b[0;32mand\u001b[0m \u001b[0mformat\u001b[0m \u001b[0mit\u001b[0m \u001b[0mlike\u001b[0m \u001b[0mCMC\u001b[0m \u001b[0mclinical\u001b[0m\u001b[0;34m\u001b[0m\u001b[0;34m\u001b[0m\u001b[0m\n",
      "\u001b[0;32m~/projects/bsm/src/bsmcalls/individuals.py\u001b[0m in \u001b[0;36mread_clinical\u001b[0;34m(ancestry)\u001b[0m\n\u001b[1;32m     28\u001b[0m     \u001b[0mclinical\u001b[0m \u001b[0;34m=\u001b[0m \u001b[0mpd\u001b[0m\u001b[0;34m.\u001b[0m\u001b[0mread_csv\u001b[0m\u001b[0;34m(\u001b[0m\u001b[0mfpath\u001b[0m\u001b[0;34m,\u001b[0m \u001b[0mindex_col\u001b[0m\u001b[0;34m=\u001b[0m\u001b[0;34m'Individual ID'\u001b[0m\u001b[0;34m)\u001b[0m\u001b[0;34m\u001b[0m\u001b[0;34m\u001b[0m\u001b[0m\n\u001b[1;32m     29\u001b[0m     \u001b[0;32mif\u001b[0m \u001b[0mancestry\u001b[0m\u001b[0;34m:\u001b[0m\u001b[0;34m\u001b[0m\u001b[0;34m\u001b[0m\u001b[0m\n\u001b[0;32m---> 30\u001b[0;31m         \u001b[0mancestry\u001b[0m \u001b[0;34m=\u001b[0m \u001b[0mpd\u001b[0m\u001b[0;34m.\u001b[0m\u001b[0mread_csv\u001b[0m\u001b[0;34m(\u001b[0m\u001b[0mcmc_ancestry_path\u001b[0m\u001b[0;34m,\u001b[0m \u001b[0msep\u001b[0m\u001b[0;34m=\u001b[0m\u001b[0;34m'\\t'\u001b[0m\u001b[0;34m,\u001b[0m \u001b[0mindex_col\u001b[0m\u001b[0;34m=\u001b[0m\u001b[0;34m'Individual_ID'\u001b[0m\u001b[0;34m)\u001b[0m\u001b[0;34m\u001b[0m\u001b[0;34m\u001b[0m\u001b[0m\n\u001b[0m\u001b[1;32m     31\u001b[0m         \u001b[0mancestry\u001b[0m \u001b[0;34m=\u001b[0m \u001b[0mancestry\u001b[0m\u001b[0;34m.\u001b[0m\u001b[0mdrop\u001b[0m\u001b[0;34m(\u001b[0m\u001b[0mcolumns\u001b[0m\u001b[0;34m=\u001b[0m\u001b[0;34m[\u001b[0m\u001b[0;34m'Genotyping_Sample_ID'\u001b[0m\u001b[0;34m,\u001b[0m \u001b[0;34m'Cluster'\u001b[0m\u001b[0;34m]\u001b[0m\u001b[0;34m)\u001b[0m\u001b[0;34m\u001b[0m\u001b[0;34m\u001b[0m\u001b[0m\n\u001b[1;32m     32\u001b[0m         \u001b[0mclinical\u001b[0m \u001b[0;34m=\u001b[0m \u001b[0mpd\u001b[0m\u001b[0;34m.\u001b[0m\u001b[0mconcat\u001b[0m\u001b[0;34m(\u001b[0m\u001b[0;34m[\u001b[0m\u001b[0mclinical\u001b[0m\u001b[0;34m,\u001b[0m \u001b[0mancestry\u001b[0m\u001b[0;34m]\u001b[0m\u001b[0;34m,\u001b[0m \u001b[0maxis\u001b[0m\u001b[0;34m=\u001b[0m\u001b[0;36m1\u001b[0m\u001b[0;34m)\u001b[0m\u001b[0;34m\u001b[0m\u001b[0;34m\u001b[0m\u001b[0m\n",
      "\u001b[0;32m~/anaconda3/lib/python3.7/site-packages/pandas/io/parsers.py\u001b[0m in \u001b[0;36mread_csv\u001b[0;34m(filepath_or_buffer, sep, delimiter, header, names, index_col, usecols, squeeze, prefix, mangle_dupe_cols, dtype, engine, converters, true_values, false_values, skipinitialspace, skiprows, skipfooter, nrows, na_values, keep_default_na, na_filter, verbose, skip_blank_lines, parse_dates, infer_datetime_format, keep_date_col, date_parser, dayfirst, cache_dates, iterator, chunksize, compression, thousands, decimal, lineterminator, quotechar, quoting, doublequote, escapechar, comment, encoding, dialect, error_bad_lines, warn_bad_lines, delim_whitespace, low_memory, memory_map, float_precision)\u001b[0m\n\u001b[1;32m    686\u001b[0m     )\n\u001b[1;32m    687\u001b[0m \u001b[0;34m\u001b[0m\u001b[0m\n\u001b[0;32m--> 688\u001b[0;31m     \u001b[0;32mreturn\u001b[0m \u001b[0m_read\u001b[0m\u001b[0;34m(\u001b[0m\u001b[0mfilepath_or_buffer\u001b[0m\u001b[0;34m,\u001b[0m \u001b[0mkwds\u001b[0m\u001b[0;34m)\u001b[0m\u001b[0;34m\u001b[0m\u001b[0;34m\u001b[0m\u001b[0m\n\u001b[0m\u001b[1;32m    689\u001b[0m \u001b[0;34m\u001b[0m\u001b[0m\n\u001b[1;32m    690\u001b[0m \u001b[0;34m\u001b[0m\u001b[0m\n",
      "\u001b[0;32m~/anaconda3/lib/python3.7/site-packages/pandas/io/parsers.py\u001b[0m in \u001b[0;36m_read\u001b[0;34m(filepath_or_buffer, kwds)\u001b[0m\n\u001b[1;32m    452\u001b[0m \u001b[0;34m\u001b[0m\u001b[0m\n\u001b[1;32m    453\u001b[0m     \u001b[0;31m# Create the parser.\u001b[0m\u001b[0;34m\u001b[0m\u001b[0;34m\u001b[0m\u001b[0;34m\u001b[0m\u001b[0m\n\u001b[0;32m--> 454\u001b[0;31m     \u001b[0mparser\u001b[0m \u001b[0;34m=\u001b[0m \u001b[0mTextFileReader\u001b[0m\u001b[0;34m(\u001b[0m\u001b[0mfp_or_buf\u001b[0m\u001b[0;34m,\u001b[0m \u001b[0;34m**\u001b[0m\u001b[0mkwds\u001b[0m\u001b[0;34m)\u001b[0m\u001b[0;34m\u001b[0m\u001b[0;34m\u001b[0m\u001b[0m\n\u001b[0m\u001b[1;32m    455\u001b[0m \u001b[0;34m\u001b[0m\u001b[0m\n\u001b[1;32m    456\u001b[0m     \u001b[0;32mif\u001b[0m \u001b[0mchunksize\u001b[0m \u001b[0;32mor\u001b[0m \u001b[0miterator\u001b[0m\u001b[0;34m:\u001b[0m\u001b[0;34m\u001b[0m\u001b[0;34m\u001b[0m\u001b[0m\n",
      "\u001b[0;32m~/anaconda3/lib/python3.7/site-packages/pandas/io/parsers.py\u001b[0m in \u001b[0;36m__init__\u001b[0;34m(self, f, engine, **kwds)\u001b[0m\n\u001b[1;32m    946\u001b[0m             \u001b[0mself\u001b[0m\u001b[0;34m.\u001b[0m\u001b[0moptions\u001b[0m\u001b[0;34m[\u001b[0m\u001b[0;34m\"has_index_names\"\u001b[0m\u001b[0;34m]\u001b[0m \u001b[0;34m=\u001b[0m \u001b[0mkwds\u001b[0m\u001b[0;34m[\u001b[0m\u001b[0;34m\"has_index_names\"\u001b[0m\u001b[0;34m]\u001b[0m\u001b[0;34m\u001b[0m\u001b[0;34m\u001b[0m\u001b[0m\n\u001b[1;32m    947\u001b[0m \u001b[0;34m\u001b[0m\u001b[0m\n\u001b[0;32m--> 948\u001b[0;31m         \u001b[0mself\u001b[0m\u001b[0;34m.\u001b[0m\u001b[0m_make_engine\u001b[0m\u001b[0;34m(\u001b[0m\u001b[0mself\u001b[0m\u001b[0;34m.\u001b[0m\u001b[0mengine\u001b[0m\u001b[0;34m)\u001b[0m\u001b[0;34m\u001b[0m\u001b[0;34m\u001b[0m\u001b[0m\n\u001b[0m\u001b[1;32m    949\u001b[0m \u001b[0;34m\u001b[0m\u001b[0m\n\u001b[1;32m    950\u001b[0m     \u001b[0;32mdef\u001b[0m \u001b[0mclose\u001b[0m\u001b[0;34m(\u001b[0m\u001b[0mself\u001b[0m\u001b[0;34m)\u001b[0m\u001b[0;34m:\u001b[0m\u001b[0;34m\u001b[0m\u001b[0;34m\u001b[0m\u001b[0m\n",
      "\u001b[0;32m~/anaconda3/lib/python3.7/site-packages/pandas/io/parsers.py\u001b[0m in \u001b[0;36m_make_engine\u001b[0;34m(self, engine)\u001b[0m\n\u001b[1;32m   1178\u001b[0m     \u001b[0;32mdef\u001b[0m \u001b[0m_make_engine\u001b[0m\u001b[0;34m(\u001b[0m\u001b[0mself\u001b[0m\u001b[0;34m,\u001b[0m \u001b[0mengine\u001b[0m\u001b[0;34m=\u001b[0m\u001b[0;34m\"c\"\u001b[0m\u001b[0;34m)\u001b[0m\u001b[0;34m:\u001b[0m\u001b[0;34m\u001b[0m\u001b[0;34m\u001b[0m\u001b[0m\n\u001b[1;32m   1179\u001b[0m         \u001b[0;32mif\u001b[0m \u001b[0mengine\u001b[0m \u001b[0;34m==\u001b[0m \u001b[0;34m\"c\"\u001b[0m\u001b[0;34m:\u001b[0m\u001b[0;34m\u001b[0m\u001b[0;34m\u001b[0m\u001b[0m\n\u001b[0;32m-> 1180\u001b[0;31m             \u001b[0mself\u001b[0m\u001b[0;34m.\u001b[0m\u001b[0m_engine\u001b[0m \u001b[0;34m=\u001b[0m \u001b[0mCParserWrapper\u001b[0m\u001b[0;34m(\u001b[0m\u001b[0mself\u001b[0m\u001b[0;34m.\u001b[0m\u001b[0mf\u001b[0m\u001b[0;34m,\u001b[0m \u001b[0;34m**\u001b[0m\u001b[0mself\u001b[0m\u001b[0;34m.\u001b[0m\u001b[0moptions\u001b[0m\u001b[0;34m)\u001b[0m\u001b[0;34m\u001b[0m\u001b[0;34m\u001b[0m\u001b[0m\n\u001b[0m\u001b[1;32m   1181\u001b[0m         \u001b[0;32melse\u001b[0m\u001b[0;34m:\u001b[0m\u001b[0;34m\u001b[0m\u001b[0;34m\u001b[0m\u001b[0m\n\u001b[1;32m   1182\u001b[0m             \u001b[0;32mif\u001b[0m \u001b[0mengine\u001b[0m \u001b[0;34m==\u001b[0m \u001b[0;34m\"python\"\u001b[0m\u001b[0;34m:\u001b[0m\u001b[0;34m\u001b[0m\u001b[0;34m\u001b[0m\u001b[0m\n",
      "\u001b[0;32m~/anaconda3/lib/python3.7/site-packages/pandas/io/parsers.py\u001b[0m in \u001b[0;36m__init__\u001b[0;34m(self, src, **kwds)\u001b[0m\n\u001b[1;32m   2008\u001b[0m         \u001b[0mkwds\u001b[0m\u001b[0;34m[\u001b[0m\u001b[0;34m\"usecols\"\u001b[0m\u001b[0;34m]\u001b[0m \u001b[0;34m=\u001b[0m \u001b[0mself\u001b[0m\u001b[0;34m.\u001b[0m\u001b[0musecols\u001b[0m\u001b[0;34m\u001b[0m\u001b[0;34m\u001b[0m\u001b[0m\n\u001b[1;32m   2009\u001b[0m \u001b[0;34m\u001b[0m\u001b[0m\n\u001b[0;32m-> 2010\u001b[0;31m         \u001b[0mself\u001b[0m\u001b[0;34m.\u001b[0m\u001b[0m_reader\u001b[0m \u001b[0;34m=\u001b[0m \u001b[0mparsers\u001b[0m\u001b[0;34m.\u001b[0m\u001b[0mTextReader\u001b[0m\u001b[0;34m(\u001b[0m\u001b[0msrc\u001b[0m\u001b[0;34m,\u001b[0m \u001b[0;34m**\u001b[0m\u001b[0mkwds\u001b[0m\u001b[0;34m)\u001b[0m\u001b[0;34m\u001b[0m\u001b[0;34m\u001b[0m\u001b[0m\n\u001b[0m\u001b[1;32m   2011\u001b[0m         \u001b[0mself\u001b[0m\u001b[0;34m.\u001b[0m\u001b[0munnamed_cols\u001b[0m \u001b[0;34m=\u001b[0m \u001b[0mself\u001b[0m\u001b[0;34m.\u001b[0m\u001b[0m_reader\u001b[0m\u001b[0;34m.\u001b[0m\u001b[0munnamed_cols\u001b[0m\u001b[0;34m\u001b[0m\u001b[0;34m\u001b[0m\u001b[0m\n\u001b[1;32m   2012\u001b[0m \u001b[0;34m\u001b[0m\u001b[0m\n",
      "\u001b[0;32mpandas/_libs/parsers.pyx\u001b[0m in \u001b[0;36mpandas._libs.parsers.TextReader.__cinit__\u001b[0;34m()\u001b[0m\n",
      "\u001b[0;32mpandas/_libs/parsers.pyx\u001b[0m in \u001b[0;36mpandas._libs.parsers.TextReader._setup_parser_source\u001b[0;34m()\u001b[0m\n",
      "\u001b[0;31mFileNotFoundError\u001b[0m: [Errno 2] No such file or directory: '/home/attila/projects/bsm/resources/cmc-ancestry/CMC_MSSM-Penn-Pitt_DNA_GENOTYPE_ANCESTRY_GemTools.tsv'"
     ]
    }
   ],
   "source": [
    "%load_ext autoreload\n",
    "%autoreload 2\n",
    "%reload_ext autoreload\n",
    "from matplotlib import pyplot as plt\n",
    "import pandas as pd\n",
    "import numpy as np\n",
    "import attila_utils\n",
    "from bsmcalls import SNPnexus\n",
    "from bsmcalls import operations\n",
    "from bsmcalls import resources\n",
    "from bsmcalls import individuals\n",
    "from bsmcalls import stats as bsmstats\n",
    "import statsmodels.api as sm\n",
    "import seaborn as sns\n",
    "import statsmodels.api as sm\n",
    "import statsmodels.formula.api as smf\n",
    "from statsmodels import graphics as smg\n",
    "from statsmodels.graphics import regressionplots\n",
    "import patsy\n",
    "%matplotlib inline"
   ]
  },
  {
   "cell_type": "code",
   "execution_count": null,
   "metadata": {},
   "outputs": [],
   "source": [
    "data = SNPnexus.load_data('/home/attila/projects/bsm/results/2020-09-07-annotations/annotated-calls.p')\n",
    "clozukpath = '/home/attila/projects/bsm/resources/CLOZUK/supp-table-4.csv'\n",
    "gwasgenes = operations.get_geneset(df=pd.read_csv(clozukpath, skiprows=7), col='Gene(s) tagged')"
   ]
  },
  {
   "cell_type": "code",
   "execution_count": null,
   "metadata": {
    "scrolled": true
   },
   "outputs": [],
   "source": [
    "# near_gens\n",
    "querydict = {'near_gens_Annotation': ['coding nonsyn', 'coding syn', 'missense', 'stop-gain', 'intronic (splice_site)'],\n",
    "             'ensembl_Predicted Function': ['coding'],\n",
    "             'sift_Prediction': ['Deleterious', 'Deleterious - Low Confidence'],\n",
    "             'polyphen_Prediction': ['Probably Damaging', 'Possibly Damaging'],\n",
    "             'tfbs_TFBS Name': None,\n",
    "             'phast_Score': None,\n",
    "             'gerp_Element RS Score': None,\n",
    "             'cpg_CpG Island': None,\n",
    "             'near_gens_Overlapped Gene': {'SCZ GWAS genes': gwasgenes},\n",
    "            }\n",
    "results = operations.multiquery(querydict, data, do_sum=False, do_sort=False)\n",
    "summary = operations.summarize_query_results(results, data, chisq=False, margin=False)\n",
    "summary#.style.bar(subset='chisq stat')"
   ]
  },
  {
   "cell_type": "code",
   "execution_count": null,
   "metadata": {},
   "outputs": [],
   "source": [
    "d = {'ncalls': data.groupby('Dx').size(), 'nsamples': individuals.get_nsamples(results)}\n",
    "dfd = {k: operations.chisquare_summary(summary, expected_odds, append=False) for k, expected_odds in d.items()}\n",
    "dfl = [pd.DataFrame(df.to_numpy(), columns=pd.MultiIndex.from_product([[k], df.columns]), index=df.index) for k, df in dfd.items()]\n",
    "df = pd.concat(dfl, axis=1)\n",
    "df"
   ]
  },
  {
   "cell_type": "code",
   "execution_count": null,
   "metadata": {},
   "outputs": [],
   "source": [
    "%matplotlib inline\n",
    "fig, ax = plt.subplots(1, 2, sharey=True)\n",
    "d['ncalls'].plot(kind='barh', ax=ax[0])\n",
    "pd.Series(d['nsamples']).plot(kind='barh', ax=ax[1])\n",
    "ax[0].set_title('Genomewide calls')\n",
    "ax[1].set_title('Individuals')"
   ]
  },
  {
   "cell_type": "markdown",
   "metadata": {},
   "source": [
    "## Limitations of the $\\chi^2$ test\n",
    "\n",
    "* univariate: it doesn't allow easy analysis of joint effects of multiple features\n",
    "* counts of calls are the only possible variable to model\n",
    "\n",
    "### Example: calls weighted by allele frequency\n",
    "\n",
    "This piece of analysis shows that weighting each call with its allele frequency decreases significance of the $\\chi^2$ test since the $\\mathrm{AF} < 1$ (moreover $\\mathrm{AF} \\ll 1$ for most calls)."
   ]
  },
  {
   "cell_type": "code",
   "execution_count": null,
   "metadata": {},
   "outputs": [],
   "source": [
    "wncalls = data.groupby('Dx')['AF'].sum()\n",
    "wresults = results.drop(('Dx', ), axis=1).astype('int16').apply(lambda x: x * data['AF'], axis=0)\n",
    "operations.chisquare_summary(summary, expected_odds=wncalls, append=False)"
   ]
  },
  {
   "cell_type": "markdown",
   "metadata": {},
   "source": [
    "## DataFrame for regression: `fitdata`"
   ]
  },
  {
   "cell_type": "code",
   "execution_count": null,
   "metadata": {},
   "outputs": [],
   "source": [
    "selcols = ['DP', 'BaseQRankSum', 'AF']\n",
    "covariates = data[selcols].groupby('Individual ID').mean()\n",
    "selcols_indiv = ['Dx', 'ageOfDeath', 'Dataset']\n",
    "covariates[selcols_indiv] = data[selcols_indiv].groupby('Individual ID').first()\n",
    "covariates['ncalls'] = data.groupby('Individual ID').size()\n",
    "covariates = pd.concat([covariates, covariates['ncalls'].apply(np.log10).rename('log10_ncalls')], axis=1)\n",
    "covariates"
   ]
  },
  {
   "cell_type": "code",
   "execution_count": null,
   "metadata": {},
   "outputs": [],
   "source": [
    "Dxs = pd.Categorical(results[('Dx', )].groupby('Individual ID').first(), categories=results[('Dx', )].cat.categories)\n",
    "responses = results.drop(('Dx',), axis=1).groupby('Individual ID').sum()\n",
    "prettynames = ['coding_nonsyn', 'coding_syn', 'missense', 'stop_gain', 'splice_site', 'coding', 'deleterious', 'deleterious_low_confidence', 'probably_damaging', 'possibly_damaging', 'tfbs', 'phast', 'gerp', 'cpg_island', 'scz_gwas_genes']\n",
    "responses.columns = prettynames\n",
    "responses.info()"
   ]
  },
  {
   "cell_type": "code",
   "execution_count": null,
   "metadata": {},
   "outputs": [],
   "source": [
    "responses_prop = responses.apply(lambda x: x / covariates['ncalls'], axis=0).rename(lambda x: 'prop_' + x, axis=1)"
   ]
  },
  {
   "cell_type": "code",
   "execution_count": null,
   "metadata": {},
   "outputs": [],
   "source": [
    "fitdata = pd.concat([responses, covariates], axis=1)"
   ]
  },
  {
   "cell_type": "markdown",
   "metadata": {},
   "source": [
    "df = pd.DataFrame(data.groupby('Individual ID').size(), columns=['ncalls'])\n",
    "df['ncalls_scz_gwas_genes'] = results[('near_gens_Overlapped Gene', 'SCZ GWAS genes')].groupby('Individual ID').sum()\n",
    "df['fcalls_scz_gwas_genes'] = df['ncalls_scz_gwas_genes'] / df['ncalls']\n",
    "selindivcols = ['Dx', 'ageOfDeath']\n",
    "df[selindivcols] = data[selindivcols].groupby('Individual ID').first()\n",
    "selcols = ['DP', 'BaseQRankSum', 'AF']\n",
    "df[selcols] = data[selcols].groupby('Individual ID').mean()\n",
    "scz_gwas_genes = df\n",
    "scz_gwas_genes"
   ]
  },
  {
   "cell_type": "markdown",
   "metadata": {},
   "source": [
    "### Pairwise joint distributions\n",
    "\n",
    "* No two variables show extremely tight dependence which implies limited collinearity in a normal or generalized linear model.\n",
    "* The fraction of calls `fcalls_scz_gwas_genes` has very high variance when the total number of calls for an individual is low. This is undesirable."
   ]
  },
  {
   "cell_type": "code",
   "execution_count": null,
   "metadata": {},
   "outputs": [],
   "source": [
    "df = pd.concat([responses['scz_gwas_genes'], responses_prop['prop_scz_gwas_genes'], covariates], axis=1)\n",
    "ax = pd.plotting.scatter_matrix(df, figsize=(15, 15))"
   ]
  },
  {
   "cell_type": "code",
   "execution_count": null,
   "metadata": {},
   "outputs": [],
   "source": [
    "fig, ax = plt.subplots()\n",
    "for Dx in ['Control', 'SCZ', 'ASD']:\n",
    "    ax.scatter(x='ncalls', y='scz_gwas_genes', data=fitdata.loc[fitdata['Dx'] == Dx], label=Dx)\n",
    "ax.legend()"
   ]
  },
  {
   "cell_type": "markdown",
   "metadata": {},
   "source": [
    "## Multiple features/functional categories"
   ]
  },
  {
   "cell_type": "code",
   "execution_count": null,
   "metadata": {},
   "outputs": [],
   "source": [
    "Dxs = fitdata['Dx'].copy()\n",
    "Dxcol = Dxs.cat.rename_categories(['C0', 'C1', 'C2'])\n",
    "\n",
    "def foo(responses, covariates, Dxcol, dropASD=True):\n",
    "    covariates = covariates.select_dtypes(exclude='category')\n",
    "    if dropASD:\n",
    "        responses = responses.loc[Dxcol != 'C2']\n",
    "        covariates = covariates.loc[Dxcol != 'C2']\n",
    "        Dxcol = Dxcol[Dxcol != 'C2']\n",
    "\n",
    "    nresp = responses.shape[1]\n",
    "    ncovar = covariates.shape[1]\n",
    "    fig, ax = plt.subplots(nresp, ncovar, sharey=False, figsize=(ncovar * 2, nresp * 2))\n",
    "    for i, row in zip(range(nresp), responses.columns):\n",
    "        response = responses[row]\n",
    "        ax[i, 0].set_ylabel(row, rotation='horizontal', horizontalalignment='right')\n",
    "        for j, col in zip(range(ncovar), covariates.columns):\n",
    "            if i == 0:\n",
    "                ax[i, j].set_title(col)\n",
    "            if i == nresp - 1:\n",
    "                ax[i, j].set_xlabel(col)\n",
    "            ax[i, j].scatter(y=response, x=covariates[col], marker='|', c=Dxcol)\n",
    "\n",
    "foo(responses, covariates, Dxcol, False)"
   ]
  },
  {
   "cell_type": "code",
   "execution_count": null,
   "metadata": {},
   "outputs": [],
   "source": [
    "foo(responses_prop, covariates, Dxcol, False)"
   ]
  },
  {
   "cell_type": "markdown",
   "metadata": {},
   "source": [
    "### More transformations"
   ]
  },
  {
   "cell_type": "code",
   "execution_count": null,
   "metadata": {},
   "outputs": [],
   "source": [
    "%matplotlib inline\n",
    "features = ['DP', 'AF']\n",
    "fig, ax = plt.subplots(len(features), 2, figsize=(10, 10), sharey=True)\n",
    "for i, feature in zip(range(len(features)), features):\n",
    "    ax[i, 0].scatter(y=responses['scz_gwas_genes'], x=covariates[feature], marker='|')\n",
    "    ax[i, 0].set_ylabel('scz_gwas_genes')\n",
    "    ax[i, 0].set_xlabel(feature)\n",
    "    ax[i, 1].scatter(y=responses['scz_gwas_genes'], x=np.log10(covariates[feature]), marker='|')\n",
    "    ax[i, 1].set_xlabel('$\\log_{10}$ ' + feature)"
   ]
  },
  {
   "cell_type": "markdown",
   "metadata": {},
   "source": [
    "## Fitting models\n",
    "\n",
    "### Training data\n",
    "First simplify column names and create data matrix"
   ]
  },
  {
   "cell_type": "code",
   "execution_count": null,
   "metadata": {},
   "outputs": [],
   "source": [
    "fitdata = pd.concat([responses, covariates], axis=1)\n",
    "fitdata['Dx'] = Dxs\n",
    "endog = responses\n",
    "exog0 = fitdata.drop(prettynames + ['ncalls'], axis=1)\n",
    "exog1 = fitdata.drop(prettynames + ['log10_ncalls'], axis=1)"
   ]
  },
  {
   "cell_type": "code",
   "execution_count": null,
   "metadata": {},
   "outputs": [],
   "source": [
    "def endog_binomial(feature, fitdata=fitdata, proportion=False):\n",
    "    success = fitdata[feature]\n",
    "    if proportion:\n",
    "        prop = success / fitdata['ncalls']\n",
    "        return(prop)\n",
    "    failure = fitdata['ncalls'] - success\n",
    "    complement = 'NOT_' + feature\n",
    "    df = pd.DataFrame({feature: success, complement: failure})\n",
    "    return(df)"
   ]
  },
  {
   "cell_type": "markdown",
   "metadata": {},
   "source": [
    "### Log linear (Poisson) models"
   ]
  },
  {
   "cell_type": "code",
   "execution_count": null,
   "metadata": {},
   "outputs": [],
   "source": [
    "formula = 'scz_gwas_genes ~ Dx'\n",
    "y0, X0 = patsy.dmatrices(formula, data=fitdata, return_type='dataframe')\n",
    "pois0 = sm.GLM(endog=y0, exog=X0, family=sm.families.Poisson()).fit()"
   ]
  },
  {
   "cell_type": "code",
   "execution_count": null,
   "metadata": {},
   "outputs": [],
   "source": [
    "formula = 'scz_gwas_genes ~ Dx + log10_ncalls'\n",
    "y1, X1 = patsy.dmatrices(formula, data=fitdata, return_type='dataframe')\n",
    "pois1 = sm.GLM(endog=y1, exog=X1, family=sm.families.Poisson()).fit()"
   ]
  },
  {
   "cell_type": "code",
   "execution_count": null,
   "metadata": {},
   "outputs": [],
   "source": [
    "%matplotlib inline\n",
    "fig, ax = plt.subplots(figsize=(6, 6))\n",
    "left = fitdata['log10_ncalls'].min()\n",
    "right = fitdata['log10_ncalls'].max()\n",
    "log10_ncalls_test = np.linspace(left, right)\n",
    "Dxd = {'Control': (0, 0), 'SCZ': (1, 0), 'ASD': (0, 1)}\n",
    "for color, Dx in zip(['C0', 'C1', 'C2'], fitdata['Dx'].cat.categories):\n",
    "    y0_pred = pois0.predict([1, *Dxd[Dx]])\n",
    "    ax.plot([left, right], [y0_pred] * 2, linestyle='solid', label=Dx + '0')\n",
    "    X_test = pd.DataFrame(dict(zip(X1.columns, [1, *Dxd[Dx], log10_ncalls_test])))\n",
    "    ax.scatter(x='log10_ncalls', y='scz_gwas_genes', data=fitdata.loc[fitdata['Dx'] == Dx], marker='|', color=color)\n",
    "    ax.plot(log10_ncalls_test, pois1.predict(X_test), color=color, label=Dx)\n",
    "ax.legend(Dxd.keys())"
   ]
  },
  {
   "cell_type": "code",
   "execution_count": null,
   "metadata": {},
   "outputs": [],
   "source": [
    "fig, ax = plt.subplots(1, 2, figsize=(12, 6))\n",
    "g = pois1.plot_partial_residuals('log10_ncalls', ax=ax[0])\n",
    "g = pois1.plot_partial_residuals('log10_ncalls', ax=ax[1])\n",
    "ax[1].set_ylim(0, 10)"
   ]
  },
  {
   "cell_type": "markdown",
   "metadata": {},
   "source": [
    "### Poisson model results"
   ]
  },
  {
   "cell_type": "code",
   "execution_count": null,
   "metadata": {},
   "outputs": [],
   "source": [
    "formula = 'scz_gwas_genes ~ Dx + log10_ncalls + DP'\n",
    "y2, X2 = patsy.dmatrices(formula, data=fitdata, return_type='dataframe')\n",
    "pois2 = sm.GLM(endog=y2, exog=X2, family=sm.families.Poisson()).fit()"
   ]
  },
  {
   "cell_type": "code",
   "execution_count": null,
   "metadata": {},
   "outputs": [],
   "source": [
    "formula = 'scz_gwas_genes ~ Dx + log10_ncalls + np.log(DP)'\n",
    "y2b, X2b = patsy.dmatrices(formula, data=fitdata, return_type='dataframe')\n",
    "pois2b = sm.GLM(endog=y2b, exog=X2b, family=sm.families.Poisson()).fit()"
   ]
  },
  {
   "cell_type": "markdown",
   "metadata": {},
   "source": [
    "The residual deviance of the two models are very close to each other"
   ]
  },
  {
   "cell_type": "code",
   "execution_count": null,
   "metadata": {},
   "outputs": [],
   "source": [
    "pd.DataFrame({'pois2': pois2.deviance, 'pois2b': pois2b.deviance}, index=['deviance'])"
   ]
  },
  {
   "cell_type": "markdown",
   "metadata": {},
   "source": [
    "The p-values of the two models are very close to each other"
   ]
  },
  {
   "cell_type": "code",
   "execution_count": null,
   "metadata": {},
   "outputs": [],
   "source": [
    "pd.DataFrame({'pois2': pois2.pvalues, 'pois2b': pois2b.pvalues})"
   ]
  },
  {
   "cell_type": "code",
   "execution_count": null,
   "metadata": {},
   "outputs": [],
   "source": [
    "formula = 'scz_gwas_genes ~ Dx + log10_ncalls + DP + AF + ageOfDeath + Dataset'\n",
    "y, X = patsy.dmatrices(formula, data=fitdata, return_type='dataframe')\n",
    "pois = sm.GLM(endog=y, exog=X, family=sm.families.Poisson()).fit()\n",
    "pois.summary()"
   ]
  },
  {
   "cell_type": "markdown",
   "metadata": {},
   "source": [
    "### Logistic regression (binomial error model)\n",
    "\n",
    "#### Full model"
   ]
  },
  {
   "cell_type": "code",
   "execution_count": null,
   "metadata": {},
   "outputs": [],
   "source": [
    "formula = 'Dx + DP + AF + ageOfDeath + Dataset'\n",
    "X = patsy.dmatrix(formula, data=fitdata, return_type='dataframe')"
   ]
  },
  {
   "cell_type": "markdown",
   "metadata": {},
   "source": [
    "Response can be given as either:\n",
    "1. counts of both success and failure\n",
    "1. proportions"
   ]
  },
  {
   "cell_type": "code",
   "execution_count": null,
   "metadata": {},
   "outputs": [],
   "source": [
    "success_failure = endog_binomial('scz_gwas_genes', fitdata, False)\n",
    "proportion = endog_binomial('scz_gwas_genes', fitdata, proportion=True)\n",
    "pd.concat([success_failure, proportion, fitdata['ncalls']], axis=1).rename({0: 'proportion'}, axis=1)"
   ]
  },
  {
   "cell_type": "markdown",
   "metadata": {},
   "source": [
    "When using proportion type response then the total number of calls `fitdata['ncalls']` must be passed as `var_weights` to `GLM`.  Note that the two fits result in the same parameter estimates."
   ]
  },
  {
   "cell_type": "code",
   "execution_count": null,
   "metadata": {},
   "outputs": [],
   "source": [
    "# Method: response is a success failure pair\n",
    "mod = sm.GLM(endog=success_failure, exog=X, family=sm.families.Binomial()).fit()\n",
    "# Method 2: response is a proportion; var_weights must be specified\n",
    "mod_p = sm.GLM(endog=proportion, exog=X, family=sm.families.Binomial(), var_weights=fitdata['ncalls']).fit()\n",
    "# Check if parameter estimates are identical\n",
    "all(mod.params == mod_p.params)"
   ]
  },
  {
   "cell_type": "code",
   "execution_count": null,
   "metadata": {},
   "outputs": [],
   "source": [
    "mod.summary()"
   ]
  },
  {
   "cell_type": "markdown",
   "metadata": {},
   "source": [
    "#### Intermediate model"
   ]
  },
  {
   "cell_type": "code",
   "execution_count": null,
   "metadata": {},
   "outputs": [],
   "source": [
    "formula = 'Dx + ageOfDeath + Dataset'\n",
    "X1 = patsy.dmatrix(formula, data=fitdata, return_type='dataframe')\n",
    "mod1 = sm.GLM(endog=success_failure, exog=X1, family=sm.families.Binomial()).fit()\n",
    "mod1.summary()"
   ]
  },
  {
   "cell_type": "markdown",
   "metadata": {},
   "source": [
    "#### Minimal model"
   ]
  },
  {
   "cell_type": "code",
   "execution_count": null,
   "metadata": {},
   "outputs": [],
   "source": [
    "formula = 'Dx + ageOfDeath'\n",
    "X0 = patsy.dmatrix(formula, data=fitdata, return_type='dataframe')\n",
    "mod0 = sm.GLM(endog=success_failure, exog=X0, family=sm.families.Binomial()).fit()\n",
    "mod0.summary()"
   ]
  },
  {
   "cell_type": "code",
   "execution_count": null,
   "metadata": {},
   "outputs": [],
   "source": [
    "%matplotlib inline\n",
    "fig, ax = plt.subplots(1, 2, figsize=(12, 6))\n",
    "ageOfDeath_test = np.arange(0, 120)\n",
    "#X_test = pd.DataFrame(dict(zip(X0.columns, [1, 0, 0, ageOfDeath_test])))\n",
    "for color, Dx in zip(['C0', 'C1', 'C2'], fitdata['Dx'].cat.categories):\n",
    "    X_test = pd.DataFrame(dict(zip(X0.columns, [1, *Dxd[Dx], ageOfDeath_test])))\n",
    "    def myscatter(ax):\n",
    "        return(ax.scatter(y=proportion.loc[fitdata['Dx'] == Dx], x=fitdata.loc[fitdata['Dx'] == Dx, 'ageOfDeath'], marker='|', color=color))\n",
    "    def myplot(ax):\n",
    "        return(ax.plot(ageOfDeath_test, mod0.predict(X_test), color=color, label=Dx))\n",
    "    myscatter(ax[0])\n",
    "    myplot(ax[0])\n",
    "    myscatter(ax[1])\n",
    "    myplot(ax[1])\n",
    "    ax[0].set_ylabel('ncalls in scz_gwas_genes / ncalls')\n",
    "    ax[0].set_xlabel('ageOfDeath')\n",
    "    ax[0].legend()\n",
    "    ax[1].set_ylabel('ncalls in scz_gwas_genes / ncalls')\n",
    "    ax[1].set_xlabel('ageOfDeath')\n",
    "    ax[1].legend()\n",
    "    ax[1].set_ylim([-0.01, 0.10])"
   ]
  },
  {
   "cell_type": "markdown",
   "metadata": {},
   "source": [
    "## Other features"
   ]
  },
  {
   "cell_type": "code",
   "execution_count": null,
   "metadata": {},
   "outputs": [],
   "source": [
    "formula = 'Dx + DP + AF + ageOfDeath + Dataset'\n",
    "X = patsy.dmatrix(formula, data=fitdata, return_type='dataframe')\n",
    "endognames = ['coding_nonsyn', 'coding_syn', 'coding', 'deleterious', 'deleterious_low_confidence', 'probably_damaging', 'possibly_damaging', 'tfbs', 'phast', 'gerp', 'cpg_island', 'scz_gwas_genes']\n",
    "proportions = {endog: endog_binomial(endog, fitdata, proportion=True) for endog in endognames}\n",
    "mods = {endog: sm.GLM(endog=proportions[endog], exog=X, family=sm.families.Binomial(), var_weights=fitdata['ncalls']).fit() for endog in proportions.keys()}"
   ]
  },
  {
   "cell_type": "code",
   "execution_count": null,
   "metadata": {},
   "outputs": [],
   "source": [
    "%matplotlib inline\n",
    "def my_dotplot(feature):\n",
    "    tvalues = pd.Series({endog: mods[endog].tvalues[feature] for endog in mods.keys()})\n",
    "    pvalues = pd.Series({endog: mods[endog].pvalues[feature] for endog in mods.keys()})\n",
    "    fig, ax = plt.subplots(1, 2, figsize=(10, 5))\n",
    "    fig.suptitle(feature + ' significance')\n",
    "    ax[0].plot([0, 0], [0, 12])\n",
    "    g = smg.dotplots.dot_plot(tvalues, lines=tvalues.index, ax=ax[0])\n",
    "    ax[0].set_xlim(np.array([-1, 1]) * 1.1 * tvalues.abs().max())\n",
    "    ax[0].set_xlabel('t-value')\n",
    "    g = smg.dotplots.dot_plot(pvalues, lines=pvalues.index, ax=ax[1], show_names='right')\n",
    "    ax[1].set_xscale('log')\n",
    "    ax[1].set_xlabel('p-value')\n",
    "    return((fig, ax))\n",
    "\n",
    "fig, ax = my_dotplot('Dx[T.SCZ]')"
   ]
  },
  {
   "cell_type": "code",
   "execution_count": null,
   "metadata": {},
   "outputs": [],
   "source": [
    "fig, ax = my_dotplot('Dx[T.ASD]')"
   ]
  },
  {
   "cell_type": "code",
   "execution_count": null,
   "metadata": {},
   "outputs": [],
   "source": [
    "fig, ax = my_dotplot('ageOfDeath')"
   ]
  },
  {
   "cell_type": "code",
   "execution_count": null,
   "metadata": {},
   "outputs": [],
   "source": [
    "%connect_info"
   ]
  },
  {
   "cell_type": "code",
   "execution_count": null,
   "metadata": {},
   "outputs": [],
   "source": []
  }
 ],
 "metadata": {
  "kernelspec": {
   "display_name": "Python 3",
   "language": "python",
   "name": "python3"
  },
  "language_info": {
   "codemirror_mode": {
    "name": "ipython",
    "version": 3
   },
   "file_extension": ".py",
   "mimetype": "text/x-python",
   "name": "python",
   "nbconvert_exporter": "python",
   "pygments_lexer": "ipython3",
   "version": "3.7.6"
  }
 },
 "nbformat": 4,
 "nbformat_minor": 4
}
