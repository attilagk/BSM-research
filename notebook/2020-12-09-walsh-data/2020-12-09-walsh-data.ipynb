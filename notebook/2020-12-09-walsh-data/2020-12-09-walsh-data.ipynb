{
 "cells": [
  {
   "cell_type": "markdown",
   "metadata": {},
   "source": [
    "Annotating and reading the Walsh lab data that was uniformly processed by Taejeon Bae using the bsmn-pipeline.  The number of calls per sample is unexpectedly high in this data set: much higher than reported by Rodin et al (see https://www.biorxiv.org/content/10.1101/2020.02.11.944413v1), who used MosaicForecast instead of the bsmn-pipeline."
   ]
  },
  {
   "cell_type": "code",
   "execution_count": 1,
   "metadata": {},
   "outputs": [],
   "source": [
    "%load_ext autoreload\n",
    "%autoreload 2\n",
    "%reload_ext autoreload\n",
    "from matplotlib import pyplot as plt\n",
    "import pandas as pd\n",
    "import numpy as np\n",
    "import attila_utils\n",
    "from bsmcalls import readVCF, individuals, preprocessing\n",
    "import attila_utils\n",
    "%matplotlib inline"
   ]
  },
  {
   "cell_type": "code",
   "execution_count": 2,
   "metadata": {},
   "outputs": [],
   "source": [
    "data = individuals.get_datasets(merge=True)\n",
    "data['tissue'] = data.index.get_level_values('Tissue')\n",
    "data['individual ID'] = data.index.get_level_values('Individual ID')\n",
    "def get_dataset(dataset='Chess'):\n",
    "    dset = data.copy().loc[data['Dataset'] == dataset, :]\n",
    "    dset['Dx'] = dset['Dx'].cat.remove_unused_categories()\n",
    "    return(dset)\n",
    "\n",
    "chess = get_dataset('Chess')\n",
    "walsh = get_dataset('Walsh')"
   ]
  },
  {
   "cell_type": "markdown",
   "metadata": {},
   "source": [
    "### Total number of calls"
   ]
  },
  {
   "cell_type": "code",
   "execution_count": 42,
   "metadata": {},
   "outputs": [
    {
     "data": {
      "text/plain": [
       "<matplotlib.legend.Legend at 0x7ff14c6d8310>"
      ]
     },
     "execution_count": 42,
     "metadata": {},
     "output_type": "execute_result"
    },
    {
     "data": {
      "image/png": "[encoded data removed]",
      "text/plain": [
       "<Figure size 432x288 with 1 Axes>"
      ]
     },
     "metadata": {
      "needs_background": "light"
     },
     "output_type": "display_data"
    }
   ],
   "source": [
    "c = chess.groupby(['Tissue', 'Dx']).size()\n",
    "fig, ax = plt.subplots()\n",
    "#c.xs('Control', level='Dx').plot(kind='barh', ax=ax, label='Control')\n",
    "#c.xs('SCZ', level='Dx').plot(kind='barh', ax=ax, label='SCZ')\n",
    "ax.barh(range(3), c.xs('SCZ', level='Dx'), label='SCZ')\n",
    "ax.barh(range(3), c.xs('Control', level='Dx'), label='Control')\n",
    "ax.legend()"
   ]
  },
  {
   "cell_type": "code",
   "execution_count": 31,
   "metadata": {},
   "outputs": [],
   "source": [
    "w = walsh.groupby(['Tissue', 'Dx']).size()"
   ]
  },
  {
   "cell_type": "markdown",
   "metadata": {},
   "source": [
    "### Number of samples"
   ]
  },
  {
   "cell_type": "markdown",
   "metadata": {},
   "source": [
    "### Calls per sample"
   ]
  },
  {
   "cell_type": "code",
   "execution_count": 8,
   "metadata": {},
   "outputs": [
    {
     "data": {
      "text/plain": [
       "['named-figure/ncalls-chess-walsh-boxplot.png',\n",
       " 'named-figure/ncalls-chess-walsh-boxplot.pdf']"
      ]
     },
     "execution_count": 8,
     "metadata": {},
     "output_type": "execute_result"
    },
    {
     "data": {
      "image/png": "[encoded data removed]",
      "text/plain": [
       "<Figure size 432x288 with 2 Axes>"
      ]
     },
     "metadata": {
      "needs_background": "light"
     },
     "output_type": "display_data"
    }
   ],
   "source": [
    "%matplotlib inline\n",
    "c = chess.groupby(['Tissue', 'Dx'])['individual ID'].value_counts()\n",
    "ccon = c.xs(('NeuN_pl', 'Control'), level=('Tissue', 'Dx'))\n",
    "caff = c.xs(('NeuN_pl', 'SCZ'), level=('Tissue', 'Dx'))\n",
    "w = walsh.groupby(['Tissue', 'Dx'])['individual ID'].value_counts()\n",
    "wcon = w.xs(('frontal cortex', 'Control'), level=('Tissue', 'Dx'))\n",
    "waff = w.xs(('frontal cortex', 'ASD'), level=('Tissue', 'Dx'))\n",
    "# plot figure\n",
    "fig, ax = plt.subplots(2,1, sharex=True)\n",
    "lines = ax[0].boxplot([ccon, caff], vert=False, labels=['Control', 'SCZ'])\n",
    "ax[0].set_title('Chess data')\n",
    "lines = ax[1].boxplot([wcon, waff], vert=False, labels=['Control', 'ASD'])\n",
    "ax[1].set_title('Walsh data')\n",
    "ax[1].set_xlabel('# calls per sample')\n",
    "attila_utils.savefig(fig, 'ncalls-chess-walsh-boxplot')"
   ]
  },
  {
   "cell_type": "code",
   "execution_count": 6,
   "metadata": {},
   "outputs": [
    {
     "data": {
      "text/plain": [
       "['named-figure/ncalls-chess-walsh-hist.png',\n",
       " 'named-figure/ncalls-chess-walsh-hist.pdf']"
      ]
     },
     "execution_count": 6,
     "metadata": {},
     "output_type": "execute_result"
    },
    {
     "data": {
      "image/png": "[encoded data removed]",
      "text/plain": [
       "<Figure size 432x432 with 2 Axes>"
      ]
     },
     "metadata": {
      "needs_background": "light"
     },
     "output_type": "display_data"
    }
   ],
   "source": [
    "bins = np.arange(0, 304, 8)\n",
    "fig, ax = plt.subplots(2, 1, sharex=True, figsize=(6, 6))\n",
    "c.hist(ax=ax[0], bins=bins)\n",
    "w.hist(ax=ax[1], bins=bins)\n",
    "ax[0].set_title('Chess data')\n",
    "ax[1].set_title('Walsh data')\n",
    "ax[1].set_title('Walsh data')\n",
    "ax[0].set_ylabel('# samples')\n",
    "ax[1].set_ylabel('# samples')\n",
    "ax[1].set_xlabel('# calls')\n",
    "attila_utils.savefig(fig, 'ncalls-chess-walsh-hist')"
   ]
  },
  {
   "cell_type": "code",
   "execution_count": 7,
   "metadata": {},
   "outputs": [
    {
     "name": "stdout",
     "output_type": "stream",
     "text": [
      "{\n",
      "  \"shell_port\": 38895,\n",
      "  \"iopub_port\": 47645,\n",
      "  \"stdin_port\": 51985,\n",
      "  \"control_port\": 44417,\n",
      "  \"hb_port\": 47917,\n",
      "  \"ip\": \"127.0.0.1\",\n",
      "  \"key\": \"a034825a-bfc7e688221c3e0af614af83\",\n",
      "  \"transport\": \"tcp\",\n",
      "  \"signature_scheme\": \"hmac-sha256\",\n",
      "  \"kernel_name\": \"\"\n",
      "}\n",
      "\n",
      "Paste the above JSON into a file, and connect with:\n",
      "    $> jupyter <app> --existing <file>\n",
      "or, if you are local, you can connect with just:\n",
      "    $> jupyter <app> --existing kernel-789ad01f-3c84-4a07-b01d-418c612cb87d.json\n",
      "or even just:\n",
      "    $> jupyter <app> --existing\n",
      "if this is the most recent Jupyter kernel you have started.\n"
     ]
    }
   ],
   "source": [
    "%connect_info"
   ]
  },
  {
   "cell_type": "code",
   "execution_count": null,
   "metadata": {},
   "outputs": [],
   "source": []
  }
 ],
 "metadata": {
  "kernelspec": {
   "display_name": "Python 3",
   "language": "python",
   "name": "python3"
  },
  "language_info": {
   "codemirror_mode": {
    "name": "ipython",
    "version": 3
   },
   "file_extension": ".py",
   "mimetype": "text/x-python",
   "name": "python",
   "nbconvert_exporter": "python",
   "pygments_lexer": "ipython3",
   "version": "3.7.6"
  }
 },
 "nbformat": 4,
 "nbformat_minor": 4
}
