{
 "cells": [
  {
   "cell_type": "markdown",
   "metadata": {},
   "source": [
    "Resubmissions to NDA.  These are meant to fix earlier submissions with incorrect manifest files."
   ]
  },
  {
   "cell_type": "code",
   "execution_count": 1,
   "metadata": {},
   "outputs": [],
   "source": [
    "%load_ext autoreload\n",
    "%autoreload 2\n",
    "%reload_ext autoreload"
   ]
  },
  {
   "cell_type": "code",
   "execution_count": 5,
   "metadata": {},
   "outputs": [
    {
     "name": "stdout",
     "output_type": "stream",
     "text": [
      "big\n",
      "genomics_sample03.csv\n",
      "genomics_subject02.csv\n",
      "nichd_btb02.csv\n",
      "submission_13812_files.csv\n"
     ]
    }
   ],
   "source": [
    "%%bash\n",
    "d=$HOME/projects/bsm/results/2020-12-28-nda-resubmit/submission_13889\n",
    "ls $d"
   ]
  },
  {
   "cell_type": "code",
   "execution_count": 8,
   "metadata": {},
   "outputs": [
    {
     "name": "stdout",
     "output_type": "stream",
     "text": [
      "#! /usr/bin/env bash\n",
      "\n",
      "#d=/home/attila/projects/bsm/ndar/benchmark/vt-python/test0\n",
      "d=`dirname $0`\n",
      "f1=$d/nichd_btb02.csv\n",
      "f2=$d/genomics_subject02.csv\n",
      "f3=$d/genomics_sample03.csv\n",
      "\n",
      "vtcmd \\\n",
      "\t$f1 $f2 $f3 \\\n",
      "    -u attilagk \\\n",
      "    -p Chesslab13 \\\n",
      "    -m $d \\\n",
      "    -l $d \\\n",
      "    -a BSMN-S3 \\\n",
      "    -t \"Chess lab\" \\\n",
      "    -d \"FASTQs and BAMs of the Chess lab data\" #-b\n"
     ]
    }
   ],
   "source": [
    "%%bash\n",
    "cat submit.sh"
   ]
  },
  {
   "cell_type": "code",
   "execution_count": 7,
   "metadata": {},
   "outputs": [
    {
     "name": "stdout",
     "output_type": "stream",
     "text": [
      "Process is interrupted.\n"
     ]
    }
   ],
   "source": [
    "%%bash\n",
    "d=$HOME/projects/bsm/results/2020-12-28-nda-resubmit/submission_13889\n",
    "if true; then\n",
    "    ./submit.sh $d\n",
    "fi"
   ]
  },
  {
   "cell_type": "code",
   "execution_count": 2,
   "metadata": {},
   "outputs": [
    {
     "name": "stdout",
     "output_type": "stream",
     "text": [
      "Running NDATools Version 0.2.3\n",
      "Opening log: /home/attila/NDAValidationResults/debug_log_20201228T143444.txt\n",
      "usage: vtcmd <file_list>\n",
      "\n",
      "This application allows you to validate files and submit data into NDA. You\n",
      "must enter a list of at least one file to be validated. If your data contains\n",
      "manifest files, you must specify the location of the manifests. If your data\n",
      "also includes associated files, you must enter a list of at least one\n",
      "directory where the associated files are saved. Alternatively, if any of your\n",
      "data is stored in AWS, you must provide your account credentials, the AWS\n",
      "bucket, and a prefix, if it exists. Any files that are created while running\n",
      "the client (ie. results files) will be downloaded in your home directory under\n",
      "NDAValidationResults. If your submission was interrupted in the middle, you\n",
      "may resume your upload by entering a valid submission ID.\n",
      "\n",
      "positional arguments:\n",
      "  <file_list>           Returns validation results for list of files\n",
      "\n",
      "optional arguments:\n",
      "  -h, --help            show this help message and exit\n",
      "  -l <directory_list> [<directory_list> ...], --listDir <directory_list> [<directory_list> ...]\n",
      "                        Specifies the directories in which the associated\n",
      "                        files are files located.\n",
      "  -m <arg> [<arg> ...], --manifestPath <arg> [<arg> ...]\n",
      "                        Specifies the directories in which the manifest files\n",
      "                        are located\n",
      "  -s3 <arg>, --s3Bucket <arg>\n",
      "                        Specifies the s3 bucket in which the associated files\n",
      "                        are files located.\n",
      "  -pre <arg>, --s3Prefix <arg>\n",
      "                        Specifies the s3 prefix in which the associated files\n",
      "                        are files located.\n",
      "  -w, --warning         Returns validation warnings for list of files\n",
      "  -a <arg>, --alternateEndpoint <arg>\n",
      "                        An alternate upload location for the submission\n",
      "                        package\n",
      "  -b, --buildPackage    Flag whether to construct the submission package\n",
      "  -c <arg>, --collectionID <arg>\n",
      "                        The NDA collection ID\n",
      "  -d <arg> [<arg> ...], --description <arg> [<arg> ...]\n",
      "                        The description of the submission\n",
      "  -t <arg> [<arg> ...], --title <arg> [<arg> ...]\n",
      "                        The title of the submission\n",
      "  -u <arg>, --username <arg>\n",
      "                        NDA username\n",
      "  -ak <arg>, --accessKey <arg>\n",
      "                        AWS access key\n",
      "  -sk <arg>, --secretKey <arg>\n",
      "                        AWS secret key\n",
      "  -p <arg>, --password <arg>\n",
      "                        NDA password\n",
      "  -s <arg>, --scope <arg>\n",
      "                        Flag whether to validate using a custom scope. Must\n",
      "                        enter a custom scope\n",
      "  -r, --resume          Restart an in-progress submission, resuming from the\n",
      "                        last successful part in a multi-partupload. Must enter\n",
      "                        a valid submission ID.\n",
      "  -v <arg>, --validationAPI <arg>\n",
      "                        URL of the validation tool API\n",
      "  -j, --JSON            Flag whether to additionally download validation\n",
      "                        results in JSON format.\n",
      "  -wt <arg>, --workerThreads <arg>\n",
      "                        Number of worker threads\n",
      "  -bc <arg>, --batch <arg>\n",
      "                        Batch size\n",
      "  --hideProgress        Hides upload/processing progress\n",
      "  --skipLocalAssocFileCheck\n",
      "                        Not recommended UNLESS you have already verified all\n",
      "                        paths for associated data files are correct\n"
     ]
    }
   ],
   "source": [
    "%%bash\n",
    "vtcmd -h"
   ]
  },
  {
   "cell_type": "code",
   "execution_count": 3,
   "metadata": {},
   "outputs": [
    {
     "name": "stdout",
     "output_type": "stream",
     "text": [
      "{\n",
      "  \"shell_port\": 57073,\n",
      "  \"iopub_port\": 45067,\n",
      "  \"stdin_port\": 50449,\n",
      "  \"control_port\": 39327,\n",
      "  \"hb_port\": 52929,\n",
      "  \"ip\": \"127.0.0.1\",\n",
      "  \"key\": \"05cf47b8-df79f66d063e9bbe18ca4a79\",\n",
      "  \"transport\": \"tcp\",\n",
      "  \"signature_scheme\": \"hmac-sha256\",\n",
      "  \"kernel_name\": \"\"\n",
      "}\n",
      "\n",
      "Paste the above JSON into a file, and connect with:\n",
      "    $> jupyter <app> --existing <file>\n",
      "or, if you are local, you can connect with just:\n",
      "    $> jupyter <app> --existing kernel-240d5cf5-f0cc-4b96-a93d-45d21b6e8aa2.json\n",
      "or even just:\n",
      "    $> jupyter <app> --existing\n",
      "if this is the most recent Jupyter kernel you have started.\n"
     ]
    }
   ],
   "source": [
    "%connect_info"
   ]
  },
  {
   "cell_type": "code",
   "execution_count": null,
   "metadata": {},
   "outputs": [],
   "source": []
  }
 ],
 "metadata": {
  "kernelspec": {
   "display_name": "Python 3",
   "language": "python",
   "name": "python3"
  },
  "language_info": {
   "codemirror_mode": {
    "name": "ipython",
    "version": 3
   },
   "file_extension": ".py",
   "mimetype": "text/x-python",
   "name": "python",
   "nbconvert_exporter": "python",
   "pygments_lexer": "ipython3",
   "version": "3.7.6"
  }
 },
 "nbformat": 4,
 "nbformat_minor": 4
}
