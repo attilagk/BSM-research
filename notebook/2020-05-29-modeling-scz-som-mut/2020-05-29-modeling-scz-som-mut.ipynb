{
 "cells": [
  {
   "cell_type": "markdown",
   "metadata": {},
   "source": [
    "Statistical analysis of somatic variants"
   ]
  },
  {
   "cell_type": "markdown",
   "metadata": {},
   "source": [
    "Logistic regression with $\\mathrm{Dx} = 1$ for SCZ and $\\mathrm{Dx} = 0$ for control.\n",
    "$$\n",
    "\\mathrm{Dx} \\sim \\mathrm{Age} + \\mathrm{Ancestry}_1 + ... + \\text{vcf_score}_1 + ... + \\text{vcf_score}_v +  \\mathrm{cons}_1 + ... + \\text{epigen_state} + \\text{ATAC_seq}\n",
    "$$\n",
    "\n",
    "Remarks:\n",
    "* to increase power technical/nuisance variables may be modeled with random effects\n",
    "* lenient filtering of VCFs (by Taejeong et al) would afford higher recall"
   ]
  },
  {
   "cell_type": "code",
   "execution_count": null,
   "metadata": {},
   "outputs": [],
   "source": []
  }
 ],
 "metadata": {
  "kernelspec": {
   "display_name": "Python 3",
   "language": "python",
   "name": "python3"
  },
  "language_info": {
   "codemirror_mode": {
    "name": "ipython",
    "version": 3
   },
   "file_extension": ".py",
   "mimetype": "text/x-python",
   "name": "python",
   "nbconvert_exporter": "python",
   "pygments_lexer": "ipython3",
   "version": "3.7.6"
  }
 },
 "nbformat": 4,
 "nbformat_minor": 4
}
