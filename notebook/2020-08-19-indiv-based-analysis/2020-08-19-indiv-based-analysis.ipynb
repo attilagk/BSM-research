{
 "cells": [
  {
   "cell_type": "markdown",
   "metadata": {},
   "source": [
    "Aggregating data to the level of individuals"
   ]
  },
  {
   "cell_type": "code",
   "execution_count": 1,
   "metadata": {},
   "outputs": [],
   "source": [
    "%load_ext autoreload\n",
    "%autoreload 2\n",
    "%reload_ext autoreload\n",
    "import readVCF\n",
    "from matplotlib import pyplot as plt\n",
    "import pandas as pd\n",
    "from bsm import clean\n",
    "import statsmodels as sm"
   ]
  },
  {
   "cell_type": "code",
   "execution_count": 4,
   "metadata": {},
   "outputs": [
    {
     "name": "stdout",
     "output_type": "stream",
     "text": [
      "Welcome, Attila Jones!\n",
      "\n",
      "ReadPosRankSum\n",
      "EV_3\n"
     ]
    },
    {
     "data": {
      "text/plain": [
       "AF                      3301\n",
       "ALT                     3301\n",
       "BaseQRankSum            3301\n",
       "DP                      3301\n",
       "FILTER_PASS             3301\n",
       "FS                      3301\n",
       "GWASpval                3301\n",
       "REF                     3301\n",
       "ReadPosRankSum          3298\n",
       "SOR                     3301\n",
       "VQSLOD                  3301\n",
       "chromatinState_DLPFC    3301\n",
       "culprit                 3301\n",
       "evolConstrain           3301\n",
       "szdbCNVcount            3301\n",
       "Dx                      3301\n",
       "AntipsychAtyp           3301\n",
       "AntipsychTyp            3301\n",
       "Institution             3301\n",
       "EV_3                    3301\n",
       "dtype: int64"
      ]
     },
     "execution_count": 4,
     "metadata": {},
     "output_type": "execute_result"
    }
   ],
   "source": [
    "v1 = ['AF', 'ALT', 'BaseQRankSum', 'DP', 'FILTER/PASS', 'FS', 'GWASpval', 'REF', 'ReadPosRankSum', 'SOR', 'VQSLOD', 'chromatinState_DLPFC', 'culprit', 'evolConstrain', 'szdbCNVcount']\n",
    "v2 = ['Dx', 'AntipsychAtyp', 'AntipsychTyp', 'Institution', 'EV.3']\n",
    "calls = readVCF.readVCFs()\n",
    "calls = clean.prettify_colnames(clean.preselect(calls, vnames=v1 + v2))\n",
    "calls = clean.dummify_var(calls, vname='Dx')\n",
    "calls = clean.impute_vars(calls, vnames=['ReadPosRankSum', 'EV_3'], v1=v1, v2=v2)\n",
    "calls.count()"
   ]
  },
  {
   "cell_type": "code",
   "execution_count": null,
   "metadata": {},
   "outputs": [],
   "source": []
  }
 ],
 "metadata": {
  "kernelspec": {
   "display_name": "Python 3",
   "language": "python",
   "name": "python3"
  },
  "language_info": {
   "codemirror_mode": {
    "name": "ipython",
    "version": 3
   },
   "file_extension": ".py",
   "mimetype": "text/x-python",
   "name": "python",
   "nbconvert_exporter": "python",
   "pygments_lexer": "ipython3",
   "version": "3.7.6"
  }
 },
 "nbformat": 4,
 "nbformat_minor": 4
}
