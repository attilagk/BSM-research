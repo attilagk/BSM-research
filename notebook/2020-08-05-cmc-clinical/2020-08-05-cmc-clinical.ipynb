{
 "cells": [
  {
   "cell_type": "markdown",
   "metadata": {},
   "source": [
    "Inspection of the entire CMC Human clinical data set and its subset that is relevant to our BSM study."
   ]
  },
  {
   "cell_type": "code",
   "execution_count": 1,
   "metadata": {},
   "outputs": [],
   "source": [
    "%load_ext autoreload\n",
    "%autoreload 2\n",
    "%reload_ext autoreload\n",
    "from matplotlib import pyplot as plt\n",
    "import pandas as pd\n",
    "import numpy as np\n",
    "import statsmodels.api as sm\n",
    "import synapseclient\n",
    "import fwsel\n",
    "import readVCF\n",
    "import re"
   ]
  },
  {
   "cell_type": "markdown",
   "metadata": {},
   "source": [
    "## Data set\n",
    "### Import and general properties"
   ]
  },
  {
   "cell_type": "code",
   "execution_count": 2,
   "metadata": {},
   "outputs": [
    {
     "name": "stdout",
     "output_type": "stream",
     "text": [
      "Welcome, Attila Jones!\n",
      "\n"
     ]
    }
   ],
   "source": [
    "syn = synapseclient.login()\n",
    "wdir = '/big/results/bsm/2020-08-05-cmc-clinical'\n",
    "cmc_clinical_syn = syn.get('syn2279441', downloadLocation=wdir, ifcollision='overwrite.local')\n",
    "cmc_clinical = pd.read_csv(cmc_clinical_syn.path, index_col='Individual ID')"
   ]
  },
  {
   "cell_type": "code",
   "execution_count": 3,
   "metadata": {},
   "outputs": [
    {
     "name": "stdout",
     "output_type": "stream",
     "text": [
      "116 samples from 95 individuals\n"
     ]
    }
   ],
   "source": [
    "samples = pd.read_csv('/big/results/bsm/2020-05-18-processed-samples/all_samples.csv')\n",
    "individuals = list(set(samples['Individual ID']))\n",
    "individuals.sort()\n",
    "print(len(samples), 'samples from', len(individuals), 'individuals')"
   ]
  },
  {
   "cell_type": "code",
   "execution_count": 4,
   "metadata": {},
   "outputs": [],
   "source": [
    "clin = cmc_clinical.loc[individuals, :]\n",
    "clin.to_csv(wdir + '/all_samples_clinical.csv')"
   ]
  },
  {
   "cell_type": "markdown",
   "metadata": {},
   "source": [
    "### Adding ancestry"
   ]
  },
  {
   "cell_type": "code",
   "execution_count": 5,
   "metadata": {},
   "outputs": [],
   "source": [
    "clin['Individual ID'] = clin.index\n",
    "clin = readVCF.add_ancestry(clin)\n",
    "clin = clin.drop(columns='Individual ID')"
   ]
  },
  {
   "cell_type": "markdown",
   "metadata": {},
   "source": [
    "### Variables with missing values"
   ]
  },
  {
   "cell_type": "code",
   "execution_count": 6,
   "metadata": {},
   "outputs": [
    {
     "data": {
      "text/plain": [
       "Brain Weight (in grams)        1\n",
       "EV.3                           9\n",
       "EV.2                           9\n",
       "EV.1                           9\n",
       "Genotyping_Sample_ID           9\n",
       "                              ..\n",
       "MaritalStatus                 95\n",
       "FormalinTissue                95\n",
       "Toxicology Screen: Alcohol    95\n",
       "Time of Death                 95\n",
       "ECT                           95\n",
       "Length: 64, dtype: int64"
      ]
     },
     "execution_count": 6,
     "metadata": {},
     "output_type": "execute_result"
    }
   ],
   "source": [
    "l = list()\n",
    "for col in clin.columns:\n",
    "    missing = len(clin) - len(clin[col].dropna())\n",
    "    s = pd.Series([missing], index=[col])\n",
    "    l.append(s)\n",
    "\n",
    "ss = pd.concat(l).sort_values()\n",
    "ss.loc[ss != 0]"
   ]
  },
  {
   "cell_type": "markdown",
   "metadata": {},
   "source": [
    "Impute the missing observation for Brain Weight with the sample mean "
   ]
  },
  {
   "cell_type": "code",
   "execution_count": 7,
   "metadata": {},
   "outputs": [],
   "source": [
    "clin.loc[np.isnan(clin['Brain Weight (in grams)']), 'Brain Weight (in grams)'] = clin['Brain Weight (in grams)'].mean()"
   ]
  },
  {
   "cell_type": "markdown",
   "metadata": {},
   "source": [
    "Do the same for the ancestry data! "
   ]
  },
  {
   "cell_type": "code",
   "execution_count": 8,
   "metadata": {},
   "outputs": [],
   "source": [
    "EVs = ['EV.' + y for y in list('12345')]\n",
    "clin[EVs] = clin[EVs].fillna(clin[EVs].mean())"
   ]
  },
  {
   "cell_type": "markdown",
   "metadata": {},
   "source": [
    "### Filtering I\n",
    "\n",
    "Now remove all columns with missing data"
   ]
  },
  {
   "cell_type": "code",
   "execution_count": 9,
   "metadata": {},
   "outputs": [
    {
     "data": {
      "text/plain": [
       "Index(['Institution', 'Reported Gender', 'Sex', 'Ethnicity', 'ageOfDeath',\n",
       "       'Brain Weight (in grams)', 'PMI (in hours)', 'Dx', 'Year of Autopsy',\n",
       "       'Benzodiazepines', 'Anticonvulsants', 'AntipsychTyp', 'AntipsychAtyp',\n",
       "       'Antidepress', 'Lithium', 'Tobacco', 'Alcohol', 'Illicitsub',\n",
       "       'causeOfDeath', 'Hyperten', 'DiabetesInsDep', 'DiabetesNonInsDep',\n",
       "       'EV.1', 'EV.2', 'EV.3', 'EV.4', 'EV.5'],\n",
       "      dtype='object')"
      ]
     },
     "execution_count": 9,
     "metadata": {},
     "output_type": "execute_result"
    }
   ],
   "source": [
    "clin = clin.dropna(axis=1)\n",
    "clin.columns"
   ]
  },
  {
   "cell_type": "markdown",
   "metadata": {},
   "source": [
    "Inspect data types for remaining columns"
   ]
  },
  {
   "cell_type": "code",
   "execution_count": 10,
   "metadata": {},
   "outputs": [
    {
     "data": {
      "text/plain": [
       "Institution           object\n",
       "ReportedGender        object\n",
       "Sex                   object\n",
       "Ethnicity             object\n",
       "ageOfDeath           float64\n",
       "BrainWeight          float64\n",
       "PMI                  float64\n",
       "Dx                    object\n",
       "YearOfAutopsy        float64\n",
       "Benzodiazepines      float64\n",
       "Anticonvulsants      float64\n",
       "AntipsychTyp         float64\n",
       "AntipsychAtyp        float64\n",
       "Antidepress          float64\n",
       "Lithium              float64\n",
       "Tobacco              float64\n",
       "Alcohol              float64\n",
       "Illicitsub           float64\n",
       "causeOfDeath         float64\n",
       "Hyperten             float64\n",
       "DiabetesInsDep       float64\n",
       "DiabetesNonInsDep    float64\n",
       "EV.1                 float64\n",
       "EV.2                 float64\n",
       "EV.3                 float64\n",
       "EV.4                 float64\n",
       "EV.5                 float64\n",
       "dtype: object"
      ]
     },
     "execution_count": 10,
     "metadata": {},
     "output_type": "execute_result"
    }
   ],
   "source": [
    "clin = clin.rename(columns={'PMI (in hours)': 'PMI', 'Year of Autopsy': 'YearOfAutopsy', 'Reported Gender': 'ReportedGender', 'Brain Weight (in grams)': 'BrainWeight'})\n",
    "clin.dtypes"
   ]
  },
  {
   "cell_type": "markdown",
   "metadata": {},
   "source": [
    "Adjust data types"
   ]
  },
  {
   "cell_type": "code",
   "execution_count": 11,
   "metadata": {},
   "outputs": [],
   "source": [
    "l = [clin.loc[:, :'Ethnicity'].astype('category'),\n",
    "pd.DataFrame({'Dx': [np.int(y == 'SCZ') for y in clin['Dx']]}, index=clin.index),\n",
    "clin.loc[:, 'Benzodiazepines':'DiabetesNonInsDep'].astype('int').astype('category'),\n",
    "clin.loc[:, EVs]]\n",
    "clin = pd.concat(l, axis=1)"
   ]
  },
  {
   "cell_type": "markdown",
   "metadata": {},
   "source": [
    "### Filtering II\n",
    "\n",
    "It turned out from an email communication with Jessica Johnson that there are missing data labeled with `-1`.  Let's filter the data according to this! "
   ]
  },
  {
   "cell_type": "code",
   "execution_count": 12,
   "metadata": {},
   "outputs": [
    {
     "name": "stdout",
     "output_type": "stream",
     "text": [
      "31 missing in Tobacco\n",
      "1 missing in Alcohol\n",
      "1 missing in causeOfDeath\n",
      "10 missing in Hyperten\n",
      "10 missing in DiabetesInsDep\n",
      "10 missing in DiabetesNonInsDep\n"
     ]
    }
   ],
   "source": [
    "for col in clin.loc[:, 'Benzodiazepines':].columns:\n",
    "    s = clin.groupby(col).size()\n",
    "    if -1 in set(s.index):\n",
    "        print(s.loc[-1], 'missing in', col)"
   ]
  },
  {
   "cell_type": "markdown",
   "metadata": {},
   "source": [
    "Only one point is missing for both Alcohol and causeOfDeath.  2020-08-07-cleaning-data shows that Alcohol is colinear with Ethnicity so it should be dropped. Thus causeOfDeath may be imputed and kept while the rest of the variables be dropped."
   ]
  },
  {
   "cell_type": "code",
   "execution_count": 13,
   "metadata": {},
   "outputs": [],
   "source": [
    "clin = clin.drop(columns=['Tobacco', 'Alcohol', 'Hyperten', 'DiabetesInsDep', 'DiabetesNonInsDep'])"
   ]
  },
  {
   "cell_type": "markdown",
   "metadata": {},
   "source": [
    "Impute causeOfDeath"
   ]
  },
  {
   "cell_type": "code",
   "execution_count": 14,
   "metadata": {},
   "outputs": [],
   "source": [
    "def replaceWithMode(col='Alcohol', clin=clin):\n",
    "    '''Returns the mode i.e the most frequent category'''\n",
    "    df = clin.groupby(col).size()\n",
    "    d = dict(zip(list(df), df.index))\n",
    "    mode = d[df.max()]\n",
    "    s = clin[col]\n",
    "    s = pd.Series([(lambda y: mode if y == -1 else y)(x) for x in s], index=clin.index, dtype='category')\n",
    "    return(s)\n",
    "\n",
    "clin['causeOfDeath'] = replaceWithMode(col='causeOfDeath')"
   ]
  },
  {
   "cell_type": "markdown",
   "metadata": {},
   "source": [
    "### Further filtering to avoid colinearity"
   ]
  },
  {
   "cell_type": "code",
   "execution_count": 15,
   "metadata": {},
   "outputs": [
    {
     "data": {
      "text/plain": [
       "Index(['Institution', 'ReportedGender', 'Sex', 'Ethnicity', 'Dx',\n",
       "       'Benzodiazepines', 'Anticonvulsants', 'AntipsychTyp', 'AntipsychAtyp',\n",
       "       'Antidepress', 'Lithium', 'Illicitsub', 'causeOfDeath', 'EV.1', 'EV.2',\n",
       "       'EV.3', 'EV.4', 'EV.5'],\n",
       "      dtype='object')"
      ]
     },
     "execution_count": 15,
     "metadata": {},
     "output_type": "execute_result"
    }
   ],
   "source": [
    "clin.columns"
   ]
  },
  {
   "cell_type": "markdown",
   "metadata": {},
   "source": [
    "#### ReportedGender and Sex\n",
    "\n",
    "One of the individuals was a schizophrenic male with Klinefelter syndrome."
   ]
  },
  {
   "cell_type": "code",
   "execution_count": 16,
   "metadata": {},
   "outputs": [
    {
     "data": {
      "text/plain": [
       "ReportedGender  Sex  Dx\n",
       "Female          XX   0      9\n",
       "                     1     25\n",
       "                XXY  0      0\n",
       "                     1      0\n",
       "                XY   0      0\n",
       "                     1      0\n",
       "Male            XX   0      0\n",
       "                     1      0\n",
       "                XXY  0      0\n",
       "                     1      1\n",
       "                XY   0     19\n",
       "                     1     41\n",
       "dtype: int64"
      ]
     },
     "execution_count": 16,
     "metadata": {},
     "output_type": "execute_result"
    }
   ],
   "source": [
    "clin.groupby(['ReportedGender', 'Sex', 'Dx']).size()"
   ]
  },
  {
   "cell_type": "code",
   "execution_count": 17,
   "metadata": {},
   "outputs": [
    {
     "data": {
      "text/html": [
       "<div>\n",
       "<style scoped>\n",
       "    .dataframe tbody tr th:only-of-type {\n",
       "        vertical-align: middle;\n",
       "    }\n",
       "\n",
       "    .dataframe tbody tr th {\n",
       "        vertical-align: top;\n",
       "    }\n",
       "\n",
       "    .dataframe thead th {\n",
       "        text-align: right;\n",
       "    }\n",
       "</style>\n",
       "<table border=\"1\" class=\"dataframe\">\n",
       "  <thead>\n",
       "    <tr style=\"text-align: right;\">\n",
       "      <th></th>\n",
       "      <th>ReportedGender</th>\n",
       "      <th>Sex</th>\n",
       "    </tr>\n",
       "    <tr>\n",
       "      <th>Individual ID</th>\n",
       "      <th></th>\n",
       "      <th></th>\n",
       "    </tr>\n",
       "  </thead>\n",
       "  <tbody>\n",
       "    <tr>\n",
       "      <th>CMC_MSSM_213</th>\n",
       "      <td>Male</td>\n",
       "      <td>XXY</td>\n",
       "    </tr>\n",
       "  </tbody>\n",
       "</table>\n",
       "</div>"
      ],
      "text/plain": [
       "              ReportedGender  Sex\n",
       "Individual ID                    \n",
       "CMC_MSSM_213            Male  XXY"
      ]
     },
     "execution_count": 17,
     "metadata": {},
     "output_type": "execute_result"
    }
   ],
   "source": [
    "clin.loc[clin['Sex'] == 'XXY', ['ReportedGender', 'Sex']]"
   ]
  },
  {
   "cell_type": "markdown",
   "metadata": {},
   "source": [
    "Note that there are no transgender individuals with canonical XX or XY chromosomes. It is simpler to keep ReportedGender and drop Sex because the latter is a three level factor whose third level, XXY, occurs only in one individual."
   ]
  },
  {
   "cell_type": "code",
   "execution_count": 18,
   "metadata": {},
   "outputs": [],
   "source": [
    "clin = clin.drop(columns='Sex') # this is essentially the same as \"Sex\" "
   ]
  },
  {
   "cell_type": "markdown",
   "metadata": {},
   "source": [
    "### Prettify column names"
   ]
  },
  {
   "cell_type": "code",
   "execution_count": 19,
   "metadata": {},
   "outputs": [],
   "source": [
    "clin = clin.rename(lambda y: re.sub('\\.', '_', y), axis='columns')\n",
    "#clin = clin.reindex(columns=[re.sub('\\.', '_', y) for y in clin.columns])"
   ]
  },
  {
   "cell_type": "markdown",
   "metadata": {},
   "source": [
    "## The cleaned data set"
   ]
  },
  {
   "cell_type": "code",
   "execution_count": 20,
   "metadata": {},
   "outputs": [
    {
     "data": {
      "text/html": [
       "<div>\n",
       "<style scoped>\n",
       "    .dataframe tbody tr th:only-of-type {\n",
       "        vertical-align: middle;\n",
       "    }\n",
       "\n",
       "    .dataframe tbody tr th {\n",
       "        vertical-align: top;\n",
       "    }\n",
       "\n",
       "    .dataframe thead th {\n",
       "        text-align: right;\n",
       "    }\n",
       "</style>\n",
       "<table border=\"1\" class=\"dataframe\">\n",
       "  <thead>\n",
       "    <tr style=\"text-align: right;\">\n",
       "      <th></th>\n",
       "      <th>Institution</th>\n",
       "      <th>ReportedGender</th>\n",
       "      <th>Ethnicity</th>\n",
       "      <th>Dx</th>\n",
       "      <th>Benzodiazepines</th>\n",
       "      <th>Anticonvulsants</th>\n",
       "      <th>AntipsychTyp</th>\n",
       "      <th>AntipsychAtyp</th>\n",
       "      <th>Antidepress</th>\n",
       "      <th>Lithium</th>\n",
       "      <th>Illicitsub</th>\n",
       "      <th>causeOfDeath</th>\n",
       "      <th>EV_1</th>\n",
       "      <th>EV_2</th>\n",
       "      <th>EV_3</th>\n",
       "      <th>EV_4</th>\n",
       "      <th>EV_5</th>\n",
       "    </tr>\n",
       "    <tr>\n",
       "      <th>Individual ID</th>\n",
       "      <th></th>\n",
       "      <th></th>\n",
       "      <th></th>\n",
       "      <th></th>\n",
       "      <th></th>\n",
       "      <th></th>\n",
       "      <th></th>\n",
       "      <th></th>\n",
       "      <th></th>\n",
       "      <th></th>\n",
       "      <th></th>\n",
       "      <th></th>\n",
       "      <th></th>\n",
       "      <th></th>\n",
       "      <th></th>\n",
       "      <th></th>\n",
       "      <th></th>\n",
       "    </tr>\n",
       "  </thead>\n",
       "  <tbody>\n",
       "    <tr>\n",
       "      <th>CMC_MSSM_027</th>\n",
       "      <td>MSSM</td>\n",
       "      <td>Male</td>\n",
       "      <td>Caucasian</td>\n",
       "      <td>1</td>\n",
       "      <td>0</td>\n",
       "      <td>0</td>\n",
       "      <td>0</td>\n",
       "      <td>0</td>\n",
       "      <td>0</td>\n",
       "      <td>0</td>\n",
       "      <td>0</td>\n",
       "      <td>1</td>\n",
       "      <td>0.019061</td>\n",
       "      <td>-0.043151</td>\n",
       "      <td>0.005808</td>\n",
       "      <td>0.131348</td>\n",
       "      <td>-0.019458</td>\n",
       "    </tr>\n",
       "    <tr>\n",
       "      <th>CMC_MSSM_033</th>\n",
       "      <td>MSSM</td>\n",
       "      <td>Female</td>\n",
       "      <td>African-American</td>\n",
       "      <td>0</td>\n",
       "      <td>0</td>\n",
       "      <td>0</td>\n",
       "      <td>0</td>\n",
       "      <td>0</td>\n",
       "      <td>0</td>\n",
       "      <td>0</td>\n",
       "      <td>0</td>\n",
       "      <td>1</td>\n",
       "      <td>-0.082774</td>\n",
       "      <td>0.000918</td>\n",
       "      <td>0.019960</td>\n",
       "      <td>-0.004903</td>\n",
       "      <td>-0.022186</td>\n",
       "    </tr>\n",
       "    <tr>\n",
       "      <th>CMC_MSSM_055</th>\n",
       "      <td>MSSM</td>\n",
       "      <td>Male</td>\n",
       "      <td>Caucasian</td>\n",
       "      <td>0</td>\n",
       "      <td>0</td>\n",
       "      <td>0</td>\n",
       "      <td>0</td>\n",
       "      <td>0</td>\n",
       "      <td>0</td>\n",
       "      <td>0</td>\n",
       "      <td>0</td>\n",
       "      <td>1</td>\n",
       "      <td>0.020298</td>\n",
       "      <td>0.018617</td>\n",
       "      <td>-0.001543</td>\n",
       "      <td>-0.010232</td>\n",
       "      <td>0.002140</td>\n",
       "    </tr>\n",
       "    <tr>\n",
       "      <th>CMC_MSSM_056</th>\n",
       "      <td>MSSM</td>\n",
       "      <td>Female</td>\n",
       "      <td>Caucasian</td>\n",
       "      <td>0</td>\n",
       "      <td>0</td>\n",
       "      <td>0</td>\n",
       "      <td>0</td>\n",
       "      <td>0</td>\n",
       "      <td>0</td>\n",
       "      <td>0</td>\n",
       "      <td>0</td>\n",
       "      <td>1</td>\n",
       "      <td>0.020853</td>\n",
       "      <td>0.030543</td>\n",
       "      <td>-0.006878</td>\n",
       "      <td>-0.011283</td>\n",
       "      <td>0.009727</td>\n",
       "    </tr>\n",
       "    <tr>\n",
       "      <th>CMC_MSSM_063</th>\n",
       "      <td>MSSM</td>\n",
       "      <td>Male</td>\n",
       "      <td>Caucasian</td>\n",
       "      <td>0</td>\n",
       "      <td>0</td>\n",
       "      <td>0</td>\n",
       "      <td>0</td>\n",
       "      <td>0</td>\n",
       "      <td>0</td>\n",
       "      <td>0</td>\n",
       "      <td>0</td>\n",
       "      <td>5</td>\n",
       "      <td>0.020810</td>\n",
       "      <td>-0.010395</td>\n",
       "      <td>0.001832</td>\n",
       "      <td>0.038164</td>\n",
       "      <td>-0.018054</td>\n",
       "    </tr>\n",
       "    <tr>\n",
       "      <th>...</th>\n",
       "      <td>...</td>\n",
       "      <td>...</td>\n",
       "      <td>...</td>\n",
       "      <td>...</td>\n",
       "      <td>...</td>\n",
       "      <td>...</td>\n",
       "      <td>...</td>\n",
       "      <td>...</td>\n",
       "      <td>...</td>\n",
       "      <td>...</td>\n",
       "      <td>...</td>\n",
       "      <td>...</td>\n",
       "      <td>...</td>\n",
       "      <td>...</td>\n",
       "      <td>...</td>\n",
       "      <td>...</td>\n",
       "      <td>...</td>\n",
       "    </tr>\n",
       "    <tr>\n",
       "      <th>CMC_PITT_098</th>\n",
       "      <td>Pitt</td>\n",
       "      <td>Male</td>\n",
       "      <td>Caucasian</td>\n",
       "      <td>0</td>\n",
       "      <td>0</td>\n",
       "      <td>0</td>\n",
       "      <td>0</td>\n",
       "      <td>0</td>\n",
       "      <td>0</td>\n",
       "      <td>0</td>\n",
       "      <td>0</td>\n",
       "      <td>1</td>\n",
       "      <td>0.021925</td>\n",
       "      <td>0.017359</td>\n",
       "      <td>0.001280</td>\n",
       "      <td>0.002445</td>\n",
       "      <td>0.003736</td>\n",
       "    </tr>\n",
       "    <tr>\n",
       "      <th>CMC_PITT_101</th>\n",
       "      <td>Pitt</td>\n",
       "      <td>Male</td>\n",
       "      <td>Caucasian</td>\n",
       "      <td>0</td>\n",
       "      <td>0</td>\n",
       "      <td>0</td>\n",
       "      <td>0</td>\n",
       "      <td>0</td>\n",
       "      <td>0</td>\n",
       "      <td>0</td>\n",
       "      <td>0</td>\n",
       "      <td>1</td>\n",
       "      <td>0.020204</td>\n",
       "      <td>-0.004967</td>\n",
       "      <td>-0.001258</td>\n",
       "      <td>0.041604</td>\n",
       "      <td>-0.004473</td>\n",
       "    </tr>\n",
       "    <tr>\n",
       "      <th>CMC_PITT_113</th>\n",
       "      <td>Pitt</td>\n",
       "      <td>Male</td>\n",
       "      <td>Caucasian</td>\n",
       "      <td>0</td>\n",
       "      <td>0</td>\n",
       "      <td>0</td>\n",
       "      <td>0</td>\n",
       "      <td>0</td>\n",
       "      <td>0</td>\n",
       "      <td>0</td>\n",
       "      <td>0</td>\n",
       "      <td>1</td>\n",
       "      <td>0.020509</td>\n",
       "      <td>0.025007</td>\n",
       "      <td>-0.001910</td>\n",
       "      <td>-0.031377</td>\n",
       "      <td>0.030459</td>\n",
       "    </tr>\n",
       "    <tr>\n",
       "      <th>CMC_PITT_117</th>\n",
       "      <td>Pitt</td>\n",
       "      <td>Male</td>\n",
       "      <td>Caucasian</td>\n",
       "      <td>1</td>\n",
       "      <td>0</td>\n",
       "      <td>1</td>\n",
       "      <td>0</td>\n",
       "      <td>1</td>\n",
       "      <td>0</td>\n",
       "      <td>0</td>\n",
       "      <td>0</td>\n",
       "      <td>5</td>\n",
       "      <td>0.020385</td>\n",
       "      <td>0.018580</td>\n",
       "      <td>0.002209</td>\n",
       "      <td>0.034594</td>\n",
       "      <td>0.027685</td>\n",
       "    </tr>\n",
       "    <tr>\n",
       "      <th>CMC_PITT_118</th>\n",
       "      <td>Pitt</td>\n",
       "      <td>Female</td>\n",
       "      <td>Caucasian</td>\n",
       "      <td>1</td>\n",
       "      <td>0</td>\n",
       "      <td>0</td>\n",
       "      <td>1</td>\n",
       "      <td>0</td>\n",
       "      <td>0</td>\n",
       "      <td>0</td>\n",
       "      <td>0</td>\n",
       "      <td>1</td>\n",
       "      <td>0.021532</td>\n",
       "      <td>0.004611</td>\n",
       "      <td>0.001182</td>\n",
       "      <td>0.035402</td>\n",
       "      <td>-0.005080</td>\n",
       "    </tr>\n",
       "  </tbody>\n",
       "</table>\n",
       "<p>95 rows × 17 columns</p>\n",
       "</div>"
      ],
      "text/plain": [
       "              Institution ReportedGender         Ethnicity  Dx  \\\n",
       "Individual ID                                                    \n",
       "CMC_MSSM_027         MSSM           Male         Caucasian   1   \n",
       "CMC_MSSM_033         MSSM         Female  African-American   0   \n",
       "CMC_MSSM_055         MSSM           Male         Caucasian   0   \n",
       "CMC_MSSM_056         MSSM         Female         Caucasian   0   \n",
       "CMC_MSSM_063         MSSM           Male         Caucasian   0   \n",
       "...                   ...            ...               ...  ..   \n",
       "CMC_PITT_098         Pitt           Male         Caucasian   0   \n",
       "CMC_PITT_101         Pitt           Male         Caucasian   0   \n",
       "CMC_PITT_113         Pitt           Male         Caucasian   0   \n",
       "CMC_PITT_117         Pitt           Male         Caucasian   1   \n",
       "CMC_PITT_118         Pitt         Female         Caucasian   1   \n",
       "\n",
       "              Benzodiazepines Anticonvulsants AntipsychTyp AntipsychAtyp  \\\n",
       "Individual ID                                                              \n",
       "CMC_MSSM_027                0               0            0             0   \n",
       "CMC_MSSM_033                0               0            0             0   \n",
       "CMC_MSSM_055                0               0            0             0   \n",
       "CMC_MSSM_056                0               0            0             0   \n",
       "CMC_MSSM_063                0               0            0             0   \n",
       "...                       ...             ...          ...           ...   \n",
       "CMC_PITT_098                0               0            0             0   \n",
       "CMC_PITT_101                0               0            0             0   \n",
       "CMC_PITT_113                0               0            0             0   \n",
       "CMC_PITT_117                0               1            0             1   \n",
       "CMC_PITT_118                0               0            1             0   \n",
       "\n",
       "              Antidepress Lithium Illicitsub causeOfDeath      EV_1      EV_2  \\\n",
       "Individual ID                                                                   \n",
       "CMC_MSSM_027            0       0          0            1  0.019061 -0.043151   \n",
       "CMC_MSSM_033            0       0          0            1 -0.082774  0.000918   \n",
       "CMC_MSSM_055            0       0          0            1  0.020298  0.018617   \n",
       "CMC_MSSM_056            0       0          0            1  0.020853  0.030543   \n",
       "CMC_MSSM_063            0       0          0            5  0.020810 -0.010395   \n",
       "...                   ...     ...        ...          ...       ...       ...   \n",
       "CMC_PITT_098            0       0          0            1  0.021925  0.017359   \n",
       "CMC_PITT_101            0       0          0            1  0.020204 -0.004967   \n",
       "CMC_PITT_113            0       0          0            1  0.020509  0.025007   \n",
       "CMC_PITT_117            0       0          0            5  0.020385  0.018580   \n",
       "CMC_PITT_118            0       0          0            1  0.021532  0.004611   \n",
       "\n",
       "                   EV_3      EV_4      EV_5  \n",
       "Individual ID                                \n",
       "CMC_MSSM_027   0.005808  0.131348 -0.019458  \n",
       "CMC_MSSM_033   0.019960 -0.004903 -0.022186  \n",
       "CMC_MSSM_055  -0.001543 -0.010232  0.002140  \n",
       "CMC_MSSM_056  -0.006878 -0.011283  0.009727  \n",
       "CMC_MSSM_063   0.001832  0.038164 -0.018054  \n",
       "...                 ...       ...       ...  \n",
       "CMC_PITT_098   0.001280  0.002445  0.003736  \n",
       "CMC_PITT_101  -0.001258  0.041604 -0.004473  \n",
       "CMC_PITT_113  -0.001910 -0.031377  0.030459  \n",
       "CMC_PITT_117   0.002209  0.034594  0.027685  \n",
       "CMC_PITT_118   0.001182  0.035402 -0.005080  \n",
       "\n",
       "[95 rows x 17 columns]"
      ]
     },
     "execution_count": 20,
     "metadata": {},
     "output_type": "execute_result"
    }
   ],
   "source": [
    "clin"
   ]
  },
  {
   "cell_type": "markdown",
   "metadata": {},
   "source": [
    "## Modeling\n",
    "### Forward selection\n",
    "\n",
    "I used [this implementation](https://planspace.org/20150423-forward_selection_with_statsmodels/) of forward variable selection.  In this implementation the adjusted R-squared statistic was the score that was maximized as the algorithm progressed. "
   ]
  },
  {
   "cell_type": "code",
   "execution_count": 21,
   "metadata": {},
   "outputs": [],
   "source": [
    "best = fwsel.forward_selected(clin, 'Dx')"
   ]
  },
  {
   "cell_type": "markdown",
   "metadata": {},
   "source": [
    "The results below show that typical and atypical antipsychotics have the most significant \"effect\" on schizophrenia "
   ]
  },
  {
   "cell_type": "code",
   "execution_count": 22,
   "metadata": {},
   "outputs": [
    {
     "data": {
      "text/plain": [
       "'Dx ~ AntipsychAtyp + AntipsychTyp + EV_3 + Institution + Benzodiazepines + EV_5 + EV_4 + EV_2 + Anticonvulsants + 1'"
      ]
     },
     "execution_count": 22,
     "metadata": {},
     "output_type": "execute_result"
    }
   ],
   "source": [
    "best.model.formula"
   ]
  },
  {
   "cell_type": "code",
   "execution_count": 23,
   "metadata": {},
   "outputs": [
    {
     "data": {
      "text/html": [
       "<table class=\"simpletable\">\n",
       "<caption>OLS Regression Results</caption>\n",
       "<tr>\n",
       "  <th>Dep. Variable:</th>           <td>Dx</td>        <th>  R-squared:         </th> <td>   0.413</td>\n",
       "</tr>\n",
       "<tr>\n",
       "  <th>Model:</th>                   <td>OLS</td>       <th>  Adj. R-squared:    </th> <td>   0.351</td>\n",
       "</tr>\n",
       "<tr>\n",
       "  <th>Method:</th>             <td>Least Squares</td>  <th>  F-statistic:       </th> <td>   6.657</td>\n",
       "</tr>\n",
       "<tr>\n",
       "  <th>Date:</th>             <td>Wed, 12 Aug 2020</td> <th>  Prob (F-statistic):</th> <td>3.74e-07</td>\n",
       "</tr>\n",
       "<tr>\n",
       "  <th>Time:</th>                 <td>19:24:41</td>     <th>  Log-Likelihood:    </th> <td> -34.843</td>\n",
       "</tr>\n",
       "<tr>\n",
       "  <th>No. Observations:</th>      <td>    95</td>      <th>  AIC:               </th> <td>   89.69</td>\n",
       "</tr>\n",
       "<tr>\n",
       "  <th>Df Residuals:</th>          <td>    85</td>      <th>  BIC:               </th> <td>   115.2</td>\n",
       "</tr>\n",
       "<tr>\n",
       "  <th>Df Model:</th>              <td>     9</td>      <th>                     </th>     <td> </td>   \n",
       "</tr>\n",
       "<tr>\n",
       "  <th>Covariance Type:</th>      <td>nonrobust</td>    <th>                     </th>     <td> </td>   \n",
       "</tr>\n",
       "</table>\n",
       "<table class=\"simpletable\">\n",
       "<tr>\n",
       "            <td></td>              <th>coef</th>     <th>std err</th>      <th>t</th>      <th>P>|t|</th>  <th>[0.025</th>    <th>0.975]</th>  \n",
       "</tr>\n",
       "<tr>\n",
       "  <th>Intercept</th>            <td>    0.6175</td> <td>    0.052</td> <td>   11.772</td> <td> 0.000</td> <td>    0.513</td> <td>    0.722</td>\n",
       "</tr>\n",
       "<tr>\n",
       "  <th>AntipsychAtyp[T.1]</th>   <td>    0.3997</td> <td>    0.095</td> <td>    4.214</td> <td> 0.000</td> <td>    0.211</td> <td>    0.588</td>\n",
       "</tr>\n",
       "<tr>\n",
       "  <th>AntipsychTyp[T.1]</th>    <td>    0.4165</td> <td>    0.107</td> <td>    3.903</td> <td> 0.000</td> <td>    0.204</td> <td>    0.629</td>\n",
       "</tr>\n",
       "<tr>\n",
       "  <th>Institution[T.Pitt]</th>  <td>   -0.3230</td> <td>    0.103</td> <td>   -3.147</td> <td> 0.002</td> <td>   -0.527</td> <td>   -0.119</td>\n",
       "</tr>\n",
       "<tr>\n",
       "  <th>Benzodiazepines[T.1]</th> <td>   -0.2731</td> <td>    0.112</td> <td>   -2.433</td> <td> 0.017</td> <td>   -0.496</td> <td>   -0.050</td>\n",
       "</tr>\n",
       "<tr>\n",
       "  <th>Anticonvulsants[T.1]</th> <td>    0.1469</td> <td>    0.135</td> <td>    1.091</td> <td> 0.279</td> <td>   -0.121</td> <td>    0.415</td>\n",
       "</tr>\n",
       "<tr>\n",
       "  <th>EV_3</th>                 <td>    3.1819</td> <td>    0.937</td> <td>    3.395</td> <td> 0.001</td> <td>    1.318</td> <td>    5.046</td>\n",
       "</tr>\n",
       "<tr>\n",
       "  <th>EV_5</th>                 <td>   -1.8811</td> <td>    1.348</td> <td>   -1.395</td> <td> 0.167</td> <td>   -4.561</td> <td>    0.799</td>\n",
       "</tr>\n",
       "<tr>\n",
       "  <th>EV_4</th>                 <td>    1.2118</td> <td>    1.002</td> <td>    1.210</td> <td> 0.230</td> <td>   -0.780</td> <td>    3.203</td>\n",
       "</tr>\n",
       "<tr>\n",
       "  <th>EV_2</th>                 <td>    1.3129</td> <td>    1.141</td> <td>    1.151</td> <td> 0.253</td> <td>   -0.956</td> <td>    3.582</td>\n",
       "</tr>\n",
       "</table>\n",
       "<table class=\"simpletable\">\n",
       "<tr>\n",
       "  <th>Omnibus:</th>       <td> 9.145</td> <th>  Durbin-Watson:     </th> <td>   1.572</td>\n",
       "</tr>\n",
       "<tr>\n",
       "  <th>Prob(Omnibus):</th> <td> 0.010</td> <th>  Jarque-Bera (JB):  </th> <td>   4.645</td>\n",
       "</tr>\n",
       "<tr>\n",
       "  <th>Skew:</th>          <td>-0.326</td> <th>  Prob(JB):          </th> <td>  0.0980</td>\n",
       "</tr>\n",
       "<tr>\n",
       "  <th>Kurtosis:</th>      <td> 2.134</td> <th>  Cond. No.          </th> <td>    40.7</td>\n",
       "</tr>\n",
       "</table><br/><br/>Warnings:<br/>[1] Standard Errors assume that the covariance matrix of the errors is correctly specified."
      ],
      "text/plain": [
       "<class 'statsmodels.iolib.summary.Summary'>\n",
       "\"\"\"\n",
       "                            OLS Regression Results                            \n",
       "==============================================================================\n",
       "Dep. Variable:                     Dx   R-squared:                       0.413\n",
       "Model:                            OLS   Adj. R-squared:                  0.351\n",
       "Method:                 Least Squares   F-statistic:                     6.657\n",
       "Date:                Wed, 12 Aug 2020   Prob (F-statistic):           3.74e-07\n",
       "Time:                        19:24:41   Log-Likelihood:                -34.843\n",
       "No. Observations:                  95   AIC:                             89.69\n",
       "Df Residuals:                      85   BIC:                             115.2\n",
       "Df Model:                           9                                         \n",
       "Covariance Type:            nonrobust                                         \n",
       "========================================================================================\n",
       "                           coef    std err          t      P>|t|      [0.025      0.975]\n",
       "----------------------------------------------------------------------------------------\n",
       "Intercept                0.6175      0.052     11.772      0.000       0.513       0.722\n",
       "AntipsychAtyp[T.1]       0.3997      0.095      4.214      0.000       0.211       0.588\n",
       "AntipsychTyp[T.1]        0.4165      0.107      3.903      0.000       0.204       0.629\n",
       "Institution[T.Pitt]     -0.3230      0.103     -3.147      0.002      -0.527      -0.119\n",
       "Benzodiazepines[T.1]    -0.2731      0.112     -2.433      0.017      -0.496      -0.050\n",
       "Anticonvulsants[T.1]     0.1469      0.135      1.091      0.279      -0.121       0.415\n",
       "EV_3                     3.1819      0.937      3.395      0.001       1.318       5.046\n",
       "EV_5                    -1.8811      1.348     -1.395      0.167      -4.561       0.799\n",
       "EV_4                     1.2118      1.002      1.210      0.230      -0.780       3.203\n",
       "EV_2                     1.3129      1.141      1.151      0.253      -0.956       3.582\n",
       "==============================================================================\n",
       "Omnibus:                        9.145   Durbin-Watson:                   1.572\n",
       "Prob(Omnibus):                  0.010   Jarque-Bera (JB):                4.645\n",
       "Skew:                          -0.326   Prob(JB):                       0.0980\n",
       "Kurtosis:                       2.134   Cond. No.                         40.7\n",
       "==============================================================================\n",
       "\n",
       "Warnings:\n",
       "[1] Standard Errors assume that the covariance matrix of the errors is correctly specified.\n",
       "\"\"\""
      ]
     },
     "execution_count": 23,
     "metadata": {},
     "output_type": "execute_result"
    }
   ],
   "source": [
    "best.summary()"
   ]
  },
  {
   "cell_type": "markdown",
   "metadata": {},
   "source": [
    "### Antipsychotics\n",
    "\n",
    "The following summary shows that out of 67 schizophrenic individuals 28 did not take any antipsychotics."
   ]
  },
  {
   "cell_type": "code",
   "execution_count": 24,
   "metadata": {},
   "outputs": [
    {
     "data": {
      "text/plain": [
       "Dx  AntipsychTyp  AntipsychAtyp\n",
       "0   0             0                26\n",
       "                  1                 2\n",
       "    1             0                 0\n",
       "                  1                 0\n",
       "1   0             0                28\n",
       "                  1                22\n",
       "    1             0                11\n",
       "                  1                 6\n",
       "dtype: int64"
      ]
     },
     "execution_count": 24,
     "metadata": {},
     "output_type": "execute_result"
    }
   ],
   "source": [
    "clin.groupby(['Dx', 'AntipsychTyp', 'AntipsychAtyp']).size()"
   ]
  },
  {
   "cell_type": "markdown",
   "metadata": {},
   "source": [
    "### Fit diagnostics\n",
    "\n",
    "Atypical antipsychothics `AntipsychAtyp` had the most significant effect on disease status `Dx`.  Below are regression plots for this variable that show residuals as well as regression coefficients (slopes of solid straight lines in lower plots)."
   ]
  },
  {
   "cell_type": "code",
   "execution_count": 25,
   "metadata": {},
   "outputs": [
    {
     "data": {
      "image/png": "[encoded data removed]",
      "text/plain": [
       "<Figure size 640x480 with 4 Axes>"
      ]
     },
     "execution_count": 25,
     "metadata": {},
     "output_type": "execute_result"
    }
   ],
   "source": [
    "%matplotlib tk\n",
    "sm.graphics.plot_regress_exog(best, 'AntipsychAtyp[T.1]')"
   ]
  },
  {
   "cell_type": "markdown",
   "metadata": {},
   "source": [
    "### What about Ethnicity?\n",
    "\n",
    "To address this question we exclude EV_3 and repeat the forward variable selection"
   ]
  },
  {
   "cell_type": "code",
   "execution_count": 26,
   "metadata": {},
   "outputs": [],
   "source": [
    "best1 = fwsel.forward_selected(clin.drop(columns=['EV_3']), 'Dx')"
   ]
  },
  {
   "cell_type": "code",
   "execution_count": 27,
   "metadata": {},
   "outputs": [
    {
     "data": {
      "text/plain": [
       "'Dx ~ AntipsychAtyp + AntipsychTyp + Antidepress + Ethnicity + Institution + Benzodiazepines + EV_4 + 1'"
      ]
     },
     "execution_count": 27,
     "metadata": {},
     "output_type": "execute_result"
    }
   ],
   "source": [
    "best1.model.formula"
   ]
  },
  {
   "cell_type": "markdown",
   "metadata": {},
   "source": [
    "Recall the previous formula"
   ]
  },
  {
   "cell_type": "code",
   "execution_count": 28,
   "metadata": {},
   "outputs": [
    {
     "data": {
      "text/plain": [
       "'Dx ~ AntipsychAtyp + AntipsychTyp + EV_3 + Institution + Benzodiazepines + EV_5 + EV_4 + EV_2 + Anticonvulsants + 1'"
      ]
     },
     "execution_count": 28,
     "metadata": {},
     "output_type": "execute_result"
    }
   ],
   "source": [
    "best.model.formula"
   ]
  },
  {
   "cell_type": "markdown",
   "metadata": {},
   "source": [
    "Comparing the new `best1` to the previous `best` we see that Ethinicity has been selected in `best1` instead of EV_5 and EV_2.  EV_4 is still selected in `best1`."
   ]
  },
  {
   "cell_type": "code",
   "execution_count": 29,
   "metadata": {},
   "outputs": [
    {
     "data": {
      "text/html": [
       "<table class=\"simpletable\">\n",
       "<caption>OLS Regression Results</caption>\n",
       "<tr>\n",
       "  <th>Dep. Variable:</th>           <td>Dx</td>        <th>  R-squared:         </th> <td>   0.377</td>\n",
       "</tr>\n",
       "<tr>\n",
       "  <th>Model:</th>                   <td>OLS</td>       <th>  Adj. R-squared:    </th> <td>   0.319</td>\n",
       "</tr>\n",
       "<tr>\n",
       "  <th>Method:</th>             <td>Least Squares</td>  <th>  F-statistic:       </th> <td>   6.509</td>\n",
       "</tr>\n",
       "<tr>\n",
       "  <th>Date:</th>             <td>Wed, 12 Aug 2020</td> <th>  Prob (F-statistic):</th> <td>1.32e-06</td>\n",
       "</tr>\n",
       "<tr>\n",
       "  <th>Time:</th>                 <td>19:24:43</td>     <th>  Log-Likelihood:    </th> <td> -37.696</td>\n",
       "</tr>\n",
       "<tr>\n",
       "  <th>No. Observations:</th>      <td>    95</td>      <th>  AIC:               </th> <td>   93.39</td>\n",
       "</tr>\n",
       "<tr>\n",
       "  <th>Df Residuals:</th>          <td>    86</td>      <th>  BIC:               </th> <td>   116.4</td>\n",
       "</tr>\n",
       "<tr>\n",
       "  <th>Df Model:</th>              <td>     8</td>      <th>                     </th>     <td> </td>   \n",
       "</tr>\n",
       "<tr>\n",
       "  <th>Covariance Type:</th>      <td>nonrobust</td>    <th>                     </th>     <td> </td>   \n",
       "</tr>\n",
       "</table>\n",
       "<table class=\"simpletable\">\n",
       "<tr>\n",
       "             <td></td>               <th>coef</th>     <th>std err</th>      <th>t</th>      <th>P>|t|</th>  <th>[0.025</th>    <th>0.975]</th>  \n",
       "</tr>\n",
       "<tr>\n",
       "  <th>Intercept</th>              <td>    0.7041</td> <td>    0.109</td> <td>    6.481</td> <td> 0.000</td> <td>    0.488</td> <td>    0.920</td>\n",
       "</tr>\n",
       "<tr>\n",
       "  <th>AntipsychAtyp[T.1]</th>     <td>    0.4079</td> <td>    0.088</td> <td>    4.628</td> <td> 0.000</td> <td>    0.233</td> <td>    0.583</td>\n",
       "</tr>\n",
       "<tr>\n",
       "  <th>AntipsychTyp[T.1]</th>      <td>    0.4093</td> <td>    0.109</td> <td>    3.748</td> <td> 0.000</td> <td>    0.192</td> <td>    0.626</td>\n",
       "</tr>\n",
       "<tr>\n",
       "  <th>Antidepress[T.1]</th>       <td>   -0.1119</td> <td>    0.110</td> <td>   -1.013</td> <td> 0.314</td> <td>   -0.331</td> <td>    0.108</td>\n",
       "</tr>\n",
       "<tr>\n",
       "  <th>Ethnicity[T.Caucasian]</th> <td>   -0.0946</td> <td>    0.110</td> <td>   -0.859</td> <td> 0.393</td> <td>   -0.314</td> <td>    0.124</td>\n",
       "</tr>\n",
       "<tr>\n",
       "  <th>Ethnicity[T.Hispanic]</th>  <td>   -0.8651</td> <td>    0.292</td> <td>   -2.967</td> <td> 0.004</td> <td>   -1.445</td> <td>   -0.285</td>\n",
       "</tr>\n",
       "<tr>\n",
       "  <th>Institution[T.Pitt]</th>    <td>   -0.2579</td> <td>    0.100</td> <td>   -2.579</td> <td> 0.012</td> <td>   -0.457</td> <td>   -0.059</td>\n",
       "</tr>\n",
       "<tr>\n",
       "  <th>Benzodiazepines[T.1]</th>   <td>   -0.1893</td> <td>    0.118</td> <td>   -1.604</td> <td> 0.112</td> <td>   -0.424</td> <td>    0.045</td>\n",
       "</tr>\n",
       "<tr>\n",
       "  <th>EV_4</th>                   <td>    1.3811</td> <td>    1.031</td> <td>    1.339</td> <td> 0.184</td> <td>   -0.669</td> <td>    3.432</td>\n",
       "</tr>\n",
       "</table>\n",
       "<table class=\"simpletable\">\n",
       "<tr>\n",
       "  <th>Omnibus:</th>       <td>14.218</td> <th>  Durbin-Watson:     </th> <td>   1.464</td>\n",
       "</tr>\n",
       "<tr>\n",
       "  <th>Prob(Omnibus):</th> <td> 0.001</td> <th>  Jarque-Bera (JB):  </th> <td>   6.704</td>\n",
       "</tr>\n",
       "<tr>\n",
       "  <th>Skew:</th>          <td>-0.439</td> <th>  Prob(JB):          </th> <td>  0.0350</td>\n",
       "</tr>\n",
       "<tr>\n",
       "  <th>Kurtosis:</th>      <td> 2.040</td> <th>  Cond. No.          </th> <td>    37.8</td>\n",
       "</tr>\n",
       "</table><br/><br/>Warnings:<br/>[1] Standard Errors assume that the covariance matrix of the errors is correctly specified."
      ],
      "text/plain": [
       "<class 'statsmodels.iolib.summary.Summary'>\n",
       "\"\"\"\n",
       "                            OLS Regression Results                            \n",
       "==============================================================================\n",
       "Dep. Variable:                     Dx   R-squared:                       0.377\n",
       "Model:                            OLS   Adj. R-squared:                  0.319\n",
       "Method:                 Least Squares   F-statistic:                     6.509\n",
       "Date:                Wed, 12 Aug 2020   Prob (F-statistic):           1.32e-06\n",
       "Time:                        19:24:43   Log-Likelihood:                -37.696\n",
       "No. Observations:                  95   AIC:                             93.39\n",
       "Df Residuals:                      86   BIC:                             116.4\n",
       "Df Model:                           8                                         \n",
       "Covariance Type:            nonrobust                                         \n",
       "==========================================================================================\n",
       "                             coef    std err          t      P>|t|      [0.025      0.975]\n",
       "------------------------------------------------------------------------------------------\n",
       "Intercept                  0.7041      0.109      6.481      0.000       0.488       0.920\n",
       "AntipsychAtyp[T.1]         0.4079      0.088      4.628      0.000       0.233       0.583\n",
       "AntipsychTyp[T.1]          0.4093      0.109      3.748      0.000       0.192       0.626\n",
       "Antidepress[T.1]          -0.1119      0.110     -1.013      0.314      -0.331       0.108\n",
       "Ethnicity[T.Caucasian]    -0.0946      0.110     -0.859      0.393      -0.314       0.124\n",
       "Ethnicity[T.Hispanic]     -0.8651      0.292     -2.967      0.004      -1.445      -0.285\n",
       "Institution[T.Pitt]       -0.2579      0.100     -2.579      0.012      -0.457      -0.059\n",
       "Benzodiazepines[T.1]      -0.1893      0.118     -1.604      0.112      -0.424       0.045\n",
       "EV_4                       1.3811      1.031      1.339      0.184      -0.669       3.432\n",
       "==============================================================================\n",
       "Omnibus:                       14.218   Durbin-Watson:                   1.464\n",
       "Prob(Omnibus):                  0.001   Jarque-Bera (JB):                6.704\n",
       "Skew:                          -0.439   Prob(JB):                       0.0350\n",
       "Kurtosis:                       2.040   Cond. No.                         37.8\n",
       "==============================================================================\n",
       "\n",
       "Warnings:\n",
       "[1] Standard Errors assume that the covariance matrix of the errors is correctly specified.\n",
       "\"\"\""
      ]
     },
     "execution_count": 29,
     "metadata": {},
     "output_type": "execute_result"
    }
   ],
   "source": [
    "best1.summary()"
   ]
  },
  {
   "cell_type": "markdown",
   "metadata": {},
   "source": [
    "The summary shows that including EV_3 is beneficial for fit (R-squared, Adj. R-squared, AIC, BIC) although the effect is not enormous."
   ]
  },
  {
   "cell_type": "markdown",
   "metadata": {},
   "source": [
    "## Conclusions\n",
    "\n",
    "* Much of the CMC clinical data is missing.  Filtering removed most variables leaving about a dozen, some of which had one missing valueh, which were imputed using the sample mean (or mode for categorical variables)\n",
    "* Reported Gender and Sex are nearly identical.  Sex is a three level factor: XX, XY and XXY. The third level, XXY, occurs in only one individual, a schizophrenic male with Klinefelter syndrome.  To avoid colinearity between these two variables one of them needs to be removed.  Removing Sex leaves the simpler (two level) Reported Gender in the data set.\n",
    "* The remaining 12 variables were split to 1 response (`Dx`) and 11 explanatory variables.  8/11 explanatory variables were selected with a forward strategy using normal linear models and adjusted R-squared as score.\n",
    "* Among the 8 selected explanatory variables only AntipsychAtyp, AntipsychAtyp, Alcohol and Ancestry EV.3 (or Ethinicity if EV.3 has been omitted) had significant ($p \\le 0.01$) \"effect\" on disease status.  Not quite significant effects were displayed by Institution and Gender.\n",
    "* AntipsychAtyp, AntipsychAtyp might be assumed to be an *a posteriori* conditions relative to the onset of schizophrenia.  That assumption means they do not carry risk for schizophrenia.  On the other hand, Ancestry (Ethinicity) is clearly an *a priori* condition and as the regression coefficient's t-statistic suggests being African American carries risk relative to Hispanic individuals.\n",
    "* Thus *a posteriori* explanatory variables may or may not be included in further analyses. \n",
    "    * If they *are* included they improve fit\n",
    "    * If they are *not* included they might confound inference.  Despite that excluding all clinical variables (except individual ID) is beneficial because ordinary least squares (OLS) can be used instead of generalized ones (GLS)."
   ]
  },
  {
   "cell_type": "code",
   "execution_count": 30,
   "metadata": {},
   "outputs": [
    {
     "name": "stdout",
     "output_type": "stream",
     "text": [
      "{\n",
      "  \"shell_port\": 51585,\n",
      "  \"iopub_port\": 41747,\n",
      "  \"stdin_port\": 58689,\n",
      "  \"control_port\": 53391,\n",
      "  \"hb_port\": 41059,\n",
      "  \"ip\": \"127.0.0.1\",\n",
      "  \"key\": \"7db0785a-f18061a9c8da1492a4345949\",\n",
      "  \"transport\": \"tcp\",\n",
      "  \"signature_scheme\": \"hmac-sha256\",\n",
      "  \"kernel_name\": \"\"\n",
      "}\n",
      "\n",
      "Paste the above JSON into a file, and connect with:\n",
      "    $> jupyter <app> --existing <file>\n",
      "or, if you are local, you can connect with just:\n",
      "    $> jupyter <app> --existing kernel-68b44792-5c18-46d5-971c-f067d527ac84.json\n",
      "or even just:\n",
      "    $> jupyter <app> --existing\n",
      "if this is the most recent Jupyter kernel you have started.\n"
     ]
    }
   ],
   "source": [
    "%connect_info"
   ]
  }
 ],
 "metadata": {
  "kernelspec": {
   "display_name": "Python 3",
   "language": "python",
   "name": "python3"
  },
  "language_info": {
   "codemirror_mode": {
    "name": "ipython",
    "version": 3
   },
   "file_extension": ".py",
   "mimetype": "text/x-python",
   "name": "python",
   "nbconvert_exporter": "python",
   "pygments_lexer": "ipython3",
   "version": "3.7.6"
  }
 },
 "nbformat": 4,
 "nbformat_minor": 4
}
