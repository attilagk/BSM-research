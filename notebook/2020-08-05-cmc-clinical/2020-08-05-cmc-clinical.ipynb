{
 "cells": [
  {
   "cell_type": "markdown",
   "metadata": {},
   "source": [
    "Inspection of the entire CMC Human clinical data set and its subset that is relevant to our BSM study."
   ]
  },
  {
   "cell_type": "code",
   "execution_count": 1,
   "metadata": {},
   "outputs": [],
   "source": [
    "%load_ext autoreload\n",
    "%autoreload 2\n",
    "%reload_ext autoreload\n",
    "from matplotlib import pyplot as plt\n",
    "import pandas as pd\n",
    "import numpy as np\n",
    "import statsmodels.api as sm\n",
    "import synapseclient\n",
    "import fwsel"
   ]
  },
  {
   "cell_type": "markdown",
   "metadata": {},
   "source": [
    "## Data set\n",
    "### Import and general properties"
   ]
  },
  {
   "cell_type": "code",
   "execution_count": 2,
   "metadata": {},
   "outputs": [
    {
     "name": "stdout",
     "output_type": "stream",
     "text": [
      "Welcome, Attila Jones!\n",
      "\n"
     ]
    }
   ],
   "source": [
    "syn = synapseclient.login()\n",
    "wdir = '/big/results/bsm/2020-08-05-cmc-clinical'\n",
    "cmc_clinical_syn = syn.get('syn2279441', downloadLocation=wdir, ifcollision='overwrite.local')\n",
    "cmc_clinical = pd.read_csv(cmc_clinical_syn.path, index_col='Individual ID')"
   ]
  },
  {
   "cell_type": "code",
   "execution_count": 3,
   "metadata": {},
   "outputs": [
    {
     "name": "stdout",
     "output_type": "stream",
     "text": [
      "116 samples from 95 individuals\n"
     ]
    }
   ],
   "source": [
    "samples = pd.read_csv('/big/results/bsm/2020-05-18-processed-samples/all_samples.csv')\n",
    "individuals = list(set(samples['Individual ID']))\n",
    "individuals.sort()\n",
    "print(len(samples), 'samples from', len(individuals), 'individuals')"
   ]
  },
  {
   "cell_type": "code",
   "execution_count": 4,
   "metadata": {},
   "outputs": [],
   "source": [
    "clin = cmc_clinical.loc[individuals, :]\n",
    "clin.to_csv(wdir + '/all_samples_clinical.csv')"
   ]
  },
  {
   "cell_type": "markdown",
   "metadata": {},
   "source": [
    "### Variables with missing values"
   ]
  },
  {
   "cell_type": "code",
   "execution_count": 5,
   "metadata": {},
   "outputs": [
    {
     "data": {
      "text/plain": [
       "Brain Weight (in grams)                   1\n",
       "CDR                                      20\n",
       "pH                                       22\n",
       "H/O Stroke                               28\n",
       "H/O COPD                                 28\n",
       "H/O Head Inj.                            28\n",
       "Lobotomy                                 28\n",
       "Braak Stage                              28\n",
       "H/O PD.AD.LBD.Pick                       28\n",
       "Seizures                                 28\n",
       "Weight (kg)                              39\n",
       "Weight (pounds)                          39\n",
       "BMI (Traditional)                        46\n",
       "BMI (cm/kg)                              46\n",
       "Height (cm)                              46\n",
       "Height (Inches)                          46\n",
       "Antipsychotic-Free (weeks)               50\n",
       "DescDeath                                69\n",
       "Presence or Absence of Dementia (Y/N)    75\n",
       "SCZ Pair                                 76\n",
       "Tobacco (Past)                           91\n",
       "Changed (used Affy phenotype)            92\n",
       "Individual Notes                         94\n",
       "BP Pair                                  94\n",
       "mannerOfDeath                            95\n",
       "MaritalStatus                            95\n",
       "FormalinTissue                           95\n",
       "Toxicology Screen: Alcohol               95\n",
       "Toxicology Screen: Antipsychotics        95\n",
       "Toxicology Screen: Antidepress           95\n",
       "Years of Education                       95\n",
       "Toxicology Screen: Moodstab              95\n",
       "Toxicology Screen: Nicotine/Cotinine     95\n",
       "Toxicology Screen: THC                   95\n",
       "Toxicology Screen: Cocaine               95\n",
       "Toxicology Screen: Opiates               95\n",
       "otherDiagnosis                           95\n",
       "otherMedicalDetail                       95\n",
       "Toxicology Screen: Benzos                95\n",
       "Education                                95\n",
       "Source of Autopsy                        95\n",
       "Brain ID                                 95\n",
       "VexcText                                 95\n",
       "VExC                                     95\n",
       "Race                                     95\n",
       "Genotype Inferred Ancestry               95\n",
       "Date of Death                            95\n",
       "Time of Death                            95\n",
       "Time of Death (Military)                 95\n",
       "Autopsy ID                               95\n",
       "Cardiovascular Disease                   95\n",
       "primaryDiagnosisDetail                   95\n",
       "Neuropath                                95\n",
       "Neuropath desc                           95\n",
       "Gross Diagnosis                          95\n",
       "ECT                                      95\n",
       "PMICertain                               95\n",
       "dtype: int64"
      ]
     },
     "execution_count": 5,
     "metadata": {},
     "output_type": "execute_result"
    }
   ],
   "source": [
    "l = list()\n",
    "for col in clin.columns:\n",
    "    missing = len(clin) - len(clin[col].dropna())\n",
    "    s = pd.Series([missing], index=[col])\n",
    "    l.append(s)\n",
    "\n",
    "ss = pd.concat(l).sort_values()\n",
    "ss.loc[ss != 0]"
   ]
  },
  {
   "cell_type": "markdown",
   "metadata": {},
   "source": [
    "Impute the missing observation for Brain Weight with the sample mean "
   ]
  },
  {
   "cell_type": "code",
   "execution_count": 6,
   "metadata": {},
   "outputs": [],
   "source": [
    "clin.loc[np.isnan(clin['Brain Weight (in grams)']), 'Brain Weight (in grams)'] = clin['Brain Weight (in grams)'].mean()"
   ]
  },
  {
   "cell_type": "markdown",
   "metadata": {},
   "source": [
    "### Filtering I\n",
    "\n",
    "Now remove all columns with missing data"
   ]
  },
  {
   "cell_type": "code",
   "execution_count": 7,
   "metadata": {},
   "outputs": [
    {
     "data": {
      "text/plain": [
       "Index(['Institution', 'Reported Gender', 'Sex', 'Ethnicity', 'ageOfDeath',\n",
       "       'Brain Weight (in grams)', 'PMI (in hours)', 'Dx', 'Year of Autopsy',\n",
       "       'Benzodiazepines', 'Anticonvulsants', 'AntipsychTyp', 'AntipsychAtyp',\n",
       "       'Antidepress', 'Lithium', 'Tobacco', 'Alcohol', 'Illicitsub',\n",
       "       'causeOfDeath', 'Hyperten', 'DiabetesInsDep', 'DiabetesNonInsDep'],\n",
       "      dtype='object')"
      ]
     },
     "execution_count": 7,
     "metadata": {},
     "output_type": "execute_result"
    }
   ],
   "source": [
    "clin = clin.dropna(axis=1)\n",
    "clin.columns"
   ]
  },
  {
   "cell_type": "markdown",
   "metadata": {},
   "source": [
    "Inspect data types for remaining columns"
   ]
  },
  {
   "cell_type": "code",
   "execution_count": 8,
   "metadata": {},
   "outputs": [
    {
     "data": {
      "text/plain": [
       "Institution           object\n",
       "ReportedGender        object\n",
       "Sex                   object\n",
       "Ethnicity             object\n",
       "ageOfDeath           float64\n",
       "BrainWeight          float64\n",
       "PMI                  float64\n",
       "Dx                    object\n",
       "YearOfAutopsy        float64\n",
       "Benzodiazepines      float64\n",
       "Anticonvulsants      float64\n",
       "AntipsychTyp         float64\n",
       "AntipsychAtyp        float64\n",
       "Antidepress          float64\n",
       "Lithium              float64\n",
       "Tobacco              float64\n",
       "Alcohol              float64\n",
       "Illicitsub           float64\n",
       "causeOfDeath         float64\n",
       "Hyperten             float64\n",
       "DiabetesInsDep       float64\n",
       "DiabetesNonInsDep    float64\n",
       "dtype: object"
      ]
     },
     "execution_count": 8,
     "metadata": {},
     "output_type": "execute_result"
    }
   ],
   "source": [
    "clin = clin.rename(columns={'PMI (in hours)': 'PMI', 'Year of Autopsy': 'YearOfAutopsy', 'Reported Gender': 'ReportedGender', 'Brain Weight (in grams)': 'BrainWeight'})\n",
    "clin.dtypes"
   ]
  },
  {
   "cell_type": "markdown",
   "metadata": {},
   "source": [
    "Adjust data types"
   ]
  },
  {
   "cell_type": "code",
   "execution_count": 9,
   "metadata": {},
   "outputs": [],
   "source": [
    "l = [clin.loc[:, :'Ethnicity'].astype('category'),\n",
    "pd.DataFrame({'Dx': [np.int(y == 'SCZ') for y in clin['Dx']]}, index=clin.index),\n",
    "clin.loc[:, 'Benzodiazepines':].astype('int').astype('category')]\n",
    "clin = pd.concat(l, axis=1)"
   ]
  },
  {
   "cell_type": "markdown",
   "metadata": {},
   "source": [
    "### Filtering II\n",
    "\n",
    "It turned out from an email communication with Jessica Johnson that there are missing data labeled with `-1`.  Let's filter the data according to this! "
   ]
  },
  {
   "cell_type": "code",
   "execution_count": 10,
   "metadata": {},
   "outputs": [
    {
     "name": "stdout",
     "output_type": "stream",
     "text": [
      "31 missing in Tobacco\n",
      "1 missing in Alcohol\n",
      "1 missing in causeOfDeath\n",
      "10 missing in Hyperten\n",
      "10 missing in DiabetesInsDep\n",
      "10 missing in DiabetesNonInsDep\n"
     ]
    }
   ],
   "source": [
    "for col in clin.loc[:, 'Benzodiazepines':].columns:\n",
    "    s = clin.groupby(col).size()\n",
    "    if -1 in set(s.index):\n",
    "        print(s.loc[-1], 'missing in', col)"
   ]
  },
  {
   "cell_type": "markdown",
   "metadata": {},
   "source": [
    "Since only one point is missing for both Alcohol and causeOfDeath, these variables are imputed and kept.  The rest are dropped."
   ]
  },
  {
   "cell_type": "code",
   "execution_count": 11,
   "metadata": {},
   "outputs": [],
   "source": [
    "clin = clin.drop(columns=['Tobacco', 'Hyperten', 'DiabetesInsDep', 'DiabetesNonInsDep'])"
   ]
  },
  {
   "cell_type": "markdown",
   "metadata": {},
   "source": [
    "Impute Alcohol and causeOfDeath"
   ]
  },
  {
   "cell_type": "code",
   "execution_count": 12,
   "metadata": {},
   "outputs": [],
   "source": [
    "def replaceWithMode(col='Alcohol', clin=clin):\n",
    "    '''Returns the mode i.e the most frequent category'''\n",
    "    df = clin.groupby(col).size()\n",
    "    d = dict(zip(list(df), df.index))\n",
    "    mode = d[df.max()]\n",
    "    s = clin[col]\n",
    "    s = pd.Series([(lambda y: mode if y == -1 else y)(x) for x in s], index=clin.index, dtype='category')\n",
    "    return(s)\n",
    "\n",
    "clin['Alcohol'] = replaceWithMode(col='Alcohol')\n",
    "clin['causeOfDeath'] = replaceWithMode(col='causeOfDeath')"
   ]
  },
  {
   "cell_type": "markdown",
   "metadata": {},
   "source": [
    "### Further filtering to avoid colinearity"
   ]
  },
  {
   "cell_type": "code",
   "execution_count": 13,
   "metadata": {},
   "outputs": [
    {
     "data": {
      "text/plain": [
       "Index(['Institution', 'ReportedGender', 'Sex', 'Ethnicity', 'Dx',\n",
       "       'Benzodiazepines', 'Anticonvulsants', 'AntipsychTyp', 'AntipsychAtyp',\n",
       "       'Antidepress', 'Lithium', 'Alcohol', 'Illicitsub', 'causeOfDeath'],\n",
       "      dtype='object')"
      ]
     },
     "execution_count": 13,
     "metadata": {},
     "output_type": "execute_result"
    }
   ],
   "source": [
    "clin.columns"
   ]
  },
  {
   "cell_type": "markdown",
   "metadata": {},
   "source": [
    "#### ReportedGender and Sex\n",
    "\n",
    "One of the individuals was a schizophrenic male with Klinefelter syndrome."
   ]
  },
  {
   "cell_type": "code",
   "execution_count": 14,
   "metadata": {},
   "outputs": [
    {
     "data": {
      "text/plain": [
       "ReportedGender  Sex  Dx\n",
       "Female          XX   0      9\n",
       "                     1     25\n",
       "                XXY  0      0\n",
       "                     1      0\n",
       "                XY   0      0\n",
       "                     1      0\n",
       "Male            XX   0      0\n",
       "                     1      0\n",
       "                XXY  0      0\n",
       "                     1      1\n",
       "                XY   0     19\n",
       "                     1     41\n",
       "dtype: int64"
      ]
     },
     "execution_count": 14,
     "metadata": {},
     "output_type": "execute_result"
    }
   ],
   "source": [
    "clin.groupby(['ReportedGender', 'Sex', 'Dx']).size()"
   ]
  },
  {
   "cell_type": "code",
   "execution_count": 15,
   "metadata": {},
   "outputs": [
    {
     "data": {
      "text/html": [
       "<div>\n",
       "<style scoped>\n",
       "    .dataframe tbody tr th:only-of-type {\n",
       "        vertical-align: middle;\n",
       "    }\n",
       "\n",
       "    .dataframe tbody tr th {\n",
       "        vertical-align: top;\n",
       "    }\n",
       "\n",
       "    .dataframe thead th {\n",
       "        text-align: right;\n",
       "    }\n",
       "</style>\n",
       "<table border=\"1\" class=\"dataframe\">\n",
       "  <thead>\n",
       "    <tr style=\"text-align: right;\">\n",
       "      <th></th>\n",
       "      <th>ReportedGender</th>\n",
       "      <th>Sex</th>\n",
       "    </tr>\n",
       "    <tr>\n",
       "      <th>Individual ID</th>\n",
       "      <th></th>\n",
       "      <th></th>\n",
       "    </tr>\n",
       "  </thead>\n",
       "  <tbody>\n",
       "    <tr>\n",
       "      <th>CMC_MSSM_213</th>\n",
       "      <td>Male</td>\n",
       "      <td>XXY</td>\n",
       "    </tr>\n",
       "  </tbody>\n",
       "</table>\n",
       "</div>"
      ],
      "text/plain": [
       "              ReportedGender  Sex\n",
       "Individual ID                    \n",
       "CMC_MSSM_213            Male  XXY"
      ]
     },
     "execution_count": 15,
     "metadata": {},
     "output_type": "execute_result"
    }
   ],
   "source": [
    "clin.loc[clin['Sex'] == 'XXY', ['ReportedGender', 'Sex']]"
   ]
  },
  {
   "cell_type": "markdown",
   "metadata": {},
   "source": [
    "Note that there are no transgender individuals with canonical XX or XY chromosomes. It is simpler to keep ReportedGender and drop Sex because the latter is a three level factor whose third level, XXY, occurs only in one individual."
   ]
  },
  {
   "cell_type": "code",
   "execution_count": 16,
   "metadata": {},
   "outputs": [],
   "source": [
    "clin = clin.drop(columns='Sex') # this is essentially the same as \"Sex\" "
   ]
  },
  {
   "cell_type": "markdown",
   "metadata": {},
   "source": [
    "## The cleaned data set"
   ]
  },
  {
   "cell_type": "code",
   "execution_count": 17,
   "metadata": {},
   "outputs": [
    {
     "data": {
      "text/html": [
       "<div>\n",
       "<style scoped>\n",
       "    .dataframe tbody tr th:only-of-type {\n",
       "        vertical-align: middle;\n",
       "    }\n",
       "\n",
       "    .dataframe tbody tr th {\n",
       "        vertical-align: top;\n",
       "    }\n",
       "\n",
       "    .dataframe thead th {\n",
       "        text-align: right;\n",
       "    }\n",
       "</style>\n",
       "<table border=\"1\" class=\"dataframe\">\n",
       "  <thead>\n",
       "    <tr style=\"text-align: right;\">\n",
       "      <th></th>\n",
       "      <th>Institution</th>\n",
       "      <th>ReportedGender</th>\n",
       "      <th>Ethnicity</th>\n",
       "      <th>Dx</th>\n",
       "      <th>Benzodiazepines</th>\n",
       "      <th>Anticonvulsants</th>\n",
       "      <th>AntipsychTyp</th>\n",
       "      <th>AntipsychAtyp</th>\n",
       "      <th>Antidepress</th>\n",
       "      <th>Lithium</th>\n",
       "      <th>Alcohol</th>\n",
       "      <th>Illicitsub</th>\n",
       "      <th>causeOfDeath</th>\n",
       "    </tr>\n",
       "    <tr>\n",
       "      <th>Individual ID</th>\n",
       "      <th></th>\n",
       "      <th></th>\n",
       "      <th></th>\n",
       "      <th></th>\n",
       "      <th></th>\n",
       "      <th></th>\n",
       "      <th></th>\n",
       "      <th></th>\n",
       "      <th></th>\n",
       "      <th></th>\n",
       "      <th></th>\n",
       "      <th></th>\n",
       "      <th></th>\n",
       "    </tr>\n",
       "  </thead>\n",
       "  <tbody>\n",
       "    <tr>\n",
       "      <th>CMC_MSSM_027</th>\n",
       "      <td>MSSM</td>\n",
       "      <td>Male</td>\n",
       "      <td>Caucasian</td>\n",
       "      <td>1</td>\n",
       "      <td>0</td>\n",
       "      <td>0</td>\n",
       "      <td>0</td>\n",
       "      <td>0</td>\n",
       "      <td>0</td>\n",
       "      <td>0</td>\n",
       "      <td>1</td>\n",
       "      <td>0</td>\n",
       "      <td>1</td>\n",
       "    </tr>\n",
       "    <tr>\n",
       "      <th>CMC_MSSM_033</th>\n",
       "      <td>MSSM</td>\n",
       "      <td>Female</td>\n",
       "      <td>African-American</td>\n",
       "      <td>0</td>\n",
       "      <td>0</td>\n",
       "      <td>0</td>\n",
       "      <td>0</td>\n",
       "      <td>0</td>\n",
       "      <td>0</td>\n",
       "      <td>0</td>\n",
       "      <td>0</td>\n",
       "      <td>0</td>\n",
       "      <td>1</td>\n",
       "    </tr>\n",
       "    <tr>\n",
       "      <th>CMC_MSSM_055</th>\n",
       "      <td>MSSM</td>\n",
       "      <td>Male</td>\n",
       "      <td>Caucasian</td>\n",
       "      <td>0</td>\n",
       "      <td>0</td>\n",
       "      <td>0</td>\n",
       "      <td>0</td>\n",
       "      <td>0</td>\n",
       "      <td>0</td>\n",
       "      <td>0</td>\n",
       "      <td>0</td>\n",
       "      <td>0</td>\n",
       "      <td>1</td>\n",
       "    </tr>\n",
       "    <tr>\n",
       "      <th>CMC_MSSM_056</th>\n",
       "      <td>MSSM</td>\n",
       "      <td>Female</td>\n",
       "      <td>Caucasian</td>\n",
       "      <td>0</td>\n",
       "      <td>0</td>\n",
       "      <td>0</td>\n",
       "      <td>0</td>\n",
       "      <td>0</td>\n",
       "      <td>0</td>\n",
       "      <td>0</td>\n",
       "      <td>0</td>\n",
       "      <td>0</td>\n",
       "      <td>1</td>\n",
       "    </tr>\n",
       "    <tr>\n",
       "      <th>CMC_MSSM_063</th>\n",
       "      <td>MSSM</td>\n",
       "      <td>Male</td>\n",
       "      <td>Caucasian</td>\n",
       "      <td>0</td>\n",
       "      <td>0</td>\n",
       "      <td>0</td>\n",
       "      <td>0</td>\n",
       "      <td>0</td>\n",
       "      <td>0</td>\n",
       "      <td>0</td>\n",
       "      <td>0</td>\n",
       "      <td>0</td>\n",
       "      <td>5</td>\n",
       "    </tr>\n",
       "    <tr>\n",
       "      <th>...</th>\n",
       "      <td>...</td>\n",
       "      <td>...</td>\n",
       "      <td>...</td>\n",
       "      <td>...</td>\n",
       "      <td>...</td>\n",
       "      <td>...</td>\n",
       "      <td>...</td>\n",
       "      <td>...</td>\n",
       "      <td>...</td>\n",
       "      <td>...</td>\n",
       "      <td>...</td>\n",
       "      <td>...</td>\n",
       "      <td>...</td>\n",
       "    </tr>\n",
       "    <tr>\n",
       "      <th>CMC_PITT_098</th>\n",
       "      <td>Pitt</td>\n",
       "      <td>Male</td>\n",
       "      <td>Caucasian</td>\n",
       "      <td>0</td>\n",
       "      <td>0</td>\n",
       "      <td>0</td>\n",
       "      <td>0</td>\n",
       "      <td>0</td>\n",
       "      <td>0</td>\n",
       "      <td>0</td>\n",
       "      <td>0</td>\n",
       "      <td>0</td>\n",
       "      <td>1</td>\n",
       "    </tr>\n",
       "    <tr>\n",
       "      <th>CMC_PITT_101</th>\n",
       "      <td>Pitt</td>\n",
       "      <td>Male</td>\n",
       "      <td>Caucasian</td>\n",
       "      <td>0</td>\n",
       "      <td>0</td>\n",
       "      <td>0</td>\n",
       "      <td>0</td>\n",
       "      <td>0</td>\n",
       "      <td>0</td>\n",
       "      <td>0</td>\n",
       "      <td>0</td>\n",
       "      <td>0</td>\n",
       "      <td>1</td>\n",
       "    </tr>\n",
       "    <tr>\n",
       "      <th>CMC_PITT_113</th>\n",
       "      <td>Pitt</td>\n",
       "      <td>Male</td>\n",
       "      <td>Caucasian</td>\n",
       "      <td>0</td>\n",
       "      <td>0</td>\n",
       "      <td>0</td>\n",
       "      <td>0</td>\n",
       "      <td>0</td>\n",
       "      <td>0</td>\n",
       "      <td>0</td>\n",
       "      <td>0</td>\n",
       "      <td>0</td>\n",
       "      <td>1</td>\n",
       "    </tr>\n",
       "    <tr>\n",
       "      <th>CMC_PITT_117</th>\n",
       "      <td>Pitt</td>\n",
       "      <td>Male</td>\n",
       "      <td>Caucasian</td>\n",
       "      <td>1</td>\n",
       "      <td>0</td>\n",
       "      <td>1</td>\n",
       "      <td>0</td>\n",
       "      <td>1</td>\n",
       "      <td>0</td>\n",
       "      <td>0</td>\n",
       "      <td>0</td>\n",
       "      <td>0</td>\n",
       "      <td>5</td>\n",
       "    </tr>\n",
       "    <tr>\n",
       "      <th>CMC_PITT_118</th>\n",
       "      <td>Pitt</td>\n",
       "      <td>Female</td>\n",
       "      <td>Caucasian</td>\n",
       "      <td>1</td>\n",
       "      <td>0</td>\n",
       "      <td>0</td>\n",
       "      <td>1</td>\n",
       "      <td>0</td>\n",
       "      <td>0</td>\n",
       "      <td>0</td>\n",
       "      <td>0</td>\n",
       "      <td>0</td>\n",
       "      <td>1</td>\n",
       "    </tr>\n",
       "  </tbody>\n",
       "</table>\n",
       "<p>95 rows × 13 columns</p>\n",
       "</div>"
      ],
      "text/plain": [
       "              Institution ReportedGender         Ethnicity  Dx  \\\n",
       "Individual ID                                                    \n",
       "CMC_MSSM_027         MSSM           Male         Caucasian   1   \n",
       "CMC_MSSM_033         MSSM         Female  African-American   0   \n",
       "CMC_MSSM_055         MSSM           Male         Caucasian   0   \n",
       "CMC_MSSM_056         MSSM         Female         Caucasian   0   \n",
       "CMC_MSSM_063         MSSM           Male         Caucasian   0   \n",
       "...                   ...            ...               ...  ..   \n",
       "CMC_PITT_098         Pitt           Male         Caucasian   0   \n",
       "CMC_PITT_101         Pitt           Male         Caucasian   0   \n",
       "CMC_PITT_113         Pitt           Male         Caucasian   0   \n",
       "CMC_PITT_117         Pitt           Male         Caucasian   1   \n",
       "CMC_PITT_118         Pitt         Female         Caucasian   1   \n",
       "\n",
       "              Benzodiazepines Anticonvulsants AntipsychTyp AntipsychAtyp  \\\n",
       "Individual ID                                                              \n",
       "CMC_MSSM_027                0               0            0             0   \n",
       "CMC_MSSM_033                0               0            0             0   \n",
       "CMC_MSSM_055                0               0            0             0   \n",
       "CMC_MSSM_056                0               0            0             0   \n",
       "CMC_MSSM_063                0               0            0             0   \n",
       "...                       ...             ...          ...           ...   \n",
       "CMC_PITT_098                0               0            0             0   \n",
       "CMC_PITT_101                0               0            0             0   \n",
       "CMC_PITT_113                0               0            0             0   \n",
       "CMC_PITT_117                0               1            0             1   \n",
       "CMC_PITT_118                0               0            1             0   \n",
       "\n",
       "              Antidepress Lithium Alcohol Illicitsub causeOfDeath  \n",
       "Individual ID                                                      \n",
       "CMC_MSSM_027            0       0       1          0            1  \n",
       "CMC_MSSM_033            0       0       0          0            1  \n",
       "CMC_MSSM_055            0       0       0          0            1  \n",
       "CMC_MSSM_056            0       0       0          0            1  \n",
       "CMC_MSSM_063            0       0       0          0            5  \n",
       "...                   ...     ...     ...        ...          ...  \n",
       "CMC_PITT_098            0       0       0          0            1  \n",
       "CMC_PITT_101            0       0       0          0            1  \n",
       "CMC_PITT_113            0       0       0          0            1  \n",
       "CMC_PITT_117            0       0       0          0            5  \n",
       "CMC_PITT_118            0       0       0          0            1  \n",
       "\n",
       "[95 rows x 13 columns]"
      ]
     },
     "execution_count": 17,
     "metadata": {},
     "output_type": "execute_result"
    }
   ],
   "source": [
    "clin"
   ]
  },
  {
   "cell_type": "markdown",
   "metadata": {},
   "source": [
    "## Modeling\n",
    "### Forward selection\n",
    "\n",
    "I used [this implementation](https://planspace.org/20150423-forward_selection_with_statsmodels/) of forward variable selection.  In this implementation the adjusted R-squared statistic was the score that was maximized as the algorithm progressed. "
   ]
  },
  {
   "cell_type": "code",
   "execution_count": 18,
   "metadata": {},
   "outputs": [],
   "source": [
    "best = fwsel.forward_selected(clin, 'Dx')"
   ]
  },
  {
   "cell_type": "markdown",
   "metadata": {},
   "source": [
    "The results below show that typical and atypical antipsychotics have the most significant \"effect\" on schizophrenia "
   ]
  },
  {
   "cell_type": "code",
   "execution_count": 19,
   "metadata": {},
   "outputs": [
    {
     "data": {
      "text/plain": [
       "'Dx ~ AntipsychAtyp + Alcohol + AntipsychTyp + Ethnicity + Institution + Benzodiazepines + ReportedGender + Antidepress + 1'"
      ]
     },
     "execution_count": 19,
     "metadata": {},
     "output_type": "execute_result"
    }
   ],
   "source": [
    "best.model.formula"
   ]
  },
  {
   "cell_type": "code",
   "execution_count": 20,
   "metadata": {},
   "outputs": [
    {
     "data": {
      "text/html": [
       "<table class=\"simpletable\">\n",
       "<caption>OLS Regression Results</caption>\n",
       "<tr>\n",
       "  <th>Dep. Variable:</th>           <td>Dx</td>        <th>  R-squared:         </th> <td>   0.450</td>\n",
       "</tr>\n",
       "<tr>\n",
       "  <th>Model:</th>                   <td>OLS</td>       <th>  Adj. R-squared:    </th> <td>   0.392</td>\n",
       "</tr>\n",
       "<tr>\n",
       "  <th>Method:</th>             <td>Least Squares</td>  <th>  F-statistic:       </th> <td>   7.740</td>\n",
       "</tr>\n",
       "<tr>\n",
       "  <th>Date:</th>             <td>Fri, 07 Aug 2020</td> <th>  Prob (F-statistic):</th> <td>3.12e-08</td>\n",
       "</tr>\n",
       "<tr>\n",
       "  <th>Time:</th>                 <td>00:36:30</td>     <th>  Log-Likelihood:    </th> <td> -31.750</td>\n",
       "</tr>\n",
       "<tr>\n",
       "  <th>No. Observations:</th>      <td>    95</td>      <th>  AIC:               </th> <td>   83.50</td>\n",
       "</tr>\n",
       "<tr>\n",
       "  <th>Df Residuals:</th>          <td>    85</td>      <th>  BIC:               </th> <td>   109.0</td>\n",
       "</tr>\n",
       "<tr>\n",
       "  <th>Df Model:</th>              <td>     9</td>      <th>                     </th>     <td> </td>   \n",
       "</tr>\n",
       "<tr>\n",
       "  <th>Covariance Type:</th>      <td>nonrobust</td>    <th>                     </th>     <td> </td>   \n",
       "</tr>\n",
       "</table>\n",
       "<table class=\"simpletable\">\n",
       "<tr>\n",
       "             <td></td>               <th>coef</th>     <th>std err</th>      <th>t</th>      <th>P>|t|</th>  <th>[0.025</th>    <th>0.975]</th>  \n",
       "</tr>\n",
       "<tr>\n",
       "  <th>Intercept</th>              <td>    0.6811</td> <td>    0.112</td> <td>    6.057</td> <td> 0.000</td> <td>    0.457</td> <td>    0.905</td>\n",
       "</tr>\n",
       "<tr>\n",
       "  <th>AntipsychAtyp[T.1]</th>     <td>    0.4244</td> <td>    0.083</td> <td>    5.139</td> <td> 0.000</td> <td>    0.260</td> <td>    0.589</td>\n",
       "</tr>\n",
       "<tr>\n",
       "  <th>Alcohol[T.1]</th>           <td>    0.3441</td> <td>    0.098</td> <td>    3.498</td> <td> 0.001</td> <td>    0.149</td> <td>    0.540</td>\n",
       "</tr>\n",
       "<tr>\n",
       "  <th>AntipsychTyp[T.1]</th>      <td>    0.3996</td> <td>    0.103</td> <td>    3.876</td> <td> 0.000</td> <td>    0.195</td> <td>    0.605</td>\n",
       "</tr>\n",
       "<tr>\n",
       "  <th>Ethnicity[T.Caucasian]</th> <td>   -0.0572</td> <td>    0.105</td> <td>   -0.542</td> <td> 0.589</td> <td>   -0.267</td> <td>    0.153</td>\n",
       "</tr>\n",
       "<tr>\n",
       "  <th>Ethnicity[T.Hispanic]</th>  <td>   -0.8126</td> <td>    0.277</td> <td>   -2.935</td> <td> 0.004</td> <td>   -1.363</td> <td>   -0.262</td>\n",
       "</tr>\n",
       "<tr>\n",
       "  <th>Institution[T.Pitt]</th>    <td>   -0.1691</td> <td>    0.098</td> <td>   -1.721</td> <td> 0.089</td> <td>   -0.365</td> <td>    0.026</td>\n",
       "</tr>\n",
       "<tr>\n",
       "  <th>Benzodiazepines[T.1]</th>   <td>   -0.1259</td> <td>    0.113</td> <td>   -1.112</td> <td> 0.269</td> <td>   -0.351</td> <td>    0.099</td>\n",
       "</tr>\n",
       "<tr>\n",
       "  <th>ReportedGender[T.Male]</th> <td>   -0.1502</td> <td>    0.085</td> <td>   -1.771</td> <td> 0.080</td> <td>   -0.319</td> <td>    0.018</td>\n",
       "</tr>\n",
       "<tr>\n",
       "  <th>Antidepress[T.1]</th>       <td>   -0.1612</td> <td>    0.105</td> <td>   -1.531</td> <td> 0.129</td> <td>   -0.371</td> <td>    0.048</td>\n",
       "</tr>\n",
       "</table>\n",
       "<table class=\"simpletable\">\n",
       "<tr>\n",
       "  <th>Omnibus:</th>       <td> 5.663</td> <th>  Durbin-Watson:     </th> <td>   1.536</td>\n",
       "</tr>\n",
       "<tr>\n",
       "  <th>Prob(Omnibus):</th> <td> 0.059</td> <th>  Jarque-Bera (JB):  </th> <td>   3.353</td>\n",
       "</tr>\n",
       "<tr>\n",
       "  <th>Skew:</th>          <td>-0.262</td> <th>  Prob(JB):          </th> <td>   0.187</td>\n",
       "</tr>\n",
       "<tr>\n",
       "  <th>Kurtosis:</th>      <td> 2.244</td> <th>  Cond. No.          </th> <td>    12.3</td>\n",
       "</tr>\n",
       "</table><br/><br/>Warnings:<br/>[1] Standard Errors assume that the covariance matrix of the errors is correctly specified."
      ],
      "text/plain": [
       "<class 'statsmodels.iolib.summary.Summary'>\n",
       "\"\"\"\n",
       "                            OLS Regression Results                            \n",
       "==============================================================================\n",
       "Dep. Variable:                     Dx   R-squared:                       0.450\n",
       "Model:                            OLS   Adj. R-squared:                  0.392\n",
       "Method:                 Least Squares   F-statistic:                     7.740\n",
       "Date:                Fri, 07 Aug 2020   Prob (F-statistic):           3.12e-08\n",
       "Time:                        00:36:30   Log-Likelihood:                -31.750\n",
       "No. Observations:                  95   AIC:                             83.50\n",
       "Df Residuals:                      85   BIC:                             109.0\n",
       "Df Model:                           9                                         \n",
       "Covariance Type:            nonrobust                                         \n",
       "==========================================================================================\n",
       "                             coef    std err          t      P>|t|      [0.025      0.975]\n",
       "------------------------------------------------------------------------------------------\n",
       "Intercept                  0.6811      0.112      6.057      0.000       0.457       0.905\n",
       "AntipsychAtyp[T.1]         0.4244      0.083      5.139      0.000       0.260       0.589\n",
       "Alcohol[T.1]               0.3441      0.098      3.498      0.001       0.149       0.540\n",
       "AntipsychTyp[T.1]          0.3996      0.103      3.876      0.000       0.195       0.605\n",
       "Ethnicity[T.Caucasian]    -0.0572      0.105     -0.542      0.589      -0.267       0.153\n",
       "Ethnicity[T.Hispanic]     -0.8126      0.277     -2.935      0.004      -1.363      -0.262\n",
       "Institution[T.Pitt]       -0.1691      0.098     -1.721      0.089      -0.365       0.026\n",
       "Benzodiazepines[T.1]      -0.1259      0.113     -1.112      0.269      -0.351       0.099\n",
       "ReportedGender[T.Male]    -0.1502      0.085     -1.771      0.080      -0.319       0.018\n",
       "Antidepress[T.1]          -0.1612      0.105     -1.531      0.129      -0.371       0.048\n",
       "==============================================================================\n",
       "Omnibus:                        5.663   Durbin-Watson:                   1.536\n",
       "Prob(Omnibus):                  0.059   Jarque-Bera (JB):                3.353\n",
       "Skew:                          -0.262   Prob(JB):                        0.187\n",
       "Kurtosis:                       2.244   Cond. No.                         12.3\n",
       "==============================================================================\n",
       "\n",
       "Warnings:\n",
       "[1] Standard Errors assume that the covariance matrix of the errors is correctly specified.\n",
       "\"\"\""
      ]
     },
     "execution_count": 20,
     "metadata": {},
     "output_type": "execute_result"
    }
   ],
   "source": [
    "best.summary()"
   ]
  },
  {
   "cell_type": "markdown",
   "metadata": {},
   "source": [
    "### Antipsychotics\n",
    "\n",
    "The following summary shows that out of 67 schizophrenic individuals 28 did not take any antipsychotics."
   ]
  },
  {
   "cell_type": "code",
   "execution_count": 21,
   "metadata": {},
   "outputs": [
    {
     "data": {
      "text/plain": [
       "Dx  AntipsychTyp  AntipsychAtyp\n",
       "0   0             0                26\n",
       "                  1                 2\n",
       "    1             0                 0\n",
       "                  1                 0\n",
       "1   0             0                28\n",
       "                  1                22\n",
       "    1             0                11\n",
       "                  1                 6\n",
       "dtype: int64"
      ]
     },
     "execution_count": 21,
     "metadata": {},
     "output_type": "execute_result"
    }
   ],
   "source": [
    "clin.groupby(['Dx', 'AntipsychTyp', 'AntipsychAtyp']).size()"
   ]
  },
  {
   "cell_type": "markdown",
   "metadata": {},
   "source": [
    "### Fit diagnostics\n",
    "\n",
    "Atypical antipsychothics `AntipsychAtyp` had the most significant effect on disease status `Dx`.  Below are regression plots for this variable that show residuals as well as regression coefficients (slopes of solid straight lines in lower plots)."
   ]
  },
  {
   "cell_type": "code",
   "execution_count": 22,
   "metadata": {},
   "outputs": [
    {
     "data": {
      "image/png": "[encoded data removed]",
      "text/plain": [
       "<Figure size 640x480 with 4 Axes>"
      ]
     },
     "execution_count": 22,
     "metadata": {},
     "output_type": "execute_result"
    }
   ],
   "source": [
    "%matplotlib tk\n",
    "sm.graphics.plot_regress_exog(best, 'AntipsychAtyp[T.1]')"
   ]
  },
  {
   "cell_type": "markdown",
   "metadata": {},
   "source": [
    "## Conclusions\n",
    "\n",
    "* Much of the CMC clinical data is missing.  Filtering removed most variables leaving 13, two of which had one missing value each, which were imputed using the sample mean and mode, respectively\n",
    "* Reported Gender and Sex are nearly identical.  Sex is a three level factor: XX, XY and XXY. The third level, XXY, occurs in only one individual, a schizophrenic male with Klinefelter syndrome.  To avoid colinearity between these two variables one of them needs to be removed.  Removing Sex leaves the simpler (two level) Reported Gender in the data set.\n",
    "* The remaining 12 variables were split to 1 response (`Dx`) and 11 explanatory variables.  8/11 explanatory variables were selected with a forward strategy using normal linear models and adjusted R-squared as score.\n",
    "* Among the 8 selected explanatory variables only AntipsychAtyp, AntipsychAtyp, Alcohol and Ethinicity had significant ($p \\le 0.01$) \"effect\" on disease status.  Not quite significant effects were displayed by Institution and Gender.\n",
    "* AntipsychAtyp, AntipsychAtyp, Alcohol might be assumed to be an *a posteriori* conditions relative to the onset of schizophrenia.  That assumption means they do not carry risk for schizophrenia.  On the other hand, Ethinicity is clearly an *a priori* condition and as the regression coefficient's t-statistic suggests being African American carries risk relative to Hispanic individuals.\n",
    "* Thus *a posteriori* explanatory variables may or may not be included in further analyses. \n",
    "    * If they *are* included they improve fit\n",
    "    * If they are *not* included they might confound inference.  Despite that excluding all clinical variables (except individual ID) is beneficial because ordinary least squares (OLS) can be used instead of generalized ones (GLS)."
   ]
  },
  {
   "cell_type": "code",
   "execution_count": 23,
   "metadata": {},
   "outputs": [
    {
     "name": "stdout",
     "output_type": "stream",
     "text": [
      "{\n",
      "  \"shell_port\": 49841,\n",
      "  \"iopub_port\": 47355,\n",
      "  \"stdin_port\": 43323,\n",
      "  \"control_port\": 48497,\n",
      "  \"hb_port\": 53249,\n",
      "  \"ip\": \"127.0.0.1\",\n",
      "  \"key\": \"4ecdfb60-34c003ab2982347f21854f03\",\n",
      "  \"transport\": \"tcp\",\n",
      "  \"signature_scheme\": \"hmac-sha256\",\n",
      "  \"kernel_name\": \"\"\n",
      "}\n",
      "\n",
      "Paste the above JSON into a file, and connect with:\n",
      "    $> jupyter <app> --existing <file>\n",
      "or, if you are local, you can connect with just:\n",
      "    $> jupyter <app> --existing kernel-9d1ae2b5-1e63-4d16-92b6-22d7598b79e5.json\n",
      "or even just:\n",
      "    $> jupyter <app> --existing\n",
      "if this is the most recent Jupyter kernel you have started.\n"
     ]
    }
   ],
   "source": [
    "%connect_info"
   ]
  }
 ],
 "metadata": {
  "kernelspec": {
   "display_name": "Python 3",
   "language": "python",
   "name": "python3"
  },
  "language_info": {
   "codemirror_mode": {
    "name": "ipython",
    "version": 3
   },
   "file_extension": ".py",
   "mimetype": "text/x-python",
   "name": "python",
   "nbconvert_exporter": "python",
   "pygments_lexer": "ipython3",
   "version": "3.7.6"
  }
 },
 "nbformat": 4,
 "nbformat_minor": 4
}
