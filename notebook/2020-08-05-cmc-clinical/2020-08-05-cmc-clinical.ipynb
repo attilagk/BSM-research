{
 "cells": [
  {
   "cell_type": "markdown",
   "metadata": {},
   "source": [
    "Inspection of the entire CMC Human clinical data set and its subset that is relevant to our BSM study."
   ]
  },
  {
   "cell_type": "code",
   "execution_count": 1,
   "metadata": {},
   "outputs": [],
   "source": [
    "%load_ext autoreload\n",
    "%autoreload 2\n",
    "%reload_ext autoreload\n",
    "from matplotlib import pyplot as plt\n",
    "import pandas as pd\n",
    "import numpy as np\n",
    "import statsmodels.api as sm\n",
    "import synapseclient\n",
    "import fwsel\n",
    "from bsmcalls import individuals\n",
    "from bsmcalls import preprocessing\n",
    "import re"
   ]
  },
  {
   "cell_type": "markdown",
   "metadata": {},
   "source": [
    "## Data set\n",
    "### Import and general properties"
   ]
  },
  {
   "cell_type": "code",
   "execution_count": 2,
   "metadata": {},
   "outputs": [
    {
     "name": "stdout",
     "output_type": "stream",
     "text": [
      "116 samples from 95 individuals\n"
     ]
    }
   ],
   "source": [
    "samples = pd.read_csv('/big/results/bsm/2020-05-18-processed-samples/all_samples.csv')\n",
    "indivs = list(set(samples['Individual ID']))\n",
    "indivs.sort()\n",
    "print(len(samples), 'samples from', len(indivs), 'individuals')"
   ]
  },
  {
   "cell_type": "code",
   "execution_count": 3,
   "metadata": {},
   "outputs": [],
   "source": [
    "calls, clin = individuals.get_data(merge=False, cols2drop=[])"
   ]
  },
  {
   "cell_type": "markdown",
   "metadata": {},
   "source": [
    "For the following individuals no somatic variants have been called (yet)."
   ]
  },
  {
   "cell_type": "code",
   "execution_count": 4,
   "metadata": {},
   "outputs": [
    {
     "data": {
      "text/plain": [
       "{'CMC_MSSM_033',\n",
       " 'CMC_MSSM_063',\n",
       " 'CMC_MSSM_065',\n",
       " 'CMC_MSSM_164',\n",
       " 'CMC_MSSM_192',\n",
       " 'CMC_MSSM_287',\n",
       " 'CMC_MSSM_309',\n",
       " 'CMC_MSSM_310',\n",
       " 'CMC_MSSM_338'}"
      ]
     },
     "execution_count": 4,
     "metadata": {},
     "output_type": "execute_result"
    }
   ],
   "source": [
    "set(indivs) - set(clin.index)"
   ]
  },
  {
   "cell_type": "markdown",
   "metadata": {},
   "source": [
    "### Variables with missing values"
   ]
  },
  {
   "cell_type": "code",
   "execution_count": 5,
   "metadata": {},
   "outputs": [
    {
     "name": "stdout",
     "output_type": "stream",
     "text": [
      "<class 'pandas.core.frame.DataFrame'>\n",
      "Index: 86 entries, CMC_MSSM_369 to CMC_MSSM_305\n",
      "Data columns (total 23 columns):\n",
      " #   Column                   Non-Null Count  Dtype   \n",
      "---  ------                   --------------  -----   \n",
      " 0   Institution              86 non-null     category\n",
      " 1   Reported Gender          86 non-null     category\n",
      " 2   Sex                      86 non-null     category\n",
      " 3   Ethnicity                86 non-null     category\n",
      " 4   ageOfDeath               86 non-null     float64 \n",
      " 5   Brain Weight (in grams)  85 non-null     float64 \n",
      " 6   PMI (in hours)           86 non-null     float64 \n",
      " 7   Dx                       86 non-null     category\n",
      " 8   Year of Autopsy          86 non-null     float64 \n",
      " 9   Benzodiazepines          86 non-null     category\n",
      " 10  Anticonvulsants          86 non-null     category\n",
      " 11  AntipsychTyp             86 non-null     category\n",
      " 12  AntipsychAtyp            86 non-null     category\n",
      " 13  Antidepress              86 non-null     category\n",
      " 14  Lithium                  86 non-null     category\n",
      " 15  Alcohol                  86 non-null     category\n",
      " 16  Illicitsub               86 non-null     category\n",
      " 17  causeOfDeath             85 non-null     category\n",
      " 18  EV.1                     80 non-null     float64 \n",
      " 19  EV.2                     80 non-null     float64 \n",
      " 20  EV.3                     80 non-null     float64 \n",
      " 21  EV.4                     80 non-null     float64 \n",
      " 22  EV.5                     80 non-null     float64 \n",
      "dtypes: category(14), float64(9)\n",
      "memory usage: 9.3+ KB\n"
     ]
    }
   ],
   "source": [
    "clin.info()"
   ]
  },
  {
   "cell_type": "markdown",
   "metadata": {},
   "source": [
    "### ReportedGender and Sex\n",
    "\n",
    "One of the individuals was a schizophrenic male with Klinefelter syndrome."
   ]
  },
  {
   "cell_type": "code",
   "execution_count": 6,
   "metadata": {},
   "outputs": [
    {
     "data": {
      "text/plain": [
       "Reported Gender  Sex  Dx     \n",
       "Female           XX   Control     7\n",
       "                      SCZ        22\n",
       "                 XXY  Control     0\n",
       "                      SCZ         0\n",
       "                 XY   Control     0\n",
       "                      SCZ         0\n",
       "Male             XX   Control     0\n",
       "                      SCZ         0\n",
       "                 XXY  Control     0\n",
       "                      SCZ         1\n",
       "                 XY   Control    18\n",
       "                      SCZ        38\n",
       "dtype: int64"
      ]
     },
     "execution_count": 6,
     "metadata": {},
     "output_type": "execute_result"
    }
   ],
   "source": [
    "clin.groupby(['Reported Gender', 'Sex', 'Dx']).size()"
   ]
  },
  {
   "cell_type": "code",
   "execution_count": 7,
   "metadata": {},
   "outputs": [
    {
     "data": {
      "text/html": [
       "<div>\n",
       "<style scoped>\n",
       "    .dataframe tbody tr th:only-of-type {\n",
       "        vertical-align: middle;\n",
       "    }\n",
       "\n",
       "    .dataframe tbody tr th {\n",
       "        vertical-align: top;\n",
       "    }\n",
       "\n",
       "    .dataframe thead th {\n",
       "        text-align: right;\n",
       "    }\n",
       "</style>\n",
       "<table border=\"1\" class=\"dataframe\">\n",
       "  <thead>\n",
       "    <tr style=\"text-align: right;\">\n",
       "      <th></th>\n",
       "      <th>Reported Gender</th>\n",
       "      <th>Sex</th>\n",
       "    </tr>\n",
       "  </thead>\n",
       "  <tbody>\n",
       "    <tr>\n",
       "      <th>CMC_MSSM_213</th>\n",
       "      <td>Male</td>\n",
       "      <td>XXY</td>\n",
       "    </tr>\n",
       "  </tbody>\n",
       "</table>\n",
       "</div>"
      ],
      "text/plain": [
       "             Reported Gender  Sex\n",
       "CMC_MSSM_213            Male  XXY"
      ]
     },
     "execution_count": 7,
     "metadata": {},
     "output_type": "execute_result"
    }
   ],
   "source": [
    "clin.loc[clin['Sex'] == 'XXY', ['Reported Gender', 'Sex']]"
   ]
  },
  {
   "cell_type": "markdown",
   "metadata": {},
   "source": [
    "Note that there are no transgender individuals with canonical XX or XY chromosomes. It is simpler to keep ReportedGender and drop Sex because the latter is a three level factor whose third level, XXY, occurs only in one individual.  So we could do something like this:"
   ]
  },
  {
   "cell_type": "code",
   "execution_count": 8,
   "metadata": {},
   "outputs": [],
   "source": [
    "#clin = clin.drop(columns='Sex') # this is essentially the same as \"Sex\" "
   ]
  },
  {
   "cell_type": "markdown",
   "metadata": {},
   "source": [
    "But in what's next we deal with that more systematically.\n",
    "\n",
    "### Correlation between variables\n",
    "\n",
    "First we create `clinnum`, a completely numeric version of `clin`, in which the categorical variables have been replaced with the corresponding dummy variables."
   ]
  },
  {
   "cell_type": "code",
   "execution_count": 9,
   "metadata": {},
   "outputs": [
    {
     "data": {
      "image/png": "[encoded data removed]",
      "text/plain": [
       "<Figure size 864x864 with 2 Axes>"
      ]
     },
     "metadata": {
      "needs_background": "light"
     },
     "output_type": "display_data"
    }
   ],
   "source": [
    "def dummify(df=clin):\n",
    "    numeric = df.select_dtypes(exclude='category')\n",
    "    categorical = df.select_dtypes(include='category')\n",
    "    dummy = pd.get_dummies(categorical)\n",
    "    dfnum = pd.concat([numeric, dummy], axis=1)\n",
    "    return(dfnum)\n",
    "\n",
    "def corrmatplot(dfnum):\n",
    "    corrmat = dfnum.corr()\n",
    "    fig, ax = plt.subplots(figsize=(12,12))\n",
    "    sm.graphics.plot_corr(corrmat, ax=ax, xnames=dfnum.columns, ynames=dfnum.columns)\n",
    "    cb = plt.colorbar(ax.get_images()[0])\n",
    "    cb.set_label('Correlation')\n",
    "    return((fig, ax))\n",
    "\n",
    "%matplotlib inline\n",
    "clinnum = dummify(clin)\n",
    "fig, ax = corrmatplot(clinnum)"
   ]
  },
  {
   "cell_type": "markdown",
   "metadata": {},
   "source": [
    "The following can be observed:\n",
    "\n",
    "* Reported Gender and Sex are very strongly correlated as discussed above\n",
    "* Ethnicity correlates with EV.1 and EV.3\n",
    "* Level 0 of causeOfDeath is unused (no observations supporting it)\n",
    "* Further notable correlations:\n",
    "    * Institution and ageOfDeath\n",
    "    * DiabetesInsDep and Alcohol (also: DiabetesNonInsDep and Alcohol\n",
    "    \n",
    "Conclusion: exclude Sex.  This is implemented now by the `cols2drop=['Sex']` default argument of `bsmcalls.individuals.get_data`."
   ]
  },
  {
   "cell_type": "markdown",
   "metadata": {},
   "source": [
    "### Preprocess for modeling"
   ]
  },
  {
   "cell_type": "code",
   "execution_count": 10,
   "metadata": {},
   "outputs": [
    {
     "data": {
      "text/html": [
       "<div>\n",
       "<style scoped>\n",
       "    .dataframe tbody tr th:only-of-type {\n",
       "        vertical-align: middle;\n",
       "    }\n",
       "\n",
       "    .dataframe tbody tr th {\n",
       "        vertical-align: top;\n",
       "    }\n",
       "\n",
       "    .dataframe thead th {\n",
       "        text-align: right;\n",
       "    }\n",
       "</style>\n",
       "<table border=\"1\" class=\"dataframe\">\n",
       "  <thead>\n",
       "    <tr style=\"text-align: right;\">\n",
       "      <th></th>\n",
       "      <th>Institution</th>\n",
       "      <th>ReportedGender</th>\n",
       "      <th>Sex</th>\n",
       "      <th>Ethnicity</th>\n",
       "      <th>ageOfDeath</th>\n",
       "      <th>BrainWeightingrams</th>\n",
       "      <th>PMIinhours</th>\n",
       "      <th>Dx</th>\n",
       "      <th>YearofAutopsy</th>\n",
       "      <th>Benzodiazepines</th>\n",
       "      <th>...</th>\n",
       "      <th>Antidepress</th>\n",
       "      <th>Lithium</th>\n",
       "      <th>Alcohol</th>\n",
       "      <th>Illicitsub</th>\n",
       "      <th>causeOfDeath</th>\n",
       "      <th>EV1</th>\n",
       "      <th>EV2</th>\n",
       "      <th>EV3</th>\n",
       "      <th>EV4</th>\n",
       "      <th>EV5</th>\n",
       "    </tr>\n",
       "  </thead>\n",
       "  <tbody>\n",
       "    <tr>\n",
       "      <th>CMC_MSSM_369</th>\n",
       "      <td>MSSM</td>\n",
       "      <td>Male</td>\n",
       "      <td>XY</td>\n",
       "      <td>Caucasian</td>\n",
       "      <td>1.615635</td>\n",
       "      <td>-0.688587</td>\n",
       "      <td>-1.255571</td>\n",
       "      <td>0</td>\n",
       "      <td>0.320310</td>\n",
       "      <td>0</td>\n",
       "      <td>...</td>\n",
       "      <td>0</td>\n",
       "      <td>0</td>\n",
       "      <td>0</td>\n",
       "      <td>0</td>\n",
       "      <td>1</td>\n",
       "      <td>-1.321372e+00</td>\n",
       "      <td>-0.079144</td>\n",
       "      <td>-5.942210e+00</td>\n",
       "      <td>-8.218734e-01</td>\n",
       "      <td>-6.105591e+00</td>\n",
       "    </tr>\n",
       "    <tr>\n",
       "      <th>CMC_MSSM_321</th>\n",
       "      <td>MSSM</td>\n",
       "      <td>Male</td>\n",
       "      <td>XY</td>\n",
       "      <td>Caucasian</td>\n",
       "      <td>-1.175663</td>\n",
       "      <td>0.137232</td>\n",
       "      <td>0.356509</td>\n",
       "      <td>1</td>\n",
       "      <td>0.163795</td>\n",
       "      <td>0</td>\n",
       "      <td>...</td>\n",
       "      <td>0</td>\n",
       "      <td>0</td>\n",
       "      <td>1</td>\n",
       "      <td>0</td>\n",
       "      <td>4</td>\n",
       "      <td>-2.199794e+00</td>\n",
       "      <td>0.122968</td>\n",
       "      <td>9.346788e-01</td>\n",
       "      <td>1.145656e-01</td>\n",
       "      <td>6.684709e-01</td>\n",
       "    </tr>\n",
       "    <tr>\n",
       "      <th>CMC_MSSM_106</th>\n",
       "      <td>MSSM</td>\n",
       "      <td>Female</td>\n",
       "      <td>XX</td>\n",
       "      <td>Caucasian</td>\n",
       "      <td>1.677664</td>\n",
       "      <td>-0.719555</td>\n",
       "      <td>-0.733348</td>\n",
       "      <td>0</td>\n",
       "      <td>1.728946</td>\n",
       "      <td>0</td>\n",
       "      <td>...</td>\n",
       "      <td>1</td>\n",
       "      <td>0</td>\n",
       "      <td>0</td>\n",
       "      <td>0</td>\n",
       "      <td>1</td>\n",
       "      <td>5.095101e-01</td>\n",
       "      <td>-1.871608</td>\n",
       "      <td>1.453108e-01</td>\n",
       "      <td>-4.848331e-01</td>\n",
       "      <td>-1.806682e-01</td>\n",
       "    </tr>\n",
       "    <tr>\n",
       "      <th>CMC_MSSM_273</th>\n",
       "      <td>MSSM</td>\n",
       "      <td>Male</td>\n",
       "      <td>XY</td>\n",
       "      <td>African-American</td>\n",
       "      <td>0.933318</td>\n",
       "      <td>-0.796976</td>\n",
       "      <td>-1.187455</td>\n",
       "      <td>1</td>\n",
       "      <td>-1.557872</td>\n",
       "      <td>0</td>\n",
       "      <td>...</td>\n",
       "      <td>0</td>\n",
       "      <td>0</td>\n",
       "      <td>1</td>\n",
       "      <td>0</td>\n",
       "      <td>2</td>\n",
       "      <td>-8.554883e-18</td>\n",
       "      <td>0.000000</td>\n",
       "      <td>-3.421285e-17</td>\n",
       "      <td>2.107229e-17</td>\n",
       "      <td>2.312194e-17</td>\n",
       "    </tr>\n",
       "    <tr>\n",
       "      <th>CMC_PITT_071</th>\n",
       "      <td>Pitt</td>\n",
       "      <td>Male</td>\n",
       "      <td>XY</td>\n",
       "      <td>Caucasian</td>\n",
       "      <td>-0.989577</td>\n",
       "      <td>0.395300</td>\n",
       "      <td>0.840890</td>\n",
       "      <td>1</td>\n",
       "      <td>1.572431</td>\n",
       "      <td>1</td>\n",
       "      <td>...</td>\n",
       "      <td>0</td>\n",
       "      <td>1</td>\n",
       "      <td>0</td>\n",
       "      <td>1</td>\n",
       "      <td>5</td>\n",
       "      <td>5.374161e-01</td>\n",
       "      <td>1.011028</td>\n",
       "      <td>-4.717945e-02</td>\n",
       "      <td>-3.839858e-01</td>\n",
       "      <td>-1.478969e-01</td>\n",
       "    </tr>\n",
       "    <tr>\n",
       "      <th>...</th>\n",
       "      <td>...</td>\n",
       "      <td>...</td>\n",
       "      <td>...</td>\n",
       "      <td>...</td>\n",
       "      <td>...</td>\n",
       "      <td>...</td>\n",
       "      <td>...</td>\n",
       "      <td>...</td>\n",
       "      <td>...</td>\n",
       "      <td>...</td>\n",
       "      <td>...</td>\n",
       "      <td>...</td>\n",
       "      <td>...</td>\n",
       "      <td>...</td>\n",
       "      <td>...</td>\n",
       "      <td>...</td>\n",
       "      <td>...</td>\n",
       "      <td>...</td>\n",
       "      <td>...</td>\n",
       "      <td>...</td>\n",
       "      <td>...</td>\n",
       "    </tr>\n",
       "    <tr>\n",
       "      <th>CMC_MSSM_370</th>\n",
       "      <td>MSSM</td>\n",
       "      <td>Female</td>\n",
       "      <td>XX</td>\n",
       "      <td>Caucasian</td>\n",
       "      <td>0.251000</td>\n",
       "      <td>-0.151805</td>\n",
       "      <td>-1.157181</td>\n",
       "      <td>1</td>\n",
       "      <td>-1.401357</td>\n",
       "      <td>0</td>\n",
       "      <td>...</td>\n",
       "      <td>0</td>\n",
       "      <td>0</td>\n",
       "      <td>0</td>\n",
       "      <td>0</td>\n",
       "      <td>1</td>\n",
       "      <td>5.573264e-01</td>\n",
       "      <td>0.877049</td>\n",
       "      <td>-7.766273e-03</td>\n",
       "      <td>-5.838826e-01</td>\n",
       "      <td>4.986826e-02</td>\n",
       "    </tr>\n",
       "    <tr>\n",
       "      <th>CMC_MSSM_213</th>\n",
       "      <td>MSSM</td>\n",
       "      <td>Male</td>\n",
       "      <td>XXY</td>\n",
       "      <td>Caucasian</td>\n",
       "      <td>-0.307259</td>\n",
       "      <td>1.066278</td>\n",
       "      <td>1.680989</td>\n",
       "      <td>1</td>\n",
       "      <td>-0.775296</td>\n",
       "      <td>1</td>\n",
       "      <td>...</td>\n",
       "      <td>1</td>\n",
       "      <td>0</td>\n",
       "      <td>0</td>\n",
       "      <td>0</td>\n",
       "      <td>1</td>\n",
       "      <td>4.755547e-01</td>\n",
       "      <td>-1.861702</td>\n",
       "      <td>2.222123e-01</td>\n",
       "      <td>-5.814774e-01</td>\n",
       "      <td>5.543756e-01</td>\n",
       "    </tr>\n",
       "    <tr>\n",
       "      <th>CMC_MSSM_304</th>\n",
       "      <td>MSSM</td>\n",
       "      <td>Male</td>\n",
       "      <td>XY</td>\n",
       "      <td>Caucasian</td>\n",
       "      <td>0.561145</td>\n",
       "      <td>-0.616328</td>\n",
       "      <td>2.006432</td>\n",
       "      <td>1</td>\n",
       "      <td>1.259401</td>\n",
       "      <td>0</td>\n",
       "      <td>...</td>\n",
       "      <td>0</td>\n",
       "      <td>0</td>\n",
       "      <td>0</td>\n",
       "      <td>0</td>\n",
       "      <td>1</td>\n",
       "      <td>4.839449e-01</td>\n",
       "      <td>-1.852953</td>\n",
       "      <td>1.597003e-01</td>\n",
       "      <td>-6.476804e-01</td>\n",
       "      <td>1.473856e+00</td>\n",
       "    </tr>\n",
       "    <tr>\n",
       "      <th>CMC_MSSM_162</th>\n",
       "      <td>MSSM</td>\n",
       "      <td>Female</td>\n",
       "      <td>XX</td>\n",
       "      <td>Caucasian</td>\n",
       "      <td>1.057376</td>\n",
       "      <td>-1.493761</td>\n",
       "      <td>2.066980</td>\n",
       "      <td>1</td>\n",
       "      <td>-1.401357</td>\n",
       "      <td>0</td>\n",
       "      <td>...</td>\n",
       "      <td>0</td>\n",
       "      <td>0</td>\n",
       "      <td>1</td>\n",
       "      <td>0</td>\n",
       "      <td>1</td>\n",
       "      <td>-8.554883e-18</td>\n",
       "      <td>0.000000</td>\n",
       "      <td>-3.421285e-17</td>\n",
       "      <td>2.107229e-17</td>\n",
       "      <td>2.312194e-17</td>\n",
       "    </tr>\n",
       "    <tr>\n",
       "      <th>CMC_MSSM_305</th>\n",
       "      <td>MSSM</td>\n",
       "      <td>Female</td>\n",
       "      <td>XX</td>\n",
       "      <td>Caucasian</td>\n",
       "      <td>1.181433</td>\n",
       "      <td>0.766919</td>\n",
       "      <td>-0.998244</td>\n",
       "      <td>1</td>\n",
       "      <td>1.415916</td>\n",
       "      <td>0</td>\n",
       "      <td>...</td>\n",
       "      <td>0</td>\n",
       "      <td>0</td>\n",
       "      <td>0</td>\n",
       "      <td>0</td>\n",
       "      <td>1</td>\n",
       "      <td>4.938080e-01</td>\n",
       "      <td>-0.774762</td>\n",
       "      <td>-1.068830e-01</td>\n",
       "      <td>2.806296e+00</td>\n",
       "      <td>6.510545e-01</td>\n",
       "    </tr>\n",
       "  </tbody>\n",
       "</table>\n",
       "<p>86 rows × 23 columns</p>\n",
       "</div>"
      ],
      "text/plain": [
       "             Institution ReportedGender  Sex         Ethnicity  ageOfDeath  \\\n",
       "CMC_MSSM_369        MSSM           Male   XY         Caucasian    1.615635   \n",
       "CMC_MSSM_321        MSSM           Male   XY         Caucasian   -1.175663   \n",
       "CMC_MSSM_106        MSSM         Female   XX         Caucasian    1.677664   \n",
       "CMC_MSSM_273        MSSM           Male   XY  African-American    0.933318   \n",
       "CMC_PITT_071        Pitt           Male   XY         Caucasian   -0.989577   \n",
       "...                  ...            ...  ...               ...         ...   \n",
       "CMC_MSSM_370        MSSM         Female   XX         Caucasian    0.251000   \n",
       "CMC_MSSM_213        MSSM           Male  XXY         Caucasian   -0.307259   \n",
       "CMC_MSSM_304        MSSM           Male   XY         Caucasian    0.561145   \n",
       "CMC_MSSM_162        MSSM         Female   XX         Caucasian    1.057376   \n",
       "CMC_MSSM_305        MSSM         Female   XX         Caucasian    1.181433   \n",
       "\n",
       "              BrainWeightingrams  PMIinhours  Dx  YearofAutopsy  \\\n",
       "CMC_MSSM_369           -0.688587   -1.255571   0       0.320310   \n",
       "CMC_MSSM_321            0.137232    0.356509   1       0.163795   \n",
       "CMC_MSSM_106           -0.719555   -0.733348   0       1.728946   \n",
       "CMC_MSSM_273           -0.796976   -1.187455   1      -1.557872   \n",
       "CMC_PITT_071            0.395300    0.840890   1       1.572431   \n",
       "...                          ...         ...  ..            ...   \n",
       "CMC_MSSM_370           -0.151805   -1.157181   1      -1.401357   \n",
       "CMC_MSSM_213            1.066278    1.680989   1      -0.775296   \n",
       "CMC_MSSM_304           -0.616328    2.006432   1       1.259401   \n",
       "CMC_MSSM_162           -1.493761    2.066980   1      -1.401357   \n",
       "CMC_MSSM_305            0.766919   -0.998244   1       1.415916   \n",
       "\n",
       "             Benzodiazepines  ... Antidepress Lithium Alcohol Illicitsub  \\\n",
       "CMC_MSSM_369               0  ...           0       0       0          0   \n",
       "CMC_MSSM_321               0  ...           0       0       1          0   \n",
       "CMC_MSSM_106               0  ...           1       0       0          0   \n",
       "CMC_MSSM_273               0  ...           0       0       1          0   \n",
       "CMC_PITT_071               1  ...           0       1       0          1   \n",
       "...                      ...  ...         ...     ...     ...        ...   \n",
       "CMC_MSSM_370               0  ...           0       0       0          0   \n",
       "CMC_MSSM_213               1  ...           1       0       0          0   \n",
       "CMC_MSSM_304               0  ...           0       0       0          0   \n",
       "CMC_MSSM_162               0  ...           0       0       1          0   \n",
       "CMC_MSSM_305               0  ...           0       0       0          0   \n",
       "\n",
       "             causeOfDeath           EV1       EV2           EV3           EV4  \\\n",
       "CMC_MSSM_369            1 -1.321372e+00 -0.079144 -5.942210e+00 -8.218734e-01   \n",
       "CMC_MSSM_321            4 -2.199794e+00  0.122968  9.346788e-01  1.145656e-01   \n",
       "CMC_MSSM_106            1  5.095101e-01 -1.871608  1.453108e-01 -4.848331e-01   \n",
       "CMC_MSSM_273            2 -8.554883e-18  0.000000 -3.421285e-17  2.107229e-17   \n",
       "CMC_PITT_071            5  5.374161e-01  1.011028 -4.717945e-02 -3.839858e-01   \n",
       "...                   ...           ...       ...           ...           ...   \n",
       "CMC_MSSM_370            1  5.573264e-01  0.877049 -7.766273e-03 -5.838826e-01   \n",
       "CMC_MSSM_213            1  4.755547e-01 -1.861702  2.222123e-01 -5.814774e-01   \n",
       "CMC_MSSM_304            1  4.839449e-01 -1.852953  1.597003e-01 -6.476804e-01   \n",
       "CMC_MSSM_162            1 -8.554883e-18  0.000000 -3.421285e-17  2.107229e-17   \n",
       "CMC_MSSM_305            1  4.938080e-01 -0.774762 -1.068830e-01  2.806296e+00   \n",
       "\n",
       "                       EV5  \n",
       "CMC_MSSM_369 -6.105591e+00  \n",
       "CMC_MSSM_321  6.684709e-01  \n",
       "CMC_MSSM_106 -1.806682e-01  \n",
       "CMC_MSSM_273  2.312194e-17  \n",
       "CMC_PITT_071 -1.478969e-01  \n",
       "...                    ...  \n",
       "CMC_MSSM_370  4.986826e-02  \n",
       "CMC_MSSM_213  5.543756e-01  \n",
       "CMC_MSSM_304  1.473856e+00  \n",
       "CMC_MSSM_162  2.312194e-17  \n",
       "CMC_MSSM_305  6.510545e-01  \n",
       "\n",
       "[86 rows x 23 columns]"
      ]
     },
     "execution_count": 10,
     "metadata": {},
     "output_type": "execute_result"
    }
   ],
   "source": [
    "clin1 = preprocessing.preprocess(clin)\n",
    "clin1"
   ]
  },
  {
   "cell_type": "markdown",
   "metadata": {},
   "source": [
    "## Modeling\n",
    "### Forward selection\n",
    "\n",
    "I used [this implementation](https://planspace.org/20150423-forward_selection_with_statsmodels/) of forward variable selection.  In this implementation the adjusted R-squared statistic was the score that was maximized as the algorithm progressed. "
   ]
  },
  {
   "cell_type": "code",
   "execution_count": 11,
   "metadata": {},
   "outputs": [],
   "source": [
    "best = fwsel.forward_selected(clin1, 'Dx')"
   ]
  },
  {
   "cell_type": "markdown",
   "metadata": {},
   "source": [
    "The results below show that typical and atypical antipsychotics have the most significant \"effect\" on schizophrenia "
   ]
  },
  {
   "cell_type": "code",
   "execution_count": 12,
   "metadata": {},
   "outputs": [
    {
     "data": {
      "text/plain": [
       "'Dx ~ AntipsychAtyp + YearofAutopsy + AntipsychTyp + EV3 + Institution + Benzodiazepines + causeOfDeath + Ethnicity + ReportedGender + Alcohol + ageOfDeath + PMIinhours + 1'"
      ]
     },
     "execution_count": 12,
     "metadata": {},
     "output_type": "execute_result"
    }
   ],
   "source": [
    "best.model.formula"
   ]
  },
  {
   "cell_type": "code",
   "execution_count": 13,
   "metadata": {},
   "outputs": [
    {
     "data": {
      "text/html": [
       "<table class=\"simpletable\">\n",
       "<caption>OLS Regression Results</caption>\n",
       "<tr>\n",
       "  <th>Dep. Variable:</th>           <td>Dx</td>        <th>  R-squared:         </th> <td>   0.680</td>\n",
       "</tr>\n",
       "<tr>\n",
       "  <th>Model:</th>                   <td>OLS</td>       <th>  Adj. R-squared:    </th> <td>   0.605</td>\n",
       "</tr>\n",
       "<tr>\n",
       "  <th>Method:</th>             <td>Least Squares</td>  <th>  F-statistic:       </th> <td>   9.146</td>\n",
       "</tr>\n",
       "<tr>\n",
       "  <th>Date:</th>             <td>Thu, 10 Sep 2020</td> <th>  Prob (F-statistic):</th> <td>1.61e-11</td>\n",
       "</tr>\n",
       "<tr>\n",
       "  <th>Time:</th>                 <td>11:34:46</td>     <th>  Log-Likelihood:    </th> <td> -5.1950</td>\n",
       "</tr>\n",
       "<tr>\n",
       "  <th>No. Observations:</th>      <td>    86</td>      <th>  AIC:               </th> <td>   44.39</td>\n",
       "</tr>\n",
       "<tr>\n",
       "  <th>Df Residuals:</th>          <td>    69</td>      <th>  BIC:               </th> <td>   86.11</td>\n",
       "</tr>\n",
       "<tr>\n",
       "  <th>Df Model:</th>              <td>    16</td>      <th>                     </th>     <td> </td>   \n",
       "</tr>\n",
       "<tr>\n",
       "  <th>Covariance Type:</th>      <td>nonrobust</td>    <th>                     </th>     <td> </td>   \n",
       "</tr>\n",
       "</table>\n",
       "<table class=\"simpletable\">\n",
       "<tr>\n",
       "             <td></td>               <th>coef</th>     <th>std err</th>      <th>t</th>      <th>P>|t|</th>  <th>[0.025</th>    <th>0.975]</th>  \n",
       "</tr>\n",
       "<tr>\n",
       "  <th>Intercept</th>              <td>    0.5776</td> <td>    0.105</td> <td>    5.526</td> <td> 0.000</td> <td>    0.369</td> <td>    0.786</td>\n",
       "</tr>\n",
       "<tr>\n",
       "  <th>AntipsychAtyp[T.1]</th>     <td>    0.5400</td> <td>    0.075</td> <td>    7.222</td> <td> 0.000</td> <td>    0.391</td> <td>    0.689</td>\n",
       "</tr>\n",
       "<tr>\n",
       "  <th>AntipsychTyp[T.1]</th>      <td>    0.4683</td> <td>    0.094</td> <td>    4.965</td> <td> 0.000</td> <td>    0.280</td> <td>    0.656</td>\n",
       "</tr>\n",
       "<tr>\n",
       "  <th>Institution[T.Pitt]</th>    <td>   -0.2113</td> <td>    0.099</td> <td>   -2.139</td> <td> 0.036</td> <td>   -0.408</td> <td>   -0.014</td>\n",
       "</tr>\n",
       "<tr>\n",
       "  <th>Benzodiazepines[T.1]</th>   <td>   -0.2313</td> <td>    0.095</td> <td>   -2.446</td> <td> 0.017</td> <td>   -0.420</td> <td>   -0.043</td>\n",
       "</tr>\n",
       "<tr>\n",
       "  <th>causeOfDeath[T.2]</th>      <td>    0.3302</td> <td>    0.223</td> <td>    1.483</td> <td> 0.142</td> <td>   -0.114</td> <td>    0.774</td>\n",
       "</tr>\n",
       "<tr>\n",
       "  <th>causeOfDeath[T.3]</th>      <td>    0.5090</td> <td>    0.227</td> <td>    2.238</td> <td> 0.028</td> <td>    0.055</td> <td>    0.963</td>\n",
       "</tr>\n",
       "<tr>\n",
       "  <th>causeOfDeath[T.4]</th>      <td>    0.0559</td> <td>    0.216</td> <td>    0.258</td> <td> 0.797</td> <td>   -0.376</td> <td>    0.487</td>\n",
       "</tr>\n",
       "<tr>\n",
       "  <th>causeOfDeath[T.5]</th>      <td>    0.1958</td> <td>    0.107</td> <td>    1.838</td> <td> 0.070</td> <td>   -0.017</td> <td>    0.408</td>\n",
       "</tr>\n",
       "<tr>\n",
       "  <th>Ethnicity[T.Caucasian]</th> <td>   -0.0455</td> <td>    0.099</td> <td>   -0.459</td> <td> 0.648</td> <td>   -0.244</td> <td>    0.152</td>\n",
       "</tr>\n",
       "<tr>\n",
       "  <th>Ethnicity[T.Hispanic]</th>  <td>   -0.5998</td> <td>    0.312</td> <td>   -1.921</td> <td> 0.059</td> <td>   -1.223</td> <td>    0.023</td>\n",
       "</tr>\n",
       "<tr>\n",
       "  <th>ReportedGender[T.Male]</th> <td>   -0.1051</td> <td>    0.074</td> <td>   -1.424</td> <td> 0.159</td> <td>   -0.252</td> <td>    0.042</td>\n",
       "</tr>\n",
       "<tr>\n",
       "  <th>Alcohol[T.1]</th>           <td>    0.1697</td> <td>    0.090</td> <td>    1.879</td> <td> 0.064</td> <td>   -0.010</td> <td>    0.350</td>\n",
       "</tr>\n",
       "<tr>\n",
       "  <th>YearofAutopsy</th>          <td>   -0.1945</td> <td>    0.039</td> <td>   -4.960</td> <td> 0.000</td> <td>   -0.273</td> <td>   -0.116</td>\n",
       "</tr>\n",
       "<tr>\n",
       "  <th>EV3</th>                    <td>    0.0718</td> <td>    0.046</td> <td>    1.548</td> <td> 0.126</td> <td>   -0.021</td> <td>    0.164</td>\n",
       "</tr>\n",
       "<tr>\n",
       "  <th>ageOfDeath</th>             <td>    0.0553</td> <td>    0.048</td> <td>    1.152</td> <td> 0.253</td> <td>   -0.040</td> <td>    0.151</td>\n",
       "</tr>\n",
       "<tr>\n",
       "  <th>PMIinhours</th>             <td>    0.0373</td> <td>    0.033</td> <td>    1.131</td> <td> 0.262</td> <td>   -0.028</td> <td>    0.103</td>\n",
       "</tr>\n",
       "</table>\n",
       "<table class=\"simpletable\">\n",
       "<tr>\n",
       "  <th>Omnibus:</th>       <td> 1.347</td> <th>  Durbin-Watson:     </th> <td>   2.337</td>\n",
       "</tr>\n",
       "<tr>\n",
       "  <th>Prob(Omnibus):</th> <td> 0.510</td> <th>  Jarque-Bera (JB):  </th> <td>   1.187</td>\n",
       "</tr>\n",
       "<tr>\n",
       "  <th>Skew:</th>          <td>-0.112</td> <th>  Prob(JB):          </th> <td>   0.552</td>\n",
       "</tr>\n",
       "<tr>\n",
       "  <th>Kurtosis:</th>      <td> 2.470</td> <th>  Cond. No.          </th> <td>    16.7</td>\n",
       "</tr>\n",
       "</table><br/><br/>Warnings:<br/>[1] Standard Errors assume that the covariance matrix of the errors is correctly specified."
      ],
      "text/plain": [
       "<class 'statsmodels.iolib.summary.Summary'>\n",
       "\"\"\"\n",
       "                            OLS Regression Results                            \n",
       "==============================================================================\n",
       "Dep. Variable:                     Dx   R-squared:                       0.680\n",
       "Model:                            OLS   Adj. R-squared:                  0.605\n",
       "Method:                 Least Squares   F-statistic:                     9.146\n",
       "Date:                Thu, 10 Sep 2020   Prob (F-statistic):           1.61e-11\n",
       "Time:                        11:34:46   Log-Likelihood:                -5.1950\n",
       "No. Observations:                  86   AIC:                             44.39\n",
       "Df Residuals:                      69   BIC:                             86.11\n",
       "Df Model:                          16                                         \n",
       "Covariance Type:            nonrobust                                         \n",
       "==========================================================================================\n",
       "                             coef    std err          t      P>|t|      [0.025      0.975]\n",
       "------------------------------------------------------------------------------------------\n",
       "Intercept                  0.5776      0.105      5.526      0.000       0.369       0.786\n",
       "AntipsychAtyp[T.1]         0.5400      0.075      7.222      0.000       0.391       0.689\n",
       "AntipsychTyp[T.1]          0.4683      0.094      4.965      0.000       0.280       0.656\n",
       "Institution[T.Pitt]       -0.2113      0.099     -2.139      0.036      -0.408      -0.014\n",
       "Benzodiazepines[T.1]      -0.2313      0.095     -2.446      0.017      -0.420      -0.043\n",
       "causeOfDeath[T.2]          0.3302      0.223      1.483      0.142      -0.114       0.774\n",
       "causeOfDeath[T.3]          0.5090      0.227      2.238      0.028       0.055       0.963\n",
       "causeOfDeath[T.4]          0.0559      0.216      0.258      0.797      -0.376       0.487\n",
       "causeOfDeath[T.5]          0.1958      0.107      1.838      0.070      -0.017       0.408\n",
       "Ethnicity[T.Caucasian]    -0.0455      0.099     -0.459      0.648      -0.244       0.152\n",
       "Ethnicity[T.Hispanic]     -0.5998      0.312     -1.921      0.059      -1.223       0.023\n",
       "ReportedGender[T.Male]    -0.1051      0.074     -1.424      0.159      -0.252       0.042\n",
       "Alcohol[T.1]               0.1697      0.090      1.879      0.064      -0.010       0.350\n",
       "YearofAutopsy             -0.1945      0.039     -4.960      0.000      -0.273      -0.116\n",
       "EV3                        0.0718      0.046      1.548      0.126      -0.021       0.164\n",
       "ageOfDeath                 0.0553      0.048      1.152      0.253      -0.040       0.151\n",
       "PMIinhours                 0.0373      0.033      1.131      0.262      -0.028       0.103\n",
       "==============================================================================\n",
       "Omnibus:                        1.347   Durbin-Watson:                   2.337\n",
       "Prob(Omnibus):                  0.510   Jarque-Bera (JB):                1.187\n",
       "Skew:                          -0.112   Prob(JB):                        0.552\n",
       "Kurtosis:                       2.470   Cond. No.                         16.7\n",
       "==============================================================================\n",
       "\n",
       "Warnings:\n",
       "[1] Standard Errors assume that the covariance matrix of the errors is correctly specified.\n",
       "\"\"\""
      ]
     },
     "execution_count": 13,
     "metadata": {},
     "output_type": "execute_result"
    }
   ],
   "source": [
    "best.summary()"
   ]
  },
  {
   "cell_type": "markdown",
   "metadata": {},
   "source": [
    "### Antipsychotics\n",
    "\n",
    "The following summary shows that out of 67 schizophrenic individuals 28 did not take any antipsychotics."
   ]
  },
  {
   "cell_type": "code",
   "execution_count": 14,
   "metadata": {},
   "outputs": [
    {
     "data": {
      "text/plain": [
       "Dx       AntipsychTyp  AntipsychAtyp\n",
       "Control  0             0                24\n",
       "                       1                 1\n",
       "         1             0                 0\n",
       "                       1                 0\n",
       "SCZ      0             0                26\n",
       "                       1                21\n",
       "         1             0                 8\n",
       "                       1                 6\n",
       "dtype: int64"
      ]
     },
     "execution_count": 14,
     "metadata": {},
     "output_type": "execute_result"
    }
   ],
   "source": [
    "clin.groupby(['Dx', 'AntipsychTyp', 'AntipsychAtyp']).size()"
   ]
  },
  {
   "cell_type": "markdown",
   "metadata": {},
   "source": [
    "### Fit diagnostics\n",
    "\n",
    "Atypical antipsychothics `AntipsychAtyp` had the most significant effect on disease status `Dx`.  Below are regression plots for this variable that show residuals as well as regression coefficients (slopes of solid straight lines in lower plots)."
   ]
  },
  {
   "cell_type": "code",
   "execution_count": 15,
   "metadata": {},
   "outputs": [
    {
     "data": {
      "image/png": "[encoded data removed]",
      "text/plain": [
       "<Figure size 432x288 with 4 Axes>"
      ]
     },
     "execution_count": 15,
     "metadata": {},
     "output_type": "execute_result"
    },
    {
     "data": {
      "image/png": "[encoded data removed]",
      "text/plain": [
       "<Figure size 432x288 with 4 Axes>"
      ]
     },
     "metadata": {
      "needs_background": "light"
     },
     "output_type": "display_data"
    }
   ],
   "source": [
    "%matplotlib tk\n",
    "sm.graphics.plot_regress_exog(best, 'AntipsychAtyp[T.1]')"
   ]
  },
  {
   "cell_type": "markdown",
   "metadata": {},
   "source": [
    "### What about Ethnicity?\n",
    "\n",
    "To address this question we exclude EV_3 and repeat the forward variable selection"
   ]
  },
  {
   "cell_type": "code",
   "execution_count": 16,
   "metadata": {},
   "outputs": [],
   "source": [
    "best1 = fwsel.forward_selected(clin1.drop(columns=['EV3']), 'Dx')"
   ]
  },
  {
   "cell_type": "code",
   "execution_count": 17,
   "metadata": {},
   "outputs": [
    {
     "data": {
      "text/plain": [
       "'Dx ~ AntipsychAtyp + YearofAutopsy + AntipsychTyp + Ethnicity + Institution + causeOfDeath + Benzodiazepines + ReportedGender + Alcohol + PMIinhours + 1'"
      ]
     },
     "execution_count": 17,
     "metadata": {},
     "output_type": "execute_result"
    }
   ],
   "source": [
    "best1.model.formula"
   ]
  },
  {
   "cell_type": "markdown",
   "metadata": {},
   "source": [
    "Recall the previous formula"
   ]
  },
  {
   "cell_type": "code",
   "execution_count": 18,
   "metadata": {},
   "outputs": [
    {
     "data": {
      "text/plain": [
       "'Dx ~ AntipsychAtyp + YearofAutopsy + AntipsychTyp + EV3 + Institution + Benzodiazepines + causeOfDeath + Ethnicity + ReportedGender + Alcohol + ageOfDeath + PMIinhours + 1'"
      ]
     },
     "execution_count": 18,
     "metadata": {},
     "output_type": "execute_result"
    }
   ],
   "source": [
    "best.model.formula"
   ]
  },
  {
   "cell_type": "markdown",
   "metadata": {},
   "source": [
    "Comparing the new `best1` to the previous `best` we see that Ethinicity has been selected in `best1` instead of EV_5 and EV_2.  EV_4 is still selected in `best1`."
   ]
  },
  {
   "cell_type": "code",
   "execution_count": 19,
   "metadata": {},
   "outputs": [
    {
     "data": {
      "text/html": [
       "<table class=\"simpletable\">\n",
       "<caption>OLS Regression Results</caption>\n",
       "<tr>\n",
       "  <th>Dep. Variable:</th>           <td>Dx</td>        <th>  R-squared:         </th> <td>   0.666</td>\n",
       "</tr>\n",
       "<tr>\n",
       "  <th>Model:</th>                   <td>OLS</td>       <th>  Adj. R-squared:    </th> <td>   0.600</td>\n",
       "</tr>\n",
       "<tr>\n",
       "  <th>Method:</th>             <td>Least Squares</td>  <th>  F-statistic:       </th> <td>   10.10</td>\n",
       "</tr>\n",
       "<tr>\n",
       "  <th>Date:</th>             <td>Thu, 10 Sep 2020</td> <th>  Prob (F-statistic):</th> <td>5.85e-12</td>\n",
       "</tr>\n",
       "<tr>\n",
       "  <th>Time:</th>                 <td>11:34:50</td>     <th>  Log-Likelihood:    </th> <td> -7.0090</td>\n",
       "</tr>\n",
       "<tr>\n",
       "  <th>No. Observations:</th>      <td>    86</td>      <th>  AIC:               </th> <td>   44.02</td>\n",
       "</tr>\n",
       "<tr>\n",
       "  <th>Df Residuals:</th>          <td>    71</td>      <th>  BIC:               </th> <td>   80.83</td>\n",
       "</tr>\n",
       "<tr>\n",
       "  <th>Df Model:</th>              <td>    14</td>      <th>                     </th>     <td> </td>   \n",
       "</tr>\n",
       "<tr>\n",
       "  <th>Covariance Type:</th>      <td>nonrobust</td>    <th>                     </th>     <td> </td>   \n",
       "</tr>\n",
       "</table>\n",
       "<table class=\"simpletable\">\n",
       "<tr>\n",
       "             <td></td>               <th>coef</th>     <th>std err</th>      <th>t</th>      <th>P>|t|</th>  <th>[0.025</th>    <th>0.975]</th>  \n",
       "</tr>\n",
       "<tr>\n",
       "  <th>Intercept</th>              <td>    0.6232</td> <td>    0.102</td> <td>    6.122</td> <td> 0.000</td> <td>    0.420</td> <td>    0.826</td>\n",
       "</tr>\n",
       "<tr>\n",
       "  <th>AntipsychAtyp[T.1]</th>     <td>    0.5370</td> <td>    0.074</td> <td>    7.217</td> <td> 0.000</td> <td>    0.389</td> <td>    0.685</td>\n",
       "</tr>\n",
       "<tr>\n",
       "  <th>AntipsychTyp[T.1]</th>      <td>    0.4790</td> <td>    0.093</td> <td>    5.126</td> <td> 0.000</td> <td>    0.293</td> <td>    0.665</td>\n",
       "</tr>\n",
       "<tr>\n",
       "  <th>Ethnicity[T.Caucasian]</th> <td>   -0.0499</td> <td>    0.095</td> <td>   -0.527</td> <td> 0.600</td> <td>   -0.239</td> <td>    0.139</td>\n",
       "</tr>\n",
       "<tr>\n",
       "  <th>Ethnicity[T.Hispanic]</th>  <td>   -0.9142</td> <td>    0.228</td> <td>   -4.006</td> <td> 0.000</td> <td>   -1.369</td> <td>   -0.459</td>\n",
       "</tr>\n",
       "<tr>\n",
       "  <th>Institution[T.Pitt]</th>    <td>   -0.2570</td> <td>    0.088</td> <td>   -2.932</td> <td> 0.005</td> <td>   -0.432</td> <td>   -0.082</td>\n",
       "</tr>\n",
       "<tr>\n",
       "  <th>causeOfDeath[T.2]</th>      <td>    0.3615</td> <td>    0.222</td> <td>    1.627</td> <td> 0.108</td> <td>   -0.082</td> <td>    0.805</td>\n",
       "</tr>\n",
       "<tr>\n",
       "  <th>causeOfDeath[T.3]</th>      <td>    0.5460</td> <td>    0.227</td> <td>    2.408</td> <td> 0.019</td> <td>    0.094</td> <td>    0.998</td>\n",
       "</tr>\n",
       "<tr>\n",
       "  <th>causeOfDeath[T.4]</th>      <td>    0.0575</td> <td>    0.212</td> <td>    0.272</td> <td> 0.787</td> <td>   -0.365</td> <td>    0.480</td>\n",
       "</tr>\n",
       "<tr>\n",
       "  <th>causeOfDeath[T.5]</th>      <td>    0.1610</td> <td>    0.101</td> <td>    1.590</td> <td> 0.116</td> <td>   -0.041</td> <td>    0.363</td>\n",
       "</tr>\n",
       "<tr>\n",
       "  <th>Benzodiazepines[T.1]</th>   <td>   -0.2322</td> <td>    0.094</td> <td>   -2.464</td> <td> 0.016</td> <td>   -0.420</td> <td>   -0.044</td>\n",
       "</tr>\n",
       "<tr>\n",
       "  <th>ReportedGender[T.Male]</th> <td>   -0.1348</td> <td>    0.071</td> <td>   -1.890</td> <td> 0.063</td> <td>   -0.277</td> <td>    0.007</td>\n",
       "</tr>\n",
       "<tr>\n",
       "  <th>Alcohol[T.1]</th>           <td>    0.1653</td> <td>    0.089</td> <td>    1.863</td> <td> 0.067</td> <td>   -0.012</td> <td>    0.342</td>\n",
       "</tr>\n",
       "<tr>\n",
       "  <th>YearofAutopsy</th>          <td>   -0.2025</td> <td>    0.039</td> <td>   -5.206</td> <td> 0.000</td> <td>   -0.280</td> <td>   -0.125</td>\n",
       "</tr>\n",
       "<tr>\n",
       "  <th>PMIinhours</th>             <td>    0.0449</td> <td>    0.033</td> <td>    1.367</td> <td> 0.176</td> <td>   -0.021</td> <td>    0.111</td>\n",
       "</tr>\n",
       "</table>\n",
       "<table class=\"simpletable\">\n",
       "<tr>\n",
       "  <th>Omnibus:</th>       <td> 0.347</td> <th>  Durbin-Watson:     </th> <td>   2.306</td>\n",
       "</tr>\n",
       "<tr>\n",
       "  <th>Prob(Omnibus):</th> <td> 0.841</td> <th>  Jarque-Bera (JB):  </th> <td>   0.518</td>\n",
       "</tr>\n",
       "<tr>\n",
       "  <th>Skew:</th>          <td> 0.049</td> <th>  Prob(JB):          </th> <td>   0.772</td>\n",
       "</tr>\n",
       "<tr>\n",
       "  <th>Kurtosis:</th>      <td> 2.632</td> <th>  Cond. No.          </th> <td>    12.6</td>\n",
       "</tr>\n",
       "</table><br/><br/>Warnings:<br/>[1] Standard Errors assume that the covariance matrix of the errors is correctly specified."
      ],
      "text/plain": [
       "<class 'statsmodels.iolib.summary.Summary'>\n",
       "\"\"\"\n",
       "                            OLS Regression Results                            \n",
       "==============================================================================\n",
       "Dep. Variable:                     Dx   R-squared:                       0.666\n",
       "Model:                            OLS   Adj. R-squared:                  0.600\n",
       "Method:                 Least Squares   F-statistic:                     10.10\n",
       "Date:                Thu, 10 Sep 2020   Prob (F-statistic):           5.85e-12\n",
       "Time:                        11:34:50   Log-Likelihood:                -7.0090\n",
       "No. Observations:                  86   AIC:                             44.02\n",
       "Df Residuals:                      71   BIC:                             80.83\n",
       "Df Model:                          14                                         \n",
       "Covariance Type:            nonrobust                                         \n",
       "==========================================================================================\n",
       "                             coef    std err          t      P>|t|      [0.025      0.975]\n",
       "------------------------------------------------------------------------------------------\n",
       "Intercept                  0.6232      0.102      6.122      0.000       0.420       0.826\n",
       "AntipsychAtyp[T.1]         0.5370      0.074      7.217      0.000       0.389       0.685\n",
       "AntipsychTyp[T.1]          0.4790      0.093      5.126      0.000       0.293       0.665\n",
       "Ethnicity[T.Caucasian]    -0.0499      0.095     -0.527      0.600      -0.239       0.139\n",
       "Ethnicity[T.Hispanic]     -0.9142      0.228     -4.006      0.000      -1.369      -0.459\n",
       "Institution[T.Pitt]       -0.2570      0.088     -2.932      0.005      -0.432      -0.082\n",
       "causeOfDeath[T.2]          0.3615      0.222      1.627      0.108      -0.082       0.805\n",
       "causeOfDeath[T.3]          0.5460      0.227      2.408      0.019       0.094       0.998\n",
       "causeOfDeath[T.4]          0.0575      0.212      0.272      0.787      -0.365       0.480\n",
       "causeOfDeath[T.5]          0.1610      0.101      1.590      0.116      -0.041       0.363\n",
       "Benzodiazepines[T.1]      -0.2322      0.094     -2.464      0.016      -0.420      -0.044\n",
       "ReportedGender[T.Male]    -0.1348      0.071     -1.890      0.063      -0.277       0.007\n",
       "Alcohol[T.1]               0.1653      0.089      1.863      0.067      -0.012       0.342\n",
       "YearofAutopsy             -0.2025      0.039     -5.206      0.000      -0.280      -0.125\n",
       "PMIinhours                 0.0449      0.033      1.367      0.176      -0.021       0.111\n",
       "==============================================================================\n",
       "Omnibus:                        0.347   Durbin-Watson:                   2.306\n",
       "Prob(Omnibus):                  0.841   Jarque-Bera (JB):                0.518\n",
       "Skew:                           0.049   Prob(JB):                        0.772\n",
       "Kurtosis:                       2.632   Cond. No.                         12.6\n",
       "==============================================================================\n",
       "\n",
       "Warnings:\n",
       "[1] Standard Errors assume that the covariance matrix of the errors is correctly specified.\n",
       "\"\"\""
      ]
     },
     "execution_count": 19,
     "metadata": {},
     "output_type": "execute_result"
    }
   ],
   "source": [
    "best1.summary()"
   ]
  },
  {
   "cell_type": "markdown",
   "metadata": {},
   "source": [
    "The summary shows that including EV_3 is beneficial for fit (R-squared, Adj. R-squared, AIC, BIC) although the effect is not enormous."
   ]
  },
  {
   "cell_type": "markdown",
   "metadata": {},
   "source": [
    "## Conclusions\n",
    "\n",
    "* Much of the CMC clinical data is missing.  Filtering removed most variables leaving about a dozen, some of which had one missing valueh, which were imputed using the sample mean (or mode for categorical variables)\n",
    "* Reported Gender and Sex are nearly identical.  Sex is a three level factor: XX, XY and XXY. The third level, XXY, occurs in only one individual, a schizophrenic male with Klinefelter syndrome.  To avoid colinearity between these two variables one of them needs to be removed.  Removing Sex leaves the simpler (two level) Reported Gender in the data set.\n",
    "* The remaining 12 variables were split to 1 response (`Dx`) and 11 explanatory variables.  8/11 explanatory variables were selected with a forward strategy using normal linear models and adjusted R-squared as score.\n",
    "* Among the 8 selected explanatory variables only AntipsychAtyp, AntipsychAtyp, Alcohol and Ancestry EV.3 (or Ethinicity if EV.3 has been omitted) had significant ($p \\le 0.01$) \"effect\" on disease status.  Not quite significant effects were displayed by Institution and Gender.\n",
    "* AntipsychAtyp, AntipsychAtyp might be assumed to be an *a posteriori* conditions relative to the onset of schizophrenia.  That assumption means they do not carry risk for schizophrenia.  On the other hand, Ancestry (Ethinicity) is clearly an *a priori* condition and as the regression coefficient's t-statistic suggests being African American carries risk relative to Hispanic individuals.\n",
    "* Thus *a posteriori* explanatory variables may or may not be included in further analyses. \n",
    "    * If they *are* included they improve fit\n",
    "    * If they are *not* included they might confound inference.  Despite that excluding all clinical variables (except individual ID) is beneficial because ordinary least squares (OLS) can be used instead of generalized ones (GLS)."
   ]
  },
  {
   "cell_type": "code",
   "execution_count": 20,
   "metadata": {},
   "outputs": [
    {
     "name": "stdout",
     "output_type": "stream",
     "text": [
      "{\n",
      "  \"shell_port\": 58223,\n",
      "  \"iopub_port\": 53959,\n",
      "  \"stdin_port\": 49917,\n",
      "  \"control_port\": 41863,\n",
      "  \"hb_port\": 43155,\n",
      "  \"ip\": \"127.0.0.1\",\n",
      "  \"key\": \"b639f1a7-95b1bdce6f7fd1bfacb42449\",\n",
      "  \"transport\": \"tcp\",\n",
      "  \"signature_scheme\": \"hmac-sha256\",\n",
      "  \"kernel_name\": \"\"\n",
      "}\n",
      "\n",
      "Paste the above JSON into a file, and connect with:\n",
      "    $> jupyter <app> --existing <file>\n",
      "or, if you are local, you can connect with just:\n",
      "    $> jupyter <app> --existing kernel-7ff1dcc1-8051-418d-aca4-69a981383831.json\n",
      "or even just:\n",
      "    $> jupyter <app> --existing\n",
      "if this is the most recent Jupyter kernel you have started.\n"
     ]
    }
   ],
   "source": [
    "%connect_info"
   ]
  },
  {
   "cell_type": "code",
   "execution_count": null,
   "metadata": {},
   "outputs": [],
   "source": []
  }
 ],
 "metadata": {
  "kernelspec": {
   "display_name": "Python 3",
   "language": "python",
   "name": "python3"
  },
  "language_info": {
   "codemirror_mode": {
    "name": "ipython",
    "version": 3
   },
   "file_extension": ".py",
   "mimetype": "text/x-python",
   "name": "python",
   "nbconvert_exporter": "python",
   "pygments_lexer": "ipython3",
   "version": "3.7.6"
  }
 },
 "nbformat": 4,
 "nbformat_minor": 4
}
