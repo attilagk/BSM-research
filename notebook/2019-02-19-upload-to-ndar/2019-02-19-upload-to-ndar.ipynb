{
 "cells": [
  {
   "cell_type": "markdown",
   "metadata": {},
   "source": [
    "Uploading FASTQ and BAM files to NDAR"
   ]
  },
  {
   "cell_type": "markdown",
   "metadata": {},
   "source": [
    "The python package [nda-tools](https://github.com/NDAR/nda-tools) have been upgraded"
   ]
  },
  {
   "cell_type": "code",
   "execution_count": null,
   "metadata": {},
   "outputs": [],
   "source": [
    "%%bash\n",
    "pip3 install --upgrade nda-tools"
   ]
  },
  {
   "cell_type": "code",
   "execution_count": 9,
   "metadata": {},
   "outputs": [
    {
     "name": "stdout",
     "output_type": "stream",
     "text": [
      "/home/attila/.local/bin/vtcmd\n"
     ]
    }
   ],
   "source": [
    "%%bash\n",
    "which vtcmd"
   ]
  },
  {
   "cell_type": "code",
   "execution_count": 7,
   "metadata": {},
   "outputs": [
    {
     "name": "stdout",
     "output_type": "stream",
     "text": [
      "test1\n",
      "test2\n",
      "test3\n",
      "test4\n"
     ]
    }
   ],
   "source": [
    "%%bash\n",
    "#! /usr/bin/env bash\n",
    "\n",
    "#d=/home/attila/projects/bsm/ndar/benchmark/vt-python/test0\n",
    "d=`dirname $0`\n",
    "f1=$d/nichd_btb02.csv\n",
    "f2=$d/genomics_subject02.csv\n",
    "f3=$d/genomics_sample03.csv\n",
    "\n",
    "vtcmd \\\n",
    "$f1 $f2 $f3 \\\n",
    "-u attilagk \\\n",
    "-p Chesslab13 \\\n",
    "-l /projects/bsm/alignments/ceph-benchmark/ /projects/bsm/reads/2018-01-10-Benchmark-DV-X10/ \\\n",
    "-a BSMN-S3 \\\n",
    "-t \"U01MH106891, reference_tissue, benchmark/mixin\" \\\n",
    "-d \"FASTQs and BAMs for Benchmark (CEPH/Utah DNA mixes), Chess lab\" \\\n",
    "-b\n"
   ]
  },
  {
   "cell_type": "code",
   "execution_count": null,
   "metadata": {},
   "outputs": [],
   "source": []
  }
 ],
 "metadata": {
  "kernelspec": {
   "display_name": "Python 3",
   "language": "python",
   "name": "python3"
  },
  "language_info": {
   "codemirror_mode": {
    "name": "ipython",
    "version": 3
   },
   "file_extension": ".py",
   "mimetype": "text/x-python",
   "name": "python",
   "nbconvert_exporter": "python",
   "pygments_lexer": "ipython3",
   "version": "3.5.3"
  }
 },
 "nbformat": 4,
 "nbformat_minor": 2
}
