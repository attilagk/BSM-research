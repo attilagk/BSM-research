{
 "cells": [
  {
   "cell_type": "code",
   "execution_count": 2,
   "metadata": {},
   "outputs": [],
   "source": [
    "import vcfpy"
   ]
  },
  {
   "cell_type": "code",
   "execution_count": 5,
   "metadata": {
    "scrolled": false
   },
   "outputs": [
    {
     "name": "stdout",
     "output_type": "stream",
     "text": [
      "Help on class Reader in module vcfpy.reader:\n",
      "\n",
      "class Reader(builtins.object)\n",
      " |  Class for parsing of files from ``file``-like objects\n",
      " |  \n",
      " |  Instead of using the constructor, use the class methods\n",
      " |  :py:meth:`~Reader.from_stream` and\n",
      " |  :py:meth:`~Reader.from_path`.\n",
      " |  \n",
      " |  On construction, the header will be read from the file which can cause\n",
      " |  problems.  After construction, :py:class:`~Reader` can be used as\n",
      " |  an iterable of :py:class:`~vcfpy.record.Record`.\n",
      " |  \n",
      " |  :raises: :py:class:`~vcfpy.exceptions.InvalidHeaderException` in the case\n",
      " |      of problems reading the header\n",
      " |  \n",
      " |  .. note::\n",
      " |      It is important to note that the ``header`` member is used during\n",
      " |      the parsing of the file.  **If you need a modified version then\n",
      " |      create a copy, e.g., using :py:method:`~vcfpy.header.Header.copy`**.\n",
      " |  \n",
      " |  .. note::\n",
      " |      If you use the ``parsed_samples`` feature and you write out\n",
      " |      records then you must not change the ``FORMAT`` of the record.\n",
      " |  \n",
      " |  Methods defined here:\n",
      " |  \n",
      " |  __enter__(self)\n",
      " |  \n",
      " |  __exit__(self, type_, value, traceback)\n",
      " |  \n",
      " |  __init__(self, stream, path=None, tabix_path=None, record_checks=None, parsed_samples=None)\n",
      " |      Initialize self.  See help(type(self)) for accurate signature.\n",
      " |  \n",
      " |  __iter__(self)\n",
      " |  \n",
      " |  __next__(self)\n",
      " |      Return next object from file\n",
      " |      \n",
      " |      :returns:\n",
      " |      :raises: ``vcfpy.exceptions.InvalidRecordException`` in the case of\n",
      " |          problems reading the record\n",
      " |      :raises: ``StopException`` if at end\n",
      " |  \n",
      " |  close(self)\n",
      " |      Close underlying stream\n",
      " |  \n",
      " |  fetch(self, chrom_or_region, begin=None, end=None)\n",
      " |      Jump to the start position of the given chromosomal position\n",
      " |      and limit iteration to the end position\n",
      " |      \n",
      " |      :param str chrom_or_region: name of the chromosome to jump to if\n",
      " |          begin and end are given and a samtools region string otherwise\n",
      " |          (e.g. \"chr1:123,456-123,900\").\n",
      " |      :param int begin: 0-based begin position (inclusive)\n",
      " |      :param int end: 0-based end position (exclusive)\n",
      " |  \n",
      " |  ----------------------------------------------------------------------\n",
      " |  Class methods defined here:\n",
      " |  \n",
      " |  from_path(path, tabix_path=None, record_checks=None, parsed_samples=None) from builtins.type\n",
      " |      Create new :py:class:`Reader` from path\n",
      " |      \n",
      " |      .. note::\n",
      " |          If you use the ``parsed_samples`` feature and you write out\n",
      " |          records then you must not change the ``FORMAT`` of the record.\n",
      " |      \n",
      " |      :param path: the path to load from (converted to ``str`` for\n",
      " |          compatibility with ``path.py``)\n",
      " |      :param tabix_path: optional string with path to TBI index,\n",
      " |          automatic inferral from ``path`` will be tried on the fly\n",
      " |          if not given\n",
      " |      :param list record_checks: record checks to perform, can contain\n",
      " |          'INFO' and 'FORMAT'\n",
      " |  \n",
      " |  from_stream(stream, path=None, tabix_path=None, record_checks=None, parsed_samples=None) from builtins.type\n",
      " |      Create new :py:class:`Reader` from file\n",
      " |      \n",
      " |      .. note::\n",
      " |          If you use the ``parsed_samples`` feature and you write out\n",
      " |          records then you must not change the ``FORMAT`` of the record.\n",
      " |      \n",
      " |      :param stream: ``file``-like object to read from\n",
      " |      :param path: optional string with path to store (for display only)\n",
      " |      :param list record_checks: record checks to perform, can contain\n",
      " |          'INFO' and 'FORMAT'\n",
      " |      :param list parsed_samples: ``list`` of ``str`` values with names of\n",
      " |          samples to parse call information for (for speedup); leave to\n",
      " |          ``None`` for ignoring\n",
      " |  \n",
      " |  ----------------------------------------------------------------------\n",
      " |  Data descriptors defined here:\n",
      " |  \n",
      " |  __dict__\n",
      " |      dictionary for instance variables (if defined)\n",
      " |  \n",
      " |  __weakref__\n",
      " |      list of weak references to the object (if defined)\n",
      "\n"
     ]
    }
   ],
   "source": [
    "help(vcfpy.Reader)"
   ]
  },
  {
   "cell_type": "code",
   "execution_count": null,
   "metadata": {},
   "outputs": [],
   "source": []
  }
 ],
 "metadata": {
  "kernelspec": {
   "display_name": "Python 3",
   "language": "python",
   "name": "python3"
  },
  "language_info": {
   "codemirror_mode": {
    "name": "ipython",
    "version": 3
   },
   "file_extension": ".py",
   "mimetype": "text/x-python",
   "name": "python",
   "nbconvert_exporter": "python",
   "pygments_lexer": "ipython3",
   "version": "3.5.3"
  }
 },
 "nbformat": 4,
 "nbformat_minor": 2
}
