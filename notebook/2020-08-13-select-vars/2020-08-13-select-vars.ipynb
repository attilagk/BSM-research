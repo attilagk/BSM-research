{
 "cells": [
  {
   "cell_type": "markdown",
   "metadata": {},
   "source": [
    "Selecting variables"
   ]
  },
  {
   "cell_type": "code",
   "execution_count": 1,
   "metadata": {},
   "outputs": [],
   "source": [
    "%load_ext autoreload\n",
    "%autoreload 2\n",
    "%reload_ext autoreload\n",
    "from matplotlib import pyplot as plt\n",
    "import pandas as pd\n",
    "from bsmcalls import individuals\n",
    "from bsmcalls import preprocessing\n",
    "import fwsel\n",
    "import statsmodels as sm\n",
    "%matplotlib inline"
   ]
  },
  {
   "cell_type": "code",
   "execution_count": 2,
   "metadata": {},
   "outputs": [],
   "source": [
    "calls, clin = individuals.get_data(merge=False, cleancalls=True)"
   ]
  },
  {
   "cell_type": "markdown",
   "metadata": {},
   "source": [
    "The `cleancalls` argument in `bsmcalls.individuals.get_data` takes care of redundant and degenerate variables.\n",
    "\n",
    "Below `bsmcalls.preprocessing.preprocess` performs\n",
    "\n",
    "* imputation or removing a variable if the fraction of missing values exceeds 10%\n",
    "* prettifying the variable names (replace whitespace and `./\\:` characters with `_`)\n",
    "* turns *Dx* into a response variable by dummifying it so it takes values on $\\{0, 1\\}$\n",
    "* standardizes numeric variables"
   ]
  },
  {
   "cell_type": "code",
   "execution_count": 3,
   "metadata": {},
   "outputs": [],
   "source": [
    "calls1 = preprocessing.preprocess(calls)\n",
    "clin1 = preprocessing.preprocess(clin)\n",
    "calls1 = individuals.merge_data(calls1, clin1[['Dx']])"
   ]
  },
  {
   "cell_type": "code",
   "execution_count": 4,
   "metadata": {},
   "outputs": [
    {
     "name": "stdout",
     "output_type": "stream",
     "text": [
      "<class 'pandas.core.frame.DataFrame'>\n",
      "MultiIndex: 3411 entries, ('CMC_MSSM_027', 'NeuN_pl', '1', 11973569, 'C/T') to ('CMC_MSSM_331', 'muscle', 17, 29109599, 'T/G')\n",
      "Data columns (total 15 columns):\n",
      " #   Column                Non-Null Count  Dtype   \n",
      "---  ------                --------------  -----   \n",
      " 0   REF                   3411 non-null   category\n",
      " 1   ALT                   3411 non-null   category\n",
      " 2   FILTERPASS            3411 non-null   category\n",
      " 3   AF                    3411 non-null   float64 \n",
      " 4   BaseQRankSum          3411 non-null   float64 \n",
      " 5   DP                    3411 non-null   float64 \n",
      " 6   FS                    3411 non-null   float64 \n",
      " 7   SOR                   3411 non-null   float64 \n",
      " 8   VQSLOD                3411 non-null   float64 \n",
      " 9   culprit               3411 non-null   category\n",
      " 10  ChromatinState_DLPFC  3411 non-null   category\n",
      " 11  szdbCNVcount          3411 non-null   float64 \n",
      " 12  GWASpval              3411 non-null   float64 \n",
      " 13  evolConstrain         3411 non-null   category\n",
      " 14  Dx                    3411 non-null   int32   \n",
      "dtypes: category(6), float64(8), int32(1)\n",
      "memory usage: 296.2+ KB\n"
     ]
    }
   ],
   "source": [
    "calls1.info()"
   ]
  },
  {
   "cell_type": "markdown",
   "metadata": {},
   "source": [
    "## Forward variable selection"
   ]
  },
  {
   "cell_type": "code",
   "execution_count": 5,
   "metadata": {},
   "outputs": [],
   "source": [
    "best1 = fwsel.forward_selected(calls1, 'Dx')"
   ]
  },
  {
   "cell_type": "code",
   "execution_count": 6,
   "metadata": {},
   "outputs": [
    {
     "data": {
      "text/plain": [
       "'Dx ~ culprit + ALT + DP + AF + FILTERPASS + BaseQRankSum + GWASpval + REF + VQSLOD + SOR + 1'"
      ]
     },
     "execution_count": 6,
     "metadata": {},
     "output_type": "execute_result"
    }
   ],
   "source": [
    "best1.model.formula"
   ]
  },
  {
   "cell_type": "code",
   "execution_count": 7,
   "metadata": {},
   "outputs": [
    {
     "data": {
      "text/html": [
       "<table class=\"simpletable\">\n",
       "<caption>OLS Regression Results</caption>\n",
       "<tr>\n",
       "  <th>Dep. Variable:</th>           <td>Dx</td>        <th>  R-squared:         </th> <td>   0.035</td>\n",
       "</tr>\n",
       "<tr>\n",
       "  <th>Model:</th>                   <td>OLS</td>       <th>  Adj. R-squared:    </th> <td>   0.029</td>\n",
       "</tr>\n",
       "<tr>\n",
       "  <th>Method:</th>             <td>Least Squares</td>  <th>  F-statistic:       </th> <td>   5.639</td>\n",
       "</tr>\n",
       "<tr>\n",
       "  <th>Date:</th>             <td>Thu, 10 Sep 2020</td> <th>  Prob (F-statistic):</th> <td>6.95e-16</td>\n",
       "</tr>\n",
       "<tr>\n",
       "  <th>Time:</th>                 <td>11:37:23</td>     <th>  Log-Likelihood:    </th> <td> -1985.1</td>\n",
       "</tr>\n",
       "<tr>\n",
       "  <th>No. Observations:</th>      <td>  3411</td>      <th>  AIC:               </th> <td>   4016.</td>\n",
       "</tr>\n",
       "<tr>\n",
       "  <th>Df Residuals:</th>          <td>  3388</td>      <th>  BIC:               </th> <td>   4157.</td>\n",
       "</tr>\n",
       "<tr>\n",
       "  <th>Df Model:</th>              <td>    22</td>      <th>                     </th>     <td> </td>   \n",
       "</tr>\n",
       "<tr>\n",
       "  <th>Covariance Type:</th>      <td>nonrobust</td>    <th>                     </th>     <td> </td>   \n",
       "</tr>\n",
       "</table>\n",
       "<table class=\"simpletable\">\n",
       "<tr>\n",
       "               <td></td>                  <th>coef</th>     <th>std err</th>      <th>t</th>      <th>P>|t|</th>  <th>[0.025</th>    <th>0.975]</th>  \n",
       "</tr>\n",
       "<tr>\n",
       "  <th>Intercept</th>                   <td>    1.0215</td> <td>    0.101</td> <td>   10.150</td> <td> 0.000</td> <td>    0.824</td> <td>    1.219</td>\n",
       "</tr>\n",
       "<tr>\n",
       "  <th>culprit[T.FS]</th>               <td>   -0.3297</td> <td>    0.140</td> <td>   -2.355</td> <td> 0.019</td> <td>   -0.604</td> <td>   -0.055</td>\n",
       "</tr>\n",
       "<tr>\n",
       "  <th>culprit[T.MQ]</th>               <td>   -0.1405</td> <td>    0.091</td> <td>   -1.545</td> <td> 0.122</td> <td>   -0.319</td> <td>    0.038</td>\n",
       "</tr>\n",
       "<tr>\n",
       "  <th>culprit[T.MQRankSum]</th>        <td>   -0.6639</td> <td>    0.176</td> <td>   -3.767</td> <td> 0.000</td> <td>   -1.009</td> <td>   -0.318</td>\n",
       "</tr>\n",
       "<tr>\n",
       "  <th>culprit[T.QD]</th>               <td>   -0.3143</td> <td>    0.084</td> <td>   -3.722</td> <td> 0.000</td> <td>   -0.480</td> <td>   -0.149</td>\n",
       "</tr>\n",
       "<tr>\n",
       "  <th>culprit[T.ReadPosRankSum]</th>   <td>   -0.2098</td> <td>    0.102</td> <td>   -2.065</td> <td> 0.039</td> <td>   -0.409</td> <td>   -0.011</td>\n",
       "</tr>\n",
       "<tr>\n",
       "  <th>culprit[T.SOR]</th>              <td>   -0.3100</td> <td>    0.092</td> <td>   -3.377</td> <td> 0.001</td> <td>   -0.490</td> <td>   -0.130</td>\n",
       "</tr>\n",
       "<tr>\n",
       "  <th>ALT[T.C]</th>                    <td>    0.0677</td> <td>    0.029</td> <td>    2.306</td> <td> 0.021</td> <td>    0.010</td> <td>    0.125</td>\n",
       "</tr>\n",
       "<tr>\n",
       "  <th>ALT[T.G]</th>                    <td>    0.0833</td> <td>    0.031</td> <td>    2.672</td> <td> 0.008</td> <td>    0.022</td> <td>    0.144</td>\n",
       "</tr>\n",
       "<tr>\n",
       "  <th>ALT[T.T]</th>                    <td>    0.0186</td> <td>    0.022</td> <td>    0.834</td> <td> 0.404</td> <td>   -0.025</td> <td>    0.062</td>\n",
       "</tr>\n",
       "<tr>\n",
       "  <th>FILTERPASS[T.EXT;PASS/PASS]</th> <td>   -0.0386</td> <td>    0.053</td> <td>   -0.731</td> <td> 0.465</td> <td>   -0.142</td> <td>    0.065</td>\n",
       "</tr>\n",
       "<tr>\n",
       "  <th>FILTERPASS[T.HC/PASS]</th>       <td>   -0.0252</td> <td>    0.053</td> <td>   -0.475</td> <td> 0.635</td> <td>   -0.129</td> <td>    0.079</td>\n",
       "</tr>\n",
       "<tr>\n",
       "  <th>FILTERPASS[T.HC;PASS/PASS]</th>  <td>   -0.0528</td> <td>    0.049</td> <td>   -1.070</td> <td> 0.285</td> <td>   -0.149</td> <td>    0.044</td>\n",
       "</tr>\n",
       "<tr>\n",
       "  <th>FILTERPASS[T.PASS/PASS]</th>     <td>    0.0440</td> <td>    0.054</td> <td>    0.821</td> <td> 0.412</td> <td>   -0.061</td> <td>    0.149</td>\n",
       "</tr>\n",
       "<tr>\n",
       "  <th>REF[T.C]</th>                    <td>    0.0111</td> <td>    0.030</td> <td>    0.365</td> <td> 0.715</td> <td>   -0.048</td> <td>    0.071</td>\n",
       "</tr>\n",
       "<tr>\n",
       "  <th>REF[T.G]</th>                    <td>    0.0520</td> <td>    0.031</td> <td>    1.655</td> <td> 0.098</td> <td>   -0.010</td> <td>    0.114</td>\n",
       "</tr>\n",
       "<tr>\n",
       "  <th>REF[T.T]</th>                    <td>    0.0154</td> <td>    0.028</td> <td>    0.558</td> <td> 0.577</td> <td>   -0.039</td> <td>    0.069</td>\n",
       "</tr>\n",
       "<tr>\n",
       "  <th>DP</th>                          <td>   -0.0224</td> <td>    0.009</td> <td>   -2.380</td> <td> 0.017</td> <td>   -0.041</td> <td>   -0.004</td>\n",
       "</tr>\n",
       "<tr>\n",
       "  <th>AF</th>                          <td>   -0.0335</td> <td>    0.010</td> <td>   -3.370</td> <td> 0.001</td> <td>   -0.053</td> <td>   -0.014</td>\n",
       "</tr>\n",
       "<tr>\n",
       "  <th>BaseQRankSum</th>                <td>   -0.0204</td> <td>    0.010</td> <td>   -2.095</td> <td> 0.036</td> <td>   -0.039</td> <td>   -0.001</td>\n",
       "</tr>\n",
       "<tr>\n",
       "  <th>GWASpval</th>                    <td>   -0.0114</td> <td>    0.007</td> <td>   -1.530</td> <td> 0.126</td> <td>   -0.026</td> <td>    0.003</td>\n",
       "</tr>\n",
       "<tr>\n",
       "  <th>VQSLOD</th>                      <td>    0.0162</td> <td>    0.009</td> <td>    1.708</td> <td> 0.088</td> <td>   -0.002</td> <td>    0.035</td>\n",
       "</tr>\n",
       "<tr>\n",
       "  <th>SOR</th>                         <td>    0.0147</td> <td>    0.010</td> <td>    1.448</td> <td> 0.148</td> <td>   -0.005</td> <td>    0.035</td>\n",
       "</tr>\n",
       "</table>\n",
       "<table class=\"simpletable\">\n",
       "<tr>\n",
       "  <th>Omnibus:</th>       <td>724.911</td> <th>  Durbin-Watson:     </th> <td>   0.101</td> \n",
       "</tr>\n",
       "<tr>\n",
       "  <th>Prob(Omnibus):</th> <td> 0.000</td>  <th>  Jarque-Bera (JB):  </th> <td> 677.370</td> \n",
       "</tr>\n",
       "<tr>\n",
       "  <th>Skew:</th>          <td>-1.012</td>  <th>  Prob(JB):          </th> <td>8.15e-148</td>\n",
       "</tr>\n",
       "<tr>\n",
       "  <th>Kurtosis:</th>      <td> 2.182</td>  <th>  Cond. No.          </th> <td>    53.8</td> \n",
       "</tr>\n",
       "</table><br/><br/>Warnings:<br/>[1] Standard Errors assume that the covariance matrix of the errors is correctly specified."
      ],
      "text/plain": [
       "<class 'statsmodels.iolib.summary.Summary'>\n",
       "\"\"\"\n",
       "                            OLS Regression Results                            \n",
       "==============================================================================\n",
       "Dep. Variable:                     Dx   R-squared:                       0.035\n",
       "Model:                            OLS   Adj. R-squared:                  0.029\n",
       "Method:                 Least Squares   F-statistic:                     5.639\n",
       "Date:                Thu, 10 Sep 2020   Prob (F-statistic):           6.95e-16\n",
       "Time:                        11:37:23   Log-Likelihood:                -1985.1\n",
       "No. Observations:                3411   AIC:                             4016.\n",
       "Df Residuals:                    3388   BIC:                             4157.\n",
       "Df Model:                          22                                         \n",
       "Covariance Type:            nonrobust                                         \n",
       "===============================================================================================\n",
       "                                  coef    std err          t      P>|t|      [0.025      0.975]\n",
       "-----------------------------------------------------------------------------------------------\n",
       "Intercept                       1.0215      0.101     10.150      0.000       0.824       1.219\n",
       "culprit[T.FS]                  -0.3297      0.140     -2.355      0.019      -0.604      -0.055\n",
       "culprit[T.MQ]                  -0.1405      0.091     -1.545      0.122      -0.319       0.038\n",
       "culprit[T.MQRankSum]           -0.6639      0.176     -3.767      0.000      -1.009      -0.318\n",
       "culprit[T.QD]                  -0.3143      0.084     -3.722      0.000      -0.480      -0.149\n",
       "culprit[T.ReadPosRankSum]      -0.2098      0.102     -2.065      0.039      -0.409      -0.011\n",
       "culprit[T.SOR]                 -0.3100      0.092     -3.377      0.001      -0.490      -0.130\n",
       "ALT[T.C]                        0.0677      0.029      2.306      0.021       0.010       0.125\n",
       "ALT[T.G]                        0.0833      0.031      2.672      0.008       0.022       0.144\n",
       "ALT[T.T]                        0.0186      0.022      0.834      0.404      -0.025       0.062\n",
       "FILTERPASS[T.EXT;PASS/PASS]    -0.0386      0.053     -0.731      0.465      -0.142       0.065\n",
       "FILTERPASS[T.HC/PASS]          -0.0252      0.053     -0.475      0.635      -0.129       0.079\n",
       "FILTERPASS[T.HC;PASS/PASS]     -0.0528      0.049     -1.070      0.285      -0.149       0.044\n",
       "FILTERPASS[T.PASS/PASS]         0.0440      0.054      0.821      0.412      -0.061       0.149\n",
       "REF[T.C]                        0.0111      0.030      0.365      0.715      -0.048       0.071\n",
       "REF[T.G]                        0.0520      0.031      1.655      0.098      -0.010       0.114\n",
       "REF[T.T]                        0.0154      0.028      0.558      0.577      -0.039       0.069\n",
       "DP                             -0.0224      0.009     -2.380      0.017      -0.041      -0.004\n",
       "AF                             -0.0335      0.010     -3.370      0.001      -0.053      -0.014\n",
       "BaseQRankSum                   -0.0204      0.010     -2.095      0.036      -0.039      -0.001\n",
       "GWASpval                       -0.0114      0.007     -1.530      0.126      -0.026       0.003\n",
       "VQSLOD                          0.0162      0.009      1.708      0.088      -0.002       0.035\n",
       "SOR                             0.0147      0.010      1.448      0.148      -0.005       0.035\n",
       "==============================================================================\n",
       "Omnibus:                      724.911   Durbin-Watson:                   0.101\n",
       "Prob(Omnibus):                  0.000   Jarque-Bera (JB):              677.370\n",
       "Skew:                          -1.012   Prob(JB):                    8.15e-148\n",
       "Kurtosis:                       2.182   Cond. No.                         53.8\n",
       "==============================================================================\n",
       "\n",
       "Warnings:\n",
       "[1] Standard Errors assume that the covariance matrix of the errors is correctly specified.\n",
       "\"\"\""
      ]
     },
     "execution_count": 7,
     "metadata": {},
     "output_type": "execute_result"
    }
   ],
   "source": [
    "best1.summary()"
   ]
  },
  {
   "cell_type": "markdown",
   "metadata": {},
   "source": [
    "### Some followup\n",
    "\n",
    "Interestingly, Control samples tend to have higher coverage than SCZ samples."
   ]
  },
  {
   "cell_type": "code",
   "execution_count": 8,
   "metadata": {},
   "outputs": [
    {
     "data": {
      "text/plain": [
       "Text(0.5, 1.0, 'Distribution of mean depth per sample')"
      ]
     },
     "execution_count": 8,
     "metadata": {},
     "output_type": "execute_result"
    },
    {
     "data": {
      "image/png": "[encoded data removed]",
      "text/plain": [
       "<Figure size 432x288 with 1 Axes>"
      ]
     },
     "metadata": {
      "needs_background": "light"
     },
     "output_type": "display_data"
    }
   ],
   "source": [
    "calls2 = calls.copy()\n",
    "calls2 = individuals.merge_data(calls2, clin[['Dx']])\n",
    "%matplotlib inline\n",
    "def plotter(var='DP'):\n",
    "    s = calls2.groupby(['Dx', 'Individual ID'])[var].mean()\n",
    "    s = s.dropna()\n",
    "    fig, ax = plt.subplots()\n",
    "    vp = ax.violinplot([s.groupby('Dx').get_group(y).values for y in calls2['Dx'].cat.categories])\n",
    "    ax.set_xticks([1, 2])\n",
    "    ax.set_xticklabels(['Control', 'SCZ'])\n",
    "    ax.set_ylabel(var)\n",
    "    return((fig, ax, s))\n",
    "\n",
    "fig, ax, df = plotter('DP')\n",
    "ax.set_title('Distribution of mean depth per sample')"
   ]
  },
  {
   "cell_type": "markdown",
   "metadata": {},
   "source": [
    "Somatic variants in control samples also tend to have slightly higher allele frequency."
   ]
  },
  {
   "cell_type": "code",
   "execution_count": 9,
   "metadata": {},
   "outputs": [
    {
     "data": {
      "text/plain": [
       "Text(0.5, 1.0, 'Distribution of mean allele frequency per sample')"
      ]
     },
     "execution_count": 9,
     "metadata": {},
     "output_type": "execute_result"
    },
    {
     "data": {
      "image/png": "[encoded data removed]",
      "text/plain": [
       "<Figure size 432x288 with 1 Axes>"
      ]
     },
     "metadata": {
      "needs_background": "light"
     },
     "output_type": "display_data"
    }
   ],
   "source": [
    "fig, ax, df = plotter('AF')\n",
    "ax.set_title('Distribution of mean allele frequency per sample')"
   ]
  },
  {
   "cell_type": "markdown",
   "metadata": {},
   "source": [
    "There seems to be a nonlinear relationship between AF and DP but they are not collinear.  Red means Control and blue SCZ."
   ]
  },
  {
   "cell_type": "code",
   "execution_count": 10,
   "metadata": {},
   "outputs": [
    {
     "data": {
      "text/plain": [
       "<matplotlib.axes._subplots.AxesSubplot at 0x7f7645cec590>"
      ]
     },
     "execution_count": 10,
     "metadata": {},
     "output_type": "execute_result"
    },
    {
     "data": {
      "image/png": "[encoded data removed]",
      "text/plain": [
       "<Figure size 432x432 with 2 Axes>"
      ]
     },
     "metadata": {
      "needs_background": "light"
     },
     "output_type": "display_data"
    }
   ],
   "source": [
    "fig, ax = plt.subplots(figsize=(6, 6))\n",
    "preprocessing.dummify_var(calls2).plot(kind='scatter', x='DP', y='AF', marker='o', alpha=0.3, c='Dx', cmap='coolwarm_r', ax=ax)"
   ]
  },
  {
   "cell_type": "markdown",
   "metadata": {},
   "source": [
    "## Other\n",
    "\n",
    "### Chromatin state\n",
    "\n",
    "Our earlier visual analysis showed slight enrichment of TssA (Active TSS) and TssAFlnk (Flanking Active TSS) in SCZ somatic variants relative to Control ones.  But the variable selection above dropped `chromatinState_DLPFC` suggesting that variable carried little information on `Dx`.\n",
    "\n",
    "This is possible even if TssA and TssAFlnk are indeed informative for `Dx` because `chromatinState_DLPFC` is a factor of 15 levels and thus adds 14 degrees of freedom to the model.  Below we test this possibility by reducing the number of levels."
   ]
  },
  {
   "cell_type": "code",
   "execution_count": 11,
   "metadata": {},
   "outputs": [
    {
     "data": {
      "text/plain": [
       "Index(['TssA', 'TssAFlnk', 'TxFlnk', 'Tx', 'TxWk', 'EnhG', 'Enh', 'ZNF/Rpts',\n",
       "       'Het', 'TssBiv', 'ReprPC', 'ReprPCWk', 'Quies'],\n",
       "      dtype='object')"
      ]
     },
     "execution_count": 11,
     "metadata": {},
     "output_type": "execute_result"
    }
   ],
   "source": [
    "calls1['ChromatinState_DLPFC'].cat.categories"
   ]
  },
  {
   "cell_type": "markdown",
   "metadata": {},
   "source": [
    "We first merge the TssAFlnk level into a TssA.  Then we merge all other levels into a single *Other* category."
   ]
  },
  {
   "cell_type": "code",
   "execution_count": 12,
   "metadata": {},
   "outputs": [],
   "source": [
    "s = calls1['ChromatinState_DLPFC']\n",
    "other = s.cat.categories[2:]\n",
    "s = s.cat.remove_categories(['TssAFlnk']).fillna('TssA')\n",
    "s = s.cat.remove_categories(other).cat.add_categories('Other').fillna('Other')\n",
    "s = s.cat.reorder_categories(['Other', 'TssA'], ordered=True)"
   ]
  },
  {
   "cell_type": "markdown",
   "metadata": {},
   "source": [
    "Now we repeat the variable selection."
   ]
  },
  {
   "cell_type": "code",
   "execution_count": 13,
   "metadata": {},
   "outputs": [
    {
     "data": {
      "text/plain": [
       "'Dx ~ culprit + ALT + DP + AF + FILTERPASS + BaseQRankSum + GWASpval + ChromatinState_DLPFC + REF + VQSLOD + SOR + 1'"
      ]
     },
     "execution_count": 13,
     "metadata": {},
     "output_type": "execute_result"
    }
   ],
   "source": [
    "calls1['ChromatinState_DLPFC'] = s\n",
    "best3 = fwsel.forward_selected(calls1.loc[:, :'Dx'], 'Dx')\n",
    "best3.model.formula"
   ]
  },
  {
   "cell_type": "markdown",
   "metadata": {},
   "source": [
    "As the formula shows this time `chromatinState_DLPFC` is selected by the algorithm.  But the following summary shows that the effect of this variable is not significant (see chromatinState_DLPFC[T.Other])"
   ]
  },
  {
   "cell_type": "code",
   "execution_count": 14,
   "metadata": {},
   "outputs": [
    {
     "data": {
      "text/html": [
       "<table class=\"simpletable\">\n",
       "<caption>OLS Regression Results</caption>\n",
       "<tr>\n",
       "  <th>Dep. Variable:</th>           <td>Dx</td>        <th>  R-squared:         </th> <td>   0.036</td>\n",
       "</tr>\n",
       "<tr>\n",
       "  <th>Model:</th>                   <td>OLS</td>       <th>  Adj. R-squared:    </th> <td>   0.029</td>\n",
       "</tr>\n",
       "<tr>\n",
       "  <th>Method:</th>             <td>Least Squares</td>  <th>  F-statistic:       </th> <td>   5.496</td>\n",
       "</tr>\n",
       "<tr>\n",
       "  <th>Date:</th>             <td>Thu, 10 Sep 2020</td> <th>  Prob (F-statistic):</th> <td>6.46e-16</td>\n",
       "</tr>\n",
       "<tr>\n",
       "  <th>Time:</th>                 <td>11:37:25</td>     <th>  Log-Likelihood:    </th> <td> -1983.9</td>\n",
       "</tr>\n",
       "<tr>\n",
       "  <th>No. Observations:</th>      <td>  3411</td>      <th>  AIC:               </th> <td>   4016.</td>\n",
       "</tr>\n",
       "<tr>\n",
       "  <th>Df Residuals:</th>          <td>  3387</td>      <th>  BIC:               </th> <td>   4163.</td>\n",
       "</tr>\n",
       "<tr>\n",
       "  <th>Df Model:</th>              <td>    23</td>      <th>                     </th>     <td> </td>   \n",
       "</tr>\n",
       "<tr>\n",
       "  <th>Covariance Type:</th>      <td>nonrobust</td>    <th>                     </th>     <td> </td>   \n",
       "</tr>\n",
       "</table>\n",
       "<table class=\"simpletable\">\n",
       "<tr>\n",
       "                <td></td>                  <th>coef</th>     <th>std err</th>      <th>t</th>      <th>P>|t|</th>  <th>[0.025</th>    <th>0.975]</th>  \n",
       "</tr>\n",
       "<tr>\n",
       "  <th>Intercept</th>                    <td>    1.0150</td> <td>    0.101</td> <td>   10.078</td> <td> 0.000</td> <td>    0.818</td> <td>    1.213</td>\n",
       "</tr>\n",
       "<tr>\n",
       "  <th>culprit[T.FS]</th>                <td>   -0.3260</td> <td>    0.140</td> <td>   -2.329</td> <td> 0.020</td> <td>   -0.600</td> <td>   -0.052</td>\n",
       "</tr>\n",
       "<tr>\n",
       "  <th>culprit[T.MQ]</th>                <td>   -0.1337</td> <td>    0.091</td> <td>   -1.468</td> <td> 0.142</td> <td>   -0.312</td> <td>    0.045</td>\n",
       "</tr>\n",
       "<tr>\n",
       "  <th>culprit[T.MQRankSum]</th>         <td>   -0.6577</td> <td>    0.176</td> <td>   -3.731</td> <td> 0.000</td> <td>   -1.003</td> <td>   -0.312</td>\n",
       "</tr>\n",
       "<tr>\n",
       "  <th>culprit[T.QD]</th>                <td>   -0.3077</td> <td>    0.085</td> <td>   -3.640</td> <td> 0.000</td> <td>   -0.473</td> <td>   -0.142</td>\n",
       "</tr>\n",
       "<tr>\n",
       "  <th>culprit[T.ReadPosRankSum]</th>    <td>   -0.2018</td> <td>    0.102</td> <td>   -1.984</td> <td> 0.047</td> <td>   -0.401</td> <td>   -0.002</td>\n",
       "</tr>\n",
       "<tr>\n",
       "  <th>culprit[T.SOR]</th>               <td>   -0.3031</td> <td>    0.092</td> <td>   -3.298</td> <td> 0.001</td> <td>   -0.483</td> <td>   -0.123</td>\n",
       "</tr>\n",
       "<tr>\n",
       "  <th>ALT[T.C]</th>                     <td>    0.0649</td> <td>    0.029</td> <td>    2.205</td> <td> 0.027</td> <td>    0.007</td> <td>    0.123</td>\n",
       "</tr>\n",
       "<tr>\n",
       "  <th>ALT[T.G]</th>                     <td>    0.0819</td> <td>    0.031</td> <td>    2.627</td> <td> 0.009</td> <td>    0.021</td> <td>    0.143</td>\n",
       "</tr>\n",
       "<tr>\n",
       "  <th>ALT[T.T]</th>                     <td>    0.0188</td> <td>    0.022</td> <td>    0.841</td> <td> 0.400</td> <td>   -0.025</td> <td>    0.062</td>\n",
       "</tr>\n",
       "<tr>\n",
       "  <th>FILTERPASS[T.EXT;PASS/PASS]</th>  <td>   -0.0396</td> <td>    0.053</td> <td>   -0.749</td> <td> 0.454</td> <td>   -0.143</td> <td>    0.064</td>\n",
       "</tr>\n",
       "<tr>\n",
       "  <th>FILTERPASS[T.HC/PASS]</th>        <td>   -0.0252</td> <td>    0.053</td> <td>   -0.474</td> <td> 0.636</td> <td>   -0.129</td> <td>    0.079</td>\n",
       "</tr>\n",
       "<tr>\n",
       "  <th>FILTERPASS[T.HC;PASS/PASS]</th>   <td>   -0.0532</td> <td>    0.049</td> <td>   -1.080</td> <td> 0.280</td> <td>   -0.150</td> <td>    0.043</td>\n",
       "</tr>\n",
       "<tr>\n",
       "  <th>FILTERPASS[T.PASS/PASS]</th>      <td>    0.0402</td> <td>    0.054</td> <td>    0.750</td> <td> 0.453</td> <td>   -0.065</td> <td>    0.145</td>\n",
       "</tr>\n",
       "<tr>\n",
       "  <th>ChromatinState_DLPFC[T.TssA]</th> <td>    0.0749</td> <td>    0.049</td> <td>    1.515</td> <td> 0.130</td> <td>   -0.022</td> <td>    0.172</td>\n",
       "</tr>\n",
       "<tr>\n",
       "  <th>REF[T.C]</th>                     <td>    0.0098</td> <td>    0.030</td> <td>    0.325</td> <td> 0.746</td> <td>   -0.050</td> <td>    0.069</td>\n",
       "</tr>\n",
       "<tr>\n",
       "  <th>REF[T.G]</th>                     <td>    0.0519</td> <td>    0.031</td> <td>    1.650</td> <td> 0.099</td> <td>   -0.010</td> <td>    0.114</td>\n",
       "</tr>\n",
       "<tr>\n",
       "  <th>REF[T.T]</th>                     <td>    0.0152</td> <td>    0.028</td> <td>    0.550</td> <td> 0.582</td> <td>   -0.039</td> <td>    0.069</td>\n",
       "</tr>\n",
       "<tr>\n",
       "  <th>DP</th>                           <td>   -0.0224</td> <td>    0.009</td> <td>   -2.387</td> <td> 0.017</td> <td>   -0.041</td> <td>   -0.004</td>\n",
       "</tr>\n",
       "<tr>\n",
       "  <th>AF</th>                           <td>   -0.0326</td> <td>    0.010</td> <td>   -3.276</td> <td> 0.001</td> <td>   -0.052</td> <td>   -0.013</td>\n",
       "</tr>\n",
       "<tr>\n",
       "  <th>BaseQRankSum</th>                 <td>   -0.0206</td> <td>    0.010</td> <td>   -2.120</td> <td> 0.034</td> <td>   -0.040</td> <td>   -0.002</td>\n",
       "</tr>\n",
       "<tr>\n",
       "  <th>GWASpval</th>                     <td>   -0.0121</td> <td>    0.007</td> <td>   -1.620</td> <td> 0.105</td> <td>   -0.027</td> <td>    0.003</td>\n",
       "</tr>\n",
       "<tr>\n",
       "  <th>VQSLOD</th>                       <td>    0.0159</td> <td>    0.009</td> <td>    1.680</td> <td> 0.093</td> <td>   -0.003</td> <td>    0.035</td>\n",
       "</tr>\n",
       "<tr>\n",
       "  <th>SOR</th>                          <td>    0.0144</td> <td>    0.010</td> <td>    1.422</td> <td> 0.155</td> <td>   -0.005</td> <td>    0.034</td>\n",
       "</tr>\n",
       "</table>\n",
       "<table class=\"simpletable\">\n",
       "<tr>\n",
       "  <th>Omnibus:</th>       <td>725.674</td> <th>  Durbin-Watson:     </th> <td>   0.101</td> \n",
       "</tr>\n",
       "<tr>\n",
       "  <th>Prob(Omnibus):</th> <td> 0.000</td>  <th>  Jarque-Bera (JB):  </th> <td> 675.739</td> \n",
       "</tr>\n",
       "<tr>\n",
       "  <th>Skew:</th>          <td>-1.010</td>  <th>  Prob(JB):          </th> <td>1.84e-147</td>\n",
       "</tr>\n",
       "<tr>\n",
       "  <th>Kurtosis:</th>      <td> 2.181</td>  <th>  Cond. No.          </th> <td>    53.9</td> \n",
       "</tr>\n",
       "</table><br/><br/>Warnings:<br/>[1] Standard Errors assume that the covariance matrix of the errors is correctly specified."
      ],
      "text/plain": [
       "<class 'statsmodels.iolib.summary.Summary'>\n",
       "\"\"\"\n",
       "                            OLS Regression Results                            \n",
       "==============================================================================\n",
       "Dep. Variable:                     Dx   R-squared:                       0.036\n",
       "Model:                            OLS   Adj. R-squared:                  0.029\n",
       "Method:                 Least Squares   F-statistic:                     5.496\n",
       "Date:                Thu, 10 Sep 2020   Prob (F-statistic):           6.46e-16\n",
       "Time:                        11:37:25   Log-Likelihood:                -1983.9\n",
       "No. Observations:                3411   AIC:                             4016.\n",
       "Df Residuals:                    3387   BIC:                             4163.\n",
       "Df Model:                          23                                         \n",
       "Covariance Type:            nonrobust                                         \n",
       "================================================================================================\n",
       "                                   coef    std err          t      P>|t|      [0.025      0.975]\n",
       "------------------------------------------------------------------------------------------------\n",
       "Intercept                        1.0150      0.101     10.078      0.000       0.818       1.213\n",
       "culprit[T.FS]                   -0.3260      0.140     -2.329      0.020      -0.600      -0.052\n",
       "culprit[T.MQ]                   -0.1337      0.091     -1.468      0.142      -0.312       0.045\n",
       "culprit[T.MQRankSum]            -0.6577      0.176     -3.731      0.000      -1.003      -0.312\n",
       "culprit[T.QD]                   -0.3077      0.085     -3.640      0.000      -0.473      -0.142\n",
       "culprit[T.ReadPosRankSum]       -0.2018      0.102     -1.984      0.047      -0.401      -0.002\n",
       "culprit[T.SOR]                  -0.3031      0.092     -3.298      0.001      -0.483      -0.123\n",
       "ALT[T.C]                         0.0649      0.029      2.205      0.027       0.007       0.123\n",
       "ALT[T.G]                         0.0819      0.031      2.627      0.009       0.021       0.143\n",
       "ALT[T.T]                         0.0188      0.022      0.841      0.400      -0.025       0.062\n",
       "FILTERPASS[T.EXT;PASS/PASS]     -0.0396      0.053     -0.749      0.454      -0.143       0.064\n",
       "FILTERPASS[T.HC/PASS]           -0.0252      0.053     -0.474      0.636      -0.129       0.079\n",
       "FILTERPASS[T.HC;PASS/PASS]      -0.0532      0.049     -1.080      0.280      -0.150       0.043\n",
       "FILTERPASS[T.PASS/PASS]          0.0402      0.054      0.750      0.453      -0.065       0.145\n",
       "ChromatinState_DLPFC[T.TssA]     0.0749      0.049      1.515      0.130      -0.022       0.172\n",
       "REF[T.C]                         0.0098      0.030      0.325      0.746      -0.050       0.069\n",
       "REF[T.G]                         0.0519      0.031      1.650      0.099      -0.010       0.114\n",
       "REF[T.T]                         0.0152      0.028      0.550      0.582      -0.039       0.069\n",
       "DP                              -0.0224      0.009     -2.387      0.017      -0.041      -0.004\n",
       "AF                              -0.0326      0.010     -3.276      0.001      -0.052      -0.013\n",
       "BaseQRankSum                    -0.0206      0.010     -2.120      0.034      -0.040      -0.002\n",
       "GWASpval                        -0.0121      0.007     -1.620      0.105      -0.027       0.003\n",
       "VQSLOD                           0.0159      0.009      1.680      0.093      -0.003       0.035\n",
       "SOR                              0.0144      0.010      1.422      0.155      -0.005       0.034\n",
       "==============================================================================\n",
       "Omnibus:                      725.674   Durbin-Watson:                   0.101\n",
       "Prob(Omnibus):                  0.000   Jarque-Bera (JB):              675.739\n",
       "Skew:                          -1.010   Prob(JB):                    1.84e-147\n",
       "Kurtosis:                       2.181   Cond. No.                         53.9\n",
       "==============================================================================\n",
       "\n",
       "Warnings:\n",
       "[1] Standard Errors assume that the covariance matrix of the errors is correctly specified.\n",
       "\"\"\""
      ]
     },
     "execution_count": 14,
     "metadata": {},
     "output_type": "execute_result"
    }
   ],
   "source": [
    "best3.summary()"
   ]
  },
  {
   "cell_type": "code",
   "execution_count": 15,
   "metadata": {},
   "outputs": [
    {
     "name": "stdout",
     "output_type": "stream",
     "text": [
      "{\n",
      "  \"shell_port\": 43907,\n",
      "  \"iopub_port\": 59731,\n",
      "  \"stdin_port\": 52623,\n",
      "  \"control_port\": 47281,\n",
      "  \"hb_port\": 53459,\n",
      "  \"ip\": \"127.0.0.1\",\n",
      "  \"key\": \"7b404c26-39eb11b6295e348318558fdf\",\n",
      "  \"transport\": \"tcp\",\n",
      "  \"signature_scheme\": \"hmac-sha256\",\n",
      "  \"kernel_name\": \"\"\n",
      "}\n",
      "\n",
      "Paste the above JSON into a file, and connect with:\n",
      "    $> jupyter <app> --existing <file>\n",
      "or, if you are local, you can connect with just:\n",
      "    $> jupyter <app> --existing kernel-4b4811f5-c926-4877-b270-a320b2591fa1.json\n",
      "or even just:\n",
      "    $> jupyter <app> --existing\n",
      "if this is the most recent Jupyter kernel you have started.\n"
     ]
    }
   ],
   "source": [
    "%connect_info"
   ]
  }
 ],
 "metadata": {
  "kernelspec": {
   "display_name": "Python 3",
   "language": "python",
   "name": "python3"
  },
  "language_info": {
   "codemirror_mode": {
    "name": "ipython",
    "version": 3
   },
   "file_extension": ".py",
   "mimetype": "text/x-python",
   "name": "python",
   "nbconvert_exporter": "python",
   "pygments_lexer": "ipython3",
   "version": "3.7.6"
  }
 },
 "nbformat": 4,
 "nbformat_minor": 4
}
