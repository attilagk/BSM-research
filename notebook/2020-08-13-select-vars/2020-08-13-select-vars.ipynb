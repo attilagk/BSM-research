{
 "cells": [
  {
   "cell_type": "markdown",
   "metadata": {},
   "source": [
    "Selecting variables"
   ]
  },
  {
   "cell_type": "code",
   "execution_count": 16,
   "metadata": {},
   "outputs": [
    {
     "name": "stdout",
     "output_type": "stream",
     "text": [
      "The autoreload extension is already loaded. To reload it, use:\n",
      "  %reload_ext autoreload\n"
     ]
    }
   ],
   "source": [
    "%load_ext autoreload\n",
    "%autoreload 2\n",
    "%reload_ext autoreload\n",
    "import readVCF\n",
    "from matplotlib import pyplot as plt\n",
    "import pandas as pd\n",
    "from bsm import clean\n",
    "import fwsel"
   ]
  },
  {
   "cell_type": "code",
   "execution_count": 17,
   "metadata": {},
   "outputs": [
    {
     "name": "stdout",
     "output_type": "stream",
     "text": [
      "Welcome, Attila Jones!\n",
      "\n"
     ]
    }
   ],
   "source": [
    "calls = readVCF.readVCFs()"
   ]
  },
  {
   "cell_type": "markdown",
   "metadata": {},
   "source": [
    "### Filtering\n",
    "\n",
    "We filter for the set of variables below and remove all other variables"
   ]
  },
  {
   "cell_type": "code",
   "execution_count": 18,
   "metadata": {},
   "outputs": [],
   "source": [
    "v1 = ['AF', 'ALT', 'BaseQRankSum', 'DP', 'FILTER/PASS', 'FS', 'GWASpval', 'REF', 'ReadPosRankSum', 'SOR', 'VQSLOD', 'chromatinState_DLPFC', 'culprit', 'evolConstrain', 'szdbCNVcount']\n",
    "v2 = ['Dx', 'AntipsychAtyp', 'AntipsychTyp', 'Institution', 'EV.3']"
   ]
  },
  {
   "cell_type": "markdown",
   "metadata": {},
   "source": [
    "The following operations perform the filtering and also prettify variable names (replace whitespace and `./\\:` characters with `_`)."
   ]
  },
  {
   "cell_type": "code",
   "execution_count": 19,
   "metadata": {},
   "outputs": [
    {
     "data": {
      "text/plain": [
       "AF                      3301\n",
       "ALT                     3301\n",
       "BaseQRankSum            3301\n",
       "DP                      3301\n",
       "FILTER_PASS             3301\n",
       "FS                      3301\n",
       "GWASpval                3301\n",
       "REF                     3301\n",
       "ReadPosRankSum          3298\n",
       "SOR                     3301\n",
       "VQSLOD                  3301\n",
       "chromatinState_DLPFC    3301\n",
       "culprit                 3301\n",
       "evolConstrain           3301\n",
       "szdbCNVcount            3301\n",
       "Dx                      3301\n",
       "AntipsychAtyp           3301\n",
       "AntipsychTyp            3301\n",
       "Institution             3301\n",
       "EV_3                    3154\n",
       "dtype: int64"
      ]
     },
     "execution_count": 19,
     "metadata": {},
     "output_type": "execute_result"
    }
   ],
   "source": [
    "calls = clean.prettify_colnames(clean.preselect(calls, vnames=v1 + v2))\n",
    "calls = clean.dummify_var(calls, vname='Dx')\n",
    "calls.count()"
   ]
  },
  {
   "cell_type": "markdown",
   "metadata": {},
   "source": [
    "### Imputing variables with missing data"
   ]
  },
  {
   "cell_type": "code",
   "execution_count": 20,
   "metadata": {},
   "outputs": [
    {
     "data": {
      "text/plain": [
       "AF                      3301\n",
       "ALT                     3301\n",
       "BaseQRankSum            3301\n",
       "DP                      3301\n",
       "FILTER_PASS             3301\n",
       "FS                      3301\n",
       "GWASpval                3301\n",
       "REF                     3301\n",
       "ReadPosRankSum          3298\n",
       "SOR                     3301\n",
       "VQSLOD                  3301\n",
       "chromatinState_DLPFC    3301\n",
       "culprit                 3301\n",
       "evolConstrain           3301\n",
       "szdbCNVcount            3301\n",
       "Dx                      3301\n",
       "AntipsychAtyp           3301\n",
       "AntipsychTyp            3301\n",
       "Institution             3301\n",
       "EV_3                    3301\n",
       "dtype: int64"
      ]
     },
     "execution_count": 20,
     "metadata": {},
     "output_type": "execute_result"
    }
   ],
   "source": [
    "calls = clean.impute_vars(calls, vnames=['ReadPosRankSum', 'EV_3'], v1=v1, v2=v2)\n",
    "calls.count()"
   ]
  },
  {
   "cell_type": "markdown",
   "metadata": {},
   "source": [
    "## Forward variable selection"
   ]
  },
  {
   "cell_type": "code",
   "execution_count": 6,
   "metadata": {},
   "outputs": [],
   "source": [
    "best1 = fwsel.forward_selected(calls.loc[:, :'Dx'], 'Dx')"
   ]
  },
  {
   "cell_type": "code",
   "execution_count": 7,
   "metadata": {},
   "outputs": [
    {
     "data": {
      "text/plain": [
       "'Dx ~ culprit + DP + ALT + AF + FILTER_PASS + VQSLOD + BaseQRankSum + SOR + REF + GWASpval + 1'"
      ]
     },
     "execution_count": 7,
     "metadata": {},
     "output_type": "execute_result"
    }
   ],
   "source": [
    "best1.model.formula"
   ]
  },
  {
   "cell_type": "code",
   "execution_count": 8,
   "metadata": {},
   "outputs": [
    {
     "data": {
      "text/html": [
       "<table class=\"simpletable\">\n",
       "<caption>OLS Regression Results</caption>\n",
       "<tr>\n",
       "  <th>Dep. Variable:</th>           <td>Dx</td>        <th>  R-squared:         </th> <td>   0.047</td>\n",
       "</tr>\n",
       "<tr>\n",
       "  <th>Model:</th>                   <td>OLS</td>       <th>  Adj. R-squared:    </th> <td>   0.040</td>\n",
       "</tr>\n",
       "<tr>\n",
       "  <th>Method:</th>             <td>Least Squares</td>  <th>  F-statistic:       </th> <td>   7.284</td>\n",
       "</tr>\n",
       "<tr>\n",
       "  <th>Date:</th>             <td>Fri, 14 Aug 2020</td> <th>  Prob (F-statistic):</th> <td>2.34e-22</td>\n",
       "</tr>\n",
       "<tr>\n",
       "  <th>Time:</th>                 <td>19:23:54</td>     <th>  Log-Likelihood:    </th> <td> -1929.0</td>\n",
       "</tr>\n",
       "<tr>\n",
       "  <th>No. Observations:</th>      <td>  3301</td>      <th>  AIC:               </th> <td>   3904.</td>\n",
       "</tr>\n",
       "<tr>\n",
       "  <th>Df Residuals:</th>          <td>  3278</td>      <th>  BIC:               </th> <td>   4044.</td>\n",
       "</tr>\n",
       "<tr>\n",
       "  <th>Df Model:</th>              <td>    22</td>      <th>                     </th>     <td> </td>   \n",
       "</tr>\n",
       "<tr>\n",
       "  <th>Covariance Type:</th>      <td>nonrobust</td>    <th>                     </th>     <td> </td>   \n",
       "</tr>\n",
       "</table>\n",
       "<table class=\"simpletable\">\n",
       "<tr>\n",
       "                <td></td>                  <th>coef</th>     <th>std err</th>      <th>t</th>      <th>P>|t|</th>  <th>[0.025</th>    <th>0.975]</th>  \n",
       "</tr>\n",
       "<tr>\n",
       "  <th>Intercept</th>                    <td>    1.0287</td> <td>    0.120</td> <td>    8.550</td> <td> 0.000</td> <td>    0.793</td> <td>    1.265</td>\n",
       "</tr>\n",
       "<tr>\n",
       "  <th>culprit[T.FS]</th>                <td>   -0.3283</td> <td>    0.142</td> <td>   -2.319</td> <td> 0.020</td> <td>   -0.606</td> <td>   -0.051</td>\n",
       "</tr>\n",
       "<tr>\n",
       "  <th>culprit[T.MQ]</th>                <td>   -0.1283</td> <td>    0.093</td> <td>   -1.380</td> <td> 0.168</td> <td>   -0.311</td> <td>    0.054</td>\n",
       "</tr>\n",
       "<tr>\n",
       "  <th>culprit[T.MQRankSum]</th>         <td>   -0.6091</td> <td>    0.178</td> <td>   -3.420</td> <td> 0.001</td> <td>   -0.958</td> <td>   -0.260</td>\n",
       "</tr>\n",
       "<tr>\n",
       "  <th>culprit[T.QD]</th>                <td>   -0.3199</td> <td>    0.086</td> <td>   -3.713</td> <td> 0.000</td> <td>   -0.489</td> <td>   -0.151</td>\n",
       "</tr>\n",
       "<tr>\n",
       "  <th>culprit[T.ReadPosRankSum]</th>    <td>   -0.2100</td> <td>    0.104</td> <td>   -2.016</td> <td> 0.044</td> <td>   -0.414</td> <td>   -0.006</td>\n",
       "</tr>\n",
       "<tr>\n",
       "  <th>culprit[T.SOR]</th>               <td>   -0.3166</td> <td>    0.093</td> <td>   -3.387</td> <td> 0.001</td> <td>   -0.500</td> <td>   -0.133</td>\n",
       "</tr>\n",
       "<tr>\n",
       "  <th>ALT[T.C]</th>                     <td>    0.0689</td> <td>    0.030</td> <td>    2.320</td> <td> 0.020</td> <td>    0.011</td> <td>    0.127</td>\n",
       "</tr>\n",
       "<tr>\n",
       "  <th>ALT[T.G]</th>                     <td>    0.0823</td> <td>    0.032</td> <td>    2.606</td> <td> 0.009</td> <td>    0.020</td> <td>    0.144</td>\n",
       "</tr>\n",
       "<tr>\n",
       "  <th>ALT[T.T]</th>                     <td>    0.0120</td> <td>    0.023</td> <td>    0.527</td> <td> 0.599</td> <td>   -0.033</td> <td>    0.057</td>\n",
       "</tr>\n",
       "<tr>\n",
       "  <th>FILTER_PASS[T.EXT;PASS/PASS]</th> <td>   -0.0182</td> <td>    0.056</td> <td>   -0.325</td> <td> 0.745</td> <td>   -0.128</td> <td>    0.092</td>\n",
       "</tr>\n",
       "<tr>\n",
       "  <th>FILTER_PASS[T.HC/PASS]</th>       <td>   -0.0028</td> <td>    0.056</td> <td>   -0.051</td> <td> 0.959</td> <td>   -0.112</td> <td>    0.106</td>\n",
       "</tr>\n",
       "<tr>\n",
       "  <th>FILTER_PASS[T.HC;PASS/PASS]</th>  <td>   -0.0304</td> <td>    0.052</td> <td>   -0.583</td> <td> 0.560</td> <td>   -0.132</td> <td>    0.072</td>\n",
       "</tr>\n",
       "<tr>\n",
       "  <th>FILTER_PASS[T.PASS/PASS]</th>     <td>    0.0815</td> <td>    0.056</td> <td>    1.447</td> <td> 0.148</td> <td>   -0.029</td> <td>    0.192</td>\n",
       "</tr>\n",
       "<tr>\n",
       "  <th>REF[T.C]</th>                     <td>    0.0103</td> <td>    0.031</td> <td>    0.333</td> <td> 0.739</td> <td>   -0.050</td> <td>    0.071</td>\n",
       "</tr>\n",
       "<tr>\n",
       "  <th>REF[T.G]</th>                     <td>    0.0520</td> <td>    0.032</td> <td>    1.627</td> <td> 0.104</td> <td>   -0.011</td> <td>    0.115</td>\n",
       "</tr>\n",
       "<tr>\n",
       "  <th>REF[T.T]</th>                     <td>    0.0179</td> <td>    0.028</td> <td>    0.639</td> <td> 0.523</td> <td>   -0.037</td> <td>    0.073</td>\n",
       "</tr>\n",
       "<tr>\n",
       "  <th>DP</th>                           <td>   -0.0004</td> <td>    0.000</td> <td>   -4.177</td> <td> 0.000</td> <td>   -0.001</td> <td>   -0.000</td>\n",
       "</tr>\n",
       "<tr>\n",
       "  <th>AF</th>                           <td>   -0.4274</td> <td>    0.112</td> <td>   -3.815</td> <td> 0.000</td> <td>   -0.647</td> <td>   -0.208</td>\n",
       "</tr>\n",
       "<tr>\n",
       "  <th>VQSLOD</th>                       <td>    0.0050</td> <td>    0.002</td> <td>    2.762</td> <td> 0.006</td> <td>    0.001</td> <td>    0.009</td>\n",
       "</tr>\n",
       "<tr>\n",
       "  <th>BaseQRankSum</th>                 <td>   -0.0078</td> <td>    0.004</td> <td>   -2.007</td> <td> 0.045</td> <td>   -0.015</td> <td>   -0.000</td>\n",
       "</tr>\n",
       "<tr>\n",
       "  <th>SOR</th>                          <td>    0.0311</td> <td>    0.018</td> <td>    1.777</td> <td> 0.076</td> <td>   -0.003</td> <td>    0.065</td>\n",
       "</tr>\n",
       "<tr>\n",
       "  <th>GWASpval</th>                     <td>   -0.0047</td> <td>    0.003</td> <td>   -1.466</td> <td> 0.143</td> <td>   -0.011</td> <td>    0.002</td>\n",
       "</tr>\n",
       "</table>\n",
       "<table class=\"simpletable\">\n",
       "<tr>\n",
       "  <th>Omnibus:</th>       <td>763.739</td> <th>  Durbin-Watson:     </th> <td>   0.092</td> \n",
       "</tr>\n",
       "<tr>\n",
       "  <th>Prob(Omnibus):</th> <td> 0.000</td>  <th>  Jarque-Bera (JB):  </th> <td> 609.459</td> \n",
       "</tr>\n",
       "<tr>\n",
       "  <th>Skew:</th>          <td>-0.957</td>  <th>  Prob(JB):          </th> <td>4.55e-133</td>\n",
       "</tr>\n",
       "<tr>\n",
       "  <th>Kurtosis:</th>      <td> 2.125</td>  <th>  Cond. No.          </th> <td>8.27e+03</td> \n",
       "</tr>\n",
       "</table><br/><br/>Warnings:<br/>[1] Standard Errors assume that the covariance matrix of the errors is correctly specified.<br/>[2] The condition number is large, 8.27e+03. This might indicate that there are<br/>strong multicollinearity or other numerical problems."
      ],
      "text/plain": [
       "<class 'statsmodels.iolib.summary.Summary'>\n",
       "\"\"\"\n",
       "                            OLS Regression Results                            \n",
       "==============================================================================\n",
       "Dep. Variable:                     Dx   R-squared:                       0.047\n",
       "Model:                            OLS   Adj. R-squared:                  0.040\n",
       "Method:                 Least Squares   F-statistic:                     7.284\n",
       "Date:                Fri, 14 Aug 2020   Prob (F-statistic):           2.34e-22\n",
       "Time:                        19:23:54   Log-Likelihood:                -1929.0\n",
       "No. Observations:                3301   AIC:                             3904.\n",
       "Df Residuals:                    3278   BIC:                             4044.\n",
       "Df Model:                          22                                         \n",
       "Covariance Type:            nonrobust                                         \n",
       "================================================================================================\n",
       "                                   coef    std err          t      P>|t|      [0.025      0.975]\n",
       "------------------------------------------------------------------------------------------------\n",
       "Intercept                        1.0287      0.120      8.550      0.000       0.793       1.265\n",
       "culprit[T.FS]                   -0.3283      0.142     -2.319      0.020      -0.606      -0.051\n",
       "culprit[T.MQ]                   -0.1283      0.093     -1.380      0.168      -0.311       0.054\n",
       "culprit[T.MQRankSum]            -0.6091      0.178     -3.420      0.001      -0.958      -0.260\n",
       "culprit[T.QD]                   -0.3199      0.086     -3.713      0.000      -0.489      -0.151\n",
       "culprit[T.ReadPosRankSum]       -0.2100      0.104     -2.016      0.044      -0.414      -0.006\n",
       "culprit[T.SOR]                  -0.3166      0.093     -3.387      0.001      -0.500      -0.133\n",
       "ALT[T.C]                         0.0689      0.030      2.320      0.020       0.011       0.127\n",
       "ALT[T.G]                         0.0823      0.032      2.606      0.009       0.020       0.144\n",
       "ALT[T.T]                         0.0120      0.023      0.527      0.599      -0.033       0.057\n",
       "FILTER_PASS[T.EXT;PASS/PASS]    -0.0182      0.056     -0.325      0.745      -0.128       0.092\n",
       "FILTER_PASS[T.HC/PASS]          -0.0028      0.056     -0.051      0.959      -0.112       0.106\n",
       "FILTER_PASS[T.HC;PASS/PASS]     -0.0304      0.052     -0.583      0.560      -0.132       0.072\n",
       "FILTER_PASS[T.PASS/PASS]         0.0815      0.056      1.447      0.148      -0.029       0.192\n",
       "REF[T.C]                         0.0103      0.031      0.333      0.739      -0.050       0.071\n",
       "REF[T.G]                         0.0520      0.032      1.627      0.104      -0.011       0.115\n",
       "REF[T.T]                         0.0179      0.028      0.639      0.523      -0.037       0.073\n",
       "DP                              -0.0004      0.000     -4.177      0.000      -0.001      -0.000\n",
       "AF                              -0.4274      0.112     -3.815      0.000      -0.647      -0.208\n",
       "VQSLOD                           0.0050      0.002      2.762      0.006       0.001       0.009\n",
       "BaseQRankSum                    -0.0078      0.004     -2.007      0.045      -0.015      -0.000\n",
       "SOR                              0.0311      0.018      1.777      0.076      -0.003       0.065\n",
       "GWASpval                        -0.0047      0.003     -1.466      0.143      -0.011       0.002\n",
       "==============================================================================\n",
       "Omnibus:                      763.739   Durbin-Watson:                   0.092\n",
       "Prob(Omnibus):                  0.000   Jarque-Bera (JB):              609.459\n",
       "Skew:                          -0.957   Prob(JB):                    4.55e-133\n",
       "Kurtosis:                       2.125   Cond. No.                     8.27e+03\n",
       "==============================================================================\n",
       "\n",
       "Warnings:\n",
       "[1] Standard Errors assume that the covariance matrix of the errors is correctly specified.\n",
       "[2] The condition number is large, 8.27e+03. This might indicate that there are\n",
       "strong multicollinearity or other numerical problems.\n",
       "\"\"\""
      ]
     },
     "execution_count": 8,
     "metadata": {},
     "output_type": "execute_result"
    }
   ],
   "source": [
    "best1.summary()"
   ]
  },
  {
   "cell_type": "code",
   "execution_count": 9,
   "metadata": {},
   "outputs": [],
   "source": [
    "#v1_1 = ['culprit', + DP + ALT + AF + FILTER_PASS + VQSLOD + BaseQRankSum + SOR + REF + GWASpval"
   ]
  },
  {
   "cell_type": "markdown",
   "metadata": {},
   "source": [
    "### Standardization does not affect results"
   ]
  },
  {
   "cell_type": "code",
   "execution_count": 10,
   "metadata": {},
   "outputs": [
    {
     "data": {
      "text/plain": [
       "True"
      ]
     },
     "execution_count": 10,
     "metadata": {},
     "output_type": "execute_result"
    }
   ],
   "source": [
    "stdcalls = calls.apply(lambda y: (y - y.mean()) / y.std() if (y.dtype == 'float64' or y.dtype == 'int64') else y, axis=0)\n",
    "best2 = fwsel.forward_selected(stdcalls.loc[:, :'Dx'], 'Dx')\n",
    "best2.model.formula == best1.model.formula"
   ]
  },
  {
   "cell_type": "code",
   "execution_count": 11,
   "metadata": {},
   "outputs": [
    {
     "data": {
      "text/html": [
       "<table class=\"simpletable\">\n",
       "<caption>OLS Regression Results</caption>\n",
       "<tr>\n",
       "  <th>Dep. Variable:</th>           <td>Dx</td>        <th>  R-squared:         </th> <td>   0.047</td>\n",
       "</tr>\n",
       "<tr>\n",
       "  <th>Model:</th>                   <td>OLS</td>       <th>  Adj. R-squared:    </th> <td>   0.040</td>\n",
       "</tr>\n",
       "<tr>\n",
       "  <th>Method:</th>             <td>Least Squares</td>  <th>  F-statistic:       </th> <td>   7.284</td>\n",
       "</tr>\n",
       "<tr>\n",
       "  <th>Date:</th>             <td>Fri, 14 Aug 2020</td> <th>  Prob (F-statistic):</th> <td>2.34e-22</td>\n",
       "</tr>\n",
       "<tr>\n",
       "  <th>Time:</th>                 <td>19:24:00</td>     <th>  Log-Likelihood:    </th> <td> -1929.0</td>\n",
       "</tr>\n",
       "<tr>\n",
       "  <th>No. Observations:</th>      <td>  3301</td>      <th>  AIC:               </th> <td>   3904.</td>\n",
       "</tr>\n",
       "<tr>\n",
       "  <th>Df Residuals:</th>          <td>  3278</td>      <th>  BIC:               </th> <td>   4044.</td>\n",
       "</tr>\n",
       "<tr>\n",
       "  <th>Df Model:</th>              <td>    22</td>      <th>                     </th>     <td> </td>   \n",
       "</tr>\n",
       "<tr>\n",
       "  <th>Covariance Type:</th>      <td>nonrobust</td>    <th>                     </th>     <td> </td>   \n",
       "</tr>\n",
       "</table>\n",
       "<table class=\"simpletable\">\n",
       "<tr>\n",
       "                <td></td>                  <th>coef</th>     <th>std err</th>      <th>t</th>      <th>P>|t|</th>  <th>[0.025</th>    <th>0.975]</th>  \n",
       "</tr>\n",
       "<tr>\n",
       "  <th>Intercept</th>                    <td>    0.9985</td> <td>    0.103</td> <td>    9.663</td> <td> 0.000</td> <td>    0.796</td> <td>    1.201</td>\n",
       "</tr>\n",
       "<tr>\n",
       "  <th>culprit[T.FS]</th>                <td>   -0.3283</td> <td>    0.142</td> <td>   -2.319</td> <td> 0.020</td> <td>   -0.606</td> <td>   -0.051</td>\n",
       "</tr>\n",
       "<tr>\n",
       "  <th>culprit[T.MQ]</th>                <td>   -0.1283</td> <td>    0.093</td> <td>   -1.380</td> <td> 0.168</td> <td>   -0.311</td> <td>    0.054</td>\n",
       "</tr>\n",
       "<tr>\n",
       "  <th>culprit[T.MQRankSum]</th>         <td>   -0.6091</td> <td>    0.178</td> <td>   -3.420</td> <td> 0.001</td> <td>   -0.958</td> <td>   -0.260</td>\n",
       "</tr>\n",
       "<tr>\n",
       "  <th>culprit[T.QD]</th>                <td>   -0.3199</td> <td>    0.086</td> <td>   -3.713</td> <td> 0.000</td> <td>   -0.489</td> <td>   -0.151</td>\n",
       "</tr>\n",
       "<tr>\n",
       "  <th>culprit[T.ReadPosRankSum]</th>    <td>   -0.2100</td> <td>    0.104</td> <td>   -2.016</td> <td> 0.044</td> <td>   -0.414</td> <td>   -0.006</td>\n",
       "</tr>\n",
       "<tr>\n",
       "  <th>culprit[T.SOR]</th>               <td>   -0.3166</td> <td>    0.093</td> <td>   -3.387</td> <td> 0.001</td> <td>   -0.500</td> <td>   -0.133</td>\n",
       "</tr>\n",
       "<tr>\n",
       "  <th>ALT[T.C]</th>                     <td>    0.0689</td> <td>    0.030</td> <td>    2.320</td> <td> 0.020</td> <td>    0.011</td> <td>    0.127</td>\n",
       "</tr>\n",
       "<tr>\n",
       "  <th>ALT[T.G]</th>                     <td>    0.0823</td> <td>    0.032</td> <td>    2.606</td> <td> 0.009</td> <td>    0.020</td> <td>    0.144</td>\n",
       "</tr>\n",
       "<tr>\n",
       "  <th>ALT[T.T]</th>                     <td>    0.0120</td> <td>    0.023</td> <td>    0.527</td> <td> 0.599</td> <td>   -0.033</td> <td>    0.057</td>\n",
       "</tr>\n",
       "<tr>\n",
       "  <th>FILTER_PASS[T.EXT;PASS/PASS]</th> <td>   -0.0182</td> <td>    0.056</td> <td>   -0.325</td> <td> 0.745</td> <td>   -0.128</td> <td>    0.092</td>\n",
       "</tr>\n",
       "<tr>\n",
       "  <th>FILTER_PASS[T.HC/PASS]</th>       <td>   -0.0028</td> <td>    0.056</td> <td>   -0.051</td> <td> 0.959</td> <td>   -0.112</td> <td>    0.106</td>\n",
       "</tr>\n",
       "<tr>\n",
       "  <th>FILTER_PASS[T.HC;PASS/PASS]</th>  <td>   -0.0304</td> <td>    0.052</td> <td>   -0.583</td> <td> 0.560</td> <td>   -0.132</td> <td>    0.072</td>\n",
       "</tr>\n",
       "<tr>\n",
       "  <th>FILTER_PASS[T.PASS/PASS]</th>     <td>    0.0815</td> <td>    0.056</td> <td>    1.447</td> <td> 0.148</td> <td>   -0.029</td> <td>    0.192</td>\n",
       "</tr>\n",
       "<tr>\n",
       "  <th>REF[T.C]</th>                     <td>    0.0103</td> <td>    0.031</td> <td>    0.333</td> <td> 0.739</td> <td>   -0.050</td> <td>    0.071</td>\n",
       "</tr>\n",
       "<tr>\n",
       "  <th>REF[T.G]</th>                     <td>    0.0520</td> <td>    0.032</td> <td>    1.627</td> <td> 0.104</td> <td>   -0.011</td> <td>    0.115</td>\n",
       "</tr>\n",
       "<tr>\n",
       "  <th>REF[T.T]</th>                     <td>    0.0179</td> <td>    0.028</td> <td>    0.639</td> <td> 0.523</td> <td>   -0.037</td> <td>    0.073</td>\n",
       "</tr>\n",
       "<tr>\n",
       "  <th>DP</th>                           <td>   -0.0390</td> <td>    0.009</td> <td>   -4.177</td> <td> 0.000</td> <td>   -0.057</td> <td>   -0.021</td>\n",
       "</tr>\n",
       "<tr>\n",
       "  <th>AF</th>                           <td>   -0.0388</td> <td>    0.010</td> <td>   -3.815</td> <td> 0.000</td> <td>   -0.059</td> <td>   -0.019</td>\n",
       "</tr>\n",
       "<tr>\n",
       "  <th>VQSLOD</th>                       <td>    0.0260</td> <td>    0.009</td> <td>    2.762</td> <td> 0.006</td> <td>    0.008</td> <td>    0.044</td>\n",
       "</tr>\n",
       "<tr>\n",
       "  <th>BaseQRankSum</th>                 <td>   -0.0200</td> <td>    0.010</td> <td>   -2.007</td> <td> 0.045</td> <td>   -0.040</td> <td>   -0.000</td>\n",
       "</tr>\n",
       "<tr>\n",
       "  <th>SOR</th>                          <td>    0.0185</td> <td>    0.010</td> <td>    1.777</td> <td> 0.076</td> <td>   -0.002</td> <td>    0.039</td>\n",
       "</tr>\n",
       "<tr>\n",
       "  <th>GWASpval</th>                     <td>   -0.0111</td> <td>    0.008</td> <td>   -1.466</td> <td> 0.143</td> <td>   -0.026</td> <td>    0.004</td>\n",
       "</tr>\n",
       "</table>\n",
       "<table class=\"simpletable\">\n",
       "<tr>\n",
       "  <th>Omnibus:</th>       <td>763.739</td> <th>  Durbin-Watson:     </th> <td>   0.092</td> \n",
       "</tr>\n",
       "<tr>\n",
       "  <th>Prob(Omnibus):</th> <td> 0.000</td>  <th>  Jarque-Bera (JB):  </th> <td> 609.459</td> \n",
       "</tr>\n",
       "<tr>\n",
       "  <th>Skew:</th>          <td>-0.957</td>  <th>  Prob(JB):          </th> <td>4.55e-133</td>\n",
       "</tr>\n",
       "<tr>\n",
       "  <th>Kurtosis:</th>      <td> 2.125</td>  <th>  Cond. No.          </th> <td>    54.0</td> \n",
       "</tr>\n",
       "</table><br/><br/>Warnings:<br/>[1] Standard Errors assume that the covariance matrix of the errors is correctly specified."
      ],
      "text/plain": [
       "<class 'statsmodels.iolib.summary.Summary'>\n",
       "\"\"\"\n",
       "                            OLS Regression Results                            \n",
       "==============================================================================\n",
       "Dep. Variable:                     Dx   R-squared:                       0.047\n",
       "Model:                            OLS   Adj. R-squared:                  0.040\n",
       "Method:                 Least Squares   F-statistic:                     7.284\n",
       "Date:                Fri, 14 Aug 2020   Prob (F-statistic):           2.34e-22\n",
       "Time:                        19:24:00   Log-Likelihood:                -1929.0\n",
       "No. Observations:                3301   AIC:                             3904.\n",
       "Df Residuals:                    3278   BIC:                             4044.\n",
       "Df Model:                          22                                         \n",
       "Covariance Type:            nonrobust                                         \n",
       "================================================================================================\n",
       "                                   coef    std err          t      P>|t|      [0.025      0.975]\n",
       "------------------------------------------------------------------------------------------------\n",
       "Intercept                        0.9985      0.103      9.663      0.000       0.796       1.201\n",
       "culprit[T.FS]                   -0.3283      0.142     -2.319      0.020      -0.606      -0.051\n",
       "culprit[T.MQ]                   -0.1283      0.093     -1.380      0.168      -0.311       0.054\n",
       "culprit[T.MQRankSum]            -0.6091      0.178     -3.420      0.001      -0.958      -0.260\n",
       "culprit[T.QD]                   -0.3199      0.086     -3.713      0.000      -0.489      -0.151\n",
       "culprit[T.ReadPosRankSum]       -0.2100      0.104     -2.016      0.044      -0.414      -0.006\n",
       "culprit[T.SOR]                  -0.3166      0.093     -3.387      0.001      -0.500      -0.133\n",
       "ALT[T.C]                         0.0689      0.030      2.320      0.020       0.011       0.127\n",
       "ALT[T.G]                         0.0823      0.032      2.606      0.009       0.020       0.144\n",
       "ALT[T.T]                         0.0120      0.023      0.527      0.599      -0.033       0.057\n",
       "FILTER_PASS[T.EXT;PASS/PASS]    -0.0182      0.056     -0.325      0.745      -0.128       0.092\n",
       "FILTER_PASS[T.HC/PASS]          -0.0028      0.056     -0.051      0.959      -0.112       0.106\n",
       "FILTER_PASS[T.HC;PASS/PASS]     -0.0304      0.052     -0.583      0.560      -0.132       0.072\n",
       "FILTER_PASS[T.PASS/PASS]         0.0815      0.056      1.447      0.148      -0.029       0.192\n",
       "REF[T.C]                         0.0103      0.031      0.333      0.739      -0.050       0.071\n",
       "REF[T.G]                         0.0520      0.032      1.627      0.104      -0.011       0.115\n",
       "REF[T.T]                         0.0179      0.028      0.639      0.523      -0.037       0.073\n",
       "DP                              -0.0390      0.009     -4.177      0.000      -0.057      -0.021\n",
       "AF                              -0.0388      0.010     -3.815      0.000      -0.059      -0.019\n",
       "VQSLOD                           0.0260      0.009      2.762      0.006       0.008       0.044\n",
       "BaseQRankSum                    -0.0200      0.010     -2.007      0.045      -0.040      -0.000\n",
       "SOR                              0.0185      0.010      1.777      0.076      -0.002       0.039\n",
       "GWASpval                        -0.0111      0.008     -1.466      0.143      -0.026       0.004\n",
       "==============================================================================\n",
       "Omnibus:                      763.739   Durbin-Watson:                   0.092\n",
       "Prob(Omnibus):                  0.000   Jarque-Bera (JB):              609.459\n",
       "Skew:                          -0.957   Prob(JB):                    4.55e-133\n",
       "Kurtosis:                       2.125   Cond. No.                         54.0\n",
       "==============================================================================\n",
       "\n",
       "Warnings:\n",
       "[1] Standard Errors assume that the covariance matrix of the errors is correctly specified.\n",
       "\"\"\""
      ]
     },
     "execution_count": 11,
     "metadata": {},
     "output_type": "execute_result"
    }
   ],
   "source": [
    "best2.summary()"
   ]
  },
  {
   "cell_type": "code",
   "execution_count": 12,
   "metadata": {},
   "outputs": [
    {
     "name": "stdout",
     "output_type": "stream",
     "text": [
      "{\n",
      "  \"shell_port\": 50773,\n",
      "  \"iopub_port\": 53007,\n",
      "  \"stdin_port\": 50393,\n",
      "  \"control_port\": 47589,\n",
      "  \"hb_port\": 56609,\n",
      "  \"ip\": \"127.0.0.1\",\n",
      "  \"key\": \"cf814183-cadffbbfe64c6ad7faf0b395\",\n",
      "  \"transport\": \"tcp\",\n",
      "  \"signature_scheme\": \"hmac-sha256\",\n",
      "  \"kernel_name\": \"\"\n",
      "}\n",
      "\n",
      "Paste the above JSON into a file, and connect with:\n",
      "    $> jupyter <app> --existing <file>\n",
      "or, if you are local, you can connect with just:\n",
      "    $> jupyter <app> --existing kernel-d03bb879-ec6d-44d2-803e-af8392760a6a.json\n",
      "or even just:\n",
      "    $> jupyter <app> --existing\n",
      "if this is the most recent Jupyter kernel you have started.\n"
     ]
    }
   ],
   "source": [
    "%connect_info"
   ]
  },
  {
   "cell_type": "code",
   "execution_count": null,
   "metadata": {},
   "outputs": [],
   "source": []
  }
 ],
 "metadata": {
  "kernelspec": {
   "display_name": "Python 3",
   "language": "python",
   "name": "python3"
  },
  "language_info": {
   "codemirror_mode": {
    "name": "ipython",
    "version": 3
   },
   "file_extension": ".py",
   "mimetype": "text/x-python",
   "name": "python",
   "nbconvert_exporter": "python",
   "pygments_lexer": "ipython3",
   "version": "3.7.6"
  }
 },
 "nbformat": 4,
 "nbformat_minor": 4
}
