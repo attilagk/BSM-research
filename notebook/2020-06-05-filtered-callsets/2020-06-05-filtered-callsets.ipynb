{
 "cells": [
  {
   "cell_type": "code",
   "execution_count": 4,
   "metadata": {},
   "outputs": [
    {
     "name": "stdout",
     "output_type": "stream",
     "text": [
      "The autoreload extension is already loaded. To reload it, use:\n",
      "  %reload_ext autoreload\n"
     ]
    }
   ],
   "source": [
    "%load_ext autoreload\n",
    "%autoreload 2\n",
    "%reload_ext autoreload\n",
    "import synapseclient\n",
    "import synapseutils"
   ]
  },
  {
   "cell_type": "code",
   "execution_count": 2,
   "metadata": {},
   "outputs": [
    {
     "name": "stdout",
     "output_type": "stream",
     "text": [
      "Welcome, Attila Jones!\n",
      "\n"
     ]
    }
   ],
   "source": [
    "syn = synapseclient.login()"
   ]
  },
  {
   "cell_type": "code",
   "execution_count": 7,
   "metadata": {},
   "outputs": [
    {
     "data": {
      "text/plain": [
       "['/home/attila/projects/bsm/results/2020-06-05-filtered-callsets/MSSM_106_brain.ploidy_50.filtered.vcf',\n",
       " '/home/attila/projects/bsm/results/2020-06-05-filtered-callsets/MSSM_109_brain.ploidy_50.filtered.vcf']"
      ]
     },
     "execution_count": 7,
     "metadata": {},
     "output_type": "execute_result"
    }
   ],
   "source": [
    "e = synapseutils.sync.syncFromSynapse(syn, 'syn21897893', path='~/projects/bsm/results/2020-06-05-filtered-callsets')\n",
    "fpaths = [f.path for f in e]\n",
    "fpaths[:2]"
   ]
  },
  {
   "cell_type": "code",
   "execution_count": 10,
   "metadata": {},
   "outputs": [
    {
     "name": "stdout",
     "output_type": "stream",
     "text": [
      "MSSM_106\t27\n",
      "MSSM_109\t52\n",
      "MSSM_118\t9\n",
      "MSSM_175\t19\n",
      "MSSM_179\t25\n",
      "MSSM_183\t27\n",
      "MSSM_215\t15\n",
      "MSSM_369\t28\n",
      "MSSM_373\t45\n",
      "MSSM_391\t17\n",
      "PITT_010\t35\n",
      "PITT_064\t51\n",
      "PITT_091\t18\n",
      "PITT_118\t42\n"
     ]
    }
   ],
   "source": [
    "%%bash\n",
    "cd /home/attila/projects/bsm/results/2020-06-05-filtered-callsets/\n",
    "for f in *vcf; do\n",
    "echo -ne \"$f\\t\"\n",
    "bcftools view -H $f | wc -l\n",
    "done | sed 's/_brain.ploidy_50.filtered.vcf//'"
   ]
  },
  {
   "cell_type": "code",
   "execution_count": 3,
   "metadata": {},
   "outputs": [
    {
     "name": "stdout",
     "output_type": "stream",
     "text": [
      "{\n",
      "  \"shell_port\": 53923,\n",
      "  \"iopub_port\": 55623,\n",
      "  \"stdin_port\": 53639,\n",
      "  \"control_port\": 51607,\n",
      "  \"hb_port\": 46845,\n",
      "  \"ip\": \"127.0.0.1\",\n",
      "  \"key\": \"d51778a5-a1bcc905bea791f00d0e0830\",\n",
      "  \"transport\": \"tcp\",\n",
      "  \"signature_scheme\": \"hmac-sha256\",\n",
      "  \"kernel_name\": \"\"\n",
      "}\n",
      "\n",
      "Paste the above JSON into a file, and connect with:\n",
      "    $> jupyter <app> --existing <file>\n",
      "or, if you are local, you can connect with just:\n",
      "    $> jupyter <app> --existing kernel-703145d8-488f-4480-955c-f5eb0d96e92e.json\n",
      "or even just:\n",
      "    $> jupyter <app> --existing\n",
      "if this is the most recent Jupyter kernel you have started.\n"
     ]
    }
   ],
   "source": [
    "%connect_info"
   ]
  },
  {
   "cell_type": "code",
   "execution_count": null,
   "metadata": {},
   "outputs": [],
   "source": []
  }
 ],
 "metadata": {
  "kernelspec": {
   "display_name": "Python 3",
   "language": "python",
   "name": "python3"
  },
  "language_info": {
   "codemirror_mode": {
    "name": "ipython",
    "version": 3
   },
   "file_extension": ".py",
   "mimetype": "text/x-python",
   "name": "python",
   "nbconvert_exporter": "python",
   "pygments_lexer": "ipython3",
   "version": "3.7.6"
  }
 },
 "nbformat": 4,
 "nbformat_minor": 4
}
