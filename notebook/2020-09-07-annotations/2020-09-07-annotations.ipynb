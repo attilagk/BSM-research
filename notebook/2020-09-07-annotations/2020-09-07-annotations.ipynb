{
 "cells": [
  {
   "cell_type": "markdown",
   "metadata": {},
   "source": [
    "Addig annotations from SNPnexus output files"
   ]
  },
  {
   "cell_type": "code",
   "execution_count": 1,
   "metadata": {},
   "outputs": [],
   "source": [
    "%load_ext autoreload\n",
    "%autoreload 2\n",
    "%reload_ext autoreload\n",
    "from bsmcalls import individuals\n",
    "from bsmcalls import readVCF\n",
    "from bsmcalls import SNPnexus\n",
    "import pandas as pd\n",
    "import numpy as np\n",
    "import re\n",
    "%matplotlib inline"
   ]
  },
  {
   "cell_type": "code",
   "execution_count": 2,
   "metadata": {},
   "outputs": [],
   "source": [
    "calls = individuals.get_data(merge=True, cleancalls=False)"
   ]
  },
  {
   "cell_type": "markdown",
   "metadata": {},
   "source": [
    "## Annotation with SNPnexus\n",
    "[SNPnexus](https://www.snp-nexus.org/v4/) is a recently updated web service that uses numerous databases to annotate human genomic variants (see [this article](https://academic.oup.com/nar/article/48/W1/W185/5851388)).  The short sections below present information regarding the way I used SNPnexus to annotate our somatic variant calls.  The following settings were used:\n",
    "\n",
    "* Human Assembly: GRCh37/hg19\n",
    "* filtered VCF files were uploaded\n",
    "* all annotation categories were selected\n",
    "* *TXT per annotation*\n",
    "\n",
    "### Overlapping genes\n",
    "A key annotation of *Overlapped and Nearest Genes*, stored in the `near_gens.txt` output file of SNPnexus.  Each variant is overlapped by zero, one or more genes. In the last case two or more genes overlap each other around the given variant and `near_gens.txt` lists the same variant in multiple rows corresponding to the multiple overlapping genes. Since my `calls` DataFrame must contain exactly one row for each variant I collapsed those multiple rows into one by listing the overlapping genes in a single colon (`:`) separated string.\n",
    "\n",
    "[This article](https://www.nature.com/articles/s41598-019-49802-w) presents a study of overlapping genes and shows that sometimes more than 5 genes may overlap at a locus.  This means that for each variant I should come up with a---possibly empty---set of genes that overlap that variant.\n",
    "\n",
    "### Selecting sets of annotations"
   ]
  },
  {
   "cell_type": "code",
   "execution_count": 3,
   "metadata": {},
   "outputs": [],
   "source": [
    "annotlist = ['near_gens', 'sift']\n",
    "annot = SNPnexus.get_multi_annotations(annotlist=annotlist)"
   ]
  },
  {
   "cell_type": "code",
   "execution_count": 4,
   "metadata": {},
   "outputs": [
    {
     "name": "stdout",
     "output_type": "stream",
     "text": [
      "<class 'pandas.core.frame.DataFrame'>\n",
      "MultiIndex: 54 entries, ('CMC_MSSM_027', 'NeuN_pl', '11', 22272365, 'A/T') to ('CMC_PITT_118', 'NeuN_pl', '2', 29124973, 'T/G')\n",
      "Data columns (total 12 columns):\n",
      " #   Column                Non-Null Count  Dtype  \n",
      "---  ------                --------------  -----  \n",
      " 0   (sift, Variation ID)  54 non-null     object \n",
      " 1   (sift, Chromosome)    54 non-null     object \n",
      " 2   (sift, Position)      54 non-null     int64  \n",
      " 3   (sift, dbSNP)         54 non-null     object \n",
      " 4   (sift, Variant)       54 non-null     object \n",
      " 5   (sift, Transcript)    54 non-null     object \n",
      " 6   (sift, Gene)          54 non-null     object \n",
      " 7   (sift, AA Position)   54 non-null     int64  \n",
      " 8   (sift, Wild AA)       54 non-null     object \n",
      " 9   (sift, Mutant AA)     54 non-null     object \n",
      " 10  (sift, Score)         54 non-null     float64\n",
      " 11  (sift, Prediction)    54 non-null     object \n",
      "dtypes: float64(1), int64(2), object(9)\n",
      "memory usage: 6.5+ KB\n"
     ]
    }
   ],
   "source": [
    "annot.info()"
   ]
  },
  {
   "cell_type": "markdown",
   "metadata": {},
   "source": [
    "* Roadmap epigenome annotation of SNPnexus: what does it exactly mean?\n",
    "* mutation types (A/C, ...): how does the mutational spectrum in the outlier sample compare to that in other samples?"
   ]
  },
  {
   "cell_type": "code",
   "execution_count": 5,
   "metadata": {
    "scrolled": true
   },
   "outputs": [
    {
     "name": "stdout",
     "output_type": "stream",
     "text": [
      "{\n",
      "  \"shell_port\": 40925,\n",
      "  \"iopub_port\": 54783,\n",
      "  \"stdin_port\": 41135,\n",
      "  \"control_port\": 40913,\n",
      "  \"hb_port\": 46773,\n",
      "  \"ip\": \"127.0.0.1\",\n",
      "  \"key\": \"aed42e55-7b2193f7796169674f71a8b0\",\n",
      "  \"transport\": \"tcp\",\n",
      "  \"signature_scheme\": \"hmac-sha256\",\n",
      "  \"kernel_name\": \"\"\n",
      "}\n",
      "\n",
      "Paste the above JSON into a file, and connect with:\n",
      "    $> jupyter <app> --existing <file>\n",
      "or, if you are local, you can connect with just:\n",
      "    $> jupyter <app> --existing kernel-e73fc0b8-35d2-4223-8979-5afa91e20980.json\n",
      "or even just:\n",
      "    $> jupyter <app> --existing\n",
      "if this is the most recent Jupyter kernel you have started.\n"
     ]
    }
   ],
   "source": [
    "%connect_info"
   ]
  },
  {
   "cell_type": "code",
   "execution_count": null,
   "metadata": {},
   "outputs": [],
   "source": []
  }
 ],
 "metadata": {
  "kernelspec": {
   "display_name": "Python 3",
   "language": "python",
   "name": "python3"
  },
  "language_info": {
   "codemirror_mode": {
    "name": "ipython",
    "version": 3
   },
   "file_extension": ".py",
   "mimetype": "text/x-python",
   "name": "python",
   "nbconvert_exporter": "python",
   "pygments_lexer": "ipython3",
   "version": "3.7.6"
  }
 },
 "nbformat": 4,
 "nbformat_minor": 4
}
