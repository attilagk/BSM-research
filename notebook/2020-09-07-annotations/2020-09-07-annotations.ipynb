{
 "cells": [
  {
   "cell_type": "markdown",
   "metadata": {},
   "source": [
    "Addig annotations from SNPnexus output files"
   ]
  },
  {
   "cell_type": "code",
   "execution_count": 3,
   "metadata": {},
   "outputs": [],
   "source": [
    "%load_ext autoreload\n",
    "%autoreload 2\n",
    "%reload_ext autoreload\n",
    "from matplotlib import pyplot as plt\n",
    "import statsmodels.api as sm\n",
    "import statsmodels.formula.api as smf\n",
    "from bsmcalls import individuals\n",
    "from bsmcalls import readVCF\n",
    "from bsmcalls import SNPnexus\n",
    "from bsmcalls import preprocessing\n",
    "import pandas as pd\n",
    "import numpy as np\n",
    "import re\n",
    "import pickle\n",
    "import attila_utils\n",
    "%matplotlib inline"
   ]
  },
  {
   "cell_type": "markdown",
   "metadata": {},
   "source": [
    "## Annotation with SNPnexus\n",
    "[SNPnexus](https://www.snp-nexus.org/v4/) is a recently updated web service that uses numerous databases to annotate human genomic variants (see [this article](https://academic.oup.com/nar/article/48/W1/W185/5851388)).  The short sections below present information regarding the way I used SNPnexus to annotate our somatic variant calls.  The following settings were used:\n",
    "\n",
    "* Human Assembly: GRCh37/hg19\n",
    "* filtered VCF files were uploaded\n",
    "* all annotation categories were selected\n",
    "* *TXT per annotation*\n",
    "\n",
    "### Overlapping genes\n",
    "A key annotation of *Overlapped and Nearest Genes*, stored in the `near_gens.txt` output file of SNPnexus.  Each variant is overlapped by zero, one or more genes. In the last case two or more genes overlap each other around the given variant and `near_gens.txt` lists the same variant in multiple rows corresponding to the multiple overlapping genes. Since my `calls` DataFrame must contain exactly one row for each variant I collapsed those multiple rows into one by listing the overlapping genes in a single colon (`:`) separated string.\n",
    "\n",
    "[This article](https://www.nature.com/articles/s41598-019-49802-w) presents a study of overlapping genes and shows that sometimes more than 5 genes may overlap at a locus.  This means that for each variant I should come up with a---possibly empty---set of genes that overlap that variant.\n",
    "\n",
    "### Selecting sets of annotations\n",
    "\n",
    "See `notebook/2020-09-07-annotations/examine-annot-files.csv`, which lists all the annotation files and whether they were incuded in further analysis based on two criteria\n",
    "\n",
    "1. redundance: several sets annotations provide very similar information therefore only one of those were included\n",
    "2. relevance: cancer related annotations were excluded\n",
    "\n",
    "### Implementation\n",
    "\n",
    "See `SNPnexus.merge_snpnexus_with_other_annotations` for details"
   ]
  },
  {
   "cell_type": "code",
   "execution_count": null,
   "metadata": {},
   "outputs": [],
   "source": [
    "fulldata = SNPnexus.merge_snpnexus_with_other_annotations(calls=individuals.get_datasets(), testmode=False)"
   ]
  },
  {
   "cell_type": "markdown",
   "metadata": {},
   "source": [
    "### Save data"
   ]
  },
  {
   "cell_type": "markdown",
   "metadata": {},
   "source": [
    "Export `fulldata` as `annotated-calls-full.csv` or pickle dump into `annotated-calls-full.p`.\n",
    "\n",
    "Note that `fulldata` contains superfluous sets of observations:\n",
    "* NeuN_mn or muscle tissue from the Chess dataset\n",
    "* low quality calls for the Walsh dataset\n",
    "\n",
    "`SNPnexus.filter_fulldata` removes these"
   ]
  },
  {
   "cell_type": "code",
   "execution_count": null,
   "metadata": {},
   "outputs": [],
   "source": [
    "fpath = '/home/attila/projects/bsm/results/2020-09-07-annotations/annotated-calls'\n",
    "fulldata.to_csv(fpath + '-full.csv')\n",
    "SNPnexus.filter_fulldata(fulldata).to_csv(fpath + '.csv')"
   ]
  },
  {
   "cell_type": "code",
   "execution_count": null,
   "metadata": {},
   "outputs": [],
   "source": [
    "colnames = ['near_gens_Overlapped Gene', 'near_gens_Type', 'near_gens_Annotation', 'near_gens_Nearest Upstream Gene', 'near_gens_Type of Nearest Upstream Gene', 'near_gens_Nearest Downstream Gene', 'near_gens_Type of Nearest Downstream Gene']\n",
    "fulldata = SNPnexus.multi_str2list(fulldata, colnames=colnames, nonestr='None', sepstr=':')"
   ]
  },
  {
   "cell_type": "code",
   "execution_count": null,
   "metadata": {},
   "outputs": [],
   "source": [
    "colnames = ['near_gens_Distance to Nearest Upstream Gene', 'near_gens_Distance to Nearest Downstream Gene']\n",
    "fulldata = SNPnexus.multi_str2num(fulldata, colnames=colnames)"
   ]
  },
  {
   "cell_type": "code",
   "execution_count": null,
   "metadata": {},
   "outputs": [],
   "source": [
    "pickle.dump(fulldata, open(fpath + '-full.p', 'wb'))\n",
    "fulldata.shape"
   ]
  },
  {
   "cell_type": "code",
   "execution_count": null,
   "metadata": {},
   "outputs": [],
   "source": [
    "data = SNPnexus.filter_fulldata(fulldata)\n",
    "pickle.dump(data, open(fpath + '.p', 'wb'))\n",
    "data.shape"
   ]
  },
  {
   "cell_type": "code",
   "execution_count": null,
   "metadata": {},
   "outputs": [],
   "source": [
    "data[colnames]"
   ]
  },
  {
   "cell_type": "markdown",
   "metadata": {},
   "source": [
    "### How to load data?\n",
    "\n",
    "See implementation: `SNPnexus.load_data()`"
   ]
  },
  {
   "cell_type": "code",
   "execution_count": null,
   "metadata": {},
   "outputs": [],
   "source": [
    "fpath = '/home/attila/projects/bsm/results/2020-09-07-annotations/annotated-calls.p'\n",
    "with open(fpath, 'rb') as f:\n",
    "    data = pickle.load(f)"
   ]
  },
  {
   "cell_type": "markdown",
   "metadata": {},
   "source": [
    "Dummify numeric variables in order to calculate correlation matrix"
   ]
  },
  {
   "cell_type": "code",
   "execution_count": null,
   "metadata": {},
   "outputs": [],
   "source": [
    "datanum = preprocessing.dummify_df(data)\n",
    "list(datanum.columns)"
   ]
  },
  {
   "cell_type": "code",
   "execution_count": null,
   "metadata": {},
   "outputs": [],
   "source": [
    "def corrmatplot(dfnum):\n",
    "    corrmat = dfnum.corr()\n",
    "    fig, ax = plt.subplots(figsize=(8,8))\n",
    "    sm.graphics.plot_corr(corrmat, ax=ax, xnames=dfnum.columns, ynames=dfnum.columns)\n",
    "    cb = plt.colorbar(ax.get_images()[0])\n",
    "    cb.set_label('Correlation')\n",
    "    return((fig, ax))"
   ]
  },
  {
   "cell_type": "code",
   "execution_count": null,
   "metadata": {},
   "outputs": [],
   "source": [
    "sel_cols = ['Dx_SCZ', 'Dx_Control', 'AntipsychTyp_1', 'EV.1', 'EV.2', 'EV.3']\n",
    "sel_cols += ['encode_Feature Type Class_Polymerase', 'encode_Feature Type Class_Transcription Factor', 'encode_Feature Type Class_Histone']\n",
    "sel_cols += ['ensembl_Predicted Function_coding', 'ensembl_Predicted Function_intronic', 'ensembl_Predicted Function_5utr', 'ensembl_Predicted Function_3utr', 'ensembl_Predicted Function_5upstream', 'ensembl_Predicted Function_3downstream', 'ensembl_Predicted Function_non-coding intronic', 'ensembl_Predicted Function_non-coding', 'ensembl_Predicted Function_other']\n",
    "sel_cols += ['sift_Prediction_Deleterious', 'sift_Prediction_Deleterious - Low Confidence', 'sift_Prediction_Tolerated', 'sift_Prediction_Tolerated - Low Confidence', 'sift_Prediction_other']\n",
    "sel_cols += ['1KGen_AFR Frequency_bin', '1KGen_AMR Frequency_bin', '1KGen_EAS Frequency_bin', '1KGen_EUR Frequency_bin', '1KGen_SAS Frequency_bin']\n",
    "sel_cols += ['szdbCNVcount','GWASpval', 'ChromatinState_DLPFC_TssA']\n",
    "sel_cols += ['gerp_Element RS Score_bin', 'phast_Score_bin']\n",
    "sel_cols += ['cpg_CpG Island_bin']\n",
    "sel_cols += ['deepsea_Functional Significance Score', 'deepsea_eQTL Probability', 'deepsea_GWAS Probability', 'deepsea_HGMD Probability']\n",
    "sel_cols += ['structvar_Type_complex', 'structvar_Type_loss', 'structvar_Type_gain', 'structvar_Type_other']\n",
    "sel_cols += ['regbuild_Epigenome_nervoussys_bin']\n",
    "sel_cols += ['tfbs_TFBS Name_bin']\n",
    "fig, ax = corrmatplot(datanum[sel_cols])\n",
    "attila_utils.savefig(fig, 'corr-mat-snpnexus')"
   ]
  },
  {
   "cell_type": "code",
   "execution_count": null,
   "metadata": {},
   "outputs": [],
   "source": [
    "fig = plt.figure(figsize=(3,8))\n",
    "s = datanum.corr().loc[sel_cols, 'Dx_SCZ'][2:]\n",
    "ax = s.plot.barh()\n",
    "ax.vlines(x=0, ymin=0, ymax=len(sel_cols), colors='red', linestyles='dotted')\n",
    "ax.set_title('Correlation with Dx_SCZ')\n",
    "attila_utils.savefig(fig, 'corr-Dx-snpnexus')"
   ]
  },
  {
   "cell_type": "markdown",
   "metadata": {},
   "source": [
    "### Evolutionary constraints\n",
    "\n",
    "Four evolutionary conservation scores by three methods are compared to each other below\n",
    "\n",
    "* gerp++ has two RS (rejected substitution) scores\n",
    "* `gerp_Element RS Score` refers to conservative elements while `gerp_Base RS Score` to conservative bases"
   ]
  },
  {
   "cell_type": "markdown",
   "metadata": {},
   "source": [
    "The missing plots illustrated the relationship between `phast_Score` and `gerp_Element RS Score` (left) as well as that between `gerp_Base vs gerp_Element` and `gerp_Element RS Score` (right)."
   ]
  },
  {
   "cell_type": "markdown",
   "metadata": {},
   "source": [
    "## Andy's questions\n",
    "\n",
    "* Roadmap epigenome annotation of SNPnexus: what does it exactly mean?\n",
    "* mutation types (A/C, ...): how does the mutational spectrum in the outlier sample compare to that in other samples?\n",
    "* brain expressed genes combined with chromatin state DLPFC\n",
    "* control callsets from other BSMN groups"
   ]
  },
  {
   "cell_type": "code",
   "execution_count": 1,
   "metadata": {
    "scrolled": true
   },
   "outputs": [
    {
     "name": "stdout",
     "output_type": "stream",
     "text": [
      "{\n",
      "  \"shell_port\": 38305,\n",
      "  \"iopub_port\": 54445,\n",
      "  \"stdin_port\": 36515,\n",
      "  \"control_port\": 51735,\n",
      "  \"hb_port\": 39885,\n",
      "  \"ip\": \"127.0.0.1\",\n",
      "  \"key\": \"0b93ac47-b443c5395aad5d416e858e08\",\n",
      "  \"transport\": \"tcp\",\n",
      "  \"signature_scheme\": \"hmac-sha256\",\n",
      "  \"kernel_name\": \"\"\n",
      "}\n",
      "\n",
      "Paste the above JSON into a file, and connect with:\n",
      "    $> jupyter <app> --existing <file>\n",
      "or, if you are local, you can connect with just:\n",
      "    $> jupyter <app> --existing kernel-40fe2855-849b-4cac-bf00-f7ffef54a837.json\n",
      "or even just:\n",
      "    $> jupyter <app> --existing\n",
      "if this is the most recent Jupyter kernel you have started.\n"
     ]
    }
   ],
   "source": [
    "%connect_info"
   ]
  },
  {
   "cell_type": "code",
   "execution_count": null,
   "metadata": {},
   "outputs": [],
   "source": []
  }
 ],
 "metadata": {
  "kernelspec": {
   "display_name": "Python 3",
   "language": "python",
   "name": "python3"
  },
  "language_info": {
   "codemirror_mode": {
    "name": "ipython",
    "version": 3
   },
   "file_extension": ".py",
   "mimetype": "text/x-python",
   "name": "python",
   "nbconvert_exporter": "python",
   "pygments_lexer": "ipython3",
   "version": "3.7.6"
  }
 },
 "nbformat": 4,
 "nbformat_minor": 4
}
