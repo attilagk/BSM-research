{
 "cells": [
  {
   "cell_type": "markdown",
   "metadata": {},
   "source": [
    "Addig annotations from SNPnexus output files"
   ]
  },
  {
   "cell_type": "code",
   "execution_count": 1,
   "metadata": {},
   "outputs": [],
   "source": [
    "%load_ext autoreload\n",
    "%autoreload 2\n",
    "%reload_ext autoreload\n",
    "from matplotlib import pyplot as plt\n",
    "import statsmodels.api as sm\n",
    "import statsmodels.formula.api as smf\n",
    "from bsmcalls import individuals\n",
    "from bsmcalls import readVCF\n",
    "from bsmcalls import SNPnexus\n",
    "from bsmcalls import preprocessing\n",
    "import pandas as pd\n",
    "import numpy as np\n",
    "import re\n",
    "%matplotlib inline"
   ]
  },
  {
   "cell_type": "code",
   "execution_count": 2,
   "metadata": {},
   "outputs": [],
   "source": [
    "calls, clin = individuals.get_data(merge=False, cleancalls=False)"
   ]
  },
  {
   "cell_type": "markdown",
   "metadata": {},
   "source": [
    "## Annotation with SNPnexus\n",
    "[SNPnexus](https://www.snp-nexus.org/v4/) is a recently updated web service that uses numerous databases to annotate human genomic variants (see [this article](https://academic.oup.com/nar/article/48/W1/W185/5851388)).  The short sections below present information regarding the way I used SNPnexus to annotate our somatic variant calls.  The following settings were used:\n",
    "\n",
    "* Human Assembly: GRCh37/hg19\n",
    "* filtered VCF files were uploaded\n",
    "* all annotation categories were selected\n",
    "* *TXT per annotation*\n",
    "\n",
    "### Overlapping genes\n",
    "A key annotation of *Overlapped and Nearest Genes*, stored in the `near_gens.txt` output file of SNPnexus.  Each variant is overlapped by zero, one or more genes. In the last case two or more genes overlap each other around the given variant and `near_gens.txt` lists the same variant in multiple rows corresponding to the multiple overlapping genes. Since my `calls` DataFrame must contain exactly one row for each variant I collapsed those multiple rows into one by listing the overlapping genes in a single colon (`:`) separated string.\n",
    "\n",
    "[This article](https://www.nature.com/articles/s41598-019-49802-w) presents a study of overlapping genes and shows that sometimes more than 5 genes may overlap at a locus.  This means that for each variant I should come up with a---possibly empty---set of genes that overlap that variant.\n",
    "\n",
    "### Selecting sets of annotations"
   ]
  },
  {
   "cell_type": "code",
   "execution_count": 162,
   "metadata": {
    "scrolled": true
   },
   "outputs": [],
   "source": [
    "annotlist = ['sift', 'phast', 'gerp']\n",
    "cols2binarize = ['phast_Score', 'gerp_Element RS Score']\n",
    "#annotlist = ['near_gens', 'sift']\n",
    "annot = SNPnexus.get_multi_annotations(annotlist=annotlist)"
   ]
  },
  {
   "cell_type": "code",
   "execution_count": 161,
   "metadata": {},
   "outputs": [
    {
     "name": "stdout",
     "output_type": "stream",
     "text": [
      "<class 'pandas.core.frame.DataFrame'>\n",
      "MultiIndex: 3411 entries, ('CMC_MSSM_027', 'NeuN_pl', '1', 11973569, 'C/T') to ('CMC_MSSM_331', 'muscle', '17', 29109599, 'T/G')\n",
      "Data columns (total 27 columns):\n",
      " #   Column                     Non-Null Count  Dtype   \n",
      "---  ------                     --------------  -----   \n",
      " 0   sift_Variation ID          54 non-null     object  \n",
      " 1   sift_Chromosome            54 non-null     object  \n",
      " 2   sift_Position              54 non-null     float64 \n",
      " 3   sift_dbSNP                 54 non-null     object  \n",
      " 4   sift_Variant               54 non-null     object  \n",
      " 5   sift_Transcript            54 non-null     object  \n",
      " 6   sift_Gene                  54 non-null     object  \n",
      " 7   sift_AA Position           54 non-null     float64 \n",
      " 8   sift_Wild AA               54 non-null     object  \n",
      " 9   sift_Mutant AA             54 non-null     object  \n",
      " 10  sift_Score                 54 non-null     float64 \n",
      " 11  sift_Prediction            54 non-null     object  \n",
      " 12  phast_Variation ID         231 non-null    object  \n",
      " 13  phast_Chromosome           231 non-null    object  \n",
      " 14  phast_Region Start         231 non-null    float64 \n",
      " 15  phast_Region End           231 non-null    float64 \n",
      " 16  phast_Id                   231 non-null    object  \n",
      " 17  phast_Score                231 non-null    float64 \n",
      " 18  phast_Score_bin            3411 non-null   category\n",
      " 19  gerp_Variation ID          340 non-null    object  \n",
      " 20  gerp_Position              340 non-null    float64 \n",
      " 21  gerp_Chromosome            340 non-null    object  \n",
      " 22  gerp_Region Start          340 non-null    float64 \n",
      " 23  gerp_Region End            340 non-null    float64 \n",
      " 24  gerp_Element RS Score      340 non-null    float64 \n",
      " 25  gerp_Element RS Score_bin  3411 non-null   category\n",
      " 26  gerp_Base RS Score         340 non-null    float64 \n",
      "dtypes: category(2), float64(11), object(14)\n",
      "memory usage: 723.3+ KB\n"
     ]
    }
   ],
   "source": [
    "annot.info()"
   ]
  },
  {
   "cell_type": "code",
   "execution_count": 5,
   "metadata": {},
   "outputs": [],
   "source": [
    "data = pd.concat([calls, annot])"
   ]
  },
  {
   "cell_type": "markdown",
   "metadata": {},
   "source": [
    "### Evolutionary constraints\n",
    "\n",
    "Four evolutionary conservation scores by three methods are compared to each other below\n",
    "\n",
    "* gerp++ has two RS (rejected substitution) scores\n",
    "* `gerp_Element RS Score` refers to conservative elements while `gerp_Base RS Score` to conservative bases"
   ]
  },
  {
   "cell_type": "code",
   "execution_count": 6,
   "metadata": {},
   "outputs": [
    {
     "name": "stdout",
     "output_type": "stream",
     "text": [
      "<class 'pandas.core.frame.DataFrame'>\n",
      "MultiIndex: 3801 entries, ('CMC_MSSM_027', 'NeuN_pl', '1', 11973569, 'C/T') to ('CMC_PITT_118', 'NeuN_pl', '4', 90071260, 'G/A')\n",
      "Data columns (total 4 columns):\n",
      " #   Column                 Non-Null Count  Dtype  \n",
      "---  ------                 --------------  -----  \n",
      " 0   SiPhyLOD               150 non-null    float64\n",
      " 1   phast_Score            231 non-null    float64\n",
      " 2   gerp_Element RS Score  340 non-null    float64\n",
      " 3   gerp_Base RS Score     340 non-null    float64\n",
      "dtypes: float64(4)\n",
      "memory usage: 168.8+ KB\n"
     ]
    }
   ],
   "source": [
    "evoldata = data[['SiPhyLOD', 'phast_Score', 'gerp_Element RS Score', 'gerp_Base RS Score']]\n",
    "evoldata.info()"
   ]
  },
  {
   "cell_type": "code",
   "execution_count": 7,
   "metadata": {},
   "outputs": [
    {
     "data": {
      "text/plain": [
       "0"
      ]
     },
     "execution_count": 7,
     "metadata": {},
     "output_type": "execute_result"
    }
   ],
   "source": [
    "len(evoldata[['SiPhyLOD', 'phast_Score']].dropna())"
   ]
  },
  {
   "cell_type": "code",
   "execution_count": 8,
   "metadata": {},
   "outputs": [
    {
     "data": {
      "text/plain": [
       "0"
      ]
     },
     "execution_count": 8,
     "metadata": {},
     "output_type": "execute_result"
    }
   ],
   "source": [
    "len(evoldata[['SiPhyLOD', 'gerp_Element RS Score']].dropna())"
   ]
  },
  {
   "cell_type": "code",
   "execution_count": 9,
   "metadata": {},
   "outputs": [
    {
     "data": {
      "text/plain": [
       "191"
      ]
     },
     "execution_count": 9,
     "metadata": {},
     "output_type": "execute_result"
    }
   ],
   "source": [
    "len(evoldata[['phast_Score', 'gerp_Element RS Score']].dropna())"
   ]
  },
  {
   "cell_type": "markdown",
   "metadata": {},
   "source": [
    "The following plots illustrate the relationship between `phast_Score` and `gerp_Element RS Score` (left) as well as that between `gerp_Base vs gerp_Element` and `gerp_Element RS Score` (right)."
   ]
  },
  {
   "cell_type": "code",
   "execution_count": 10,
   "metadata": {},
   "outputs": [
    {
     "data": {
      "text/plain": [
       "Text(0.5, 1.0, 'gerp_Base vs gerp_Element')"
      ]
     },
     "execution_count": 10,
     "metadata": {},
     "output_type": "execute_result"
    },
    {
     "data": {
      "image/png": "[encoded data removed]",
      "text/plain": [
       "<Figure size 720x360 with 2 Axes>"
      ]
     },
     "metadata": {
      "needs_background": "light"
     },
     "output_type": "display_data"
    }
   ],
   "source": [
    "fig, ax = plt.subplots(1, 2, figsize=(10, 5))\n",
    "ax[0].scatter(x='phast_Score', y='gerp_Element RS Score', data=evoldata)\n",
    "ax[0].set_xlabel('phast_Score')\n",
    "ax[0].set_ylabel('gerp_Element RS Score')\n",
    "ax[0].set_title('phast vs gerp_Element')\n",
    "ax[1].scatter(x='gerp_Base RS Score', y='gerp_Element RS Score', data=evoldata)\n",
    "ax[1].set_xlabel('gerp_Base RS Score')\n",
    "ax[1].set_title('gerp_Base vs gerp_Element')"
   ]
  },
  {
   "cell_type": "markdown",
   "metadata": {},
   "source": [
    "## Andy's questions\n",
    "\n",
    "* Roadmap epigenome annotation of SNPnexus: what does it exactly mean?\n",
    "* mutation types (A/C, ...): how does the mutational spectrum in the outlier sample compare to that in other samples?\n",
    "* brain expressed genes combined with chromatin state DLPFC\n",
    "* control callsets from other BSMN groups"
   ]
  },
  {
   "cell_type": "code",
   "execution_count": 66,
   "metadata": {
    "scrolled": true
   },
   "outputs": [
    {
     "name": "stdout",
     "output_type": "stream",
     "text": [
      "{\n",
      "  \"shell_port\": 40925,\n",
      "  \"iopub_port\": 54783,\n",
      "  \"stdin_port\": 41135,\n",
      "  \"control_port\": 40913,\n",
      "  \"hb_port\": 46773,\n",
      "  \"ip\": \"127.0.0.1\",\n",
      "  \"key\": \"aed42e55-7b2193f7796169674f71a8b0\",\n",
      "  \"transport\": \"tcp\",\n",
      "  \"signature_scheme\": \"hmac-sha256\",\n",
      "  \"kernel_name\": \"\"\n",
      "}\n",
      "\n",
      "Paste the above JSON into a file, and connect with:\n",
      "    $> jupyter <app> --existing <file>\n",
      "or, if you are local, you can connect with just:\n",
      "    $> jupyter <app> --existing kernel-e73fc0b8-35d2-4223-8979-5afa91e20980.json\n",
      "or even just:\n",
      "    $> jupyter <app> --existing\n",
      "if this is the most recent Jupyter kernel you have started.\n"
     ]
    }
   ],
   "source": [
    "%connect_info"
   ]
  },
  {
   "cell_type": "code",
   "execution_count": null,
   "metadata": {},
   "outputs": [],
   "source": []
  }
 ],
 "metadata": {
  "kernelspec": {
   "display_name": "Python 3",
   "language": "python",
   "name": "python3"
  },
  "language_info": {
   "codemirror_mode": {
    "name": "ipython",
    "version": 3
   },
   "file_extension": ".py",
   "mimetype": "text/x-python",
   "name": "python",
   "nbconvert_exporter": "python",
   "pygments_lexer": "ipython3",
   "version": "3.7.6"
  }
 },
 "nbformat": 4,
 "nbformat_minor": 4
}
