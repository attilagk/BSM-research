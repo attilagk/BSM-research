{
 "cells": [
  {
   "cell_type": "code",
   "execution_count": 1,
   "metadata": {},
   "outputs": [
    {
     "ename": "NameError",
     "evalue": "name 'x' is not defined",
     "output_type": "error",
     "traceback": [
      "\u001b[0;31m---------------------------------------------------------------------------\u001b[0m",
      "\u001b[0;31mNameError\u001b[0m                                 Traceback (most recent call last)",
      "\u001b[0;32m<ipython-input-1-8f0a1f42cba4>\u001b[0m in \u001b[0;36m<module>\u001b[0;34m()\u001b[0m\n\u001b[0;32m----> 1\u001b[0;31m \u001b[0;36m3\u001b[0m \u001b[0;34m*\u001b[0m \u001b[0mx\u001b[0m\u001b[0;34m\u001b[0m\u001b[0m\n\u001b[0m",
      "\u001b[0;31mNameError\u001b[0m: name 'x' is not defined"
     ]
    }
   ],
   "source": [
    "3 * x"
   ]
  },
  {
   "cell_type": "code",
   "execution_count": 309,
   "metadata": {
    "scrolled": false
   },
   "outputs": [
    {
     "name": "stdout",
     "output_type": "stream",
     "text": [
      "Help on package importlib:\n",
      "\n",
      "NAME\n",
      "    importlib - A pure Python implementation of import.\n",
      "\n",
      "MODULE REFERENCE\n",
      "    https://docs.python.org/3.5/library/importlib\n",
      "    \n",
      "    The following documentation is automatically generated from the Python\n",
      "    source files.  It may be incomplete, incorrect or include features that\n",
      "    are considered implementation detail and may vary between Python\n",
      "    implementations.  When in doubt, consult the module reference at the\n",
      "    location listed above.\n",
      "\n",
      "PACKAGE CONTENTS\n",
      "    _bootstrap\n",
      "    _bootstrap_external\n",
      "    abc\n",
      "    machinery\n",
      "    util\n",
      "\n",
      "FUNCTIONS\n",
      "    __import__(name, globals=None, locals=None, fromlist=(), level=0)\n",
      "        Import a module.\n",
      "        \n",
      "        The 'globals' argument is used to infer where the import is occurring from\n",
      "        to handle relative imports. The 'locals' argument is ignored. The\n",
      "        'fromlist' argument specifies what should exist as attributes on the module\n",
      "        being imported (e.g. ``from module import <fromlist>``).  The 'level'\n",
      "        argument represents the package location to import from in a relative\n",
      "        import (e.g. ``from ..pkg import mod`` would have a 'level' of 2).\n",
      "    \n",
      "    import_module(name, package=None)\n",
      "        Import a module.\n",
      "        \n",
      "        The 'package' argument is required when performing a relative import. It\n",
      "        specifies the package to use as the anchor point from which to resolve the\n",
      "        relative import to an absolute import.\n",
      "    \n",
      "    invalidate_caches()\n",
      "        Call the invalidate_caches() method on all meta path finders stored in\n",
      "        sys.meta_path (where implemented).\n",
      "    \n",
      "    reload(module)\n",
      "        Reload the module and return it.\n",
      "        \n",
      "        The module must have been successfully imported before.\n",
      "\n",
      "DATA\n",
      "    __all__ = ['__import__', 'import_module', 'invalidate_caches', 'reload...\n",
      "\n",
      "FILE\n",
      "    /usr/lib/python3.5/importlib/__init__.py\n",
      "\n",
      "\n"
     ]
    }
   ],
   "source": [
    "help(importlib)"
   ]
  },
  {
   "cell_type": "code",
   "execution_count": null,
   "metadata": {},
   "outputs": [],
   "source": []
  }
 ],
 "metadata": {
  "kernelspec": {
   "display_name": "Python 3",
   "language": "python",
   "name": "python3"
  },
  "language_info": {
   "codemirror_mode": {
    "name": "ipython",
    "version": 3
   },
   "file_extension": ".py",
   "mimetype": "text/x-python",
   "name": "python",
   "nbconvert_exporter": "python",
   "pygments_lexer": "ipython3",
   "version": "3.5.3"
  }
 },
 "nbformat": 4,
 "nbformat_minor": 2
}
